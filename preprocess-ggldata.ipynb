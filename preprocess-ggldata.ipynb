{
 "cells": [
  {
   "cell_type": "markdown",
   "metadata": {},
   "source": [
    "# Pré-traitement des données 'Google'\n",
    "\n",
    "* requète sur `BigQuerry`:\n",
    "        /* 26Go proceceed */\n",
    "\n",
    "        #standardSQL\n",
    "\n",
    "        SELECT\n",
    "          root.publication_number,\n",
    "          publication_date,\n",
    "          root.title_localized,\n",
    "          root.cpc,\n",
    "          root.citation\n",
    "        FROM\n",
    "          `patents-public-data.patents.publications` root,\n",
    "          UNNEST( cpc ) AS cpc\n",
    "        WHERE \n",
    "         cpc.code like 'A45D29/02' and\n",
    "         country_code = 'US'\n",
    "        LIMIT\n",
    "          1000"
   ]
  },
  {
   "cell_type": "code",
   "execution_count": 54,
   "metadata": {
    "collapsed": true
   },
   "outputs": [],
   "source": [
    "import json\n",
    "import pickle"
   ]
  },
  {
   "cell_type": "code",
   "execution_count": 82,
   "metadata": {},
   "outputs": [
    {
     "name": "stdout",
     "output_type": "stream",
     "text": [
      "408\n"
     ]
    }
   ],
   "source": [
    "# load the data\n",
    "file_path = './data/fulldata_gglBigQuery.json'\n",
    "\n",
    "data_brut = []\n",
    "with open(file_path) as f:\n",
    "    for line in f:\n",
    "        entry = json.loads(line)\n",
    "        data_brut.append( entry )\n",
    "        \n",
    "print( len(data_brut) )"
   ]
  },
  {
   "cell_type": "code",
   "execution_count": 83,
   "metadata": {
    "collapsed": true
   },
   "outputs": [],
   "source": [
    "# le format du numéro de brevet (pour ggl):\n",
    "# 6 ou 7 digits\n",
    "# ou l'année + 7 digits\n",
    "# si on trouve année+6digits ce n'est pas bon\n",
    "\n",
    "# https://www.uspto.gov/patents-application-process/applying-online/patent-number\n",
    "# http://www.bpmlegal.com/howtopat1.html\n",
    "\n",
    "def format_publicationnumber( pubnumber ):\n",
    "    \n",
    "    number = pubnumber.split('-')[1]\n",
    "    \n",
    "    if len( number ) > 7:  # en vrai ==10\n",
    "        number = number[0:4] + number[4:].zfill(7)\n",
    "\n",
    "    number = 'US' + number\n",
    "    \n",
    "    return number"
   ]
  },
  {
   "cell_type": "code",
   "execution_count": 86,
   "metadata": {},
   "outputs": [
    {
     "data": {
      "text/plain": [
       "dict_keys(['assignee_harmonized', 'priority_claim', 'description_localized', 'inventor_harmonized', 'cpc', 'publication_number', 'publication_date', 'citation', 'title_localized', 'abstract_localized'])"
      ]
     },
     "execution_count": 86,
     "metadata": {},
     "output_type": "execute_result"
    }
   ],
   "source": [
    "data_brut[0].keys()"
   ]
  },
  {
   "cell_type": "code",
   "execution_count": 88,
   "metadata": {},
   "outputs": [
    {
     "data": {
      "text/plain": [
       "{'abstract_localized': [{'language': 'en',\n",
       "   'text': 'An ingrown toenail cutter ( 10, 10 A) including a handle or shank ( 12, 12 A) which at one end has a curved or angled part ( 14, 52 ) which extends away from the handle ( 12, 12 A) and said curved or angled part ( 14, 52 ) has a cutting edge ( 15, 54 ) on an inner side thereof ( 14 A) and there is also provided a terminal abutment ( 17, 56 ) at a free end of the curved or angled part ( 14, 52 ) on the inner side ( 14 A) adjacent to cutting edge ( 15, 54 ) wherein the cutting edge ( 15,54 ) is oriented at an angle of  15° - 60°  to a longitudinal axis of the handle or shank.'}],\n",
       " 'assignee_harmonized': [{'country_code': 'AU', 'name': 'HEDGER ALLAN'}],\n",
       " 'citation': [{'application_number': '',\n",
       "   'category': 'PRS',\n",
       "   'filing_date': '0',\n",
       "   'npl_text': '',\n",
       "   'publication_number': 'US-350720-A',\n",
       "   'type': ''},\n",
       "  {'application_number': '',\n",
       "   'category': 'PRS',\n",
       "   'filing_date': '0',\n",
       "   'npl_text': '',\n",
       "   'publication_number': 'US-448409-A',\n",
       "   'type': ''},\n",
       "  {'application_number': '',\n",
       "   'category': 'PRS',\n",
       "   'filing_date': '0',\n",
       "   'npl_text': '',\n",
       "   'publication_number': 'US-464341-A',\n",
       "   'type': ''},\n",
       "  {'application_number': '',\n",
       "   'category': 'PRS',\n",
       "   'filing_date': '0',\n",
       "   'npl_text': '',\n",
       "   'publication_number': 'US-528317-A',\n",
       "   'type': ''},\n",
       "  {'application_number': '',\n",
       "   'category': 'PRS',\n",
       "   'filing_date': '0',\n",
       "   'npl_text': '',\n",
       "   'publication_number': 'US-534500-A',\n",
       "   'type': ''},\n",
       "  {'application_number': '',\n",
       "   'category': 'PRS',\n",
       "   'filing_date': '0',\n",
       "   'npl_text': '',\n",
       "   'publication_number': 'US-1040446-A',\n",
       "   'type': ''},\n",
       "  {'application_number': '',\n",
       "   'category': 'PRS',\n",
       "   'filing_date': '0',\n",
       "   'npl_text': '',\n",
       "   'publication_number': 'US-1089019-A',\n",
       "   'type': ''},\n",
       "  {'application_number': '',\n",
       "   'category': 'PRS',\n",
       "   'filing_date': '0',\n",
       "   'npl_text': '',\n",
       "   'publication_number': 'US-1135987-A',\n",
       "   'type': ''},\n",
       "  {'application_number': '',\n",
       "   'category': 'PRS',\n",
       "   'filing_date': '0',\n",
       "   'npl_text': '',\n",
       "   'publication_number': 'US-1476508-A',\n",
       "   'type': ''},\n",
       "  {'application_number': '',\n",
       "   'category': 'PRS',\n",
       "   'filing_date': '0',\n",
       "   'npl_text': '',\n",
       "   'publication_number': 'US-1855063-A',\n",
       "   'type': ''},\n",
       "  {'application_number': '',\n",
       "   'category': 'PRS',\n",
       "   'filing_date': '0',\n",
       "   'npl_text': '',\n",
       "   'publication_number': 'US-2479514-A',\n",
       "   'type': ''},\n",
       "  {'application_number': '',\n",
       "   'category': 'PRS',\n",
       "   'filing_date': '0',\n",
       "   'npl_text': '',\n",
       "   'publication_number': 'US-2801640-A',\n",
       "   'type': ''},\n",
       "  {'application_number': '',\n",
       "   'category': 'PRS',\n",
       "   'filing_date': '0',\n",
       "   'npl_text': '',\n",
       "   'publication_number': 'US-3445931-A',\n",
       "   'type': ''},\n",
       "  {'application_number': '',\n",
       "   'category': 'PRS',\n",
       "   'filing_date': '0',\n",
       "   'npl_text': '',\n",
       "   'publication_number': 'US-3600803-A',\n",
       "   'type': ''},\n",
       "  {'application_number': '',\n",
       "   'category': 'PRS',\n",
       "   'filing_date': '0',\n",
       "   'npl_text': '',\n",
       "   'publication_number': 'US-3670733-A',\n",
       "   'type': ''},\n",
       "  {'application_number': '',\n",
       "   'category': 'PRS',\n",
       "   'filing_date': '0',\n",
       "   'npl_text': '',\n",
       "   'publication_number': 'US-4709481-A',\n",
       "   'type': ''},\n",
       "  {'application_number': '',\n",
       "   'category': 'PRS',\n",
       "   'filing_date': '0',\n",
       "   'npl_text': '',\n",
       "   'publication_number': 'US-4964213-A',\n",
       "   'type': ''},\n",
       "  {'application_number': '',\n",
       "   'category': 'PRS',\n",
       "   'filing_date': '0',\n",
       "   'npl_text': '',\n",
       "   'publication_number': 'US-5437679-A',\n",
       "   'type': ''},\n",
       "  {'application_number': '',\n",
       "   'category': 'PRS',\n",
       "   'filing_date': '0',\n",
       "   'npl_text': '',\n",
       "   'publication_number': 'US-5620455-A',\n",
       "   'type': ''},\n",
       "  {'application_number': '',\n",
       "   'category': 'PRS',\n",
       "   'filing_date': '0',\n",
       "   'npl_text': '',\n",
       "   'publication_number': 'US-5755239-A',\n",
       "   'type': ''},\n",
       "  {'application_number': '',\n",
       "   'category': 'PRS',\n",
       "   'filing_date': '0',\n",
       "   'npl_text': '',\n",
       "   'publication_number': 'US-5881461-A',\n",
       "   'type': ''},\n",
       "  {'application_number': '',\n",
       "   'category': 'PRS',\n",
       "   'filing_date': '0',\n",
       "   'npl_text': '',\n",
       "   'publication_number': 'US-6402763-B1',\n",
       "   'type': ''},\n",
       "  {'application_number': '',\n",
       "   'category': 'PRS',\n",
       "   'filing_date': '0',\n",
       "   'npl_text': '',\n",
       "   'publication_number': 'US-2005056296-A1',\n",
       "   'type': ''},\n",
       "  {'application_number': '',\n",
       "   'category': 'PRS',\n",
       "   'filing_date': '0',\n",
       "   'npl_text': '',\n",
       "   'publication_number': 'US-2005056295-A1',\n",
       "   'type': ''},\n",
       "  {'application_number': '',\n",
       "   'category': 'PRS',\n",
       "   'filing_date': '0',\n",
       "   'npl_text': '',\n",
       "   'publication_number': 'US-2005092337-A1',\n",
       "   'type': ''},\n",
       "  {'application_number': '',\n",
       "   'category': 'PRS',\n",
       "   'filing_date': '0',\n",
       "   'npl_text': '',\n",
       "   'publication_number': 'US-7322107-B2',\n",
       "   'type': ''},\n",
       "  {'application_number': '',\n",
       "   'category': 'PRS',\n",
       "   'filing_date': '0',\n",
       "   'npl_text': '',\n",
       "   'publication_number': 'US-2008078085-A1',\n",
       "   'type': ''},\n",
       "  {'application_number': '',\n",
       "   'category': 'PRS',\n",
       "   'filing_date': '0',\n",
       "   'npl_text': '',\n",
       "   'publication_number': 'US-2009090377-A1',\n",
       "   'type': ''},\n",
       "  {'application_number': '',\n",
       "   'category': 'PRS',\n",
       "   'filing_date': '0',\n",
       "   'npl_text': '',\n",
       "   'publication_number': 'US-2009090375-A1',\n",
       "   'type': ''},\n",
       "  {'application_number': '',\n",
       "   'category': 'PRS',\n",
       "   'filing_date': '0',\n",
       "   'npl_text': '',\n",
       "   'publication_number': 'US-8372086-B2',\n",
       "   'type': ''}],\n",
       " 'cpc': [{'code': 'A45D29/02',\n",
       "   'first': 'true',\n",
       "   'inventive': 'true',\n",
       "   'tree': []},\n",
       "  {'code': 'A61B17/3213', 'first': 'false', 'inventive': 'true', 'tree': []},\n",
       "  {'code': 'A45D29/02', 'first': 'true', 'inventive': 'true', 'tree': []},\n",
       "  {'code': 'A61B2017/00446',\n",
       "   'first': 'false',\n",
       "   'inventive': 'false',\n",
       "   'tree': []}],\n",
       " 'description_localized': [{'language': 'en',\n",
       "   'text': 'FIELD OF THE INVENTION \\n       [0001]    This invention relates to an ingrown toenail cutter and has particular application to ingrown and incurved toenails. However the invention may also be used for cutting toenails which are not incurved or ingrown. \\n       BACKGROUND OF THE INVENTION \\n       [0002]    Onychocryptosis (also known as in “ingrown toenail”) is a common nail ailment and is a very painful condition in which the nail grows so that it cuts into one or both sides of the nail bed which is a layer of tissue under the nail or nail plate which comprises dermis and epidermis. This condition may commonly occur in toenails but can also occur in nails of the hand or other foot nails other than toenails. Hence the term “toenails” as used herein also includes within its scope other nails as described above. \\n         [0003]    Conventional methods of treatment of ingrown toenails include removal of the portion of the toenail growing under the skin (i.e. “the ingrown toenail”) to be removed by a podiatrist after administration of a local anesthetic. Once the toe is numb the podiatrist will be able to remove the ingrown toenail and the nail matrix or nail root can be either destroyed with phenol or excusing the nail matrix. After either procedure the nail had to be dressed with antibiotic cream and bandages. It was to be appreciated that this was a very time consuming and painful procedure. \\n         [0004]    Surgical techniques for removal of ingrown toenails involved use of a digital block to anaesthetise the nail and use of a tourniquet. Then an incision is made from the base of the nail leaving the nail bed intact and the incision is continued toward the side of the toe in an elliptical sweep to end up under the tip of the nail about 3-4 mm in from the edge. In this procedure it was important that all the skin at the edge of the nail had to be removed. Again this was a time consuming procedure and the toe had to be soaked in warm water 3 times a day until healing occurred in 4-6 weeks. \\n         [0005]    Reference also may be made to WO 2009/156788 which describes a toe restraining implement having a toe restraining hook at each end which refers to a curved end having a pointed end which was used for restraining a toe and keeping it stable while performing a treatment on the nail such as filing. However this implement could not be used for treatment of ingrown toenails. \\n         [0006]    U.S. Pat. No. 4,936,322 referred to the use of an ingrown toenail part remover which was a hollow cylindrical rod having a tapered end which was shaped to include a soft tissue depressor and a safety knife surface having a cutting edge located within the rod so that it cuts portions of the ingrown toenail as the rod is pulled away. This was a complicated device to manufacture and its use in effective treatment of ingrown toenails was questionable. \\n         [0007]    Reference also may be made to U.S. Pat. No. 1,219,626 which referred to a manicuring device having a shank which also includes a bent portion at one end which is provided with a slot which is provided with a cutting edge on a lower part of the slot in use. A fingernail to be trimmed is placed within the slot so as to be trimmed by the cutting edge. This device could not be used for removal of ingrown toenails as it could only be applied to trimming uninfected or normal nails. \\n       OBJECT OF THE INVENTION \\n       [0008]    It is therefore an object of the invention to provide an ingrown toenail cutter which is effective in use. \\n       SUMMARY OF THE INVENTION \\n       [0009]    The ingrown toenail cutter of the invention includes a handle or shank which at one end has a curved part or angled part which extends away from the handle or shank and said curved or angled part has a cutting edge on an inner side thereof and there is also provided a terminal abutment at a free end of the curved or angled part on the inner side adjacent the cutting edge wherein the cutting edge is oriented at an acute angle of 15°-60° to a longitudinal axis of the handle or shank. \\n         [0010]    The handle or shank in one form of the invention may be integral with the curved or angled part so that the cutter is formed in one piece. In another arrangement there may be provided a cutting component which includes the shank and the curved or angled part which is releasably attached to a handle part. The handle part in a desirable form of the invention may correspond or resemble a scalpel handle of conventional type. Thus in this arrangement the scalpel handle may be releasably attached to the cutting component in a similar manner as a scalpel blade is releasably attached to a scalpel blade. Thus more specifically the scalpel handle may include an elongate end extension which may releasably engage in a retention slot in a shank of the cutting component. In this embodiment the end extension may have opposed slots which engage with corresponding edges of the retention slot. \\n         [0011]    However the cutting component may be releasably attached to the handle part by any other form of reliable engagement such as by use of a grub screw or other fastener interconnecting aligned apertures in both the handle component and the shank of the cutting component. \\n         [0012]    In relation to the acute angle between the cutting edge and the handle or shank this may more preferably be between 25°-40° and most preferably be 30° or 35° or therebetween. \\n         [0013]    In one form of the invention the shank of the cutting component is relatively straight and the curved part forms an end extension of the shank whereby the cutting edge may form the acute angle with the longitudinal axis of the shank as described above. Welded or attached to the curved part of the shank may be a web plate which interconnects an adjacent end of the shank and the terminal abutment. A free edge of the web plate may form the cutting edge. \\n         [0014]    In another form of the invention the cutting component has the shank in the form of an elongate plate and the angled part is an end extension of the elongate plate whereby the cutting edge forms the acute angle as described above. On the inner side of the end extension is the cutting edge and there is also provided an outer edge in opposed relationship to the inner edge. \\n         [0015]    It will be appreciated that the term “inner” having regard to the curved or angled part of the ingrown toenail cutter of the invention means that the inner side is located or defined by possessing the cutting edge and the terminal abutment. In relation to the term “outer” this means an edge or side of the angled or curved part which is substantially in opposed relationship with the inner side or edge. \\n         [0016]    In another aspect of the invention there is provided a method of use of the ingrown toenail cutter of the invention which includes the following steps of:\\n       (i) compressing soft flesh of a toe adjacent an ingrown toenail with an outer side of the curved or angled part;   (ii) placing the curved or angled part underneath the ingrown toenail wherein the terminal abutment engages an outer surface of the ingrown toenail; and   (iii) cutting the ingrown toenail away from an adjacent toenail by using the cutting edge in a reciprocatory or sawing motion while at the same time pulling the curved or angled part away from the ingrown toenail to separate the ingrown toenail from the toenail.       \\n \\n         [0020]    In yet another aspect of the invention there is provided the cutting component per se. \\n     \\n    \\n     \\n       DESCRIPTION OF THE PREFERRED EMBODIMENT OF THE INVENTION \\n         [0021]    Reference may now be made to a preferred embodiment of the invention as shown in the attached drawings wherein: \\n           [0022]      FIG. 1  is a side view of one embodiment of the ingrown toenail cutter of the invention; \\n           [0023]      FIG. 2  is a perspective view of the ingrown toenail cutter of  FIG. 1 ; \\n           [0024]      FIG. 3  is a detailed view of the area marked with a circle in phantom shown in  FIG. 2 ; \\n           [0025]      FIG. 4  is a perspective view showing initial removal of the cutter component from the scalpel component; \\n           [0026]      FIG. 5  shows partial removal of the cutter component from the scalpel component; \\n           [0027]      FIG. 6  shows complete removal of the cutter component from the scalpel component; \\n           [0028]      FIG. 7  is a detailed view of the leading end of the scalpel component; \\n           [0029]      FIGS. 8-9  are views showing initial movement of the ingrown toenail cutter shown in  FIGS. 1-2  in use in removal of an ingrown toenail wherein the outer side is pushing down on the flesh of the toe adjacent the ingrown toenail. \\n           [0030]      FIGS. 10-11  shows subsequent movement of the ingrown toenail cutter with the blade hooked or placed under the ingrown toenail and the end protrusion engaging the ingrown toenail; \\n           [0031]      FIG. 12  shows the blade cutting the ingrown toenail in a sawing motion and at the same time pulling back in the direction of the arrow; \\n           [0032]      FIG. 13  shows complete removal of the ingrown toenail; \\n           [0033]      FIG. 14  shows a perspective view of an alternative type of toenail cutter of the invention; \\n           [0034]      FIG. 15  shows a detailed view of an area marked with a circle in phantom shown in  FIG. 14 ; and \\n           [0035]      FIGS. 16-17  show a plan view of alternative cutting components for use in the invention. \\n       \\n    \\n    \\n       [0036]    In  FIGS. 1-3  there is provided an ingrown toenail cutter  10  having a cutter component  11  and a scalpel component or scalpel handle  12 . The cutter component has angled part  14  and cutting edge  15  which as shown in  FIGS. 16-17  may extend at an acute angle α to the longitudinal axis of the shank  19  of cutting component  11 . In  FIGS. 1-3  the longitudinal axis may be defined at least in part by projection  26  described hereinafter and at least in part by slot  23  of scalpel component  12  mentioned hereinafter. The angled part  14  has an inner side  14 A on which the cutting edge  15  and the terminal abutment  17  is located as shown in  FIG. 3  and an outer side  16 . The terminal abutment in the form of a small end protrusion  17  and cutting edge  15  is located between protrusion  17  and stem  19  of cutting component  11  which is shown in the form of an elongate narrow plate. The scalpel component has handle part  21 , corrugations  22  and slots  23  on either side of handle part  21 . \\n         [0037]    In  FIG. 4  is shown initial removal of cutting component  11  from scalpel component  12  and this is caused by pushing up with the thumb (not shown) on end part  20  as shown by the arrow A. Subsequently cutting component  11  can be slidably removed from scalpel component  12  by movement in the direction marked with the arrow B in  FIG. 5 . Further continued slidable movement is shown in  FIG. 6  which shows cutting component  11  completely separated from scalpel component  12 . When cutting component  11  is completely engaged with scalpel component  12  end part  26  which is in the form of an elongate protrusion has opposed slots  27  and  28  which each engage with a respective edge  29  and  30  of intermediate slot  31  of cutting component  11 . Cutting component  11  also has larger slot  32  which prevents separation of elongate protrusion  26  from slot  31 . There is also provided a smaller outer end slot  33  which functions as a stop to prevent any undesired movement of protrusion  26  away from slot  31 . \\n         [0038]    It will be appreciated from the foregoing that re-engagement of cutting component  11  with scalpel component  12  is easily achieved by slots  27  and  28  being re-engaged with adjacent edges  29  and  30  as shown by the arrow C where end part  20  will then also abut corresponding flat part  34  or socket of reduced thickness compared to end portion  26  and handle part  21 . In this position end part  20  will also contact edge  24  of flat part  34 . \\n         [0039]      FIGS. 8-13  describe the method of use of ingrown toenail cutter  10  and in  FIGS. 8-9  there is shown the first step wherein Outer side  16  of angled part  14  presses down on soft flesh  40  adjacent ingrown toenail  41  which adjoins toenail  42  located on toe  43 . \\n         [0040]    In  FIGS. 10-11  there is shown angled part  14  hooked or placed under ingrown toenail  41  with small protrusion  17  engaging ingrown toenail  41  to locate or support cutting edge  15  in desired position as shown in  FIG. 11 . In  FIG. 11  soft flesh  42  has been omitted for convenience. \\n         [0041]    In  FIG. 12  there is shown cutting edge  15  being moved with a sawing action as shown by double headed arrow D and also with the cutter  10  being pulled back as shown by arrow E to partly remove ingrown toenail  41 . In  FIG. 13  there is shown the treated nail  41  with the ingrown toenail  41  completely removed. \\n         [0042]    In  FIGS. 14-15  there is shown another ingrown toenail cutter  10 A of the invention where use is made of a handle  50  integral or releasably attached to cutting component or shank  51 . \\n         [0043]    Shank  51  is formed from rod of round cross section which has a curved part or end  52  integral with shank  51 . There is also provided a web plate  53  located on an inner side  14 A of curved end  52  interconnecting shank  51  and a terminal projection in the form of hemispherical boss  56  shown in  FIG. 15 . There is also provided cavities or recesses  55  located on opposed sides of curved end  52 . The purpose of the opposed cavities  55  is to reduce the overall width of curved end  52  and this facilitates the use of ingrown toenail cutter  10 A in a manner similar to nail cutter  10  as shown in  FIGS. 8-13 . There is also shown outer side  16 A. Web plate  53  also has cutting edge  54  aligned at an angle α of 30°-35° to longitudinal axis  49  of shank  51 . \\n         [0044]    It will also be appreciated that both a left handed version as well as a right handed version of the cutter  10  or  10 A be provided so that whether a left hand side or right hand side of toenail  43  requires removal of an ingrown toenail  41 . \\n         [0045]    This is shown in  FIGS. 16-17  wherein  FIG. 16  illustrates a cutting component  11 A wherein cutting edge  15  extends at angle α to longitudinal axis  9  of shank  19  of cutting component  11 A and wherein angled part  14  extends to the right of longitudinal axis  9  and in cutting component  11  B wherein angled component  14  extends to the left of longitudinal axis  9  at angle α to longitudinal axis  9 . In either case angle α can be 30° or 35° or any value between these angles. The right hand component  11 A can be used for cutting left hand corners of the user&#39;s toenails and the left hand component  11 B would be suitable for cutting a left hand corner of the user&#39;s toenails. \\n         [0046]    It will be appreciated from the foregoing that the ingrown toenail cutter of the invention is of extremely simple construction and very effective in use. The use of a conventional scalpel handle is also extremely advantageous and avoids manufacture of an integral handle. The ingrown toenail cutter of the invention is also very simple to use in practice as shown in  FIGS. 8-13  wherein the outer side  16  is pressed against the soft flesh  40  adjacent ingrown toenail  41  to allow the cutting edge  15  to be inserted under ingrown toenail  41  and levered into desired position for cutting ingrown toenail  41  with projection  17  permitting cutting edge  15  to be safely inserted under ingrown toenail  41  and located in an appropriate position as shown in  FIG. 11  to enable cutting edge  15  to be drawn back and forth or in a sawing or reciprocatory fashion to cut ingrown toenail  41  as shown in  FIGS. 12-13 . \\n         [0047]    From the above, it will further be appreciated that the feature of projection  17  is important because it makes the ingrown toenail cutter of the invention extremely safe to use because projection  17  or boss  56  will ensure that the cutting edge  15  will not cut or remove tissue if the ingrown toenail cutter  10  or  10 A is used in the manner described above. This also means that the ingrown toenail cutter  10  can be used by any member of the public or unskilled person without the requirement of a podiatrist. This is achieved by projection  17  or boss  56  ensuring that the cutting edge  15  to be safely inserted under ingrown toenail  41  and located in desired position as described above. \\n         [0048]    It is emphasized that prior to use the ingrown toenail cutter of the invention should be immersed in a solution of warm water which optionally can contain wetting agents and/or disinfectants.'}],\n",
       " 'inventor_harmonized': [{'country_code': 'AU', 'name': 'HEDGER ALLAN'}],\n",
       " 'priority_claim': [{'application_number': 'AU-2012000028-W',\n",
       "   'category': '',\n",
       "   'filing_date': '20120116',\n",
       "   'npl_text': '',\n",
       "   'publication_number': '',\n",
       "   'type': ''},\n",
       "  {'application_number': 'AU-2011900476-A',\n",
       "   'category': '',\n",
       "   'filing_date': '20110214',\n",
       "   'npl_text': '',\n",
       "   'publication_number': '',\n",
       "   'type': ''}],\n",
       " 'publication_date': '20131205',\n",
       " 'publication_number': 'US-2013319446-A1',\n",
       " 'title_localized': [{'language': 'en', 'text': 'Ingrown toenail cutter'}]}"
      ]
     },
     "execution_count": 88,
     "metadata": {},
     "output_type": "execute_result"
    }
   ],
   "source": [
    "data_brut[0]"
   ]
  },
  {
   "cell_type": "code",
   "execution_count": 100,
   "metadata": {},
   "outputs": [
    {
     "name": "stdout",
     "output_type": "stream",
     "text": [
      "379\n"
     ]
    }
   ],
   "source": [
    "data = {}\n",
    "k = 0\n",
    "for entry in data_brut:\n",
    "   \n",
    "    \n",
    "    pubnum = entry['publication_number']\n",
    "    patent_number = format_publicationnumber( pubnum )\n",
    "    \n",
    "    if patent_number in data: # supprime les doublons\n",
    "        continue\n",
    "\n",
    "    new_entry = {}\n",
    "    \n",
    "    new_entry['publication_number_raw'] = pubnum\n",
    "    new_entry['patent_number'] = patent_number\n",
    "    \n",
    "    # date\n",
    "    new_entry['year'] = int(  entry['publication_date'][0:4] )   \n",
    "    new_entry['month'] = int( entry['publication_date'][4:6] )\n",
    "    new_entry['day'] = int(   entry['publication_date'][6:]  )\n",
    "    \n",
    "    new_entry['date_str'] = entry['publication_date']\n",
    "\n",
    "    # info\n",
    "    new_entry['title'] = entry['title_localized'][0]['text']\n",
    "    new_entry['title'] = entry['title_localized'][0]['text']\n",
    "    \n",
    "    # abstract\n",
    "    if len( entry['abstract_localized'] )>0:\n",
    "        new_entry['abstract'] = entry['abstract_localized'][0]['text']\n",
    "    else:\n",
    "        new_entry['abstract'] = ''\n",
    "        \n",
    "    # description text\n",
    "    if len( entry['description_localized'] )>0:\n",
    "        new_entry['description'] = entry['description_localized'][0]['text']\n",
    "    else:\n",
    "        new_entry['description'] = ''\n",
    "    \n",
    "    # inventor\n",
    "    new_entry['inventor'] = entry['inventor_harmonized']\n",
    "    \n",
    "    # citations :\n",
    "    citation = [] \n",
    "    for cit in entry['citation']:\n",
    "        if not cit['publication_number'] : continue\n",
    "        infos = {}\n",
    "        infos['publication_number_raw'] = cit['publication_number'] \n",
    "        infos['patent_number'] = format_publicationnumber( cit['publication_number']  )\n",
    "\n",
    "        infos['category'] =  cit['category'] \n",
    "\n",
    "        citation.append( infos )\n",
    "        \n",
    "    new_entry['citation'] = citation\n",
    "\n",
    "    # CPC\n",
    "    new_entry['cpc'] = entry['cpc']\n",
    "    \n",
    "    # save\n",
    "    data[ patent_number ] = new_entry\n",
    "    \n",
    "    k+=1  # debug\n",
    "print(len(data))"
   ]
  },
  {
   "cell_type": "code",
   "execution_count": 101,
   "metadata": {},
   "outputs": [
    {
     "name": "stdout",
     "output_type": "stream",
     "text": [
      "('US20140250692', {'year': 2014, 'abstract': 'An improved apparatus for use with nails or claws comprising an adjustable pressure activated clipper, which effectively closes upon successful capture and engagement of a nail or claw due to pressure realized on the surface of the clipper&#39;s articulating trigger by the nail or claw. In operation, as pressure is applied to the internal surface portion of the trigger by the user, the trigger automatically articulates and releases the refracted blade to cut the nail or claw at the desired length.', 'month': 9, 'title': 'Pressure Activated Clipper', 'citation': [{'publication_number_raw': 'US-4321764-A', 'category': 'PRS', 'patent_number': 'US4321764'}, {'publication_number_raw': 'US-4690091-A', 'category': 'PRS', 'patent_number': 'US4690091'}, {'publication_number_raw': 'US-5727318-A', 'category': 'PRS', 'patent_number': 'US5727318'}, {'publication_number_raw': 'US-6878024-B1', 'category': 'PRS', 'patent_number': 'US6878024'}, {'publication_number_raw': 'US-2009223055-A1', 'category': 'PRS', 'patent_number': 'US20090223055'}, {'publication_number_raw': 'US-2012011764-A1', 'category': 'PRS', 'patent_number': 'US20120011764'}], 'inventor': [{'name': 'FRIEDMAN DAVID H', 'country_code': 'US'}, {'name': 'MONTGOMERY STEVEN', 'country_code': 'US'}, {'name': 'SIEKAJ WITOLD', 'country_code': 'US'}], 'patent_number': 'US20140250692', 'cpc': [{'first': 'true', 'inventive': 'true', 'code': 'A45D29/02', 'tree': []}, {'first': 'true', 'inventive': 'true', 'code': 'A45D29/02', 'tree': []}], 'day': 11, 'publication_number_raw': 'US-2014250692-A1', 'date_str': '20140911', 'description': 'BACKGROUND OF INVENTION \\n       [0001]    1. Field of the Invention \\n         [0002]    The present invention is in the technical field of clippers. More particularly, the present invention is in the technical field of clippers that are used for cutting nails or claws of animals. \\n         [0003]    2. Description of Related Art \\n         [0004]    In order to clip the nails or claws of an animal with typical clipping instruments, a user typically holds a clipping tool in one hand and maintains control and proper positioning of the animal with the other hand. The user is then required to keep the clipper tool prepared until successful capture and engagement of the animal&#39;s nail or claw by the clipping tool. Once successful capture and engagement of the animal&#39;s nail or claw occurs, the user can then utilize the clipping tool by applying pressure on the clipper&#39;s cutting mechanism, enabling it to cut the nail or claw. In such a setting, the user may be limited as to what nails or claws may be successfully captured and engaged because of the need to retain the use of a single hand in order to maintain readiness of the clipper for successful capture, engagement and cutting of the nail or claw. In such a setting, the user may also be limited as to what consistent length the nail or claw would be cut because of a typical clipper&#39;s design, which requires that the user maintain close proximity and contact with the clipper to manipulate the cutting mechanism for successful capture and engagement of the nail or claw. The cumbersome, slow and inconsistent operation of typical clipping instruments presents a risk of substantial injury to the quick of an animal&#39;s nail or claw during the cutting process. Thus, there remains a considerable need for devices that facilitate the successful capture, engagement and consistent cutting of a nail or claw to a desired adjustable length. \\n       SUMMARY OF INVENTION \\n       [0005]    The present invention is directed at a clipper for use with animal nails or claws and features a mechanical design that enables the clipper to be easily preset in a ready position through an articulating motion and rapidly utilized through a pressure motion. The clipper is designed to remain in a preset position until the receptacle makes appropriate contact with its intended target. The present invention provides a pressure activated clipper mechanism that easily and rapidly activates upon successful capture and engagement of a targeted nail or claw due to appropriate directional pressure realized on, or other contact made with the receptacle portion of the invention by a nail or claw. The present invention substantially decreases the time required and effort to successfully capture, engage and cut a nail or claw to a desired adjustable length. \\n         [0006]    The present invention utilizes a cutting mechanism with an articulating lever that can be easily manipulated in such a way as to prepare the trigger to activate the cutting mechanism. Once the trigger is prepared, it remains ready until the invention makes appropriate contact with the intended nail or claw target so as to activate the cutting mechanism. The present invention enables this appropriate contact to be made on the inside of the receptacle portion through a pushing or hitting motion. In either form of intended contact, contact made with a nail or claw activates the invention&#39;s preset trigger, which quickly activates the cutting mechanism and easily cuts the engaged nail or claw inside the receptacle, substantially reducing the risk of injury to the quick of the animal&#39;s nail or claw. The invention also facilitates the repetitive and laborious steps required to cut all of an animal&#39;s nails or claws to a consistent length. Embodiments of the present invention include utilizing a user-adjustable positioning mechanism within the receptacle, which enables a user to easily preset a desired nail or claw cutting length. The present invention is also useful for livestock, where the unpredictable movement of livestock animals often presents substantial difficulties for engaging nails or claws into a cutting receptacle. Larger-sized embodiments of the present invention can be utilized and mounted on poles or beams, enabling vertical up-grabs, horizontal grabs, angular grabs or other positioning to secure a nail or claw. \\n         [0007]    The mass of the unit surrounding the cutting receptacle of the invention provides stability that permits one-handed securing of the invention&#39;s receptacle to a nail or claw. In other embodiments of the invention, some or all of the individual parts that comprise the assembly may be combined, reducing the number of parts, and made of materials including but not limited to aluminum, stainless steel or combinations thereof. In other embodiments of the invention, some or all of the individual parts that comprise the assembly may be made of plastic materials to save weight or reduce cost. \\n         [0008]    The pressure activated clipper may have a variety of configurations, shapes, or sizes depending on the size and type of a nail or claw and necessary loading requirements. For instance, a larger or longer nail or claw would use a wider or deeper receptacle to enable successful engagement. A nail or claw necessitating a higher loading level would use a larger, heavier pressure activated clipper to enable successful capture, engagement, and secure retention of the nail or claw for clipping. A thicker nail or claw would also utilize a blade capable of higher loads to enable successful and consistent results when cutting. \\n         [0009]    The present invention introduces such refinements. In its preferred embodiments, the present invention has several aspects or facets that can be used independently, although they are preferably employed together to optimize their benefits. All of the foregoing operational principles and advantages of the present invention will be more fully appreciated upon consideration of the following detailed description, with reference to the appended drawings. \\n     \\n    \\n     \\n       DESCRIPTION OF DRAWINGS \\n         [0010]      FIG. 1  is a perspective drawing of a pressure activated clipper in an open position in accordance with a preferred embodiment of the present invention. \\n           [0011]      FIG. 2  is a perspective drawing of a pressure activated clipper in a closed position in accordance with a preferred embodiment of the present invention. \\n           [0012]      FIG. 2A  is an exploded view drawing of the clipper body assembly in accordance with a preferred embodiment of the present invention. \\n           [0013]      FIG. 3  is a top view drawing of a pressure activated clipper in a closed position in accordance with a preferred embodiment of the present invention. \\n           [0014]      FIG. 4  is a bottom view drawing of a pressure activated clipper in a closed position in accordance with an embodiment of the present invention. \\n           [0015]      FIG. 5  is a side view drawing of a pressure activated clipper in a closed position in accordance with a preferred embodiment of the present invention. \\n           [0016]      FIG. 6  is a second side view drawing of a pressure activated clipper in a closed position in accordance with a preferred embodiment of the present invention. \\n           [0017]      FIG. 7  is a sectional view drawing of a clipper body assembly with the blade in a non-retracted position in accordance with a preferred embodiment of the present invention. \\n           [0018]      FIG. 8  is a second sectional view drawing of a clipper body assembly with the blade in a non-retracted position in accordance with a preferred embodiment of the present invention. \\n           [0019]      FIG. 9  is a third sectional view drawing of a clipper body assembly with the blade in a partially-retracted position in accordance with a preferred embodiment of the present invention. \\n           [0020]      FIG. 10  is a fourth sectional view drawing of a clipper body assembly with the blade in a fully-retracted position in accordance with a preferred embodiment of the present invention. \\n           [0021]      FIG. 11  is a fifth sectional view drawing of a clipper body assembly with the blade in a fully-retracted position in accordance with a preferred embodiment of the present invention. \\n           [0022]      FIG. 12  is a sixth sectional view drawing of a clipper body assembly with the blade in a fully-retracted position in accordance with a preferred embodiment of the present invention. \\n           [0023]      FIG. 13  is a seventh sectional view drawing of a clipper body assembly with the blade in a fully-retracted position in accordance with a preferred embodiment of the present invention. \\n           [0024]      FIG. 14  is an eighth sectional view drawing of a clipper body assembly with the blade in a partially-retracted position in accordance with a preferred embodiment of the present invention. \\n           [0025]      FIG. 15  is a ninth sectional view drawing of a clipper body assembly with the blade in a non-retracted position in accordance with a preferred embodiment of the present invention. \\n           [0026]      FIG. 16  is an exploded view drawing of a clipper handle assembly in accordance with a preferred embodiment of the present invention. \\n           [0027]      FIG. 17  is an exploded view drawing of a clipper handle assembly in accordance with a preferred embodiment of the present invention. \\n           [0028]      FIG. 18A  is a top view drawing of a clipper handle assembly with the hook fully extended in accordance with a preferred embodiment of the present invention. \\n           [0029]      FIG. 18B  is a top view drawing of a clipper handle assembly with the hook partially extended in accordance with a preferred embodiment of the present invention. \\n           [0030]      FIG. 18C  is a top view drawing of a clipper handle assembly with the hook retracted in accordance with a preferred embodiment of the present invention. \\n           [0031]      FIG. 19  is an exploded view of a trigger assembly in accordance with a preferred embodiment of the present invention. \\n           [0032]      FIG. 19A  is a perspective view of a trigger body in accordance with a preferred embodiment of the present invention. \\n           [0033]      FIG. 19B  is a second perspective view of a trigger body in accordance with a preferred embodiment of the present invention. \\n           [0034]      FIG. 20  is an exploded view of a handle return assembly in accordance with a preferred embodiment of the present invention. \\n           [0035]      FIG. 21  is an exploded view of a pushing rod assembly in accordance with a preferred embodiment of the present invention. \\n           [0036]      FIG. 22  is an exploded view of a blade holder assembly in accordance with a preferred embodiment of the present invention. \\n           [0037]      FIG. 22A  is a second exploded view of a blade holder assembly in accordance with a preferred embodiment of the present invention. \\n           [0038]      FIG. 22B  is a third exploded view of a blade holder assembly in accordance with a preferred embodiment of the present invention. \\n           [0039]      FIG. 23  is an exploded view of a stopper assembly in accordance with a preferred embodiment of the present invention. \\n           [0040]      FIG. 24  is an exploded view of a trigger sub assembly in accordance with a preferred embodiment of the present invention. \\n       \\n    \\n    \\n     PARTS LISTING \\n       [0000]    \\n       \\n         Clipper Body Assembly \\n           0010  Cover Plate \\n           0020  Cover Plate Screw Holes \\n           0030  Socket Head Screws \\n           0040  Cover Plate Nail Engagement Receptacle \\n           0050  Clipper Main Body \\n           0060  Clipper Main Body Nail Engagement Receptacle \\n           0070  Connecting Anchor Connecting Pin Hole \\n           0080  Hook Receptacle \\n           0090  Clipper Main Body Trigger Pivot Pin Hole \\n         Clipper Handle Assembly \\n           0100  Handle Body \\n           0110  Handle Connecting Pin Receptacle \\n           0120  Handle Pivot Pin Receptacle \\n           0130  Handle Connecting Pin \\n           0140  Handle Pivot Pin \\n         Clipper Handle Latch Assembly \\n           0200  Spring Receptacle \\n           0210  Shaft Receptacle \\n           0220  Hook Cover Plate Screw Receptacle \\n           0230  Shaft \\n           0240  Hook Spring \\n           0250  Ball Bearing \\n           0260  Hook \\n           0270  Hook Shaft Receptacle \\n           0280  Hook Cover Plate \\n           0285  Hook Cover Plate Screw Hole \\n           0290  Flat head screw \\n           0300  Indent \\n           0310  Sphere \\n         Handle Return Assembly \\n           0400  Handle Return Spring Guide Receptacle \\n           0410  Handle Return Spring Guide Pin \\n           0420  Handle Return Spring Guide \\n           0430  Handle Return Spring Guide Bushing \\n           0440  Handle Return Spring \\n         Pushing Rod Assembly \\n           0460  Pushing Link \\n           0470  Pushing Link Rod \\n           0480  Pushing Link Connecting Pin Receptacle \\n           0490  Pushing Link Rod Receptacle \\n           0500  Pushing Rod Hole \\n           0510  Pushing Rod \\n           0515  Pushing Rod Pin \\n           0520  Pushing Rod Slot \\n           0525  Pushing Link Pin \\n           0530  Pushing Link Pin Hole \\n           0535  Blade Spring \\n           0540  Blade Spring Tension Adjustment Screw \\n         Blade Holder Assembly \\n           0560  Joint Stopper Holder \\n           0565  Pushing Rod Pin Hole \\n           0570  Blade Holder \\n           0580  Flat Head Screws \\n           0590  Blade Holder Cylinder \\n           0600  Blade \\n           0610  Blade Mounting Hole \\n           0620  Blade Holder Lower Plate \\n           0630  Blade Lower Plate Holes \\n           0640  Blade Holder Upper Plate \\n           0650  Blade Holder Upper Plate Holes \\n         Stopper Assembly \\n           0700  Stopper \\n           0710  Stopper Pivot Pin \\n           0720  Stopper Pivot Pin Hole \\n           0730  Stopper Spring \\n           0740  Stopper Spring Screw \\n           0750  Stopper Stop Pin \\n           0760  Stopper Stop Pin Hole \\n           0765  Stopper Stop Pin Notch \\n         Trigger Assembly \\n           0800  Trigger Main Body \\n           0810  Trigger Ball Bearing \\n           0820  Trigger Ball Bearing Pin \\n           0830  Trigger Ball Bearing Pin Hole \\n           0840  Trigger Pivot Pin \\n           0850  Trigger Pivot Pin Hole \\n           0860  Trigger Spring Hole \\n           0870  Trigger Spring \\n           0880  Trigger Bearing Ball \\n           0890  Trigger Bottom Plate Screw Receptacle \\n         Trigger Sub Assembly \\n           0900  Depth Adjuster \\n           0910  Depth Adjustment Screw \\n           0920  Depth Adjuster Spin Preventer Pin \\n           0930  Trigger Bottom Plate \\n           0940  Trigger Bottom Plate Screw Hole \\n           0950  Trigger Bottom Plate Screw \\n       \\n     \\n       DESCRIPTION OF PREFERRED EMBODIMENTS \\n       [0129]    A detailed description of the present invention follows. Referring to  FIGS. 1 through 24 , a pressure activated clipper is comprised of a Clipper Body Assembly, Clipper Handle Assembly, Clipper Handle Latch Assembly, Handle Return Assembly, Pushing Rod Assembly, Blade Holder Assembly, Stopper Assembly, Trigger Assembly and Trigger Sub Assembly. \\n       Clipper Body Assembly \\n       [0130]    The Clipper Body Assembly consists of a Cover Plate  0010  containing Cover Plate Screw Holes  0020  that receive Socket Head Screws  0030  as well as a Cover Plate Nail Engagement Receptacle  0040 . The Clipper Body Assembly also consists of a Clipper Main Body  0050  containing a Clipper Main Body Nail Engagement Receptacle  0060  as well as a Connecting Anchor Connecting Pin Hole  0070 , a Hook Receptacle  0080  and a Clipper Main Body Trigger Pivot Pin Hole  0090 . \\n       Clipper Handle Assembly \\n       [0131]    The Clipper Handle Assembly consists of a Handle Body  0100  containing a Handle Connecting Pin Receptacle  0110 , a Handle Pivot Pin Receptacle  0120 , a Handle Connecting Pin  0130  and a Handle Pivot Pin  0140 . \\n       Clipper Handle Latch Assembly \\n       [0132]    The Clipper Handle Latch Assembly consists of a Spring Receptacle  0200 , a Shaft Receptacle  0210  and a Hook Cover Plate Screw Receptacle  0220 , which contain a Shaft  0230 , a Hook Spring  0240 , Ball Bearing  0250 , Hook  0260 , Hook Shaft Receptacle  0270 . The Clipper Handle Latch Assembly is covered by a Hook Cover Plate  0280  containing a Hook Cover Plate Screw Hole  0285  designed to receive a Flat head screw  0290 . The Clipper Handle Latch Assembly also contains Indents  0300  and a Sphere  0310 . \\n       Handle Return Assembly \\n       [0133]    The Handle Return Assembly consists of a Handle Return Spring Guide Receptacle  0400 , which serves as a nest for the Handle Return Spring  0440  and as a retainer for the Handle Return Spring Guide  0420 . A Handle Return Spring Guide Pin  0410  positions the Handle Return Assembly in the Clipper Main Body  0050 , and stabilizes the Handle Return Spring Guide  0420  that serves as a container for the Handle Return Spring  0440 . The Handle Return Spring Guide Pin  0410  also serves as a stopper for the Handle Return Spring Guide Bushing  0430 . The Handle Return Spring Guide Bushing  0430  also stabilizes and serves as a seat for the Handle Return Spring  0440 . The Handle Return Spring Guide  0420  also directs pressure from the Handle Return Spring  0440  against the Pushing Link  0460  as part of the Pushing Rod Assembly. \\n       Pushing Rod Assembly \\n       [0134]    The Pushing Rod Assembly consists of a Pushing Link  0460 , which consists of a Pushing Link Rod  0470 , and contains a Pushing Link Connecting Pin Receptacle  0480  that also serves as a Pushing Link Pin  0525  holder. The Pushing Link also contains a Pushing Link Rod Receptacle  0490 . The Pushing Rod Assembly also consists of a Pushing Rod Hole  0500  that serves as a Pushing Rod Pin Holder  0515  as part of a Pushing Rod  0510 . The Pushing Rod  0510  serves as a Blade Spring  0535  holder and functions as a connector between the Pushing Rod Assembly and the Blade Holder Assembly. The Pushing Link Rod  0470  is hollow in order to provide a guide for the Pushing Rod  0510 . The Pushing Rod Pin  0515  also serves as a connector between the Pushing Rod  0510  and Joint Stopper Holder  0560 , and also interfaces with the Blade Holder Assembly. The Pushing Rod also consists of a Pushing Rod Slot  0520  that allows the Pushing Rod  0510  to travel inside the Pushing Link Rod  0470 . A Pushing Link Pin  0525  that prevents the Pushing Rod  0510  from separating from the Pushing Link  0460  is also designed to fit into Pushing Link Pin Hole  0530 . A Blade Spring  0535  provides a force needed to activate the Blade Holder Assembly to cut nails and to contain spring tension energy when the clipper is in a cocked intermediate position. A Blade Spring Tension Adjustment Screw  0540  functions as an adjustable regulator for the cutting force of the Blade Spring  0535 . The main purpose of the Pushing Link  0460  is to be a Blade Spring  0535  compressor. \\n       Blade Holder Assembly \\n       [0135]    The Blade Holder Assembly consists of a Joint Stopper Holder  0560  containing a Pushing Rod Pin Hole  0565  that connects the Pushing Rod  0510  and Joint Stopper Holder  0560 . The Joint Stopper Holder  0560  also functions as a holder for the Stopper  0700  and as a connector for the pushing rod assembly with the Blade Holder Assembly. The Blade Holder Assembly also consists of a Blade Holder  0570  that the Blade  0600  is attached to. The Blade Holder Assembly is secured by multiple Flat Head Screws  0580 . A Blade Holder Cylinder  0590  functions as an attachment point between the Blade Holder  0570  and the Blade  0600 . The Blade  0600  contains a Blade Mounting Hole  0610  which serves as a receptacle for the Blade Holder Cylinder  0590 . A Blade Holder Lower Plate  0620  serves as a connector between the Joint Stopper Holder  0560  and Blade Holder  0570 . The Blade Holder Lower Plate  0620  contains Blade Lower Plate Holes  0630  that receive the Flat Head Screws  0580 . A Blade Holder Upper Plate  0640 , serves as a second connector between the Joint Stopper Holder  0560  and Blade Holder  0570 . The Blade Holder Upper Plate  0640  also contains Blade Holder Upper Plate Holes  0650  to receive the Flat Head Screws  0580 . \\n       Stopper Assembly \\n       [0136]    The Stopper Assembly consists of a Stopper  0700  that enables the Blade Spring  0535  to be compressed and functions to hold the Blade Holder Assembly in a loaded state. A Stopper Pivot Pin  0710  that mounts Stopper  700  in the Joint Stopper Holder  0560  is received by a Stopper Pivot Pin Hole  0720 . A Stopper Spring  0730  serves as a force that makes the Stopper  0700  rotate upwards and around the Stopper Pivot Pin  0710 . A Stopper Spring Screw  0740  serves as a container for the Stopper Spring  0730 . The Stopper Assembly also consists of a Stopper Stop Pin  0750  that positions the Stopper  0700  by stopping it in a precise location after its movement upwards. The Stopper Stop Pin  0750  is received by a Stopper Stop Pin Hole  0760  receptacle and fits into a Stopper Stop Pin Notch  0765 , which serves as a resting wall for the Stopper Stop Pin  0750  and provides stability for the Stopper Assembly. \\n       Trigger Assembly \\n       [0137]    The Trigger Assembly consists of a Trigger Main Body  0800  that functions as a holder for the Trigger Assembly components, Trigger Sub Assembly components, and functions to both cock the clipper and initiate a cutting action by releasing the Blade Holder Assembly from its cocked position. The Trigger Main Body  0800  also contains a Trigger Ball Bearing  0810  that serves as a counter-force for the Stopper  0700  and makes releasing the Blade Holder Assembly from its cocked position effortless. The Trigger Ball Bearing  0810  is positioned in the Trigger Main Body  0800  by a Trigger Ball Bearing Pin  0820  that extends through Trigger Ball Bearing Pin Holes  0830 . A Trigger Pivot Pin  0840  that allows the Trigger Assembly to rotate and positions the Trigger Assembly in the Clipper Main Body  0050 , by being mounted in the Clipper Main Body Trigger Pivot Pin Holes  0090 , is received by Trigger Pivot Pin Holes  0850 . The Trigger Spring Hole  0860  serves as a housing for the Trigger Spring  0870  that has a Trigger Bearing Ball  0880  on each end of it. The Trigger Spring  0870  serves as force that turns and keeps the Trigger Assembly in an upright position. The Trigger Spring  0870  also provides friction and holding force for the Depth Adjustment Screw  0910 . The Trigger Main Body  0800  has Trigger Bottom Plate Screw Receptacles  0890 , which receive Trigger Bottom Plate Screws  0950 . \\n       Trigger Sub Assembly \\n       [0138]    The Trigger Sub Assembly consists of a Depth Adjuster  0900  that dictates what length of the nail or the claw is allowed into the Clipper Main Body Nail Engagement Receptacle  0060  and acts as a striking element for activating the Trigger Assembly. A Depth Adjustment Screw  0910  regulates the position of the Depth Adjuster  0900 . The Trigger Sub Assembly is stabilized and prevented from torsional rotation by a Depth Adjuster Spin Preventer Pin  0920  which prevents the Depth Adjuster  0900  from spinning while the Depth Adjustment Screw  0910  is being spun around it, causing the Depth Adjuster  0900  to be forced up or down based upon the spinning direction of the Depth Adjustment Screw  0910 . The Trigger Sub Assembly is anchored and secured by a Trigger Bottom Plate  0930  containing Trigger Bottom Plate Screw Holes  0940 , each of which is intended to receive a Trigger Bottom Plate Screw  0950 . \\n       Clipper Motion \\n     General Overview \\n     Initial Preparation of the Clipper: \\n       [0139]    Turning the Hook  0260  to the Middle Indent  0300  permits the Handle Body  0100  to go all the way open. The Handle Return Spring  0440  serves to push the Pushing Link  0460 . The Pushing Link  0460  will then swing the handle open. During this process, the Stopper  0700  travels under the Trigger Ball Bearing  0810  (See  FIG. 9 ) until it passes the Trigger Ban Bearing  0810  (See  FIG. 10 ). Now the Stopper Spring  0730  pushes the Stopper  0700  up until the Stopper Stop Pin  0750  hits the Stopper Stop Pin Notch  0765 . At the same time, the Trigger Spring  0870  swings the Trigger Assembly clockwise (See  FIG. 10 ). The front of the Trigger Assembly is now stopped against the Clipper Main Body Nail Engagement Receptacle  0060  area (See  FIGS. 10 ,  11 , and  12 ), Now the Trigger Ball Bearing  0810  and Stopper  0700  are facing each other (head to head). The Depth Adjuster  0900  and Trigger Main Body  0800  are designed to have an adjustable configuration that is achieved by spinning the Depth. Adjustment Screw  0910 . By spinning the Depth Adjustment Screw  0910  either clockwise or counterclockwise, the Depth Adjuster  0900  travels either up or down within the Trigger Main Body  0800 , and as a result, creates a varying amount of space between the top of the Clipper Main Body Nail Engagement Receptacle  0060  and the top of the Depth Adjuster  0900 . This space dictates how much of the nail or claw can be inserted into the Cover Plate Nail Engagement Receptacle  0040  and further into the Clipper Main Body Nail Receptacle  0060 . Once the Depth Adjustment Screw  0910  is adjusted by the user to the desired position, the Depth Adjuster  0900  and Trigger Main Body  0800  function as a solid unit to cut the nail or claw to a desired length. Adjusting the depth can be done during this initial preparation process, before attempting to cut a nail or claw. This depth adjustment process can also easily be repeated before cutting each individual nail or claw if achieving different lengths of cuts is desired. \\n       Loading (Cocking) the Clipper: \\n       [0140]    The initial geometry of the Trigger Pivot Pin  0840 , Trigger Ball Bearing Pin  0820 , and Stopper Pivot Pin  0710  is crucial to facilitate initial movement of the clipper mechanism, such that if you draw a straight line between the centers of the Trigger Pivot Pin  0840  and Stopper Pivot Pin  0710 , the center of the Trigger Ball Bearing  0810  will be slightly above that line (See  FIG. 9 ). The subsequent geometry of the Trigger Pivot Pin  0840 , Trigger Ball Bearing Pin  0820 , and Stopper Pivot Pin  0710  is similarly crucial to facilitate continued movement of the clipper mechanism, such that if you draw a straight line between centers of the Trigger Pivot Pin  0840  and Stopper Pivot Pin  0710 , the center of the Trigger Ball Bearing  0810  will be slightly below that line (See  FIGS. 10 ,  11 , and  12 ). This subsequent unique geometry means that if you apply pressure between the Stopper  0700  and Trigger Ball Bearing  0810 , that pressure will force the Trigger Assembly into a clockwise motion that forces the Trigger Assembly into remaining pressed against the Clipper Main Body  0050 . This same pressure also forces the Stopper  0700  to remain in an up position. By enabling the Handle Body  0100  to swing open, the Blade Holder Assembly is retracted backwards. As a result, the Blade  0600  then allows access for the nail or claw to be inserted into the Cover Plate Nail Engagement Receptacle  0040  and into the Clipper Main Body Nail Engagement Receptacle  0060 . Squeezing the Handle Body  0100  causes the Trigger Ball Bearing  0810  and Stopper  0700  to come into contact against each other. As a result, the Blade Holder Assembly cannot be moved forward, but the Blade Spring  0535  can be compressed by squeezing the Handle Body  0100 . Squeezing the Handle Body  0100  causes the Pushing Link  0460  to go forward while the Blade Holder Assembly remains stationary. The Pushing Rod  0510  slides inside the Pushing Link Rod Receptacle  0490 . As a result, the Blade Spring  0535  is compressed (See  FIGS. 11 and 12 ). \\n         [0141]    Squeezing the Handle Body  0100  even farther causes the pressure to mount between the Trigger Ball Bearing  0810  and the face of the Stopper  0700 . To maintain an inline position between the Trigger Pivot Pin  0840 , Trigger Ball Bearing  0810  and Stopper Pivot Pin  0710 , the angle of the face of the Stopper  0700  must be machined so that it is 90 degrees to a line drawn between the Trigger Pivot Pin  0840 , Trigger Ball Bearing pin  0820  and Stopper Pivot Pin  0710 . This configuration guarantees that no matter how high the pressure is between the Trigger Ball Bearing  0810  and Stopper  0700 , the Trigger Assembly and the Stopper Assembly will remain in this configuration until the Handle Body  0100  is fully squeezed and the Blade Spring  0535  is compressed. However, at a 90-degrees configuration during cocking, the Trigger Assembly becomes very sensitive, so much that a mere tap against anything could torque the Trigger Assembly counter clockwise, activating it and causing the Blade Holder Assembly to shoot forward prematurely. In order to reduce the sensitivity of the Trigger Assembly and ensure that the Trigger Assembly and the Stopper  0700  remain in proper configuration when the Trigger Pivot Pin  0840 , Trigger Ball Bearing  0810  and Stopper Pivot Pin  0710  are in line while the spring is being compressed, the Stopper  0700  face angle measured from the bottom must be increased slightly. By increasing the Stopper  0700  face angle slightly as measured from the bottom, the Trigger Ball Bearing  0810  is forced to migrate downwards and Stopper  0700  is forced upwards. Those forces also cause the Trigger Assembly and Stopper  0700  to rotate clockwise resulting in the Trigger Assembly being pressed against the Clipper Main Body  0050 , and the Stopper Stop Pin  0750  being pressed against the Joint Stopper Holder  0560 . The clockwise forces of the Trigger Assembly and Stopper  0700  are related to the size of the Stopper  0700  face angle. The higher the Stopper  0700  face angle, the stronger the resulting clockwise force is. A higher angle results in a larger clockwise force, making the Trigger Assembly more difficult to activate. The optimum range of Stopper  0700  face angles for proper device function is 1 to 4 degrees, past the neutral 90-degree angle. A 4-degree angle past a neutral 90-degree angle results in the highest Trigger tension with the lowest activation sensitivity, while a 1-degree angle past a neutral 90-degree angle results in the Trigger having higher sensitivity to being activated. The clipper can be configured for different animal sizes and situations by installing the Stopper  0700  with different face angles. \\n       Cutting Nails: \\n       [0142]    By inserting a nail or claw into the Clipper Main Body Nail Engagement Receptacle  0060 , it makes contact with the Depth Adjuster  0900 . Pressure against the Depth Adjuster  0900  causes the Trigger Assembly to rotate counter clockwise (See  FIG. 13 ). The Trigger Ball Bearing  0810  travels up until it finds itself above the Stopper  0700  (See  FIG. 14 ). Now the loaded Blade Holder Assembly shoots forward (See  FIGS. 14 and 15 ) and the nail is cut, such that the nail is contained inside the Clipper Main Body Nail Engagement Receptacle  0060  between the Depth Adjuster  0900  and the Blade  0600 . Once fired, the Return Spring  0440  allows the Handle Body  0100  to retract, and the Blade Holder Assembly retracts, The cut nail or claw can be removed from the Clipper Main Body Nail Engagement Receptacle  0060  through rapid inversion of the entire apparatus. The entire apparatus is then ready for another cycle. This cycle can be repeated very quickly (at about 2 second increments if necessary). \\n       Specific Motion Steps \\n     1) Closed and Locked Position: \\n     Details of Motion \\n       [0143]    In the closed and locked position as shown in  FIG. 3  and  FIG. 4 , the Handle Body  0100  is secured to the Clipper Main Body  0050  by a Hook  0260 , visible in  FIG. 16  and  FIG. 17 , contained within the Clipper Latch Assembly that engages into and secures the Hook Receptacle  0080 , which is visible in  FIG. 1 . The Hook  0260  serves as a device that holds the handle assembly for storage and marketing appearance. The Hook  0260  also serves as a safety device, as it can only be inserted into Hook Receptacle  0080  if the Blade Holder Assembly is moved forward to the position when the Blade  0600  is covering the Clipper Main Body Nail Engagement Receptacle  0060  and the Pushing Rod Assembly is in a released position, with Blade Spring  0535  in the relaxed phase. As shown in  FIG. 7  and  FIG. 8 , the Blade  0600  is in a non-retracted position, completely blocking the Cover Plate Nail Engagement Receptacle  0040  from receiving a nail or claw further into the Clipper Main Body Nail Engagement Receptacle  0060 . The Sphere  0310  on the Handle Body  0100  enables a user to use a fingernail to reach the retracted Hook  0260 , as shown in  FIG. 18C  and articulate the Hook  0260  with a continuous pulling motion as depicted in  FIG. 18B , where the Hook  0260  is in the Middle Indent  0300  position, into a ready and fully extended position as depicted in  FIG. 18A . The Hook  0260  is received and secured by the Hook Receptacle  0080  when articulating the Handle Body  0100 , putting the device into a first or closed position. \\n       2) Open and Ready Position: \\n     Details of Motion \\n       [0144]    In the open or ready position as shown in  FIG. 1 , the user has already separated the Handle Body  0100  from the Clipper Main Body  0050  by disengaging the Hook  0260  visible in  FIG. 16  and  FIG. 17 , from the Hook Receptacle  0080  in the Clipper Main Body  0050  visible in  FIG. 1 . The Sphere  0310  on the Handle Body  0100  enables a user to use a fingernail to reach the extended and secured Hook  0080  and articulate the Hook  0260  to disengage it from the Hook Receptacle  0080 . When the Hook  0260  is disengaged from the Hook Receptacle  0080 , permitting the Handle Body  0100  to articulate away from the Clipper Main Body  0050 , the device enters the Second or Ready Position as shown in  FIG. 1 . \\n         [0145]    The user is able to articulate the Hook  0260  between the extended position in  FIG. 18A  with a continuous pushing motion which articulates the Hook  0260  as depicted in  FIG. 18B . The user is able to store the Hook  0260  in a retracted position as depicted in  FIG. 18C  and  FIG. 1 , wherein the Hook  0260  is completely refracted underneath the Hook Cover Plate  0280  and aligned flush so as not to extend past the vertical boundary of the Handle Body  0100 , as depicted in  FIG. 18C  and  FIG. 1 . The Hook  0260  can be manipulated from an extended position to a refracted position through the articulating motion of the Hook  0260  around the axis of the Shaft  0230 . The Indents  0300  as depicted in  FIG. 17  are small spherical indentations in the underside of the Hook  0260 , which receive a Ball Bearing  0250 . When a user articulates the Hook  0260  from an extended position to a retracted position and vice-versa, this Ball Bearing  0250  moves from one indent to the other to secure and maintain the Hook  0260  in the position desired by the user. This Hook  0260  articulation process is depicted in  FIG. 18A  (extended),  FIG. 18B  (partially-retracted) and  FIG. 18C  (fully-retracted). \\n         [0146]    As shown in  FIG. 7  and  FIG. 8 , the Blade  0600  is in a non-retracted position, completely blocking the Cover Plate Nail Engagement Receptacle  0040  from receiving a nail or claw even further into the Clipper Main Body Nail Engagement Receptacle  0060 . \\n         [0147]    As shown in  FIG. 7  and  FIG. 8 , the Blade Holder  0570  is in the non-retracted position and the Trigger Ball Bearing  0810  is resting upon the Stopper  0700  in the initial position. \\n         [0148]    As shown in  FIG. 7  and  FIG. 8 , the upper round portion of the Depth Adjuster  0900  is in a resting position on top of the Trigger Main Body  0800 . \\n       3) First-Intermediate Position as the User Allows the Clipper Handle to Swing Open: Details of Motion \\n       [0149]    The First-Intermediate Position is attained as the user enables articulation of the Handle Body  0100  around the axis of the Handle Pivot Pin  0140 . Articulation is achieved by Handle Return Spring  0440  force. As shown in  FIG. 9 , the Blade  0600  is in a partially-retracted position, partially blocking the Cover Plate Nail Engagement Receptacle  0040  from receiving a nail or claw further into the Clipper Main Body Nail Engagement Receptacle  0060 . \\n         [0150]    As shown in  FIG. 9 , the Blade Holder  0570  is in a partially-retracted position and Stopper  0700  has moved under the Trigger Ball Bearing  0810 . \\n         [0151]    During this process, the Handle Return Spring  0440  is pushing the Rushing Link  0460 . The Pushing Link  0460  begins to swing the Handle Body  0100  open. During this process, the Stopper  0700  begins to travel under the Trigger Ball Bearing  0810  (See  FIG. 9 ) until it will pass the Trigger Ball Bearing  0810  (See  FIG. 10 ). The Stopper Spring  0730  will then be able to push the Stopper  0700  up until the Stopper Stop Pin  0750  hits the Stopper Stop Pin Notch  0765 . \\n         [0152]    At the same time, the Trigger Spring  0870  begins to swing the Trigger Assembly clockwise (See  FIG. 10 ) until the front of the Trigger Assembly would stop against the Clipper Main Body Nail Engagement Receptacle  0060  area (See  FIGS. 10 ,  11 , and  12 ). At that point, the Trigger Ball Bearing  0810  and Stopper  0700  would be facing each other (head to head). \\n         [0153]    As shown in  FIG. 9 , the geometry of the Trigger Pivot Pin  0840 , Trigger Ball Bearing Pin  0820 , and Stopper Pivot Pin  0710  are crucial to facilitate movement of the clipper to the First-Intermediate Position, such that if a straight line was drawn between the centers of the Trigger Pivot Pin  0840  and Stopper Pivot Pin  0710 , the center of the Trigger Ball Bearing  0810  would be slightly above that drawn straight line. This unique geometry means that if pressure was applied between the Stopper and Trigger Ball Bearing, that pressure would force the Trigger Assembly into a clockwise motion that forces the Trigger into remaining pressed against the Clipper Main Body  0050 . This same pressure also would force the Stopper  0700  to remain in an up position. By enabling the Handle Body  0100  to swing open, the Blade Holder Assembly is actually retracted backwards. The Blade  0600  then would allow access for the nail to be inserted through the Cover Plate Nail Engagement Receptacle  0040  and into the Clipper Main Body Nail Engagement Receptacle  0060 . \\n         [0154]    With the Trigger Ball Bearing  0810  and Stopper  0700  against each other, the Blade Holder Assembly cannot be moved forward, but the Blade Spring  0535  can be compressed by squeezing the Handle Body  0100 . Squeezing the Handle Body  0100  will cause the Pushing Link  0460  to go forward while the Blade Holder Assembly remains stationary. The Pushing Rod  0510  would slide inside the Pushing Link Rod Receptacle  0490 . As a result, the Blade Spring  0535  would be compressed (See  FIGS. 11 and 12 ). \\n       4) Second Intermediate Position: \\n     Details of Motion \\n       [0155]    The Second-Intermediate Position is attained as the user pulls and applies further sufficient rotational force for additional separation and articulation of the Handle Body  0100  around the axis of the Handle Pivot Pin  0140 . As a result and as shown in  FIG. 10 , the Blade  0600  has moved to a completely retracted position, permitting the Cover Plate Nail Engagement Receptacle  0040  to receive a nail or claw completely into the Clipper Main Body Nail Engagement Receptacle  0060 . \\n         [0156]    As shown in  FIG. 10 , the Blade Holder  0570  is in the completely-retracted position and the Trigger Ball Bearing  0810  is off the Stopper  0700 . As a result, the Stopper is able to rotate to a first position around the axis of the Stopper Pivot Pin  0710  as shown in  FIG. 10 . \\n         [0157]    As shown in  FIG. 10 , the Depth Adjuster  0900  has moved upwards to a ready position resulting in a space cavity underneath between it and the top of the Trigger Main Body  0800  within the Clipper Main Body Receptacle, permitting downward movement of the Depth Adjuster  0700 . \\n         [0158]    The Handle Return Spring  0440  continues to push the Pushing Link  0460 . The Pushing Link  0460  continues to swing the handle open. During this process, the Stopper  0700  continues to travel under the Trigger Ball Bearing  0810  (See  FIG. 9 ) until it passes the Trigger Bali Bearing  0810  (See  FIG. 10 ). The Stopper Spring  0730  can then push the Stopper  0700  up until the Stopper Stop Pin  0750  hits the Stopper Stop Pin Notch  0765 . \\n         [0159]    At the same time, the Trigger Spring  0870  continues to swing the Trigger Assembly clockwise (See  FIG. 10 ) until the front of the Trigger Assembly would stop against the Clipper Main Body Nail Engagement Receptacle  0060  area (See  FIGS. 10 ,  11 , and  12 ). At that point, the Trigger Ball Bearing  0810  and Stopper  0700  would be facing each other (head to head). \\n         [0160]    As shown in  FIG. 10 , the geometry of the Trigger Pivot Pin  0840 , Trigger Ball Bearing Pin  0820 , and Stopper Pivot Pin  0710  are crucial to facilitate movement of the clipper to the Second-Intermediate Position, such that if a straight line was drawn between the centers of the Trigger Pivot Pin  0840  and Stopper Pivot Pin  0710 , the center of the Trigger Ball Bearing  0810  would be slightly below that drawn straight line. This unique geometry means that if pressure was applied between the Stopper  0700  and Trigger Ball Bearing  0810 , that pressure would force the Trigger Assembly into a clockwise motion that forces the Trigger Main Body  0800  into remaining pressed against the Clipper Main Body  0050 . This same pressure also would force the Stopper  0700  to remain in an up position. By enabling the Handle Body  0100  to swing open, the Blade Holder Assembly is actually retracted backwards. The Blade  0600  then would allow access for the nail to be inserted to the Cover Plate Nail Engagement Receptacle  0040  and further into the Clipper Main Body Nail Engagement Receptacle  0060 . \\n         [0161]    With the Trigger Ball Bearing  0810  and Stopper  0700  against each other, the Blade Holder Assembly cannot be moved forward, but the Blade Spring  0535  can be compressed by squeezing the Handle Body  0100 . Squeezing the handle will cause the Pushing Link  0460  to go forward while the Blade Holder Assembly remains stationary. The Pushing Rod  0510  would slide inside the Pushing Link Rod Receptacle  0490 . As a result, the Blade Spring  0535  is further compressed (See  FIGS. 11 and 12 ). \\n       5) Third Intermediate Position: \\n     Details of Motion \\n       [0162]    The Third-Intermediate Position is attained when the Handle Body  0100  is in the fully swung open position about the axis of the Handle Pivot Pin  0140 . As shown in  FIG. 11 , the Blade  0600  is in a completely retracted position, permitting the Cover Plate Nail Engagement Receptacle  0040  to receive a nail or claw completely into the Clipper Main Body Nail Engagement Receptacle  0060 . \\n         [0163]    As shown in  FIG. 11 , the Blade Holder  0570  is in the completely-refracted position and the Trigger Ball Bearing  0810  is off the Stopper  0700 . The Stopper  0700  remains in a rotated up position around the axis of the Stopper Pivot Pin  0710 . \\n         [0164]    As shown in  FIG. 11 , the Trigger Assembly has moved upwards to a ready position resulting in a space cavity underneath between Depth Adjuster  0900  and the top of the Trigger Main Body  0800  within the Clipper Main Body Nail Engagement Receptacle  0060 , permitting movement of the Trigger Assembly. \\n         [0165]    The Handle Return Spring  0440  continues to push the Pushing Link  0460 . The Pushing Link  0460  continues to swing the handle open. During this process, the Stopper  0700  continues to travel under the Trigger Ball Bearing  0810  (See  FIG. 9 ) until it passes the Trigger Ball Bearing  0810  (See  FIG. 10 ). The Stopper Spring  0730  can then push the Stopper  0700  up until the Stopper Stop Pin  0750  hits the Stopper Stop Pin Notch  0765 . \\n         [0166]    At the same time, the Trigger Spring  0870  continues to swing the Trigger Assembly clockwise (See  FIG. 10 ) until the front of the Trigger Assembly would stop against the Clipper Main Body Nail Engagement Receptacle  0060  area (See  FIGS. 10 ,  11 , and  12 ). At that point, the Trigger Ball Bearing  0810  and Stopper  0700  would be facing each other (head to head). \\n         [0167]    As shown in  FIG. 11 , the geometry of the Trigger Pivot Pin  0840 , Trigger Ball Bearing Pin  0820 , and Stopper Pivot Pin  0710  are crucial to facilitate movement of the clipper to the Third-Intermediate Position, such that if a straight line was drawn between the centers of the Trigger Pivot Pin  0840  and Stopper Pivot Pin  0710 , the center of the Trigger Ball Bearing  0810  would be slightly below that drawn straight line. This unique geometry means that if pressure was applied between the Stopper  0700  and Trigger Ball Bearing  0810 , that pressure would force the Trigger into a clockwise motion that forces the Trigger into remaining pressed against the Clipper Main Body  0050 . This same pressure also would force the Stopper  0700  to remain in an up position. By enabling the Handle Body  0100  to swing open, the Blade Holder Assembly is actually retracted backwards. The Blade  0600  then would allow access for the nail to be inserted through the Cover Plate Nail Engagement Receptacle  0040  and into the Clipper Main Body Nail Engagement Receptacle  0060 . \\n         [0168]    With the Trigger Ball Bearing  0810  and Stopper  0700  against each other, the Blade Holder Assembly cannot be moved forward, but the Blade Spring  0535  can be compressed by squeezing the Handle Body  0100 . Squeezing the Handle Body  0100  will cause the Pushing Link  0460  to go forward while the Blade Holder Assembly remains stationary. The Pushing Rod  0510  would slide inside the Pushing Link Rod Receptacle  0490 . As a result, the Blade Spring  0535  is further compressed (See  FIGS. 11 and 12 ). \\n       6) Fourth Intermediate Position: \\n     Details of Motion \\n       [0169]    The Fourth-Intermediate Position is attained as the user pulls and applies sufficient rotational force for further articulation of the Handle Body  0100  as depicted in  FIG. 1 . As shown in  FIG. 12 , the Blade  0600  is in a completely retracted position, permitting the Cover Plate Nail Engagement Receptacle  0040  to receive a nail or claw further into the Clipper Main Body Nail Engagement Receptacle  0060 . \\n         [0170]    As shown in  FIG. 12 , the Blade Holder  0570  is in the completely-refracted position and the Trigger Ball Bearing  0810  is off the Stopper  0700 . The Stopper  0700  remains in a rotated up position around the axis of the Stopper Pivot Pin  0710 . \\n         [0171]    As shown in  FIG. 12 , the Trigger Assembly remains in a ready position, with a space cavity underneath between it and the top of the Trigger Main Body  0800  within the Clipper Main Body Nail Engagement Receptacle  0050 , permitting downward movement of the Depth Adjuster  0900 . \\n         [0172]    The Handle Return  0440  continues to push the Pushing Link  0460 . The Pushing Link  0460  continues to swing the handle open. During this process, the Stopper  0700  continues to travel under the Trigger Ball Bearing  0810  (See  FIG. 9 ) until it passes the Trigger Ball Bearing  0810  (See  FIG. 10 ). The Stopper Spring  0730  can then push the Stopper up until the Stopper Stop Pin  0750  hits the Stopper Stop Pin Notch  0765 . \\n         [0173]    At the same time, the Trigger Spring  0870  continues to swing the Trigger Assembly, clockwise (See  FIG. 10 ) until the front of the Trigger Assembly would stop against the Clipper Main Body Nail Engagement Receptacle  0060  area (See  FIGS. 10 ,  11 , and  12 ). At that point, the Trigger Ball Bearing  0810  and Stopper  0700  would be facing each other (head to head). \\n         [0174]    As shown in  FIG. 12 , the geometry of the Trigger Pivot Pin  0840 , Trigger Ball Bearing Pin  0820 , and Stopper Pivot Pin  0710  are crucial to facilitate movement of the clipper to the Fourth-Intermediate Position, such that if a straight line was drawn between the centers of the Trigger Pivot Pin  0840  and Stopper Pivot Pin  0710 , the center of the Trigger Ball Bearing  0810  would be slightly below that drawn straight line. This unique geometry means that if pressure was applied between the Stopper  0700  and Trigger Ball Bearing  0810 , that pressure would force the Trigger Assembly into a clockwise motion that forces the Trigger Main Body  0800  into remaining pressed against the Clipper Main Body  0050 . This same pressure also would force the Stopper  0700  to remain in an up position. By enabling the Handle Body  0100  to swing open, the Blade Holder Assembly is actually retracted backwards. The Blade  0600  then would allow access for the nail to be inserted to the Clipper Main Body Nail Engagement Receptacle  0060 . \\n         [0175]    With the Trigger Ball Bearing  0810  and Stopper  0700  against each other, the Blade Holder Assembly cannot be moved forward, but the Blade Spring  0535  can be compressed by squeezing the Handle Body  0100 , Squeezing the handle will cause the Rushing Link  0460  to go forward while the Blade Holder Assembly remains stationary. The Pushing Rod  0510  would slide inside the Rushing Link Rod Receptacle  0490 , As a result, the Blade Spring  0535  is further compressed (See  FIGS. 11 and 12 ). \\n       7) Fifth Intermediate Position: \\n     Details of Motion \\n       [0176]    The Fifth-Intermediate Position is attained as the user pulls and applies sufficient rotational force for further articulation of the Handle Body  0100  as depicted in  FIG. 1 . As shown in  FIG. 13 , the Blade  0600  is in a completely retracted position, permitting the Cover Plate Nail Engagement Receptacle  0040  to receive a nail or claw further into the Clipper Main Body Nail Engagement Receptacle  0060 . \\n         [0177]    As shown in  FIG. 13 , the Blade Holder  0570  is in the completely-refracted position and the Trigger Ball Bearing  0810  is off the Stopper  0700 . The Stopper  0700  remains in a rotated up position around the axis of the Stopper Pivot Pin  0710 . \\n         [0178]    As shown in  FIG. 13 , the Depth Adjuster  0900  is partially depressed to a first position, reducing the space cavity underneath between it and the top of the Trigger Main Body  0800  within the Clipper Main Body Nail Engagement Receptacle  0060 , yet permitting additional downward movement of the Depth Adjuster  0900 . \\n         [0179]    The Handle Return Spring  0440  pushes the Pushing Link  0460 . The Pushing Link  0460  swings the handle open. During this process, the Stopper  0700  travels under the Trigger Ball Bearing  0810  (See  FIG. 9 ) until it passes the Trigger Ball Bearing  0810  (See  FIG. 10 ). The Stopper Spring  0730  can then push the Stopper  0700  up until the Stopper Stop Pin  0750  hits the Stopper Stop Pin Notch  0765 . \\n         [0180]    At the same time, the Trigger Spring  0870  swings the Trigger Assembly clockwise (See  FIG. 10 ). The front of the Trigger Assembly is now stopped against the Clipper Main Body Nail Engagement Receptacle  0060  area (See  FIGS. 10 ,  11  and  12 ). Now the Trigger Ball Bearing  0810  and Stopper  0700  are facing each other (head to head). \\n         [0181]    As shown in  FIG. 13 , the geometry of the Trigger Pivot Pin  0840 , Trigger Ball Bearing Pin  0820 , and Stopper Pivot Pin  0710  are crucial to facilitate movement of the clipper to the Fifth-Intermediate Position, such that if a straight line was drawn between the centers of the Trigger Pivot Pin  0840  and Stopper Pivot Pin  0710 , the center of the Trigger Ball Bearing  0810  would be inline with that drawn straight line. This unique geometry means that if pressure was applied between the Stopper  0700  and Trigger Ball Bearing  0810 , that pressure would force the Trigger Assembly into a clockwise motion that forces the Trigger Main Body  0800  into remaining pressed against the Clipper Main Body  0050 . This same pressure also would force the Stopper  0700  to remain in an up position. By enabling the Handle Body  0100  to swing open, the Blade Holder Assembly is actually retracted backwards. The Blade  0600  then would allow access for the nail to be inserted to the Clipper Main Body Nail Engagement Receptacle  0060 . \\n         [0182]    With the Trigger Ball Bearing  0810  and Stopper  0700  against each other, the Blade Holder Assembly cannot be moved forward, but the Blade Spring  0535  can be compressed by squeezing the Handle Body  0100 . Squeezing the Handle Body  0100  causes the Pushing Link  0460  to go forward while the Blade Holder Assembly remains stationary. The Pushing Rod  0510  slides inside the Pushing Link Rod Receptacle  0490 . As a result, the Blade Spring  0535  is completely compressed (See  FIGS. 11 and 12 ). \\n       8) Sixth Intermediate Position: \\n     Details of Motion \\n       [0183]    The Sixth-Intermediate Position is attained when as shown in  FIG. 14 , the Blade  0600  is released, closing to a partially refracted position. The Blade  600  begins to engage a nail or claw inside the Clipper Main Body Nail Engagement Receptacle  0060 . \\n         [0184]    As shown in  FIG. 14 , the Blade Holder  0570  is in a partially-retracted position and the Trigger Ball Bearing  0810  reengages to rest upon the Stopper  0700  in a second position. \\n         [0185]    As shown in  FIG. 14 , the Depth Adjuster  0900  is fully depressed to a second position. \\n         [0186]    The insertion of a nail or claw into the Clipper Main Body Nail Engagement Receptacle  0060 , to a sufficient depth based on the adjustable setting of the Depth Adjustment Screw  0910 , causes the nail or claw to make contact with the Depth Adjuster  0900 . Pressure against the Depth Adjuster  0900  causes the Trigger Assembly to rotate counter clockwise (See  FIG. 13 ). The Trigger Ball Bearing  0810  travels up until it finds itself above the Stopper  0700  (See  FIG. 14 ). Now, the loaded. Blade Holder Assembly shoots forward (See  FIGS. 14 and 15 ) and the Blade  0600  cuts the nail. \\n       9) Final Position: \\n     Details of Motion \\n       [0187]    The Final Position is attained when as shown in  FIG. 15 , the Blade  0600  is released, closing to a non-refracted position. The Blade  0600  has completely engaged a nail or claw inside the Clipper Main Body Nail Engagement Receptacle  0060 . \\n         [0188]    As shown in  FIG. 15 , the Blade Holder  0570  is in a non-refracted position and the Trigger Ball Bearing  0810  reengages to rest upon the Stopper  0700  in a first position. \\n         [0189]    As shown in  FIG. 15 , the Depth Adjuster  0900  remains fully depressed to a second position. \\n         [0190]    After the loaded Blade Holder Assembly shoots forward (See  FIGS. 14 and 15 ) and the nail or claw is cut, the nail or claw is contained inside the Nail Engagement Receptacle between the Depth Adjuster  0900  and the Blade  0600 . Once fired, the Handle Return Spring  0440  allows the handle to retract, and the Blade Holder Assembly retracts. The cut nail or claw can be removed from the Clipper Main Body Nail Engagement Receptacle  0060  through inversion of the entire apparatus. The apparatus is then ready for another cycle that can be repeated very quickly (at about 2 second increments if necessary), or the user may adjust the desired cutting length by rotating the Depth Adjustment Screw  0910  as necessary before repetition. \\n         [0191]    As required, detailed embodiments of the present invention are disclosed herein; however, it is to be understood that the disclosed embodiments are merely exemplary of the invention, which can be embodied in various forms. Therefore, specific structural and functional details disclosed herein are not to be interpreted as limiting, but merely as a basis for the claims and as a representative basis for teaching one skilled in the art to variously employ the present invention in virtually any appropriately detailed structure. Further, the terms and phrases used herein are not intended to be limiting; but rather, to provide an understandable description of the invention. \\n         [0192]    The terms “a” or “an”, as used herein, are defined as one or more than one. The term plurality, as used herein, is defined as two or more than two. The term another, as used herein, is defined as at least a second or more. The terms including and/or having, as used herein, are defined as comprising (i.e., open language). The term coupled, as used herein, is defined as connected, although not necessarily directly, and not necessarily mechanically. \\n         [0193]    Any element in a claim that does not explicitly state “means for” performing a specific function, or “step for” performing a specific function, is not be interpreted as a “means” or “step” clause as specified in 35 U.S.C. Sec. 112, Paragraph 6. In particular, any use of “step of” in the claims herein is not intended to invoke the provisions of 35 U.S.C. Sec. 112, Paragraph 6.'})\n"
     ]
    }
   ],
   "source": [
    "# test\n",
    "print( list(data.items())[2] )"
   ]
  },
  {
   "cell_type": "markdown",
   "metadata": {},
   "source": [
    "## Add 'cited' and 'citedby'"
   ]
  },
  {
   "cell_type": "code",
   "execution_count": 102,
   "metadata": {
    "collapsed": true
   },
   "outputs": [],
   "source": [
    "def countplusone( d, key ):\n",
    "    if key in d:\n",
    "        d[ key ]+=1\n",
    "    else:\n",
    "        d[ key ] = 1"
   ]
  },
  {
   "cell_type": "code",
   "execution_count": 103,
   "metadata": {},
   "outputs": [
    {
     "name": "stdout",
     "output_type": "stream",
     "text": [
      "1086\n"
     ]
    }
   ],
   "source": [
    "# init\n",
    "ghost = {}\n",
    "\n",
    "for entry in data.values():\n",
    "    entry['cited'] = []\n",
    "    entry['citedby'] = []\n",
    "    \n",
    "# loop\n",
    "for patent_number, entry in data.items():\n",
    "    \n",
    "    cited_number_list = [ c['patent_number'] for c in entry['citation']  ]\n",
    "    \n",
    "    for cited_number in cited_number_list:\n",
    "        if cited_number in data:\n",
    "            entry['cited'].append( cited_number )\n",
    "            data[ cited_number ]['citedby'].append( patent_number )\n",
    "        else:\n",
    "            countplusone( ghost, cited_number ) \n",
    "            \n",
    "    \n",
    "    \n",
    "print( len(ghost) )"
   ]
  },
  {
   "cell_type": "code",
   "execution_count": 104,
   "metadata": {
    "collapsed": true
   },
   "outputs": [],
   "source": [
    "pickle.dump( data, open('web/data/patent_infos.pickle','wb') )"
   ]
  },
  {
   "cell_type": "code",
   "execution_count": 78,
   "metadata": {},
   "outputs": [
    {
     "name": "stdout",
     "output_type": "stream",
     "text": [
      "['US5727318', 'US20090223055']\n"
     ]
    }
   ],
   "source": [
    "# test\n",
    "print( list(data.values())[2]['cited'] )"
   ]
  },
  {
   "cell_type": "code",
   "execution_count": null,
   "metadata": {
    "collapsed": true
   },
   "outputs": [],
   "source": []
  }
 ],
 "metadata": {
  "kernelspec": {
   "display_name": "Python 3",
   "language": "python",
   "name": "python3"
  },
  "language_info": {
   "codemirror_mode": {
    "name": "ipython",
    "version": 3
   },
   "file_extension": ".py",
   "mimetype": "text/x-python",
   "name": "python",
   "nbconvert_exporter": "python",
   "pygments_lexer": "ipython3",
   "version": "3.5.2"
  }
 },
 "nbformat": 4,
 "nbformat_minor": 2
}
