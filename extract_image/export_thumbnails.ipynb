{
 "cells": [
  {
   "cell_type": "code",
   "execution_count": 526,
   "metadata": {},
   "outputs": [],
   "source": [
    "from wand.image import Image\n",
    "\n",
    "import matplotlib.pyplot as plt\n",
    "%matplotlib inline\n",
    "\n",
    "import os"
   ]
  },
  {
   "cell_type": "markdown",
   "metadata": {},
   "source": [
    "# Find and select images"
   ]
  },
  {
   "cell_type": "code",
   "execution_count": 527,
   "metadata": {},
   "outputs": [
    {
     "name": "stdout",
     "output_type": "stream",
     "text": [
      "nombre total de figures : 3361\n"
     ]
    }
   ],
   "source": [
    "FIGURESDIR = 'figures_extracted/'\n",
    "THUMBNAILSDIR = 'thumbnails/'\n",
    "\n",
    "allfigures = os.listdir(FIGURESDIR)\n",
    "print( 'nombre total de figures : %i' % len(allfigures) )"
   ]
  },
  {
   "cell_type": "code",
   "execution_count": 528,
   "metadata": {},
   "outputs": [
    {
     "name": "stdout",
     "output_type": "stream",
     "text": [
      "nombre de figures n°0 : 376\n"
     ]
    }
   ],
   "source": [
    "figuresToResize = [ i for i in allfigures if i.endswith( 'fig0.png' ) ]\n",
    "print( 'nombre de figures n°0 : %i' %len(figuresToResize))"
   ]
  },
  {
   "cell_type": "markdown",
   "metadata": {},
   "source": [
    "# Resize\n"
   ]
  },
  {
   "cell_type": "code",
   "execution_count": 529,
   "metadata": {},
   "outputs": [],
   "source": [
    "def newsize( maxsize, oldsize ):\n",
    "    w, h = oldsize\n",
    "    newW = int( min(maxsize, w*maxsize/h) )\n",
    "    newH = int( min(maxsize, h*maxsize/w) )\n",
    "    \n",
    "    return newW, newH\n",
    "\n",
    "def resize( imgname, finalsize=120 ):\n",
    "    thumbnail_name = imgname.replace('fig0', 'thumbnail')\n",
    "    \n",
    "    with Image(filename = FIGURESDIR+imgname ) as img:\n",
    "\n",
    "        with img.clone() as thumb:\n",
    "            thumb.resize( *newsize( maxsize, img.size ), blur=1, filter='sinc' )\n",
    "            thumb.contrast_stretch(black_point=0.012, white_point=1)\n",
    "\n",
    "            thumb.format = 'png8'\n",
    "            thumb.save( filename = THUMBNAILSDIR + thumbnail_name )"
   ]
  },
  {
   "cell_type": "code",
   "execution_count": 530,
   "metadata": {},
   "outputs": [],
   "source": [
    "resize( imgname )"
   ]
  },
  {
   "cell_type": "markdown",
   "metadata": {},
   "source": [
    "# Loop"
   ]
  },
  {
   "cell_type": "code",
   "execution_count": 531,
   "metadata": {},
   "outputs": [
    {
     "name": "stdout",
     "output_type": "stream",
     "text": [
      "375 / 375\r"
     ]
    }
   ],
   "source": [
    "for k, imgname in enumerate( figuresToResize ):\n",
    "    \n",
    "    resize( imgname )\n",
    "    \n",
    "    print(  '%i / %i' % (k+1, len(figuresToResize)) , end='\\r' )\n",
    "    "
   ]
  },
  {
   "cell_type": "markdown",
   "metadata": {},
   "source": [
    "# debug"
   ]
  },
  {
   "cell_type": "code",
   "execution_count": 524,
   "metadata": {},
   "outputs": [],
   "source": [
    "imgname = figuresToResize[28]\n",
    "\n",
    "maxsize = 130"
   ]
  },
  {
   "cell_type": "code",
   "execution_count": 120,
   "metadata": {},
   "outputs": [
    {
     "data": {
      "text/plain": [
       "'US2890706-thumbnail.png'"
      ]
     },
     "execution_count": 120,
     "metadata": {},
     "output_type": "execute_result"
    }
   ],
   "source": [
    "thumbnail_name = imgname.replace('fig0', 'thumbnail')\n",
    "thumbnail_name"
   ]
  },
  {
   "cell_type": "code",
   "execution_count": 121,
   "metadata": {},
   "outputs": [],
   "source": [
    "def newsize( maxsize, oldsize ):\n",
    "    w, h = oldsize\n",
    "    newW = int( min(maxsize, w*maxsize/h) )\n",
    "    newH = int( min(maxsize, h*maxsize/w) )\n",
    "    \n",
    "    return newW, newH"
   ]
  },
  {
   "cell_type": "code",
   "execution_count": 122,
   "metadata": {},
   "outputs": [],
   "source": [
    "thumbnail_name = imgname.replace('fig0', 'thumbnail')"
   ]
  },
  {
   "cell_type": "code",
   "execution_count": 123,
   "metadata": {},
   "outputs": [
    {
     "data": {
      "image/png": "[encoded data removed]",
      "text/plain": [
       "<wand.image.Image: 1f24f61 'PNG' (856x273)>"
      ]
     },
     "execution_count": 123,
     "metadata": {},
     "output_type": "execute_result"
    }
   ],
   "source": [
    "img = Image(filename = FIGURESDIR+imgname )\n",
    "img"
   ]
  },
  {
   "cell_type": "code",
   "execution_count": 124,
   "metadata": {},
   "outputs": [
    {
     "data": {
      "image/png": "[encoded data removed]",
      "text/plain": [
       "<wand.image.Image: c4f3fe2 'PNG8' (130x41)>"
      ]
     },
     "execution_count": 124,
     "metadata": {},
     "output_type": "execute_result"
    }
   ],
   "source": [
    "thumb = img.clone()\n",
    "thumb.resize( *newsize( maxsize, img.size ), blur=1 )\n",
    "thumb.format = 'png8'\n",
    "thumb"
   ]
  },
  {
   "cell_type": "code",
   "execution_count": 125,
   "metadata": {},
   "outputs": [
    {
     "data": {
      "image/png": "[encoded data removed]",
      "text/plain": [
       "<wand.image.Image: ab3fe68 'PNG8' (130x41)>"
      ]
     },
     "execution_count": 125,
     "metadata": {},
     "output_type": "execute_result"
    }
   ],
   "source": [
    "thumb = img.clone()\n",
    "thumb.resize( *newsize( maxsize, img.size ), blur=1, filter='sinc' )\n",
    "thumb.format = 'png8'\n",
    "thumb"
   ]
  },
  {
   "cell_type": "code",
   "execution_count": 315,
   "metadata": {},
   "outputs": [
    {
     "data": {
      "image/png": "[encoded data removed]",
      "text/plain": [
       "<wand.image.Image: a46bd51 'PNG' (130x41)>"
      ]
     },
     "execution_count": 315,
     "metadata": {},
     "output_type": "execute_result"
    }
   ],
   "source": [
    "thumb = img.clone()\n",
    "thumb.resize( *newsize( maxsize, img.size ), blur=1, filter='sinc' )\n",
    "#thumb.format = 'png8'\n",
    "thumb.contrast_stretch(black_point=0.012, white_point=1)\n",
    "thumb\n"
   ]
  },
  {
   "cell_type": "code",
   "execution_count": 316,
   "metadata": {},
   "outputs": [
    {
     "data": {
      "image/png": "[encoded data removed]",
      "text/plain": [
       "<wand.image.Image: ab3fe68 'PNG' (130x41)>"
      ]
     },
     "execution_count": 316,
     "metadata": {},
     "output_type": "execute_result"
    }
   ],
   "source": [
    "thumb = img.clone()\n",
    "thumb.resize( *newsize( maxsize, img.size ), blur=1, filter='sinc' )\n",
    "#thumb.format = 'png8'\n",
    "thumb.contrast_stretch()\n",
    "thumb"
   ]
  },
  {
   "cell_type": "code",
   "execution_count": 104,
   "metadata": {},
   "outputs": [
    {
     "data": {
      "image/png": "[encoded data removed]",
      "text/plain": [
       "<wand.image.Image: 18138b0 'PNG8' (96x130)>"
      ]
     },
     "execution_count": 104,
     "metadata": {},
     "output_type": "execute_result"
    }
   ],
   "source": [
    "thumb = img.clone()\n",
    "thumb.resize( *newsize( maxsize, img.size ), blur=1, filter='parzen' )\n",
    "thumb.format = 'png8'\n",
    "thumb"
   ]
  },
  {
   "cell_type": "markdown",
   "metadata": {},
   "source": [
    "        sinc: good\n",
    "        lanczossharp : yes\n",
    "        cosine: yes\n",
    "        \n",
    "        lanczos2sharp : no but ggo\n",
    "        mitchell: no\n",
    "        quadratic: no\n",
    "        cubic: no\n",
    "        robidouxsharp : no\n",
    "        jinc: no\n",
    "        catrom, hermite: no\n",
    "        point, box, triangle: no\n",
    "        hanning : no\n",
    "        hamming : no\n",
    "        blackman: no\n",
    "        gaussian: no\n",
    "        kaiser, welsh: no\n",
    "        parzen: no, but good\n",
    "        bartlett : no\n",
    "        sentinel : no"
   ]
  },
  {
   "cell_type": "code",
   "execution_count": 161,
   "metadata": {},
   "outputs": [],
   "source": [
    "from wand.color import Color"
   ]
  },
  {
   "cell_type": "markdown",
   "metadata": {},
   "source": [
    "http://docs.wand-py.org/en/stable/wand/image.html?highlight=mask\n",
    "\n",
    "http://www.imagemagick.org/Usage/masking/#alpha_shape"
   ]
  },
  {
   "cell_type": "code",
   "execution_count": 515,
   "metadata": {},
   "outputs": [
    {
     "data": {
      "image/png": "[encoded data removed]",
      "text/plain": [
       "<wand.image.Image: ab3fe68 'PNG' (130x41)>"
      ]
     },
     "execution_count": 515,
     "metadata": {},
     "output_type": "execute_result"
    }
   ],
   "source": [
    "thumb = img.clone()\n",
    "thumb.resize( *newsize( maxsize, img.size ), blur=1, filter='sinc' )\n",
    "#thumb.format = 'png8'\n",
    "#thumb.contrast_stretch()\n",
    "thumb"
   ]
  },
  {
   "cell_type": "code",
   "execution_count": 516,
   "metadata": {},
   "outputs": [],
   "source": [
    "thumb.alpha_channel = 'shape'"
   ]
  },
  {
   "cell_type": "code",
   "execution_count": 517,
   "metadata": {},
   "outputs": [],
   "source": [
    "thumb.negate( channel='alpha', grayscale=True )"
   ]
  },
  {
   "cell_type": "code",
   "execution_count": 518,
   "metadata": {},
   "outputs": [
    {
     "data": {
      "image/png": "[encoded data removed]",
      "text/plain": [
       "<wand.image.Image: 024cfa1 'PNG' (130x41)>"
      ]
     },
     "execution_count": 518,
     "metadata": {},
     "output_type": "execute_result"
    }
   ],
   "source": [
    "thumb"
   ]
  },
  {
   "cell_type": "code",
   "execution_count": 519,
   "metadata": {},
   "outputs": [
    {
     "data": {
      "image/png": "[encoded data removed]",
      "text/plain": [
       "<wand.image.Image: ab3fe68 'PNG' (130x41)>"
      ]
     },
     "execution_count": 519,
     "metadata": {},
     "output_type": "execute_result"
    }
   ],
   "source": [
    "thumb.channel_images['alpha']"
   ]
  },
  {
   "cell_type": "code",
   "execution_count": 520,
   "metadata": {},
   "outputs": [
    {
     "data": {
      "image/png": "[encoded data removed]",
      "text/plain": [
       "<wand.image.Image: fe256d0 'PNG' (130x41)>"
      ]
     },
     "execution_count": 520,
     "metadata": {},
     "output_type": "execute_result"
    }
   ],
   "source": [
    "thumb.channel_images['gray']"
   ]
  },
  {
   "cell_type": "code",
   "execution_count": 502,
   "metadata": {},
   "outputs": [
    {
     "data": {
      "text/plain": [
       "'grayscalematte'"
      ]
     },
     "execution_count": 502,
     "metadata": {},
     "output_type": "execute_result"
    }
   ],
   "source": [
    "thumb.type"
   ]
  },
  {
   "cell_type": "code",
   "execution_count": 340,
   "metadata": {},
   "outputs": [],
   "source": [
    "thumb.composite_channel(operator='copy', image=thumb.channel_images['gray'], channel='alpha')"
   ]
  },
  {
   "cell_type": "code",
   "execution_count": 329,
   "metadata": {},
   "outputs": [],
   "source": [
    "thumb.type = 'truecolormatte'"
   ]
  },
  {
   "cell_type": "code",
   "execution_count": 330,
   "metadata": {},
   "outputs": [
    {
     "data": {
      "text/html": [
       "\n",
       "        <span style=\"background-color:#000000;\n",
       "                     display:inline-block;\n",
       "                     line-height:1em;\n",
       "                     width:1em;\">&nbsp;</span>\n",
       "        <strong>#000000</strong>\n",
       "        "
      ],
      "text/plain": [
       "wand.color.Color('srgb(0,0,0)')"
      ]
     },
     "execution_count": 330,
     "metadata": {},
     "output_type": "execute_result"
    }
   ],
   "source": [
    "thumb.background_color = Color( 'black' )\n",
    "thumb.background_color"
   ]
  },
  {
   "cell_type": "code",
   "execution_count": 331,
   "metadata": {},
   "outputs": [],
   "source": [
    "#thumb.negate()"
   ]
  },
  {
   "cell_type": "code",
   "execution_count": 332,
   "metadata": {},
   "outputs": [],
   "source": [
    "thumb.alpha_channel = 'shape'"
   ]
  },
  {
   "cell_type": "code",
   "execution_count": 341,
   "metadata": {},
   "outputs": [],
   "source": [
    "thumb.negate( channel='alpha' )"
   ]
  },
  {
   "cell_type": "code",
   "execution_count": 342,
   "metadata": {},
   "outputs": [
    {
     "data": {
      "image/png": "[encoded data removed]",
      "text/plain": [
       "<wand.image.Image: 6fad6c2 'PNG' (130x41)>"
      ]
     },
     "execution_count": 342,
     "metadata": {},
     "output_type": "execute_result"
    }
   ],
   "source": [
    "thumb"
   ]
  },
  {
   "cell_type": "code",
   "execution_count": 220,
   "metadata": {},
   "outputs": [],
   "source": [
    "thumb.matte_color = Color( 'black' )"
   ]
  },
  {
   "cell_type": "code",
   "execution_count": 343,
   "metadata": {},
   "outputs": [
    {
     "data": {
      "image/png": "[encoded data removed]",
      "text/plain": [
       "<wand.image.Image: ab3fe68 'PNG' (130x41)>"
      ]
     },
     "execution_count": 343,
     "metadata": {},
     "output_type": "execute_result"
    }
   ],
   "source": [
    "thumb = img.clone()\n",
    "thumb.resize( *newsize( maxsize, img.size ), blur=1, filter='sinc' )\n",
    "#thumb.format = 'png8'\n",
    "thumb.contrast_stretch()\n",
    "thumb"
   ]
  },
  {
   "cell_type": "code",
   "execution_count": 317,
   "metadata": {},
   "outputs": [
    {
     "ename": "TypeError",
     "evalue": "'ChannelImageDict' object does not support item assignment",
     "output_type": "error",
     "traceback": [
      "\u001b[0;31m---------------------------------------------------------------------------\u001b[0m",
      "\u001b[0;31mTypeError\u001b[0m                                 Traceback (most recent call last)",
      "\u001b[0;32m<ipython-input-317-0e995f8a59f5>\u001b[0m in \u001b[0;36m<module>\u001b[0;34m()\u001b[0m\n\u001b[0;32m----> 1\u001b[0;31m \u001b[0mthumb\u001b[0m\u001b[0;34m.\u001b[0m\u001b[0mchannel_images\u001b[0m\u001b[0;34m[\u001b[0m\u001b[0;34m'alpha'\u001b[0m\u001b[0;34m]\u001b[0m \u001b[0;34m=\u001b[0m \u001b[0mthumb\u001b[0m\u001b[0;34m.\u001b[0m\u001b[0mchannel_images\u001b[0m\u001b[0;34m[\u001b[0m\u001b[0;34m'gray'\u001b[0m\u001b[0;34m]\u001b[0m\u001b[0;34m\u001b[0m\u001b[0m\n\u001b[0m",
      "\u001b[0;31mTypeError\u001b[0m: 'ChannelImageDict' object does not support item assignment"
     ]
    }
   ],
   "source": [
    "thumb.channel_images['alpha'].composthumb.composite_channel(operator='copy',\n",
    "                            image=thumb.channel_images['gray'], channel='alpha')"
   ]
  },
  {
   "cell_type": "code",
   "execution_count": 305,
   "metadata": {},
   "outputs": [
    {
     "data": {
      "text/plain": [
       "['red',\n",
       " 'cyan',\n",
       " 'gray_channels',\n",
       " 'true_alpha',\n",
       " 'black',\n",
       " 'magenta',\n",
       " 'rgb_channels',\n",
       " 'composite_channels',\n",
       " 'alpha',\n",
       " 'yellow',\n",
       " 'undefined',\n",
       " 'index',\n",
       " 'all_channels',\n",
       " 'sync_channels',\n",
       " 'gray',\n",
       " 'green',\n",
       " 'opacity',\n",
       " 'default_channels',\n",
       " 'blue']"
      ]
     },
     "execution_count": 305,
     "metadata": {},
     "output_type": "execute_result"
    }
   ],
   "source": [
    "list( thumb.channel_images.keys() )"
   ]
  },
  {
   "cell_type": "code",
   "execution_count": 320,
   "metadata": {},
   "outputs": [
    {
     "data": {
      "image/png": "[encoded data removed]",
      "text/plain": [
       "<wand.image.Image: ab3fe68 'PNG' (130x41)>"
      ]
     },
     "execution_count": 320,
     "metadata": {},
     "output_type": "execute_result"
    }
   ],
   "source": [
    "thumb.channel_images['red']"
   ]
  },
  {
   "cell_type": "code",
   "execution_count": 318,
   "metadata": {},
   "outputs": [],
   "source": [
    "thumb.type = 'truecolor'"
   ]
  },
  {
   "cell_type": "code",
   "execution_count": null,
   "metadata": {},
   "outputs": [],
   "source": []
  }
 ],
 "metadata": {
  "kernelspec": {
   "display_name": "Python 3",
   "language": "python",
   "name": "python3"
  },
  "language_info": {
   "codemirror_mode": {
    "name": "ipython",
    "version": 3
   },
   "file_extension": ".py",
   "mimetype": "text/x-python",
   "name": "python",
   "nbconvert_exporter": "python",
   "pygments_lexer": "ipython3",
   "version": "3.5.2"
  }
 },
 "nbformat": 4,
 "nbformat_minor": 2
}
