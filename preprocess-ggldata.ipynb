{
 "cells": [
  {
   "cell_type": "markdown",
   "metadata": {},
   "source": [
    "# Pré-traitement des données 'Google'\n",
    "\n",
    "* requète sur `BigQuerry`:\n",
    "        /* 26Go proceceed */\n",
    "\n",
    "        #standardSQL\n",
    "\n",
    "        SELECT\n",
    "          root.publication_number,\n",
    "          publication_date,\n",
    "          root.title_localized,\n",
    "          root.cpc,\n",
    "          root.citation\n",
    "        FROM\n",
    "          `patents-public-data.patents.publications` root,\n",
    "          UNNEST( cpc ) AS cpc\n",
    "        WHERE \n",
    "         cpc.code like 'A45D29/02' and\n",
    "         country_code = 'US'\n",
    "        LIMIT\n",
    "          1000"
   ]
  },
  {
   "cell_type": "code",
   "execution_count": 1,
   "metadata": {},
   "outputs": [],
   "source": [
    "import json\n",
    "import pickle"
   ]
  },
  {
   "cell_type": "code",
   "execution_count": 4,
   "metadata": {},
   "outputs": [],
   "source": [
    "import datetime as dt"
   ]
  },
  {
   "cell_type": "code",
   "execution_count": 127,
   "metadata": {},
   "outputs": [
    {
     "name": "stdout",
     "output_type": "stream",
     "text": [
      "408\n"
     ]
    }
   ],
   "source": [
    "# load the data\n",
    "file_path = './data/fulldata_gglBigQuery.json'\n",
    "\n",
    "data_brut = []\n",
    "with open(file_path) as f:\n",
    "    for line in f:\n",
    "        entry = json.loads(line)\n",
    "        data_brut.append( entry )\n",
    "        \n",
    "print( len(data_brut) )"
   ]
  },
  {
   "cell_type": "code",
   "execution_count": 128,
   "metadata": {},
   "outputs": [
    {
     "name": "stdout",
     "output_type": "stream",
     "text": [
      "dict_keys(['cpc', 'description_localized', 'assignee_harmonized', 'publication_date', 'inventor_harmonized', 'citation', 'priority_claim', 'title_localized', 'publication_number', 'abstract_localized'])\n"
     ]
    }
   ],
   "source": [
    "print( data_brut[10].keys() )"
   ]
  },
  {
   "cell_type": "markdown",
   "metadata": {},
   "source": [
    "## Créer un dictionnaire { patent_number : infos, ... }"
   ]
  },
  {
   "cell_type": "code",
   "execution_count": 129,
   "metadata": {
    "collapsed": true
   },
   "outputs": [],
   "source": [
    "# formate le numéro de brevet (pour ggl):\n",
    "# 6 ou 7 digits\n",
    "# ou l'année + 7 digits\n",
    "# si on trouve année+6digits ce n'est pas bon\n",
    "\n",
    "# voir: https://www.uspto.gov/patents-application-process/applying-online/patent-number\n",
    "# http://www.bpmlegal.com/howtopat1.html\n",
    "\n",
    "def format_patentnumber( pubnumber ):\n",
    "    \n",
    "    number = pubnumber.split('-')[1]\n",
    "    \n",
    "    if len( number ) > 7:  # en vrai ==10\n",
    "        number = number[0:4] + number[4:].zfill(7)\n",
    "\n",
    "    number = 'US' + number\n",
    "    \n",
    "    return number"
   ]
  },
  {
   "cell_type": "code",
   "execution_count": 130,
   "metadata": {},
   "outputs": [
    {
     "name": "stdout",
     "output_type": "stream",
     "text": [
      "379\n"
     ]
    }
   ],
   "source": [
    "data = {}\n",
    "k = 0  # debug\n",
    "for entry in data_brut:\n",
    "   \n",
    "    \n",
    "    pubnum = entry['publication_number']\n",
    "    patent_number = format_patentnumber( pubnum )\n",
    "    \n",
    "    if patent_number in data: # supprime les doublons\n",
    "        continue\n",
    "\n",
    "    new_entry = {}\n",
    "    \n",
    "    new_entry['publication_number_raw'] = pubnum\n",
    "    new_entry['patent_number'] = patent_number\n",
    "    \n",
    "    # date\n",
    "    new_entry['year'] = int(  entry['publication_date'][0:4] )   \n",
    "    new_entry['month'] = int( entry['publication_date'][4:6] )\n",
    "    new_entry['day'] = int(   entry['publication_date'][6:]  )\n",
    "    date = dt.date(new_entry['year'], new_entry['month'], new_entry['day'])\n",
    "    \n",
    "    new_entry['date_str'] = entry['publication_date']\n",
    "    new_entry['date_formatted'] = date.strftime( '%B %d, %Y' )\n",
    "    \n",
    "    # info\n",
    "    new_entry['title'] = entry['title_localized'][0]['text'].strip('.')\n",
    "    \n",
    "    # abstract\n",
    "    if len( entry['abstract_localized'] )>0:\n",
    "        new_entry['abstract'] = entry['abstract_localized'][0]['text']\n",
    "    else:\n",
    "        new_entry['abstract'] = ''\n",
    "        \n",
    "    # description text\n",
    "    if len( entry['description_localized'] )>0:\n",
    "        new_entry['description'] = entry['description_localized'][0]['text']\n",
    "    else:\n",
    "        new_entry['description'] = ''\n",
    "    \n",
    "    # inventor & assignee\n",
    "    new_entry['inventor'] = entry['inventor_harmonized']\n",
    "    new_entry['assignee'] = entry['assignee_harmonized']\n",
    "    \n",
    "    # citations :\n",
    "    citation = [] \n",
    "    for cit in entry['citation']:\n",
    "        if not cit['publication_number'] : continue\n",
    "        infos = {}\n",
    "        infos['publication_number_raw'] = cit['publication_number'] \n",
    "        infos['patent_number'] = format_patentnumber( cit['publication_number']  )\n",
    "\n",
    "        infos['category'] =  cit['category'] \n",
    "\n",
    "        citation.append( infos )\n",
    "        \n",
    "    new_entry['citation'] = citation\n",
    "\n",
    "    # CPC\n",
    "    new_entry['cpc'] = entry['cpc']\n",
    "    \n",
    "    # save\n",
    "    data[ patent_number ] = new_entry\n",
    "    \n",
    "    k+=1  # debug\n",
    "print(len(data))"
   ]
  },
  {
   "cell_type": "code",
   "execution_count": 131,
   "metadata": {},
   "outputs": [
    {
     "name": "stdout",
     "output_type": "stream",
     "text": [
      "dict_keys(['cpc', 'date_str', 'day', 'month', 'abstract', 'description', 'assignee', 'year', 'citation', 'inventor', 'publication_number_raw', 'date_formatted', 'patent_number', 'title'])\n"
     ]
    }
   ],
   "source": [
    "# test\n",
    "print( list(data.values())[2].keys() )"
   ]
  },
  {
   "cell_type": "markdown",
   "metadata": {},
   "source": [
    "## Mise en forme des noms"
   ]
  },
  {
   "cell_type": "code",
   "execution_count": 132,
   "metadata": {
    "collapsed": true
   },
   "outputs": [],
   "source": [
    "import re"
   ]
  },
  {
   "cell_type": "code",
   "execution_count": 133,
   "metadata": {
    "collapsed": true
   },
   "outputs": [],
   "source": [
    "def format_name( name ):\n",
    "    # ajoute le point pour une initiale (lettre seule)\n",
    "    singleletter = re.compile( r'\\b(?P<letter>[A-Z])(?!\\.)\\b' )\n",
    "    name = singleletter.sub('\\g<letter>.', name)\n",
    "\n",
    "    # passe en minuscule sauf premiere lettre\n",
    "    wordpattern = re.compile( r'\\b(?P<word>\\w+)\\b' )\n",
    "    titlefun = lambda match:  match.group('word').title()\n",
    "    name = wordpattern.sub(titlefun, name)\n",
    "\n",
    "    # JR -> Jr.\n",
    "    JRpattern = re.compile( r'\\b(?P<jr>JR)(?!\\.)\\b', re.I )\n",
    "    name = JRpattern.sub('Jr.', name)\n",
    "    \n",
    "    return name"
   ]
  },
  {
   "cell_type": "code",
   "execution_count": 134,
   "metadata": {},
   "outputs": [
    {
     "data": {
      "text/plain": [
       "'FRIEDMAN JR DAVID Jr. H hello B'"
      ]
     },
     "execution_count": 134,
     "metadata": {},
     "output_type": "execute_result"
    }
   ],
   "source": [
    "# test\n",
    "name = 'FRIEDMAN JR DAVID Jr. H hello B'\n",
    "format_name( name )\n",
    "name"
   ]
  },
  {
   "cell_type": "code",
   "execution_count": 135,
   "metadata": {
    "collapsed": true
   },
   "outputs": [],
   "source": [
    "# pour les inventeurs:\n",
    "for e in data.values():\n",
    "    for i in e['inventor']:\n",
    "        i['name_formatted'] = format_name( i['name'] )"
   ]
  },
  {
   "cell_type": "code",
   "execution_count": 136,
   "metadata": {
    "collapsed": true
   },
   "outputs": [],
   "source": [
    "# pour les 'assignees':\n",
    "for e in data.values():\n",
    "    for i in e['assignee']:\n",
    "        i['name_formatted'] = format_name( i['name'] )"
   ]
  },
  {
   "cell_type": "markdown",
   "metadata": {},
   "source": [
    "## Ajoute les entrées : 'cited' and 'citedby'"
   ]
  },
  {
   "cell_type": "code",
   "execution_count": 137,
   "metadata": {
    "collapsed": true
   },
   "outputs": [],
   "source": [
    "def countplusone( d, key ):\n",
    "    # compte les occurences \n",
    "    if key in d:\n",
    "        d[ key ]+=1\n",
    "    else:\n",
    "        d[ key ] = 1"
   ]
  },
  {
   "cell_type": "code",
   "execution_count": 138,
   "metadata": {},
   "outputs": [
    {
     "name": "stdout",
     "output_type": "stream",
     "text": [
      "1086\n"
     ]
    }
   ],
   "source": [
    "# init\n",
    "ghost = {}\n",
    "\n",
    "for entry in data.values():\n",
    "    entry['cited'] = []\n",
    "    entry['citedby'] = []\n",
    "    \n",
    "# loop\n",
    "for patent_number, entry in data.items():\n",
    "    \n",
    "    cited_number_list = [ c['patent_number'] for c in entry['citation']  ]\n",
    "    \n",
    "    for cited_number in cited_number_list:\n",
    "        if cited_number in data:\n",
    "            entry['cited'].append( cited_number )\n",
    "            data[ cited_number ]['citedby'].append( patent_number )\n",
    "        else:\n",
    "            countplusone( ghost, cited_number ) \n",
    "            \n",
    "    \n",
    "print( len(ghost) )  # nombre des brevets cités mais non dans DATA"
   ]
  },
  {
   "cell_type": "code",
   "execution_count": 139,
   "metadata": {},
   "outputs": [
    {
     "name": "stdout",
     "output_type": "stream",
     "text": [
      "[('US6220251', 17), ('US5546658', 16), ('US3744131', 16), ('US3838507', 15), ('US6523545', 14), ('US5392518', 14), ('US3903596', 14), ('US2955354', 13), ('US4856190', 12), ('US4196514', 12)]\n"
     ]
    }
   ],
   "source": [
    "# Statistique des brevets 'ghost'\n",
    "print( sorted( ghost.items(), key= lambda x:x[1], reverse = True)[:10] )"
   ]
  },
  {
   "cell_type": "code",
   "execution_count": 140,
   "metadata": {},
   "outputs": [
    {
     "name": "stdout",
     "output_type": "stream",
     "text": [
      "['US6553592', 'US20040123875', 'US7131448', 'US7263775']\n"
     ]
    }
   ],
   "source": [
    "# test\n",
    "print( list(data.values())[2]['cited'] )"
   ]
  },
  {
   "cell_type": "code",
   "execution_count": 141,
   "metadata": {
    "collapsed": true
   },
   "outputs": [],
   "source": [
    "pickle.dump( data, open('web/data/patent_infos.pickle','wb') )"
   ]
  },
  {
   "cell_type": "markdown",
   "metadata": {},
   "source": [
    "## Cherche les images existantes  et enregistre les meta-données"
   ]
  },
  {
   "cell_type": "code",
   "execution_count": 142,
   "metadata": {
    "collapsed": true
   },
   "outputs": [],
   "source": [
    "import os\n",
    "import re"
   ]
  },
  {
   "cell_type": "code",
   "execution_count": 143,
   "metadata": {},
   "outputs": [
    {
     "name": "stdout",
     "output_type": "stream",
     "text": [
      "nombre de figures: 2586\n"
     ]
    }
   ],
   "source": [
    "def patentid_from_figname( figname ):\n",
    "    return figname.split('-')[0]\n",
    " \n",
    "FIGURESDIR = 'web/static/figures_extracted/'\n",
    "FIGURESLIST =  os.listdir( FIGURESDIR )\n",
    "\n",
    "print('nombre de figures:', len(FIGURESLIST))"
   ]
  },
  {
   "cell_type": "code",
   "execution_count": 144,
   "metadata": {},
   "outputs": [
    {
     "data": {
      "text/plain": [
       "'US20060143923-fig18.png'"
      ]
     },
     "execution_count": 144,
     "metadata": {},
     "output_type": "execute_result"
    }
   ],
   "source": [
    "FIGURESLIST[0]"
   ]
  },
  {
   "cell_type": "code",
   "execution_count": 145,
   "metadata": {},
   "outputs": [
    {
     "name": "stdout",
     "output_type": "stream",
     "text": [
      "nombre de brevet hors DATA ayant une figure :  0\n"
     ]
    }
   ],
   "source": [
    "# init \n",
    "for entry in data.values():\n",
    "    entry['figures'] = []\n",
    "\n",
    "pattern = re.compile( r\"^(US[0-9RE]+)-fig([0-9]+).png$\" )\n",
    "\n",
    "# loop\n",
    "nopatentforfigure = {}\n",
    "for figname in FIGURESLIST:\n",
    "    matchs = pattern.match( figname )\n",
    "    if not matchs:\n",
    "        print( 'erreur %s' % figname )\n",
    "    else:\n",
    "        fignum = matchs.group(2)\n",
    "        patnum = matchs.group(1)\n",
    "        \n",
    "        figinfo = {'filename':figname, 'number':fignum}\n",
    "        \n",
    "        if patnum in data:\n",
    "            data[patnum]['figures'].append( figinfo )\n",
    "        else:\n",
    "            if patnum in nopatentforfigure:\n",
    "                nopatentforfigure[patnum].append( figinfo )\n",
    "            else:\n",
    "                nopatentforfigure[patnum] = [ figinfo ]\n",
    "                \n",
    "print('nombre de brevet hors DATA ayant une figure : ', len(nopatentforfigure))"
   ]
  },
  {
   "cell_type": "code",
   "execution_count": 146,
   "metadata": {},
   "outputs": [
    {
     "name": "stdout",
     "output_type": "stream",
     "text": [
      "nombre de brevets sans figures : 60\n"
     ]
    }
   ],
   "source": [
    "# Brevet sans figures :\n",
    "patentwithoutfigure = []\n",
    "for patnum, entry in data.items():\n",
    "    nfig = len( entry['figures'] )\n",
    "    if nfig == 0:\n",
    "        patentwithoutfigure.append( patnum )\n",
    "        \n",
    "print( 'nombre de brevets sans figures : %i'% len(patentwithoutfigure))\n",
    "\n",
    "# enregistre la liste - pour effectuer les traitements \n",
    "pickle.dump( data, open('extract_image/patentwithoutfigure.pickle','wb') )"
   ]
  },
  {
   "cell_type": "code",
   "execution_count": 147,
   "metadata": {
    "collapsed": true
   },
   "outputs": [],
   "source": [
    "# Trie les figures par numéro (à priori l'ordre d'aparition dans le brevet)\n",
    "\n",
    "for entry in data.values():\n",
    "    entry['figures'] = sorted(entry['figures'], key= lambda x: int( x['number'] ) )"
   ]
  },
  {
   "cell_type": "markdown",
   "metadata": {},
   "source": [
    "## Ajoute les dimensions de l'image"
   ]
  },
  {
   "cell_type": "code",
   "execution_count": 148,
   "metadata": {},
   "outputs": [],
   "source": [
    "from wand.image import Image"
   ]
  },
  {
   "cell_type": "code",
   "execution_count": 149,
   "metadata": {},
   "outputs": [],
   "source": [
    "def add_image_size( figure ):\n",
    "    filename = FIGURESDIR+figure['filename']\n",
    "\n",
    "    with Image(filename=filename) as img:\n",
    "        w, h = img.size\n",
    "\n",
    "    figure['width'] = w\n",
    "    figure['height'] = h"
   ]
  },
  {
   "cell_type": "code",
   "execution_count": 150,
   "metadata": {
    "collapsed": true
   },
   "outputs": [],
   "source": [
    "# -- Prends du temps ! -- \n",
    "for entry in data.values() :\n",
    "    for figure in entry['figures']:\n",
    "        add_image_size( figure )"
   ]
  },
  {
   "cell_type": "markdown",
   "metadata": {
    "collapsed": true
   },
   "source": [
    "# Ajoute la legende"
   ]
  },
  {
   "cell_type": "code",
   "execution_count": 1,
   "metadata": {},
   "outputs": [],
   "source": [
    "# -- DEBUG --\n",
    "import pickle\n",
    "data = pickle.load( open( \"web/data/patent_infos.pickle\", \"rb\" ) )"
   ]
  },
  {
   "cell_type": "code",
   "execution_count": 2,
   "metadata": {},
   "outputs": [],
   "source": [
    "from extract_legend.extract_legend import  extract_legend"
   ]
  },
  {
   "cell_type": "code",
   "execution_count": 3,
   "metadata": {},
   "outputs": [],
   "source": [
    "import numpy as np\n",
    "\n",
    "def isThereOddNumber( legend ):\n",
    "    numlist = np.array( [ line['numero'] for line in legend ] )\n",
    "    thereisOddNumber = ( numlist % 2 ).any()\n",
    "    return thereisOddNumber"
   ]
  },
  {
   "cell_type": "code",
   "execution_count": 4,
   "metadata": {},
   "outputs": [],
   "source": [
    "def add_consecutive_field( legend ):\n",
    "    \"\"\" test si les numéros sont consécutifs (sans gap)\n",
    "    \"\"\"\n",
    "    increment = 1 if isThereOddNumber(legend) else 2\n",
    "    # parce que certaines legendes sont numérotée de deux en deux...\n",
    "    \n",
    "    for i in range( len(legend)-1 ):\n",
    "        n = legend[i]['numero']\n",
    "        nSuivant = legend[i+1]['numero']\n",
    "        if n+increment == nSuivant:\n",
    "            legend[i]['consecutive'] = True\n",
    "        else:\n",
    "            legend[i]['consecutive'] = False\n",
    "\n",
    "    legend[-1]['consecutive'] = True"
   ]
  },
  {
   "cell_type": "code",
   "execution_count": 5,
   "metadata": {},
   "outputs": [],
   "source": [
    "# Loop\n",
    "for e in  data.values():\n",
    "    legend, raw_legend = extract_legend( e['description'] )\n",
    "    if legend:\n",
    "        add_consecutive_field( legend )\n",
    "    e['legend'] = legend\n",
    "    e['raw_legend'] = raw_legend"
   ]
  },
  {
   "cell_type": "code",
   "execution_count": 6,
   "metadata": {},
   "outputs": [],
   "source": [
    "pickle.dump( data, open('web/data/patent_infos.pickle','wb') )"
   ]
  },
  {
   "cell_type": "markdown",
   "metadata": {},
   "source": [
    "## Grp by year"
   ]
  },
  {
   "cell_type": "code",
   "execution_count": 9,
   "metadata": {},
   "outputs": [
    {
     "data": {
      "text/plain": [
       "[1873, 1876, 1879, 1881, 1884, 1885, 1889, 1890, 1891, 1893]"
      ]
     },
     "execution_count": 9,
     "metadata": {},
     "output_type": "execute_result"
    }
   ],
   "source": [
    "years = sorted( { patent['year'] for patent in data.values() } )\n",
    "years[:10]"
   ]
  },
  {
   "cell_type": "code",
   "execution_count": 10,
   "metadata": {},
   "outputs": [],
   "source": [
    "datagroupedbyyear = [ {'year':y, 'patents':[]} for y in years ]"
   ]
  },
  {
   "cell_type": "code",
   "execution_count": 13,
   "metadata": {},
   "outputs": [],
   "source": [
    "years = sorted( { patent['year'] for patent in data.values() } )\n",
    "datagroupedbyyear = [ {'year':y, 'patents':[]} for y in years ]\n",
    "\n",
    "for patent in data.values():\n",
    "    i = years.index( patent['year'] )\n",
    "    datagroupedbyyear[i]['patents'].append( patent )"
   ]
  },
  {
   "cell_type": "code",
   "execution_count": 29,
   "metadata": {},
   "outputs": [],
   "source": [
    "# init\n",
    "years = sorted( { patent['year'] for patent in data.values() } )\n",
    "year2patent =   { y:[] for y in years }\n",
    "\n",
    "# Loop\n",
    "for patent in data.values():\n",
    "    date = patent['year'], patent['month'], patent['day']\n",
    "\n",
    "    year2patent[date[0]].append ( {'patent_number': patent['patent_number'], 'date':date} )\n",
    "    \n",
    "# Sort\n",
    "for year, patents in year2patent.items():\n",
    "    year2patent[year] = sorted( patents, key=lambda x:x['date']  ) "
   ]
  },
  {
   "cell_type": "code",
   "execution_count": 30,
   "metadata": {},
   "outputs": [
    {
     "data": {
      "text/plain": [
       "{1873: [{'date': (1873, 4, 22), 'patent_number': 'US138061'}],\n",
       " 1876: [{'date': (1876, 10, 17), 'patent_number': 'US183256'}],\n",
       " 1879: [{'date': (1879, 9, 16), 'patent_number': 'US219633'}],\n",
       " 1881: [{'date': (1881, 7, 26), 'patent_number': 'US244891'}],\n",
       " 1884: [{'date': (1884, 2, 19), 'patent_number': 'US293718'}],\n",
       " 1885: [{'date': (1885, 9, 29), 'patent_number': 'US327065'}],\n",
       " 1889: [{'date': (1889, 10, 29), 'patent_number': 'US413712'}],\n",
       " 1890: [{'date': (1890, 12, 9), 'patent_number': 'US442247'}],\n",
       " 1891: [{'date': (1891, 12, 1), 'patent_number': 'US464341'},\n",
       "  {'date': (1891, 12, 29), 'patent_number': 'US466097'},\n",
       "  {'date': (1891, 4, 21), 'patent_number': 'US450703'}],\n",
       " 1893: [{'date': (1893, 9, 5), 'patent_number': 'US504601'}],\n",
       " 1894: [{'date': (1894, 7, 31), 'patent_number': 'US523708'},\n",
       "  {'date': (1894, 1, 9), 'patent_number': 'US512277'},\n",
       "  {'date': (1894, 3, 6), 'patent_number': 'US515828'}],\n",
       " 1896: [{'date': (1896, 10, 20), 'patent_number': 'US569903'},\n",
       "  {'date': (1896, 9, 22), 'patent_number': 'US568249'}],\n",
       " 1898: [{'date': (1898, 10, 25), 'patent_number': 'US612990'}],\n",
       " 1900: [{'date': (1900, 6, 5), 'patent_number': 'US650869'},\n",
       "  {'date': (1900, 7, 24), 'patent_number': 'US654581'}],\n",
       " 1901: [{'date': (1901, 4, 9), 'patent_number': 'US671793'}],\n",
       " 1902: [{'date': (1902, 11, 4), 'patent_number': 'US712658'},\n",
       "  {'date': (1902, 6, 17), 'patent_number': 'US702516'},\n",
       "  {'date': (1902, 1, 14), 'patent_number': 'US691126'},\n",
       "  {'date': (1902, 3, 11), 'patent_number': 'US695342'}],\n",
       " 1903: [{'date': (1903, 10, 20), 'patent_number': 'US741709'},\n",
       "  {'date': (1903, 7, 28), 'patent_number': 'US734715'},\n",
       "  {'date': (1903, 6, 2), 'patent_number': 'US730024'},\n",
       "  {'date': (1903, 4, 21), 'patent_number': 'US725946'}],\n",
       " 1904: [{'date': (1904, 6, 14), 'patent_number': 'US762725'},\n",
       "  {'date': (1904, 9, 13), 'patent_number': 'US770032'},\n",
       "  {'date': (1904, 11, 22), 'patent_number': 'US775568'},\n",
       "  {'date': (1904, 1, 5), 'patent_number': 'US748864'},\n",
       "  {'date': (1904, 8, 23), 'patent_number': 'US768083'},\n",
       "  {'date': (1904, 8, 9), 'patent_number': 'US766859'}],\n",
       " 1905: [{'date': (1905, 7, 11), 'patent_number': 'US794234'},\n",
       "  {'date': (1905, 8, 22), 'patent_number': 'US797576'},\n",
       "  {'date': (1905, 11, 28), 'patent_number': 'US806037'},\n",
       "  {'date': (1905, 8, 1), 'patent_number': 'US796389'},\n",
       "  {'date': (1905, 2, 14), 'patent_number': 'US782654'},\n",
       "  {'date': (1905, 8, 22), 'patent_number': 'US797938'},\n",
       "  {'date': (1905, 8, 22), 'patent_number': 'US797937'}],\n",
       " 1906: [{'date': (1906, 1, 23), 'patent_number': 'US810402'},\n",
       "  {'date': (1906, 12, 18), 'patent_number': 'US838755'}],\n",
       " 1907: [{'date': (1907, 7, 23), 'patent_number': 'US860975'},\n",
       "  {'date': (1907, 3, 12), 'patent_number': 'US846924'},\n",
       "  {'date': (1907, 11, 5), 'patent_number': 'US869946'},\n",
       "  {'date': (1907, 2, 5), 'patent_number': 'US843383'},\n",
       "  {'date': (1907, 6, 25), 'patent_number': 'US857790'},\n",
       "  {'date': (1907, 3, 12), 'patent_number': 'US846565'},\n",
       "  {'date': (1907, 7, 9), 'patent_number': 'US859467'},\n",
       "  {'date': (1907, 5, 14), 'patent_number': 'US853832'}],\n",
       " 1908: [{'date': (1908, 9, 15), 'patent_number': 'US898808'}],\n",
       " 1909: [{'date': (1909, 5, 4), 'patent_number': 'US920409'}],\n",
       " 1910: [{'date': (1910, 2, 22), 'patent_number': 'US949779'},\n",
       "  {'date': (1910, 4, 5), 'patent_number': 'US954325'},\n",
       "  {'date': (1910, 8, 16), 'patent_number': 'US967598'},\n",
       "  {'date': (1910, 9, 13), 'patent_number': 'US970067'}],\n",
       " 1911: [{'date': (1911, 8, 29), 'patent_number': 'US1001727'},\n",
       "  {'date': (1911, 6, 6), 'patent_number': 'US994119'}],\n",
       " 1912: [{'date': (1912, 4, 2), 'patent_number': 'US1021999'},\n",
       "  {'date': (1912, 5, 21), 'patent_number': 'US1027180'}],\n",
       " 1913: [{'date': (1913, 7, 8), 'patent_number': 'US1066839'},\n",
       "  {'date': (1913, 12, 16), 'patent_number': 'US1081896'}],\n",
       " 1914: [{'date': (1914, 3, 3), 'patent_number': 'US1089019'},\n",
       "  {'date': (1914, 1, 27), 'patent_number': 'US1085569'}],\n",
       " 1915: [{'date': (1915, 3, 30), 'patent_number': 'US1133881'},\n",
       "  {'date': (1915, 4, 20), 'patent_number': 'US1135987'},\n",
       "  {'date': (1915, 4, 13), 'patent_number': 'US1135462'},\n",
       "  {'date': (1915, 1, 19), 'patent_number': 'US1125577'}],\n",
       " 1916: [{'date': (1916, 11, 14), 'patent_number': 'US1205029'},\n",
       "  {'date': (1916, 5, 9), 'patent_number': 'US1182247'}],\n",
       " 1918: [{'date': (1918, 1, 29), 'patent_number': 'US1255043'}],\n",
       " 1919: [{'date': (1919, 7, 15), 'patent_number': 'US1310183'},\n",
       "  {'date': (1919, 1, 7), 'patent_number': 'US1290380'}],\n",
       " 1920: [{'date': (1920, 12, 21), 'patent_number': 'US1363164'}],\n",
       " 1921: [{'date': (1921, 10, 25), 'patent_number': 'US1394727'},\n",
       "  {'date': (1921, 7, 5), 'patent_number': 'US1383556'}],\n",
       " 1922: [{'date': (1922, 8, 22), 'patent_number': 'US1426696'},\n",
       "  {'date': (1922, 11, 21), 'patent_number': 'US1436010'},\n",
       "  {'date': (1922, 9, 5), 'patent_number': 'US1428396'},\n",
       "  {'date': (1922, 8, 1), 'patent_number': 'US1424551'},\n",
       "  {'date': (1922, 10, 3), 'patent_number': 'US1430779'}],\n",
       " 1923: [{'date': (1923, 7, 31), 'patent_number': 'USRE15663'},\n",
       "  {'date': (1923, 3, 13), 'patent_number': 'US1447991'}],\n",
       " 1924: [{'date': (1924, 7, 1), 'patent_number': 'US1499673'}],\n",
       " 1925: [{'date': (1925, 12, 22), 'patent_number': 'US1566712'}],\n",
       " 1929: [{'date': (1929, 9, 3), 'patent_number': 'US1727239'},\n",
       "  {'date': (1929, 2, 12), 'patent_number': 'US1702137'},\n",
       "  {'date': (1929, 7, 16), 'patent_number': 'US1721415'}],\n",
       " 1931: [{'date': (1931, 12, 15), 'patent_number': 'US1836557'}],\n",
       " 1932: [{'date': (1932, 4, 19), 'patent_number': 'US1855063'},\n",
       "  {'date': (1932, 1, 19), 'patent_number': 'US1841847'},\n",
       "  {'date': (1932, 3, 15), 'patent_number': 'US1849592'}],\n",
       " 1934: [{'date': (1934, 10, 9), 'patent_number': 'US1976067'}],\n",
       " 1936: [{'date': (1936, 1, 21), 'patent_number': 'US2028558'}],\n",
       " 1938: [{'date': (1938, 7, 12), 'patent_number': 'US2123357'}],\n",
       " 1939: [{'date': (1939, 2, 7), 'patent_number': 'US2146132'}],\n",
       " 1942: [{'date': (1942, 5, 26), 'patent_number': 'US2284168'}],\n",
       " 1947: [{'date': (1947, 6, 17), 'patent_number': 'US2422207'}],\n",
       " 1949: [{'date': (1949, 8, 2), 'patent_number': 'US2477782'},\n",
       "  {'date': (1949, 4, 19), 'patent_number': 'US2467589'},\n",
       "  {'date': (1949, 8, 30), 'patent_number': 'US2480797'}],\n",
       " 1950: [{'date': (1950, 12, 5), 'patent_number': 'US2532370'},\n",
       "  {'date': (1950, 9, 5), 'patent_number': 'US2521027'}],\n",
       " 1951: [{'date': (1951, 3, 6), 'patent_number': 'US2544479'},\n",
       "  {'date': (1951, 2, 6), 'patent_number': 'US2540782'},\n",
       "  {'date': (1951, 1, 9), 'patent_number': 'US2537738'},\n",
       "  {'date': (1951, 10, 2), 'patent_number': 'US2570025'}],\n",
       " 1952: [{'date': (1952, 11, 4), 'patent_number': 'US2616436'},\n",
       "  {'date': (1952, 10, 28), 'patent_number': 'US2615242'}],\n",
       " 1953: [{'date': (1953, 3, 31), 'patent_number': 'US2632947'}],\n",
       " 1954: [{'date': (1954, 1, 5), 'patent_number': 'US2664624'}],\n",
       " 1955: [{'date': (1955, 11, 22), 'patent_number': 'US2724179'},\n",
       "  {'date': (1955, 3, 22), 'patent_number': 'US2704398'}],\n",
       " 1956: [{'date': (1956, 9, 11), 'patent_number': 'US2762380'},\n",
       "  {'date': (1956, 3, 27), 'patent_number': 'US2739379'},\n",
       "  {'date': (1956, 3, 20), 'patent_number': 'US2738795'},\n",
       "  {'date': (1956, 7, 10), 'patent_number': 'US2753626'},\n",
       "  {'date': (1956, 12, 18), 'patent_number': 'US2774138'}],\n",
       " 1958: [{'date': (1958, 4, 22), 'patent_number': 'US2831247'}],\n",
       " 1959: [{'date': (1959, 6, 16), 'patent_number': 'US2890706'}],\n",
       " 1960: [{'date': (1960, 11, 22), 'patent_number': 'US2960766'}],\n",
       " 1961: [{'date': (1961, 9, 12), 'patent_number': 'US2999505'},\n",
       "  {'date': (1961, 9, 12), 'patent_number': 'US2999506'}],\n",
       " 1962: [{'date': (1962, 7, 3), 'patent_number': 'US3042047'}],\n",
       " 1963: [{'date': (1963, 5, 14), 'patent_number': 'US3089239'},\n",
       "  {'date': (1963, 6, 18), 'patent_number': 'US3093898'},\n",
       "  {'date': (1963, 6, 11), 'patent_number': 'US3093147'},\n",
       "  {'date': (1963, 5, 7), 'patent_number': 'US3088204'}],\n",
       " 1965: [{'date': (1965, 6, 22), 'patent_number': 'US3189996'}],\n",
       " 1966: [{'date': (1966, 7, 19), 'patent_number': 'US3261093'},\n",
       "  {'date': (1966, 7, 19), 'patent_number': 'US3261094'}],\n",
       " 1967: [{'date': (1967, 4, 25), 'patent_number': 'US3315354'},\n",
       "  {'date': (1967, 5, 2), 'patent_number': 'US3316632'},\n",
       "  {'date': (1967, 5, 2), 'patent_number': 'US3316634'}],\n",
       " 1968: [{'date': (1968, 6, 25), 'patent_number': 'US3389462'},\n",
       "  {'date': (1968, 2, 13), 'patent_number': 'USRE26344'}],\n",
       " 1969: [{'date': (1969, 3, 4), 'patent_number': 'US3430340'}],\n",
       " 1970: [{'date': (1970, 3, 3), 'patent_number': 'US3497956'}],\n",
       " 1971: [{'date': (1971, 1, 19), 'patent_number': 'US3555675'},\n",
       "  {'date': (1971, 8, 24), 'patent_number': 'US3600803'}],\n",
       " 1972: [{'date': (1972, 8, 1), 'patent_number': 'US3680210'}],\n",
       " 1973: [{'date': (1973, 1, 23), 'patent_number': 'US3712311'}],\n",
       " 1974: [{'date': (1974, 5, 28), 'patent_number': 'US3812868'},\n",
       "  {'date': (1974, 9, 3), 'patent_number': 'US3832771'}],\n",
       " 1976: [{'date': (1976, 3, 16), 'patent_number': 'US3943947'},\n",
       "  {'date': (1976, 2, 10), 'patent_number': 'US3937234'},\n",
       "  {'date': (1976, 3, 16), 'patent_number': 'US3943948'},\n",
       "  {'date': (1976, 12, 21), 'patent_number': 'US3997966'}],\n",
       " 1979: [{'date': (1979, 12, 4), 'patent_number': 'US4176449'}],\n",
       " 1980: [{'date': (1980, 10, 21), 'patent_number': 'US4228585'}],\n",
       " 1982: [{'date': (1982, 5, 11), 'patent_number': 'US4328819'}],\n",
       " 1985: [{'date': (1985, 5, 28), 'patent_number': 'US4519134'}],\n",
       " 1986: [{'date': (1986, 1, 14), 'patent_number': 'US4564034'}],\n",
       " 1987: [{'date': (1987, 2, 24), 'patent_number': 'US4644644'},\n",
       "  {'date': (1987, 1, 20), 'patent_number': 'US4637137'}],\n",
       " 1988: [{'date': (1988, 4, 26), 'patent_number': 'US4739552'},\n",
       "  {'date': (1988, 12, 6), 'patent_number': 'US4788768'}],\n",
       " 1989: [{'date': (1989, 4, 11), 'patent_number': 'US4819673'},\n",
       "  {'date': (1989, 7, 18), 'patent_number': 'US4847994'},\n",
       "  {'date': (1989, 8, 29), 'patent_number': 'US4860448'}],\n",
       " 1990: [{'date': (1990, 1, 16), 'patent_number': 'US4893406'},\n",
       "  {'date': (1990, 10, 23), 'patent_number': 'US4964213'},\n",
       "  {'date': (1990, 7, 10), 'patent_number': 'US4940136'},\n",
       "  {'date': (1990, 2, 27), 'patent_number': 'US4903514'},\n",
       "  {'date': (1990, 6, 26), 'patent_number': 'US4936322'},\n",
       "  {'date': (1990, 9, 18), 'patent_number': 'US4956915'}],\n",
       " 1991: [{'date': (1991, 10, 1), 'patent_number': 'US5052416'},\n",
       "  {'date': (1991, 11, 12), 'patent_number': 'US5063666'},\n",
       "  {'date': (1991, 1, 8), 'patent_number': 'US4982747'},\n",
       "  {'date': (1991, 11, 19), 'patent_number': 'US5065513'}],\n",
       " 1992: [{'date': (1992, 6, 2), 'patent_number': 'US5117847'},\n",
       "  {'date': (1992, 4, 7), 'patent_number': 'US5101563'},\n",
       "  {'date': (1992, 6, 23), 'patent_number': 'US5123430'}],\n",
       " 1993: [{'date': (1993, 3, 2), 'patent_number': 'US5190335'},\n",
       "  {'date': (1993, 7, 13), 'patent_number': 'US5226849'}],\n",
       " 1994: [{'date': (1994, 6, 28), 'patent_number': 'US5323537'},\n",
       "  {'date': (1994, 10, 25), 'patent_number': 'US5357676'},\n",
       "  {'date': (1994, 10, 25), 'patent_number': 'US5357677'},\n",
       "  {'date': (1994, 7, 26), 'patent_number': 'US5331739'}],\n",
       " 1995: [{'date': (1995, 8, 1), 'patent_number': 'US5437679'},\n",
       "  {'date': (1995, 1, 31), 'patent_number': 'US5384960'}],\n",
       " 1996: [{'date': (1996, 6, 11), 'patent_number': 'US5524344'},\n",
       "  {'date': (1996, 2, 13), 'patent_number': 'US5490327'},\n",
       "  {'date': (1996, 7, 2), 'patent_number': 'US5531025'},\n",
       "  {'date': (1996, 7, 9), 'patent_number': 'US5533262'},\n",
       "  {'date': (1996, 9, 24), 'patent_number': 'US5557849'}],\n",
       " 1997: [{'date': (1997, 4, 22), 'patent_number': 'US5622191'},\n",
       "  {'date': (1997, 6, 3), 'patent_number': 'US5634275'},\n",
       "  {'date': (1997, 9, 16), 'patent_number': 'US5666728'},\n",
       "  {'date': (1997, 12, 30), 'patent_number': 'US5701672'}],\n",
       " 1998: [{'date': (1998, 7, 7), 'patent_number': 'US5775340'},\n",
       "  {'date': (1998, 3, 17), 'patent_number': 'US5727318'},\n",
       "  {'date': (1998, 3, 3), 'patent_number': 'US5722435'},\n",
       "  {'date': (1998, 9, 15), 'patent_number': 'US5806186'},\n",
       "  {'date': (1998, 5, 12), 'patent_number': 'US5749377'},\n",
       "  {'date': (1998, 7, 21), 'patent_number': 'US5782249'},\n",
       "  {'date': (1998, 8, 11), 'patent_number': 'US5791049'}],\n",
       " 1999: [{'date': (1999, 2, 16), 'patent_number': 'US5870826'},\n",
       "  {'date': (1999, 4, 6), 'patent_number': 'US5890295'},\n",
       "  {'date': (1999, 7, 27), 'patent_number': 'US5926956'},\n",
       "  {'date': (1999, 7, 6), 'patent_number': 'US5918375'},\n",
       "  {'date': (1999, 8, 3), 'patent_number': 'US5931167'}],\n",
       " 2000: [{'date': (2000, 12, 5), 'patent_number': 'US6155270'},\n",
       "  {'date': (2000, 4, 18), 'patent_number': 'US6050269'}],\n",
       " 2001: [{'date': (2001, 7, 12), 'patent_number': 'US20010007172'},\n",
       "  {'date': (2001, 1, 16), 'patent_number': 'US6173497'}],\n",
       " 2002: [{'date': (2002, 7, 18), 'patent_number': 'US20020092172'},\n",
       "  {'date': (2002, 7, 18), 'patent_number': 'US20020092170'},\n",
       "  {'date': (2002, 8, 27), 'patent_number': 'US6438845'},\n",
       "  {'date': (2002, 7, 18), 'patent_number': 'US20020092171'},\n",
       "  {'date': (2002, 12, 5), 'patent_number': 'US20020178585'},\n",
       "  {'date': (2002, 11, 5), 'patent_number': 'US6473969'},\n",
       "  {'date': (2002, 9, 26), 'patent_number': 'US20020134395'}],\n",
       " 2003: [{'date': (2003, 8, 5), 'patent_number': 'US6601587'},\n",
       "  {'date': (2003, 7, 31), 'patent_number': 'US20030140498'},\n",
       "  {'date': (2003, 1, 2), 'patent_number': 'US20030000090'},\n",
       "  {'date': (2003, 4, 1), 'patent_number': 'US6539632'},\n",
       "  {'date': (2003, 11, 13), 'patent_number': 'US20030208906'},\n",
       "  {'date': (2003, 5, 13), 'patent_number': 'US6560874'},\n",
       "  {'date': (2003, 5, 6), 'patent_number': 'US6557259'},\n",
       "  {'date': (2003, 5, 22), 'patent_number': 'US20030094183'},\n",
       "  {'date': (2003, 4, 29), 'patent_number': 'US6553592'},\n",
       "  {'date': (2003, 8, 7), 'patent_number': 'US20030145467'}],\n",
       " 2004: [{'date': (2004, 4, 8), 'patent_number': 'US20040064897'},\n",
       "  {'date': (2004, 3, 16), 'patent_number': 'US6705014'},\n",
       "  {'date': (2004, 3, 4), 'patent_number': 'US20040040156'},\n",
       "  {'date': (2004, 6, 17), 'patent_number': 'US20040111893'},\n",
       "  {'date': (2004, 8, 19), 'patent_number': 'US20040158989'},\n",
       "  {'date': (2004, 6, 24), 'patent_number': 'US20040117988'},\n",
       "  {'date': (2004, 10, 14), 'patent_number': 'US20040200430'},\n",
       "  {'date': (2004, 8, 26), 'patent_number': 'US20040163607'},\n",
       "  {'date': (2004, 10, 7), 'patent_number': 'US20040194795'},\n",
       "  {'date': (2004, 12, 7), 'patent_number': 'US6827038'},\n",
       "  {'date': (2004, 10, 14), 'patent_number': 'US20040200073'},\n",
       "  {'date': (2004, 7, 1), 'patent_number': 'US20040123465'},\n",
       "  {'date': (2004, 10, 21), 'patent_number': 'US20040205968'},\n",
       "  {'date': (2004, 7, 15), 'patent_number': 'US20040134505'},\n",
       "  {'date': (2004, 5, 18), 'patent_number': 'US6735869'},\n",
       "  {'date': (2004, 8, 5), 'patent_number': 'US20040148779'},\n",
       "  {'date': (2004, 7, 1), 'patent_number': 'US20040123875'},\n",
       "  {'date': (2004, 5, 27), 'patent_number': 'US20040098861'}],\n",
       " 2005: [{'date': (2005, 9, 29), 'patent_number': 'US20050210679'},\n",
       "  {'date': (2005, 7, 28), 'patent_number': 'US20050160604'},\n",
       "  {'date': (2005, 6, 14), 'patent_number': 'US6904683'},\n",
       "  {'date': (2005, 6, 16), 'patent_number': 'US20050126014'},\n",
       "  {'date': (2005, 12, 29), 'patent_number': 'US20050283981'},\n",
       "  {'date': (2005, 7, 12), 'patent_number': 'US6915575'},\n",
       "  {'date': (2005, 11, 24), 'patent_number': 'US20050257375'},\n",
       "  {'date': (2005, 3, 1), 'patent_number': 'US6860017'},\n",
       "  {'date': (2005, 9, 29), 'patent_number': 'US20050211030'},\n",
       "  {'date': (2005, 10, 4), 'patent_number': 'US6951040'},\n",
       "  {'date': (2005, 8, 11), 'patent_number': 'US20050172488'},\n",
       "  {'date': (2005, 9, 13), 'patent_number': 'US6941657'},\n",
       "  {'date': (2005, 9, 13), 'patent_number': 'US6941658'}],\n",
       " 2006: [{'date': (2006, 8, 10), 'patent_number': 'US20060174486'},\n",
       "  {'date': (2006, 9, 21), 'patent_number': 'US20060207400'},\n",
       "  {'date': (2006, 4, 11), 'patent_number': 'US7024774'},\n",
       "  {'date': (2006, 6, 20), 'patent_number': 'US7062855'},\n",
       "  {'date': (2006, 11, 7), 'patent_number': 'US7131448'},\n",
       "  {'date': (2006, 4, 13), 'patent_number': 'US20060075639'},\n",
       "  {'date': (2006, 11, 23), 'patent_number': 'US20060261113'},\n",
       "  {'date': (2006, 2, 9), 'patent_number': 'US20060026839'},\n",
       "  {'date': (2006, 4, 27), 'patent_number': 'US20060085988'},\n",
       "  {'date': (2006, 3, 2), 'patent_number': 'US20060042092'},\n",
       "  {'date': (2006, 1, 26), 'patent_number': 'US20060016079'},\n",
       "  {'date': (2006, 7, 20), 'patent_number': 'US20060158871'},\n",
       "  {'date': (2006, 12, 14), 'patent_number': 'US20060277765'},\n",
       "  {'date': (2006, 2, 28), 'patent_number': 'US7003882'},\n",
       "  {'date': (2006, 11, 30), 'patent_number': 'US20060268540'},\n",
       "  {'date': (2006, 7, 6), 'patent_number': 'US20060143923'},\n",
       "  {'date': (2006, 3, 7), 'patent_number': 'US7007387'},\n",
       "  {'date': (2006, 3, 2), 'patent_number': 'US20060042559'},\n",
       "  {'date': (2006, 4, 4), 'patent_number': 'US7020964'},\n",
       "  {'date': (2006, 6, 6), 'patent_number': 'US7055245'},\n",
       "  {'date': (2006, 8, 17), 'patent_number': 'US20060180169'}],\n",
       " 2007: [{'date': (2007, 7, 12), 'patent_number': 'US20070157471'},\n",
       "  {'date': (2007, 9, 4), 'patent_number': 'US7263775'},\n",
       "  {'date': (2007, 1, 25), 'patent_number': 'US20070017540'},\n",
       "  {'date': (2007, 3, 27), 'patent_number': 'US7194806'},\n",
       "  {'date': (2007, 3, 29), 'patent_number': 'US20070067995'},\n",
       "  {'date': (2007, 1, 9), 'patent_number': 'US7159595'},\n",
       "  {'date': (2007, 6, 21), 'patent_number': 'US20070137041'},\n",
       "  {'date': (2007, 10, 23), 'patent_number': 'US7284555'},\n",
       "  {'date': (2007, 5, 1), 'patent_number': 'US7210230'},\n",
       "  {'date': (2007, 5, 15), 'patent_number': 'US7217001'},\n",
       "  {'date': (2007, 3, 27), 'patent_number': 'US7194807'},\n",
       "  {'date': (2007, 1, 25), 'patent_number': 'US20070017537'},\n",
       "  {'date': (2007, 1, 25), 'patent_number': 'US20070017096'},\n",
       "  {'date': (2007, 6, 26), 'patent_number': 'US7234238'}],\n",
       " 2008: [{'date': (2008, 1, 3), 'patent_number': 'US20080000088'},\n",
       "  {'date': (2008, 1, 22), 'patent_number': 'US7320180'},\n",
       "  {'date': (2008, 7, 10), 'patent_number': 'US20080163432'},\n",
       "  {'date': (2008, 7, 17), 'patent_number': 'US20080168656'},\n",
       "  {'date': (2008, 7, 24), 'patent_number': 'US20080173321'},\n",
       "  {'date': (2008, 7, 31), 'patent_number': 'US20080178896'},\n",
       "  {'date': (2008, 6, 26), 'patent_number': 'US20080148572'},\n",
       "  {'date': (2008, 3, 20), 'patent_number': 'US20080066771'}],\n",
       " 2009: [{'date': (2009, 8, 27), 'patent_number': 'US20090211098'},\n",
       "  {'date': (2009, 12, 17), 'patent_number': 'US20090308211'},\n",
       "  {'date': (2009, 9, 10), 'patent_number': 'US20090223055'},\n",
       "  {'date': (2009, 1, 1), 'patent_number': 'US20090000122'},\n",
       "  {'date': (2009, 9, 17), 'patent_number': 'US20090229622'},\n",
       "  {'date': (2009, 8, 18), 'patent_number': 'US7575335'},\n",
       "  {'date': (2009, 5, 14), 'patent_number': 'US20090119922'},\n",
       "  {'date': (2009, 3, 26), 'patent_number': 'US20090078278'},\n",
       "  {'date': (2009, 10, 1), 'patent_number': 'US20090241342'},\n",
       "  {'date': (2009, 5, 12), 'patent_number': 'US7530170'}],\n",
       " 2010: [{'date': (2010, 6, 3), 'patent_number': 'US20100132727'},\n",
       "  {'date': (2010, 3, 25), 'patent_number': 'US20100071213'},\n",
       "  {'date': (2010, 5, 6), 'patent_number': 'US20100107989'},\n",
       "  {'date': (2010, 3, 4), 'patent_number': 'US20100050438'},\n",
       "  {'date': (2010, 9, 21), 'patent_number': 'US7797782'},\n",
       "  {'date': (2010, 10, 14), 'patent_number': 'US20100257740'},\n",
       "  {'date': (2010, 5, 18), 'patent_number': 'US7717017'}],\n",
       " 2011: [{'date': (2011, 3, 29), 'patent_number': 'US7913391'},\n",
       "  {'date': (2011, 3, 17), 'patent_number': 'US20110061239'},\n",
       "  {'date': (2011, 12, 1), 'patent_number': 'US20110290080'},\n",
       "  {'date': (2011, 9, 15), 'patent_number': 'US20110219619'},\n",
       "  {'date': (2011, 6, 7), 'patent_number': 'US7954242'},\n",
       "  {'date': (2011, 12, 27), 'patent_number': 'US8082668'},\n",
       "  {'date': (2011, 6, 30), 'patent_number': 'US20110154667'},\n",
       "  {'date': (2011, 4, 7), 'patent_number': 'US20110079234'},\n",
       "  {'date': (2011, 1, 13), 'patent_number': 'US20110005537'}],\n",
       " 2012: [{'date': (2012, 1, 17), 'patent_number': 'US8096053'},\n",
       "  {'date': (2012, 8, 23), 'patent_number': 'US20120210583'},\n",
       "  {'date': (2012, 1, 17), 'patent_number': 'US8096305'},\n",
       "  {'date': (2012, 1, 19), 'patent_number': 'US20120011723'},\n",
       "  {'date': (2012, 1, 24), 'patent_number': 'US8100088'}],\n",
       " 2013: [{'date': (2013, 12, 5), 'patent_number': 'US20130319446'},\n",
       "  {'date': (2013, 1, 3), 'patent_number': 'US20130000125'},\n",
       "  {'date': (2013, 11, 12), 'patent_number': 'US8578612'},\n",
       "  {'date': (2013, 2, 5), 'patent_number': 'US8365415'},\n",
       "  {'date': (2013, 12, 12), 'patent_number': 'US20130327348'},\n",
       "  {'date': (2013, 3, 21), 'patent_number': 'US20130067748'},\n",
       "  {'date': (2013, 8, 22), 'patent_number': 'US20130212884'},\n",
       "  {'date': (2013, 1, 22), 'patent_number': 'US8356414'}],\n",
       " 2014: [{'date': (2014, 5, 20), 'patent_number': 'US8726516'},\n",
       "  {'date': (2014, 3, 11), 'patent_number': 'US8667691'},\n",
       "  {'date': (2014, 2, 13), 'patent_number': 'US20140041195'},\n",
       "  {'date': (2014, 10, 21), 'patent_number': 'US8863758'},\n",
       "  {'date': (2014, 9, 11), 'patent_number': 'US20140250692'},\n",
       "  {'date': (2014, 4, 1), 'patent_number': 'US8683700'},\n",
       "  {'date': (2014, 11, 6), 'patent_number': 'US20140325846'},\n",
       "  {'date': (2014, 1, 16), 'patent_number': 'US20140014042'},\n",
       "  {'date': (2014, 8, 7), 'patent_number': 'US20140215829'},\n",
       "  {'date': (2014, 7, 24), 'patent_number': 'US20140202003'}],\n",
       " 2015: [{'date': (2015, 10, 8), 'patent_number': 'US20150282586'},\n",
       "  {'date': (2015, 3, 24), 'patent_number': 'USD724916'},\n",
       "  {'date': (2015, 2, 19), 'patent_number': 'US20150051627'},\n",
       "  {'date': (2015, 5, 28), 'patent_number': 'US20150148378'},\n",
       "  {'date': (2015, 3, 24), 'patent_number': 'US8984754'},\n",
       "  {'date': (2015, 11, 24), 'patent_number': 'US9192218'},\n",
       "  {'date': (2015, 4, 16), 'patent_number': 'US20150101194'},\n",
       "  {'date': (2015, 1, 1), 'patent_number': 'US20150000139'},\n",
       "  {'date': (2015, 3, 24), 'patent_number': 'US8985122'},\n",
       "  {'date': (2015, 6, 25), 'patent_number': 'US20150173484'},\n",
       "  {'date': (2015, 12, 8), 'patent_number': 'US9204703'}],\n",
       " 2016: [{'date': (2016, 7, 14), 'patent_number': 'US20160199986'},\n",
       "  {'date': (2016, 9, 29), 'patent_number': 'US20160279766'},\n",
       "  {'date': (2016, 2, 4), 'patent_number': 'US20160029768'},\n",
       "  {'date': (2016, 10, 6), 'patent_number': 'US20160286931'},\n",
       "  {'date': (2016, 11, 17), 'patent_number': 'US20160330936'},\n",
       "  {'date': (2016, 3, 17), 'patent_number': 'US20160073760'},\n",
       "  {'date': (2016, 8, 11), 'patent_number': 'US20160227901'},\n",
       "  {'date': (2016, 3, 10), 'patent_number': 'US20160066542'},\n",
       "  {'date': (2016, 9, 1), 'patent_number': 'US20160249587'},\n",
       "  {'date': (2016, 8, 18), 'patent_number': 'US20160235182'},\n",
       "  {'date': (2016, 11, 8), 'patent_number': 'US9486051'},\n",
       "  {'date': (2016, 2, 23), 'patent_number': 'US9266223'}],\n",
       " 2017: [{'date': (2017, 8, 31), 'patent_number': 'US20170245469'},\n",
       "  {'date': (2017, 2, 16), 'patent_number': 'US20170042307'},\n",
       "  {'date': (2017, 8, 17), 'patent_number': 'US20170231361'},\n",
       "  {'date': (2017, 9, 5), 'patent_number': 'US9750324'},\n",
       "  {'date': (2017, 3, 9), 'patent_number': 'US20170065052'},\n",
       "  {'date': (2017, 6, 15), 'patent_number': 'US20170164714'},\n",
       "  {'date': (2017, 1, 19), 'patent_number': 'US20170013806'},\n",
       "  {'date': (2017, 9, 5), 'patent_number': 'US9751194'}]}"
      ]
     },
     "execution_count": 30,
     "metadata": {},
     "output_type": "execute_result"
    }
   ],
   "source": [
    "year2patent"
   ]
  },
  {
   "cell_type": "code",
   "execution_count": null,
   "metadata": {},
   "outputs": [],
   "source": []
  }
 ],
 "metadata": {
  "kernelspec": {
   "display_name": "Python 3",
   "language": "python",
   "name": "python3"
  },
  "language_info": {
   "codemirror_mode": {
    "name": "ipython",
    "version": 3
   },
   "file_extension": ".py",
   "mimetype": "text/x-python",
   "name": "python",
   "nbconvert_exporter": "python",
   "pygments_lexer": "ipython3",
   "version": "3.5.2"
  }
 },
 "nbformat": 4,
 "nbformat_minor": 2
}
