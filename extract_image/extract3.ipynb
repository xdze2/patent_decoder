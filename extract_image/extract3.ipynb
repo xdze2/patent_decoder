{
 "cells": [
  {
   "cell_type": "markdown",
   "metadata": {},
   "source": [
    "# Extract figures\n",
    "\n",
    "\n",
    "https://docs.scipy.org/doc/scipy/reference/tutorial/ndimage.html  \n",
    "http://www.scipy-lectures.org/advanced/image_processing/#feature-extraction"
   ]
  },
  {
   "cell_type": "code",
   "execution_count": 1,
   "metadata": {},
   "outputs": [],
   "source": [
    "from scipy import ndimage\n",
    "from scipy import misc\n",
    "\n",
    "import numpy as np\n",
    "\n",
    "from wand.image import Image\n",
    "\n",
    "import matplotlib.pyplot as plt\n",
    "%matplotlib inline\n",
    "\n",
    "import os\n",
    "import pickle"
   ]
  },
  {
   "cell_type": "code",
   "execution_count": 2,
   "metadata": {},
   "outputs": [],
   "source": [
    "def extract_figures( I ):\n",
    "    B =  I < 200    # Convert to binary\n",
    "\n",
    "    filled = ndimage.binary_fill_holes( B ) # comble les zones creuses\n",
    "    \n",
    "    innerzones = np.logical_and( np.logical_not(B), filled ) # ne garder que les zones creuses\n",
    "    \n",
    "    # filtres :\n",
    "    N_iterations = 3\n",
    "    innerzones = ndimage.binary_closing( innerzones, iterations=N_iterations ) # connecte les zones proches\n",
    "    innerzones = ndimage.binary_opening( innerzones, iterations=N_iterations ) # supprime les petites zones\n",
    "\n",
    "    IZ_label, nb_labels = ndimage.label( innerzones )   # segmentation\n",
    "\n",
    "    sizes = ndimage.sum( innerzones , IZ_label, range(nb_labels+1) ) # calcul le nombre de pixel dans chaque cluster\n",
    "\n",
    "    MIN_SIZE = 1600   # taille minimal pour accepter un cluster comme figure\n",
    "\n",
    "    # Arret du script : il n'y a pas de figure\n",
    "    if max( sizes ) < MIN_SIZE:\n",
    "        return [] \n",
    "\n",
    "    # Efface les labels des clusters trop petit\n",
    "    mask_size = sizes < MIN_SIZE\n",
    "    remove_pixel = mask_size[ IZ_label ]\n",
    "    IZ_label[remove_pixel] = 0\n",
    "\n",
    "    # Sauvegarde la position des figures\n",
    "    Pict = IZ_label>0  # masque permettant de localiser ensuite les schémas\n",
    "\n",
    "    # Construction de la matrice de connection\n",
    "    SIZE = 17\n",
    "    M = np.zeros( (SIZE, SIZE) )\n",
    "    M[ int(SIZE/2), int(SIZE/2) ] = 1\n",
    "    M = ndimage.binary_dilation(M, iterations=int(SIZE/2)).astype(M.dtype)\n",
    "    \n",
    "    # Dilation\n",
    "    B = ndimage.binary_dilation(B, structure=M) \n",
    "\n",
    "    # on combine les zones creuses avec la dilatation\n",
    "    B = np.logical_or( B, Pict )\n",
    "    \n",
    "    # Segmentation une nouvel fois\n",
    "    B_label, nb_labels = ndimage.label( B )\n",
    "\n",
    "    # Est-ce qu'il y a une image ici ? \n",
    "    func = lambda I, pos: np.logical_and(I, Pict.flatten()[pos]).any()\n",
    "\n",
    "    label_pict = ndimage.labeled_comprehension(B, B_label, range(nb_labels+1), func,\\\n",
    "                        out_dtype='bool', default=False, pass_positions=True)\n",
    "\n",
    "    # si il n'y a aucun pixel commun entre le nouveau cluster (avec dilation) et \n",
    "    # les premiers obtenus (après filtrage sur le nombre de pixel)\n",
    "    # alors ce n'est pas une image\n",
    "\n",
    "    remove_pixel = np.logical_not(label_pict)[ B_label ]\n",
    "    B_label[remove_pixel] = 0\n",
    "\n",
    "    # Renome les labels\n",
    "    labels = np.unique(B_label)\n",
    "    B_label = np.searchsorted(labels, B_label)\n",
    "\n",
    "    # Compute the bounting box\n",
    "    bounting_box = ndimage.measurements.find_objects(B_label)\n",
    "\n",
    "    cropped_images = []\n",
    "    # crop and erase unwanted pixels \n",
    "    for k, bbox in enumerate( bounting_box ):\n",
    "        Icrop = np.copy( I[ bbox ] )\n",
    "        mask_erase =  B_label[ bbox ] != k+1\n",
    "        Icrop[ mask_erase ] = 255\n",
    "\n",
    "        cropped_images.append( Icrop )\n",
    "\n",
    "    return cropped_images "
   ]
  },
  {
   "cell_type": "markdown",
   "metadata": {},
   "source": [
    "http://mikelynchgames.com/software-development/using-wand-to-extract-pngs-from-pdfs/\n",
    "\n",
    "https://stackoverflow.com/a/37032551/8069403"
   ]
  },
  {
   "cell_type": "code",
   "execution_count": 3,
   "metadata": {
    "scrolled": true
   },
   "outputs": [],
   "source": [
    "def extract_from_pdf( pdfpath ):\n",
    "    cropped_images = []\n",
    "\n",
    "    # Lecture du pdf avec Wand (imageMagick) et conversion en ndarray\n",
    "    # une resolution de 160dpi donne une image de ~1200px\n",
    "    with Image(filename=pdfpath, resolution=160) as pdf_imgs:\n",
    "\n",
    "        for page in pdf_imgs.sequence: # iteration sur les pages\n",
    "            with Image(page) as Ipage:\n",
    "                # ... read png image from binary string python ???\n",
    "                #I = np.asarray(bytearray( Ipage.make_blob() ), dtype=np.uint8 ) \n",
    "                Ipage.format = 'png8'\n",
    "\n",
    "                Ipage.save(filename='temp_image.png')      \n",
    "                I_reloaded = misc.imread('temp_image.png', mode='L')\n",
    "\n",
    "                cropped_images.extend( extract_figures( I_reloaded ) )\n",
    "\n",
    "    #print(len(cropped_images))\n",
    "    return cropped_images"
   ]
  },
  {
   "cell_type": "code",
   "execution_count": 4,
   "metadata": {},
   "outputs": [],
   "source": [
    "# Retrouve les figures \n",
    "    \n",
    "FIGURESDIR = 'figures_extracted/'\n",
    "\n",
    "def patentid_from_figname( figname ):\n",
    "    return figname.split('-')[0]\n",
    "\n",
    "def find_figures( patent_number ):\n",
    "    FIGURESLIST = os.listdir( FIGURESDIR )\n",
    "    patentfiglist = [ figname \n",
    "                        for figname in FIGURESLIST \n",
    "                        if patentid_from_figname( figname ) == patent_number  ]\n",
    "                        \n",
    "    return patentfiglist\n",
    "\n",
    "def isthereafigure( pdf ):\n",
    "    return len( find_figures( pdf.strip('.pdf') ) )>0"
   ]
  },
  {
   "cell_type": "code",
   "execution_count": 5,
   "metadata": {},
   "outputs": [
    {
     "data": {
      "text/plain": [
       "['US515828-fig1.png',\n",
       " 'US515828-fig2.png',\n",
       " 'US515828-fig3.png',\n",
       " 'US515828-fig0.png']"
      ]
     },
     "execution_count": 5,
     "metadata": {},
     "output_type": "execute_result"
    }
   ],
   "source": [
    "# test\n",
    "find_figures( 'US515828' )"
   ]
  },
  {
   "cell_type": "code",
   "execution_count": 6,
   "metadata": {},
   "outputs": [
    {
     "name": "stdout",
     "output_type": "stream",
     "text": [
      "348\n"
     ]
    }
   ],
   "source": [
    "pdfdir = 'pdfs/'\n",
    "savedir = 'figures_extracted/'\n",
    "\n",
    "allpdfs = os.listdir(pdfdir)\n",
    "print( len(allpdfs))"
   ]
  },
  {
   "cell_type": "code",
   "execution_count": 7,
   "metadata": {},
   "outputs": [
    {
     "data": {
      "text/plain": [
       "True"
      ]
     },
     "execution_count": 7,
     "metadata": {},
     "output_type": "execute_result"
    }
   ],
   "source": [
    "isthereafigure( allpdfs[-1] )"
   ]
  },
  {
   "cell_type": "code",
   "execution_count": 8,
   "metadata": {},
   "outputs": [],
   "source": [
    "# - init -\n",
    "#pdfwithoutfigure = []\n",
    "#pickle.dump( pdfwithoutfigure, open( \"pdfwithoutfigure.pickle\", \"wb\" ) )"
   ]
  },
  {
   "cell_type": "code",
   "execution_count": 9,
   "metadata": {},
   "outputs": [
    {
     "name": "stdout",
     "output_type": "stream",
     "text": [
      "1\n"
     ]
    }
   ],
   "source": [
    "pdfwithoutfigure = pickle.load( open( \"pdfwithoutfigure.pickle\", \"rb\" ) )\n",
    "print(len(pdfwithoutfigure))"
   ]
  },
  {
   "cell_type": "code",
   "execution_count": 11,
   "metadata": {},
   "outputs": [
    {
     "name": "stdout",
     "output_type": "stream",
     "text": [
      "28\n"
     ]
    }
   ],
   "source": [
    "isnotprocessed = lambda pdf: not isthereafigure( pdf ) and pdf not in pdfwithoutfigure\n",
    "\n",
    "remainingpdfs = [ pdf for pdf in allpdfs if isnotprocessed(pdf) ]\n",
    "print(len( remainingpdfs ))"
   ]
  },
  {
   "cell_type": "code",
   "execution_count": 12,
   "metadata": {
    "scrolled": false
   },
   "outputs": [
    {
     "name": "stdout",
     "output_type": "stream",
     "text": [
      "US20110290080.pdf : 6 figures\n",
      "US20130319446.pdf : 17 figures\n",
      "US20130212884.pdf : 8 figures\n",
      "US20140202003.pdf : 11 figures\n",
      "US8082668.pdf : 3 figures\n",
      "US8863758.pdf : 4 figures\n",
      "US8578612.pdf : 9 figures\n",
      "US8667691.pdf : 20 figures\n",
      "US8683700.pdf : 20 figures\n",
      "US20140014042.pdf : 14 figures\n",
      "US20140041195.pdf : 16 figures\n",
      "US8096305.pdf : 6 figures\n",
      "US20120011723.pdf : 10 figures\n",
      "US20110079234.pdf : 2 figures\n",
      "US20120210583.pdf : 43 figures\n",
      "US20140250692.pdf : 56 figures\n",
      "US8356414.pdf : 13 figures\n",
      "US7913391.pdf : 9 figures\n",
      "US20130000125.pdf : 22 figures\n",
      "US20130067748.pdf : 11 figures\n",
      "US8100088.pdf : 20 figures\n",
      "US20110154667.pdf : 34 figures\n",
      "US20140215829.pdf : 8 figures\n",
      "US8365415.pdf : 4 figures\n",
      "US20140325846.pdf : 15 figures\n",
      "US20130327348.pdf : 1 figures\n",
      "US8096053.pdf : 22 figures\n",
      "US8726516.pdf : 42 figures\n"
     ]
    }
   ],
   "source": [
    "# -- Loop --\n",
    "for pdfname in remainingpdfs:\n",
    "    \n",
    "    pdfpath = pdfdir + pdfname\n",
    "    \n",
    "    patentnumber = pdfname.strip('.pdf')\n",
    "    \n",
    "    cropped_images = extract_from_pdf( pdfpath )\n",
    "    \n",
    "    if len(cropped_images)==0:\n",
    "        pdfwithoutfigure.append(pdfname)\n",
    "        print( '%s no figure'%pdfname )\n",
    "        continue\n",
    "    \n",
    "    print('%s : %i figures' % (pdfname, len(cropped_images)))\n",
    "    \n",
    "    for k, Iarray in enumerate( cropped_images ):\n",
    "        imagename = '%s-fig%i.png' % (patentnumber, k)\n",
    "        misc.imsave(savedir+imagename, Iarray )\n",
    "        #print( '  ' + imagename + \" sauvegardée\" )\n",
    "        \n",
    "pickle.dump( pdfwithoutfigure, open( \"pdfwithoutfigure.pickle\", \"wb\" ) )"
   ]
  },
  {
   "cell_type": "markdown",
   "metadata": {},
   "source": [
    "# brouillon"
   ]
  },
  {
   "cell_type": "code",
   "execution_count": 83,
   "metadata": {
    "collapsed": true
   },
   "outputs": [],
   "source": [
    "imagename = patentnumber"
   ]
  },
  {
   "cell_type": "code",
   "execution_count": 82,
   "metadata": {},
   "outputs": [
    {
     "data": {
      "image/png": "[encoded data removed]",
      "text/plain": [
       "<matplotlib.figure.Figure at 0x7fd3f805d438>"
      ]
     },
     "metadata": {},
     "output_type": "display_data"
    }
   ],
   "source": [
    "plt.figure( figsize=(10, 10) )\n",
    "plt.imshow( cropped_images[5], cmap='gray'  );"
   ]
  },
  {
   "cell_type": "code",
   "execution_count": 26,
   "metadata": {
    "collapsed": true
   },
   "outputs": [],
   "source": [
    "filename = 'images/US3746118-page-1.png' #\"images/test-3.png\"\n",
    "I = misc.imread(filename, mode='L') # ‘L’ (8-bit pixels, black and white)"
   ]
  },
  {
   "cell_type": "code",
   "execution_count": 28,
   "metadata": {},
   "outputs": [
    {
     "name": "stdout",
     "output_type": "stream",
     "text": [
      "3\n"
     ]
    }
   ],
   "source": [
    "cropped_images = extract_figures( I )\n",
    "print(len(cropped_images))"
   ]
  },
  {
   "cell_type": "code",
   "execution_count": 112,
   "metadata": {
    "collapsed": true
   },
   "outputs": [],
   "source": [
    "def extract_figures_old( I ):\n",
    "    B =  I < 127    # Convert to binary\n",
    "\n",
    "    B_label, nb_labels = ndimage.label( B )   # segmentation\n",
    "\n",
    "    sizes = ndimage.sum( B , B_label, range(nb_labels+1) ) # calcul le nombre de pixel dans chaque cluster\n",
    "\n",
    "    MIN_SIZE = 1600   # taille minimal pour accepter un cluster comme figure\n",
    "\n",
    "    # Arret du script : il n'y a pas de figure\n",
    "    if max( sizes ) < MIN_SIZE:\n",
    "        print('no figure')\n",
    "        return [] \n",
    "\n",
    "    # Efface les labels des clusters trop petit\n",
    "    mask_size = sizes < MIN_SIZE\n",
    "    remove_pixel = mask_size[ B_label ]\n",
    "    B_label[remove_pixel] = 0\n",
    "\n",
    "    # Filtre sur le ratio (pour les bande noir issus du scan)\n",
    "    # Rename labels\n",
    "    labels = np.unique(B_label)\n",
    "    B_label = np.searchsorted(labels, B_label)\n",
    "\n",
    "    bounting_box = ndimage.measurements.find_objects(B_label)\n",
    "    \n",
    "    RATIO_MAX = 25\n",
    "    LENGTH_MAX = 1000\n",
    "    for i, bbox in enumerate( bounting_box ):\n",
    "\n",
    "        w, h = [ s.stop-s.start for s in bbox[:2] ]  \n",
    "        ratio = max( w, h )/min( w, h )\n",
    "\n",
    "        if ratio > RATIO_MAX or w>LENGTH_MAX or h>LENGTH_MAX:\n",
    "            B_label[ B_label==i+1 ] = 0\n",
    "\n",
    "    # Sauvegarde la position des figures\n",
    "    Pict = B_label>0  # masque permettant de localiser ensuite les schémas\n",
    "\n",
    "    # Construction de la matrice de connection\n",
    "    SIZE = 17\n",
    "    M = np.zeros( (SIZE, SIZE) )\n",
    "    M[ int(SIZE/2), int(SIZE/2) ] = 1\n",
    "    M = ndimage.binary_dilation(M, iterations=int(SIZE/2)).astype(M.dtype)\n",
    "\n",
    "    # Dilation\n",
    "    B = ndimage.binary_dilation(B, structure=M) \n",
    "\n",
    "    # Segmentation une nouvel fois de l'image\n",
    "    B_label, nb_labels = ndimage.label( B )\n",
    "\n",
    "    # Est-ce qu'il y a une image ici ? \n",
    "    func = lambda I, pos: np.logical_and(I, Pict.flatten()[pos]).any()\n",
    "\n",
    "    label_pict = ndimage.labeled_comprehension(B, B_label, range(nb_labels+1), func,\\\n",
    "                        out_dtype='bool', default=False, pass_positions=True)\n",
    "\n",
    "    # si il n'y a aucun pixel commun entre le nouveau cluster (avec dilation) et \n",
    "    # les premiers obtenus (après filtrage sur le nombre de pixel)\n",
    "    # alors ce n'est pas une image\n",
    "\n",
    "    remove_pixel = np.logical_not(label_pict)[ B_label ]\n",
    "    B_label[remove_pixel] = 0\n",
    "\n",
    "    # Renome les labels\n",
    "    labels = np.unique(B_label)\n",
    "    B_label = np.searchsorted(labels, B_label)\n",
    "\n",
    "    # Compute the bounting box\n",
    "    bounting_box = ndimage.measurements.find_objects(B_label)\n",
    "\n",
    "    cropped_images = []\n",
    "    # crop and erase unwanted pixels \n",
    "    for k, bbox in enumerate( bounting_box ):\n",
    "        Icrop = np.copy( I[ bbox ] )\n",
    "        mask_erase =  B_label[ bbox ] != k+1\n",
    "        Icrop[ mask_erase ] = 255\n",
    "\n",
    "        cropped_images.append( Icrop )\n",
    "\n",
    "    return cropped_images "
   ]
  },
  {
   "cell_type": "code",
   "execution_count": null,
   "metadata": {
    "collapsed": true
   },
   "outputs": [],
   "source": []
  }
 ],
 "metadata": {
  "kernelspec": {
   "display_name": "Python 3",
   "language": "python",
   "name": "python3"
  },
  "language_info": {
   "codemirror_mode": {
    "name": "ipython",
    "version": 3
   },
   "file_extension": ".py",
   "mimetype": "text/x-python",
   "name": "python",
   "nbconvert_exporter": "python",
   "pygments_lexer": "ipython3",
   "version": "3.5.2"
  }
 },
 "nbformat": 4,
 "nbformat_minor": 2
}
