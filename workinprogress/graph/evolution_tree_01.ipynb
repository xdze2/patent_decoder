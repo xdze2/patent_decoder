{
 "cells": [
  {
   "cell_type": "code",
   "execution_count": 1,
   "metadata": {},
   "outputs": [],
   "source": [
    "import numpy as np\n",
    "\n",
    "import matplotlib.pyplot as plt\n",
    "%matplotlib inline"
   ]
  },
  {
   "cell_type": "markdown",
   "metadata": {},
   "source": [
    "# Bibliographie trouvée\n",
    "\n",
    "** en bio : **\n",
    "\n",
    "* Drawing explicit phylogenetic networks and their integration into SplitsTree\n",
    "https://link.springer.com/article/10.1186/1471-2148-8-22\n",
    "\n",
    "**Majeur :**\n",
    " * NEW  COMMON  ANCESTOR  PROBLEMS  IN  TREE AND  DIRECTED  ACYCLIC  GRAPHS\n",
    "         ->  the  “lowest single common ancestor” (LSCA) \n",
    "     https://pdfs.semanticscholar.org/71a9/b5dbfde43fe3b40d91e8ca24a49e7638b4f7.pdf\n",
    "\n",
    "        Fischer, Johannes, and Daniel H. Huson. \"New common ancestor problems in trees and directed acyclic graphs.\" Information processing letters 110.8-9 (2010): 331-335.\n",
    "\n",
    " et    page 307 : Summarizing Multiple Gene Trees Using Cluster Networks  \n",
    "`ftp://nozdr.ru/biblio/kolxo3/Cs/CsLn/Algorithms%20in%20Bioinformatics,%208%20conf.,%20WABI%202008(LNCS5251,%20Springer,%202008)(ISBN%209783540873600)(406s).pdf#page=307')`\n",
    " \n",
    " \n",
    "** Stackoverflow **\n",
    "* Lowest single common ancestor in a Directed Acyclic Graph? : https://cs.stackexchange.com/q/72538\n",
    "* https://stackoverflow.com/q/14865081/8069403"
   ]
  },
  {
   "cell_type": "markdown",
   "metadata": {},
   "source": [
    " ** Category of citation ** is one of {CH2 = Chapter 2; SUP = Supplementary search report ; ISR = International search report ; SEA = Search report; APP = Applicant; EXA = Examiner; OPP = Opposition; 115 = article 115; PRS = Pre-grant pre-search; APL = Appealed; FOP = Filed opposition}, Type is one of {A = technological background; D = document cited in application; E = earlier patent document; 1 = document cited for other reasons; O = Non-written disclosure; P = Intermediate document; T = theory or principle; X = relevant if taken alone; Y = relevant if combined with other documents}"
   ]
  },
  {
   "cell_type": "markdown",
   "metadata": {},
   "source": [
    "# Graph, test de NetworkX\n",
    "\n",
    "le site https://networkx.github.io/ et  la  [documentation](https://networkx.github.io/documentation/stable/index.html).\n"
   ]
  },
  {
   "cell_type": "markdown",
   "metadata": {},
   "source": [
    "## Création du graph"
   ]
  },
  {
   "cell_type": "code",
   "execution_count": 2,
   "metadata": {},
   "outputs": [
    {
     "name": "stdout",
     "output_type": "stream",
     "text": [
      "379\n"
     ]
    }
   ],
   "source": [
    "import pickle\n",
    "data = pickle.load( open( \"../web/data/patent_infos.pickle\", \"rb\" ) )\n",
    "\n",
    "print(len(data))"
   ]
  },
  {
   "cell_type": "code",
   "execution_count": 3,
   "metadata": {},
   "outputs": [],
   "source": [
    "import networkx as nx"
   ]
  },
  {
   "cell_type": "code",
   "execution_count": 4,
   "metadata": {},
   "outputs": [],
   "source": [
    "G = nx.DiGraph()"
   ]
  },
  {
   "cell_type": "code",
   "execution_count": 5,
   "metadata": {},
   "outputs": [
    {
     "data": {
      "text/plain": [
       "379"
      ]
     },
     "execution_count": 5,
     "metadata": {},
     "output_type": "execute_result"
    }
   ],
   "source": [
    "# add nodes\n",
    "\n",
    "patents = list( data.keys() )\n",
    "G.add_nodes_from( patents )\n",
    "\n",
    "G.number_of_nodes()"
   ]
  },
  {
   "cell_type": "code",
   "execution_count": 6,
   "metadata": {},
   "outputs": [
    {
     "data": {
      "text/plain": [
       "1149"
      ]
     },
     "execution_count": 6,
     "metadata": {},
     "output_type": "execute_result"
    }
   ],
   "source": [
    "# add edges\n",
    "\n",
    "for A, patent in data.items():\n",
    "    dateA = patent['year'], patent['month'], patent['day']\n",
    "    \n",
    "    for B in patent['cited']:\n",
    "        patentB = data[B]\n",
    "        dateB = patentB['year'], patentB['month'], patentB['day']\n",
    "        \n",
    "        if dateB < dateA:  # hack pour retirer les cycles... date pub. VS date priority ??\n",
    "            G.add_edge( B, A ) # la fleche est dans le sens du temps\n",
    "        \n",
    "G.number_of_edges()"
   ]
  },
  {
   "cell_type": "code",
   "execution_count": 7,
   "metadata": {},
   "outputs": [
    {
     "data": {
      "text/plain": [
       "True"
      ]
     },
     "execution_count": 7,
     "metadata": {},
     "output_type": "execute_result"
    }
   ],
   "source": [
    "nx.is_directed_acyclic_graph( G )"
   ]
  },
  {
   "cell_type": "code",
   "execution_count": 8,
   "metadata": {},
   "outputs": [
    {
     "data": {
      "text/plain": [
       "False"
      ]
     },
     "execution_count": 8,
     "metadata": {},
     "output_type": "execute_result"
    }
   ],
   "source": [
    "nx.is_weakly_connected( G )"
   ]
  },
  {
   "cell_type": "code",
   "execution_count": 9,
   "metadata": {},
   "outputs": [
    {
     "data": {
      "text/plain": [
       "False"
      ]
     },
     "execution_count": 9,
     "metadata": {},
     "output_type": "execute_result"
    }
   ],
   "source": [
    "nx.is_strongly_connected( G )"
   ]
  },
  {
   "cell_type": "markdown",
   "metadata": {},
   "source": [
    "# Nombre de composante"
   ]
  },
  {
   "cell_type": "code",
   "execution_count": 10,
   "metadata": {},
   "outputs": [
    {
     "name": "stdout",
     "output_type": "stream",
     "text": [
      "68\n"
     ]
    }
   ],
   "source": [
    "components = list( nx.weakly_connected_components( G ))\n",
    "print(len(components))"
   ]
  },
  {
   "cell_type": "code",
   "execution_count": 11,
   "metadata": {},
   "outputs": [
    {
     "name": "stdout",
     "output_type": "stream",
     "text": [
      "[312, 1, 1, 1, 1, 1, 1, 1, 1, 1, 1, 1, 1, 1, 1, 1, 1, 1, 1, 1, 1, 1, 1, 1, 1, 1, 1, 1, 1, 1, 1, 1, 1, 1, 1, 1, 1, 1, 1, 1, 1, 1, 1, 1, 1, 1, 1, 1, 1, 1, 1, 1, 1, 1, 1, 1, 1, 1, 1, 1, 1, 1, 1, 1, 1, 1, 1, 1]\n"
     ]
    }
   ],
   "source": [
    "print( [len(c) for c in sorted(nx.weakly_connected_components(G), key=len, reverse=True)] )"
   ]
  },
  {
   "cell_type": "code",
   "execution_count": 12,
   "metadata": {},
   "outputs": [
    {
     "data": {
      "text/plain": [
       "(312, 1149)"
      ]
     },
     "execution_count": 12,
     "metadata": {},
     "output_type": "execute_result"
    }
   ],
   "source": [
    "# Keep only the largest component :\n",
    "G = max(nx.weakly_connected_component_subgraphs(G), key=len)\n",
    "\n",
    "G.number_of_nodes(), G.number_of_edges()"
   ]
  },
  {
   "cell_type": "code",
   "execution_count": 13,
   "metadata": {},
   "outputs": [
    {
     "data": {
      "text/plain": [
       "True"
      ]
     },
     "execution_count": 13,
     "metadata": {},
     "output_type": "execute_result"
    }
   ],
   "source": [
    "nx.is_directed_acyclic_graph( G )"
   ]
  },
  {
   "cell_type": "markdown",
   "metadata": {},
   "source": [
    "# feuilles"
   ]
  },
  {
   "cell_type": "code",
   "execution_count": null,
   "metadata": {},
   "outputs": [],
   "source": [
    "leafs = [ n[0] for n in G.out_degree if n[1] == 0 ]\n",
    "print(len( leafs ))\n",
    "print(leafs)"
   ]
  },
  {
   "cell_type": "code",
   "execution_count": null,
   "metadata": {},
   "outputs": [],
   "source": [
    "allancestors = { L:nx.ancestors( G, L ) for L in leafs }"
   ]
  },
  {
   "cell_type": "code",
   "execution_count": null,
   "metadata": {},
   "outputs": [],
   "source": [
    "# graph\n",
    "size_ancestors = sorted( [ len( A ) for A in allancestors.values() ] )\n",
    "\n",
    "plt.step( range(len(size_ancestors)), size_ancestors )\n",
    "plt.xlabel('sorted leaf nodes')\n",
    "plt.ylabel('size of Ancestors( leaf )');"
   ]
  },
  {
   "cell_type": "code",
   "execution_count": null,
   "metadata": {},
   "outputs": [],
   "source": [
    "# brevet avec le plus d'ancetres... (ce sont des brevets qui cite beaucoup d'autre brevet...)\n",
    "print( (sorted( [ (k, len( A )) for k, A in allancestors.items() ], key=lambda x:x[1] )[-3:] ) )"
   ]
  },
  {
   "cell_type": "code",
   "execution_count": null,
   "metadata": {},
   "outputs": [],
   "source": [
    "list(allancestors.items())[0]"
   ]
  },
  {
   "cell_type": "code",
   "execution_count": null,
   "metadata": {},
   "outputs": [],
   "source": [
    "def dico_append( dico, key, value ):\n",
    "    if key in dico:\n",
    "        dico[key].append( value )\n",
    "    else:\n",
    "        dico[key] = [value]"
   ]
  },
  {
   "cell_type": "code",
   "execution_count": null,
   "metadata": {},
   "outputs": [],
   "source": [
    "branchs_from_node = {}\n",
    "\n",
    "for leafnode, ancestorsnodes in allancestors.items():\n",
    "    \n",
    "    for node in ancestorsnodes:\n",
    "        dico_append( branchs_from_node, node, leafnode )\n",
    "        \n",
    "print( len( branchs_from_node ))"
   ]
  },
  {
   "cell_type": "code",
   "execution_count": null,
   "metadata": {},
   "outputs": [],
   "source": [
    "254+58"
   ]
  },
  {
   "cell_type": "code",
   "execution_count": null,
   "metadata": {},
   "outputs": [],
   "source": [
    "G.number_of_nodes()"
   ]
  },
  {
   "cell_type": "code",
   "execution_count": null,
   "metadata": {},
   "outputs": [],
   "source": [
    "branches = { tuple( sorted(b) ) for b in branchs_from_node.values() }\n",
    "print(len(branches))"
   ]
  },
  {
   "cell_type": "code",
   "execution_count": null,
   "metadata": {},
   "outputs": [],
   "source": [
    "nodes_in_branches = {}\n",
    "\n",
    "for node, branche in branchs_from_node.items():\n",
    "    \n",
    "    branche_hashable = tuple( sorted(branche)) \n",
    "    dico_append( nodes_in_branches, branche_hashable, node )\n",
    "    \n",
    "print(len(nodes_in_branches))"
   ]
  },
  {
   "cell_type": "code",
   "execution_count": null,
   "metadata": {},
   "outputs": [],
   "source": [
    "branches_stats = sorted( [ (k, len(v)) for k, v in nodes_in_branches.items() ], key=lambda x:x[1], reverse=True )"
   ]
  },
  {
   "cell_type": "code",
   "execution_count": null,
   "metadata": {},
   "outputs": [],
   "source": [
    "plt.plot( [ x[1] for x in branches_stats] );\n",
    "plt.xlabel('branches sorted')\n",
    "plt.ylabel('number of nodes')\n",
    "\n",
    "print( sum( [ x[1] for x in branches_stats] ) )"
   ]
  },
  {
   "cell_type": "code",
   "execution_count": null,
   "metadata": {},
   "outputs": [],
   "source": [
    "plt.plot( sorted( [ len(b) for b in branches ] ), 'r' );\n",
    "plt.xlabel('branches sorted')\n",
    "plt.ylabel('number leaf nodes in the branch def.')\n"
   ]
  },
  {
   "cell_type": "code",
   "execution_count": null,
   "metadata": {},
   "outputs": [],
   "source": [
    "branches_stats2 =  [ (len(k), len(v)) for k, v in nodes_in_branches.items() ]"
   ]
  },
  {
   "cell_type": "code",
   "execution_count": null,
   "metadata": {},
   "outputs": [],
   "source": [
    "plt.plot( *list( zip( *branches_stats2 ) ), '.r' , alpha=0.5);\n",
    "\n",
    "plt.xlabel('number leaf nodes in the branch def.')\n",
    "plt.ylabel('number of nodes in the branch')"
   ]
  },
  {
   "cell_type": "code",
   "execution_count": null,
   "metadata": {},
   "outputs": [],
   "source": [
    "for b in sorted( branches, reverse=True ) :\n",
    "    print( ', '.join( b ) )\n",
    "    print('')"
   ]
  },
  {
   "cell_type": "markdown",
   "metadata": {},
   "source": [
    "### Knowledge\n",
    "\n",
    "l'idée est de supprimer les citations redondantes. Souvent, un article ancien est cité, alors qu'il est déjà cité par les publications citées. \n",
    "\n",
    "**definition n°0 :** pour tout article cité, si il existe un autre chemin entre lui et son article directement parent, alors on supprime le lien direct.\n",
    "\n"
   ]
  },
  {
   "cell_type": "raw",
   "metadata": {},
   "source": [
    "G = nx.DiGraph()\n",
    "G.add_nodes_from( range(3) )"
   ]
  },
  {
   "cell_type": "raw",
   "metadata": {},
   "source": [
    "G.add_edge( 0, 1 )\n",
    "G.add_edge( 0, 2 )\n",
    "G.add_edge( 1, 2 )"
   ]
  },
  {
   "cell_type": "raw",
   "metadata": {},
   "source": [
    "nx.draw(G, with_labels=True, font_weight='bold', node_color= 'white' )\n",
    "plt.draw()"
   ]
  },
  {
   "cell_type": "code",
   "execution_count": 14,
   "metadata": {},
   "outputs": [],
   "source": [
    "def knowledge( G ):\n",
    "    Gk = G.copy()\n",
    "\n",
    "    for a in G.nodes():\n",
    "        for cited in G.predecessors(a):\n",
    "            allpaths = list( nx.all_simple_paths( G, cited, a ) )\n",
    "            if(len(allpaths)) > 1:\n",
    "                # supprime le lien\n",
    "                Gk.remove_edge( cited, a )\n",
    "                \n",
    "    return Gk"
   ]
  },
  {
   "cell_type": "code",
   "execution_count": 24,
   "metadata": {},
   "outputs": [],
   "source": [
    "G = knowledge( G )"
   ]
  },
  {
   "cell_type": "code",
   "execution_count": 25,
   "metadata": {},
   "outputs": [
    {
     "data": {
      "text/plain": [
       "741"
      ]
     },
     "execution_count": 25,
     "metadata": {},
     "output_type": "execute_result"
    }
   ],
   "source": [
    "G.number_of_edges()"
   ]
  },
  {
   "cell_type": "raw",
   "metadata": {},
   "source": [
    "nx.draw(Gk, with_labels=True, font_weight='bold', node_color= 'white' )\n",
    "plt.draw()"
   ]
  },
  {
   "cell_type": "code",
   "execution_count": null,
   "metadata": {},
   "outputs": [],
   "source": []
  },
  {
   "cell_type": "markdown",
   "metadata": {},
   "source": [
    "# evolution tree"
   ]
  },
  {
   "cell_type": "code",
   "execution_count": 16,
   "metadata": {},
   "outputs": [
    {
     "name": "stdout",
     "output_type": "stream",
     "text": [
      "88\n",
      "['US20030140498', 'US1363164', 'US3712311', 'US1436010', 'US1499673', 'US770032', 'US766859', 'US1836557', 'US20020092172', 'US1702137', 'US650869', 'US794234', 'US138061', 'US20030094183', 'US2028558', 'US3089239', 'US796389', 'US1394727', 'US797576', 'US6155270', 'US2532370', 'US1001727', 'US1721415', 'US869946', 'US2146132', 'US1430779', 'US20020134395', 'USRE26344', 'US183256', 'US1855063', 'US2480797', 'US768083', 'US898808', 'US327065', 'US20040123875', 'US843383', 'US512277', 'US806037', 'US20160066542', 'US762725', 'US2960766', 'US695342', 'US1727239', 'US853832', 'US20110290080', 'US1085569', 'US2540782', 'US954325', 'US4328819', 'US3555675', 'US244891', 'US2704398', 'US838755', 'US3832771', 'US1976067', 'US970067', 'US20070017540', 'US1447991', 'US1841847', 'US3680210', 'US846565', 'US857790', 'US741709', 'US1135987', 'US1081896', 'US1426696', 'US20020178585', 'US1125577', 'US523708', 'US4739552', 'US860975', 'US450703', 'US775568', 'US1290380', 'US1089019', 'US1849592', 'US846924', 'US612990', 'US3600803', 'US702516', 'US967598', 'US4228585', 'US1428396', 'US569903', 'US1383556', 'US782654', 'US994119', 'US464341']\n"
     ]
    }
   ],
   "source": [
    "# add virtual roor\n",
    "roots = [ n[0] for n in G.in_degree if n[1] == 0 ]\n",
    "print(len( roots ))\n",
    "print(roots)"
   ]
  },
  {
   "cell_type": "code",
   "execution_count": 17,
   "metadata": {},
   "outputs": [],
   "source": [
    "G.add_node( 0 )"
   ]
  },
  {
   "cell_type": "code",
   "execution_count": 18,
   "metadata": {},
   "outputs": [],
   "source": [
    "for r in roots:\n",
    "    G.add_edge( 0, r )"
   ]
  },
  {
   "cell_type": "code",
   "execution_count": 19,
   "metadata": {},
   "outputs": [
    {
     "name": "stdout",
     "output_type": "stream",
     "text": [
      "312\n"
     ]
    }
   ],
   "source": [
    "allpaths = {}\n",
    "def followthepath( source, previouspath=[] ):\n",
    "\n",
    "    path =  list( previouspath )    \n",
    "    path.append( source )\n",
    "\n",
    "    if source in allpaths:\n",
    "        allpaths[source].append( path )\n",
    "    else:\n",
    "        allpaths[source] = [ path ]\n",
    "    \n",
    "    for n in  G.successors(source):\n",
    "        followthepath( n, path )\n",
    "        \n",
    "followthepath(0)\n",
    "\n",
    "LSA = {}\n",
    "n_apparition = lambda v, pathsToNode : sum( [ 1 for path in pathsToNode if v in path ] )\n",
    "\n",
    "for v in nx.nodes(G):\n",
    "    pathsToV = allpaths[ v ]\n",
    "    \n",
    "    for node in nx.dfs_postorder_nodes(G):\n",
    "    \n",
    "        if len( pathsToV ) == n_apparition( node, pathsToV ) and v!=node:\n",
    "            LSA[ v ] = node\n",
    "            break\n",
    "            \n",
    "print(len(LSA))"
   ]
  },
  {
   "cell_type": "code",
   "execution_count": 20,
   "metadata": {},
   "outputs": [],
   "source": [
    "T = nx.Graph()"
   ]
  },
  {
   "cell_type": "code",
   "execution_count": 21,
   "metadata": {},
   "outputs": [],
   "source": [
    "T.add_nodes_from( LSA.keys() )"
   ]
  },
  {
   "cell_type": "code",
   "execution_count": 22,
   "metadata": {},
   "outputs": [],
   "source": [
    "T.add_edges_from( LSA.items() )"
   ]
  },
  {
   "cell_type": "code",
   "execution_count": 23,
   "metadata": {},
   "outputs": [],
   "source": [
    "nx.write_graphml(T, 'evolutiontree02.graphml' )"
   ]
  },
  {
   "cell_type": "code",
   "execution_count": 26,
   "metadata": {},
   "outputs": [],
   "source": [
    "nx.write_graphml(G, 'knowkedgegraph.graphml' )"
   ]
  },
  {
   "cell_type": "code",
   "execution_count": null,
   "metadata": {},
   "outputs": [],
   "source": []
  }
 ],
 "metadata": {
  "kernelspec": {
   "display_name": "Python 3",
   "language": "python",
   "name": "python3"
  },
  "language_info": {
   "codemirror_mode": {
    "name": "ipython",
    "version": 3
   },
   "file_extension": ".py",
   "mimetype": "text/x-python",
   "name": "python",
   "nbconvert_exporter": "python",
   "pygments_lexer": "ipython3",
   "version": "3.5.2"
  }
 },
 "nbformat": 4,
 "nbformat_minor": 2
}
