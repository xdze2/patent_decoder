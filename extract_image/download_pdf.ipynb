{
 "cells": [
  {
   "cell_type": "code",
   "execution_count": 5,
   "metadata": {
    "collapsed": true
   },
   "outputs": [],
   "source": [
    "import requests\n",
    "import pickle\n",
    "import os\n",
    "import time\n",
    "from random import randint"
   ]
  },
  {
   "cell_type": "code",
   "execution_count": 7,
   "metadata": {},
   "outputs": [],
   "source": [
    "session = requests.Session()\n",
    "session.headers.update({'User-Agent': 'Mozilla/5.0 (X11; Linux x86_64; rv:57.0) Gecko/20100101 Firefox/57.0', \\\n",
    "                        'Accept':'text/html,application/xhtml+xml,application/xml;q=0.9,image/webp,*/*;q=0.8'})\n",
    "\n",
    "#session.headers.update({'User-Agent': 'Mozilla/5.0 (Windows NT 10.0; WOW64; rv:50.0) Gecko/20100101 Firefox/50.0', \\\n",
    "#                        'Accept':'text/html,application/xhtml+xml,application/xml;q=0.9,image/webp,*/*;q=0.8'})"
   ]
  },
  {
   "cell_type": "markdown",
   "metadata": {},
   "source": [
    "see\n",
    "http://edmundmartin.com/random-user-agent-requests-python/"
   ]
  },
  {
   "cell_type": "code",
   "execution_count": 8,
   "metadata": {},
   "outputs": [
    {
     "name": "stdout",
     "output_type": "stream",
     "text": [
      "379\n"
     ]
    }
   ],
   "source": [
    "patentlist = pickle.load( open('../YearsPatentNumber_ggle.pickle','rb') )\n",
    "print(len(patentlist))"
   ]
  },
  {
   "cell_type": "code",
   "execution_count": 9,
   "metadata": {},
   "outputs": [
    {
     "data": {
      "text/plain": [
       "[('US-138061-A', 1873),\n",
       " ('US-183256-A', 1876),\n",
       " ('US-219633-A', 1879),\n",
       " ('US-244891-A', 1881),\n",
       " ('US-293718-A', 1884),\n",
       " ('US-327065-A', 1885),\n",
       " ('US-413712-A', 1889),\n",
       " ('US-442247-A', 1890),\n",
       " ('US-464341-A', 1891),\n",
       " ('US-450703-A', 1891)]"
      ]
     },
     "execution_count": 9,
     "metadata": {},
     "output_type": "execute_result"
    }
   ],
   "source": [
    "patentlist[:10]"
   ]
  },
  {
   "cell_type": "code",
   "execution_count": 30,
   "metadata": {
    "collapsed": true
   },
   "outputs": [],
   "source": [
    "patentlist_formated = [ num[0].split('-')[1] for num in patentlist ]"
   ]
  },
  {
   "cell_type": "code",
   "execution_count": 38,
   "metadata": {
    "collapsed": true
   },
   "outputs": [],
   "source": [
    "# le format du numéro de brevet :\n",
    "# 6 ou 7 digits\n",
    "# ou l'année + 7 digits\n",
    "# si on trouve année+6digits ce n'est pas bon\n",
    "\n",
    "def addzero( number ):\n",
    "    if len( number ) > 7:  # en vrai ==10\n",
    "        number = number[0:4] + number[4:].zfill(7)\n",
    "\n",
    "    return number"
   ]
  },
  {
   "cell_type": "code",
   "execution_count": 32,
   "metadata": {
    "collapsed": true
   },
   "outputs": [],
   "source": [
    "patentlist_formated = [ addzero( num ) for num in patentlist_formated ]"
   ]
  },
  {
   "cell_type": "code",
   "execution_count": 33,
   "metadata": {
    "collapsed": true
   },
   "outputs": [],
   "source": [
    "PATH = 'pdfs/'\n",
    "def query(patent_number):\n",
    "\n",
    "    # download the patent pdf file\n",
    "    pdfname = 'US%s.pdf' % patent_number\n",
    "\n",
    "    # cache \n",
    "    if not os.path.isfile(PATH+pdfname) :\n",
    "\n",
    "        url = 'http://patentimages.storage.googleapis.com/pdfs/%s' % pdfname\n",
    "        \n",
    "        #url = 'http://www.pat2pdf.org/pat2pdf/foo.pl?number=%s' % patent_number\n",
    "        #url = 'http://www.pat2pdf.org/patents/pat%s.pdf' % patent_number.strip('US')\n",
    "\n",
    "\n",
    "        # query\n",
    "        r = session.get(url)\n",
    "        \n",
    "        if r.status_code == 200:\n",
    "            with open(PATH+pdfname, \"wb\") as file:\n",
    "                file.write( r.content )\n",
    "                print( 'save %s'%pdfname )\n",
    "                sucess = True\n",
    "                \n",
    "        else:\n",
    "            sucess = False\n",
    "            print('error: %i'%r.status_code)\n",
    "\n",
    "    else:\n",
    "        sucess = True\n",
    "        local_filename = PATH+pdfname\n",
    "        print('already saved : %s'%local_filename)\n",
    "        \n",
    "    return sucess"
   ]
  },
  {
   "cell_type": "code",
   "execution_count": 34,
   "metadata": {
    "collapsed": true
   },
   "outputs": [],
   "source": [
    "class stoploop(Exception):\n",
    "    pass"
   ]
  },
  {
   "cell_type": "code",
   "execution_count": 35,
   "metadata": {},
   "outputs": [
    {
     "name": "stdout",
     "output_type": "stream",
     "text": [
      "go ? yes\n",
      "already saved : pdfs/US5890295.pdf\n",
      "already saved : pdfs/US5926956.pdf\n",
      "already saved : pdfs/US5931167.pdf\n",
      "already saved : pdfs/US5918375.pdf\n",
      "already saved : pdfs/US6050269.pdf\n",
      "already saved : pdfs/US6155270.pdf\n",
      "save US20010007172.pdf\n",
      "save US6173497.pdf\n",
      "save US6473969.pdf\n",
      "save US20020092170.pdf\n"
     ]
    }
   ],
   "source": [
    "# -- Loop --\n",
    "\n",
    "confirm_input = input('go ? ')\n",
    "if confirm_input != 'yes':\n",
    "    raise stoploop( 'abort' )\n",
    "\n",
    "for patent_number in patentlist_formated[200:210]:\n",
    "        \n",
    "    # fake query\n",
    "    if randint(1, 10) == 2:\n",
    "        url = 'https://www.google.com/patents/US%s' % patent_number\n",
    "        r = session.get(url)\n",
    "        time.sleep( randint(20, 80) )\n",
    "        \n",
    "    # real query\n",
    "    sucess = query(patent_number)\n",
    "    \n",
    "    # arret \n",
    "    if not sucess:\n",
    "        print('end loop :%s'%patent_number)\n",
    "        break\n",
    "    \n",
    "    # timer\n",
    "    time.sleep( randint(1, 15) )"
   ]
  },
  {
   "cell_type": "markdown",
   "metadata": {},
   "source": [
    "http://patentimages.storage.googleapis.com/pdfs/US2001007172.pdf   \n",
    "http://patentimages.storage.googleapis.com/pdfs/US20010007172.pdf"
   ]
  },
  {
   "cell_type": "code",
   "execution_count": null,
   "metadata": {},
   "outputs": [],
   "source": []
  },
  {
   "cell_type": "markdown",
   "metadata": {},
   "source": [
    "# Brouillon"
   ]
  },
  {
   "cell_type": "code",
   "execution_count": 18,
   "metadata": {},
   "outputs": [
    {
     "data": {
      "text/plain": [
       "'442247'"
      ]
     },
     "execution_count": 18,
     "metadata": {},
     "output_type": "execute_result"
    }
   ],
   "source": [
    "k = 7\n",
    "patent_number = patentlist[k][0].split('-')[1]\n",
    "patent_number"
   ]
  },
  {
   "cell_type": "code",
   "execution_count": 63,
   "metadata": {},
   "outputs": [
    {
     "data": {
      "text/plain": [
       "'https://www.google.com/patents/US138061'"
      ]
     },
     "execution_count": 63,
     "metadata": {},
     "output_type": "execute_result"
    }
   ],
   "source": [
    "url = 'https://www.google.com/patents/US%s' % patent_number\n",
    "url"
   ]
  },
  {
   "cell_type": "code",
   "execution_count": 64,
   "metadata": {
    "collapsed": true
   },
   "outputs": [],
   "source": [
    "r = session.get(url)"
   ]
  },
  {
   "cell_type": "code",
   "execution_count": 65,
   "metadata": {},
   "outputs": [
    {
     "data": {
      "text/plain": [
       "200"
      ]
     },
     "execution_count": 65,
     "metadata": {},
     "output_type": "execute_result"
    }
   ],
   "source": [
    "r.status_code"
   ]
  },
  {
   "cell_type": "code",
   "execution_count": 67,
   "metadata": {
    "collapsed": true
   },
   "outputs": [],
   "source": [
    "with open('ggtest.html', \"wb\") as file:\n",
    "    file.write( r.content )"
   ]
  },
  {
   "cell_type": "code",
   "execution_count": null,
   "metadata": {
    "collapsed": true
   },
   "outputs": [],
   "source": []
  }
 ],
 "metadata": {
  "kernelspec": {
   "display_name": "Python 3",
   "language": "python",
   "name": "python3"
  }
 },
 "nbformat": 4,
 "nbformat_minor": 2
}
