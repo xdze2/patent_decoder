{
 "cells": [
  {
   "cell_type": "markdown",
   "metadata": {},
   "source": [
    "# Pré-traitement des données 'Google'\n",
    "\n",
    "* requète sur `BigQuerry`:\n",
    "        /* 26Go proceceed */\n",
    "\n",
    "        #standardSQL\n",
    "\n",
    "        SELECT\n",
    "          root.publication_number,\n",
    "          publication_date,\n",
    "          root.title_localized,\n",
    "          root.cpc,\n",
    "          root.citation\n",
    "        FROM\n",
    "          `patents-public-data.patents.publications` root,\n",
    "          UNNEST( cpc ) AS cpc\n",
    "        WHERE \n",
    "         cpc.code like 'A45D29/02' and\n",
    "         country_code = 'US'\n",
    "        LIMIT\n",
    "          1000"
   ]
  },
  {
   "cell_type": "code",
   "execution_count": 125,
   "metadata": {
    "collapsed": true
   },
   "outputs": [],
   "source": [
    "import json\n",
    "import pickle"
   ]
  },
  {
   "cell_type": "code",
   "execution_count": 126,
   "metadata": {
    "collapsed": true
   },
   "outputs": [],
   "source": [
    "import datetime as dt"
   ]
  },
  {
   "cell_type": "code",
   "execution_count": 127,
   "metadata": {},
   "outputs": [
    {
     "name": "stdout",
     "output_type": "stream",
     "text": [
      "408\n"
     ]
    }
   ],
   "source": [
    "# load the data\n",
    "file_path = './data/fulldata_gglBigQuery.json'\n",
    "\n",
    "data_brut = []\n",
    "with open(file_path) as f:\n",
    "    for line in f:\n",
    "        entry = json.loads(line)\n",
    "        data_brut.append( entry )\n",
    "        \n",
    "print( len(data_brut) )"
   ]
  },
  {
   "cell_type": "code",
   "execution_count": 128,
   "metadata": {},
   "outputs": [
    {
     "name": "stdout",
     "output_type": "stream",
     "text": [
      "dict_keys(['cpc', 'description_localized', 'assignee_harmonized', 'publication_date', 'inventor_harmonized', 'citation', 'priority_claim', 'title_localized', 'publication_number', 'abstract_localized'])\n"
     ]
    }
   ],
   "source": [
    "print( data_brut[10].keys() )"
   ]
  },
  {
   "cell_type": "markdown",
   "metadata": {},
   "source": [
    "## Créer un dictionnaire { patent_number : infos, ... }"
   ]
  },
  {
   "cell_type": "code",
   "execution_count": 129,
   "metadata": {
    "collapsed": true
   },
   "outputs": [],
   "source": [
    "# formate le numéro de brevet (pour ggl):\n",
    "# 6 ou 7 digits\n",
    "# ou l'année + 7 digits\n",
    "# si on trouve année+6digits ce n'est pas bon\n",
    "\n",
    "# voir: https://www.uspto.gov/patents-application-process/applying-online/patent-number\n",
    "# http://www.bpmlegal.com/howtopat1.html\n",
    "\n",
    "def format_patentnumber( pubnumber ):\n",
    "    \n",
    "    number = pubnumber.split('-')[1]\n",
    "    \n",
    "    if len( number ) > 7:  # en vrai ==10\n",
    "        number = number[0:4] + number[4:].zfill(7)\n",
    "\n",
    "    number = 'US' + number\n",
    "    \n",
    "    return number"
   ]
  },
  {
   "cell_type": "code",
   "execution_count": 130,
   "metadata": {},
   "outputs": [
    {
     "name": "stdout",
     "output_type": "stream",
     "text": [
      "379\n"
     ]
    }
   ],
   "source": [
    "data = {}\n",
    "k = 0  # debug\n",
    "for entry in data_brut:\n",
    "   \n",
    "    \n",
    "    pubnum = entry['publication_number']\n",
    "    patent_number = format_patentnumber( pubnum )\n",
    "    \n",
    "    if patent_number in data: # supprime les doublons\n",
    "        continue\n",
    "\n",
    "    new_entry = {}\n",
    "    \n",
    "    new_entry['publication_number_raw'] = pubnum\n",
    "    new_entry['patent_number'] = patent_number\n",
    "    \n",
    "    # date\n",
    "    new_entry['year'] = int(  entry['publication_date'][0:4] )   \n",
    "    new_entry['month'] = int( entry['publication_date'][4:6] )\n",
    "    new_entry['day'] = int(   entry['publication_date'][6:]  )\n",
    "    date = dt.date(new_entry['year'], new_entry['month'], new_entry['day'])\n",
    "    \n",
    "    new_entry['date_str'] = entry['publication_date']\n",
    "    new_entry['date_formatted'] = date.strftime( '%B %d, %Y' )\n",
    "    \n",
    "    # info\n",
    "    new_entry['title'] = entry['title_localized'][0]['text'].strip('.')\n",
    "    \n",
    "    # abstract\n",
    "    if len( entry['abstract_localized'] )>0:\n",
    "        new_entry['abstract'] = entry['abstract_localized'][0]['text']\n",
    "    else:\n",
    "        new_entry['abstract'] = ''\n",
    "        \n",
    "    # description text\n",
    "    if len( entry['description_localized'] )>0:\n",
    "        new_entry['description'] = entry['description_localized'][0]['text']\n",
    "    else:\n",
    "        new_entry['description'] = ''\n",
    "    \n",
    "    # inventor & assignee\n",
    "    new_entry['inventor'] = entry['inventor_harmonized']\n",
    "    new_entry['assignee'] = entry['assignee_harmonized']\n",
    "    \n",
    "    # citations :\n",
    "    citation = [] \n",
    "    for cit in entry['citation']:\n",
    "        if not cit['publication_number'] : continue\n",
    "        infos = {}\n",
    "        infos['publication_number_raw'] = cit['publication_number'] \n",
    "        infos['patent_number'] = format_patentnumber( cit['publication_number']  )\n",
    "\n",
    "        infos['category'] =  cit['category'] \n",
    "\n",
    "        citation.append( infos )\n",
    "        \n",
    "    new_entry['citation'] = citation\n",
    "\n",
    "    # CPC\n",
    "    new_entry['cpc'] = entry['cpc']\n",
    "    \n",
    "    # save\n",
    "    data[ patent_number ] = new_entry\n",
    "    \n",
    "    k+=1  # debug\n",
    "print(len(data))"
   ]
  },
  {
   "cell_type": "code",
   "execution_count": 131,
   "metadata": {},
   "outputs": [
    {
     "name": "stdout",
     "output_type": "stream",
     "text": [
      "dict_keys(['cpc', 'date_str', 'day', 'month', 'abstract', 'description', 'assignee', 'year', 'citation', 'inventor', 'publication_number_raw', 'date_formatted', 'patent_number', 'title'])\n"
     ]
    }
   ],
   "source": [
    "# test\n",
    "print( list(data.values())[2].keys() )"
   ]
  },
  {
   "cell_type": "markdown",
   "metadata": {},
   "source": [
    "## Mise en forme des noms"
   ]
  },
  {
   "cell_type": "code",
   "execution_count": 132,
   "metadata": {
    "collapsed": true
   },
   "outputs": [],
   "source": [
    "import re"
   ]
  },
  {
   "cell_type": "code",
   "execution_count": 133,
   "metadata": {
    "collapsed": true
   },
   "outputs": [],
   "source": [
    "def format_name( name ):\n",
    "    # ajoute le point pour une initiale (lettre seule)\n",
    "    singleletter = re.compile( r'\\b(?P<letter>[A-Z])(?!\\.)\\b' )\n",
    "    name = singleletter.sub('\\g<letter>.', name)\n",
    "\n",
    "    # passe en minuscule sauf premiere lettre\n",
    "    wordpattern = re.compile( r'\\b(?P<word>\\w+)\\b' )\n",
    "    titlefun = lambda match:  match.group('word').title()\n",
    "    name = wordpattern.sub(titlefun, name)\n",
    "\n",
    "    # JR -> Jr.\n",
    "    JRpattern = re.compile( r'\\b(?P<jr>JR)(?!\\.)\\b', re.I )\n",
    "    name = JRpattern.sub('Jr.', name)\n",
    "    \n",
    "    return name"
   ]
  },
  {
   "cell_type": "code",
   "execution_count": 134,
   "metadata": {},
   "outputs": [
    {
     "data": {
      "text/plain": [
       "'FRIEDMAN JR DAVID Jr. H hello B'"
      ]
     },
     "execution_count": 134,
     "metadata": {},
     "output_type": "execute_result"
    }
   ],
   "source": [
    "# test\n",
    "name = 'FRIEDMAN JR DAVID Jr. H hello B'\n",
    "format_name( name )\n",
    "name"
   ]
  },
  {
   "cell_type": "code",
   "execution_count": 135,
   "metadata": {
    "collapsed": true
   },
   "outputs": [],
   "source": [
    "# pour les inventeurs:\n",
    "for e in data.values():\n",
    "    for i in e['inventor']:\n",
    "        i['name_formatted'] = format_name( i['name'] )"
   ]
  },
  {
   "cell_type": "code",
   "execution_count": 136,
   "metadata": {
    "collapsed": true
   },
   "outputs": [],
   "source": [
    "# pour les 'assignees':\n",
    "for e in data.values():\n",
    "    for i in e['assignee']:\n",
    "        i['name_formatted'] = format_name( i['name'] )"
   ]
  },
  {
   "cell_type": "markdown",
   "metadata": {},
   "source": [
    "## Ajoute les entrées : 'cited' and 'citedby'"
   ]
  },
  {
   "cell_type": "code",
   "execution_count": 137,
   "metadata": {
    "collapsed": true
   },
   "outputs": [],
   "source": [
    "def countplusone( d, key ):\n",
    "    # compte les occurences \n",
    "    if key in d:\n",
    "        d[ key ]+=1\n",
    "    else:\n",
    "        d[ key ] = 1"
   ]
  },
  {
   "cell_type": "code",
   "execution_count": 138,
   "metadata": {},
   "outputs": [
    {
     "name": "stdout",
     "output_type": "stream",
     "text": [
      "1086\n"
     ]
    }
   ],
   "source": [
    "# init\n",
    "ghost = {}\n",
    "\n",
    "for entry in data.values():\n",
    "    entry['cited'] = []\n",
    "    entry['citedby'] = []\n",
    "    \n",
    "# loop\n",
    "for patent_number, entry in data.items():\n",
    "    \n",
    "    cited_number_list = [ c['patent_number'] for c in entry['citation']  ]\n",
    "    \n",
    "    for cited_number in cited_number_list:\n",
    "        if cited_number in data:\n",
    "            entry['cited'].append( cited_number )\n",
    "            data[ cited_number ]['citedby'].append( patent_number )\n",
    "        else:\n",
    "            countplusone( ghost, cited_number ) \n",
    "            \n",
    "    \n",
    "print( len(ghost) )  # nombre des brevets cités mais non dans DATA"
   ]
  },
  {
   "cell_type": "code",
   "execution_count": 139,
   "metadata": {},
   "outputs": [
    {
     "name": "stdout",
     "output_type": "stream",
     "text": [
      "[('US6220251', 17), ('US5546658', 16), ('US3744131', 16), ('US3838507', 15), ('US6523545', 14), ('US5392518', 14), ('US3903596', 14), ('US2955354', 13), ('US4856190', 12), ('US4196514', 12)]\n"
     ]
    }
   ],
   "source": [
    "# Statistique des brevets 'ghost'\n",
    "print( sorted( ghost.items(), key= lambda x:x[1], reverse = True)[:10] )"
   ]
  },
  {
   "cell_type": "code",
   "execution_count": 140,
   "metadata": {},
   "outputs": [
    {
     "name": "stdout",
     "output_type": "stream",
     "text": [
      "['US6553592', 'US20040123875', 'US7131448', 'US7263775']\n"
     ]
    }
   ],
   "source": [
    "# test\n",
    "print( list(data.values())[2]['cited'] )"
   ]
  },
  {
   "cell_type": "code",
   "execution_count": 141,
   "metadata": {
    "collapsed": true
   },
   "outputs": [],
   "source": [
    "pickle.dump( data, open('web/data/patent_infos.pickle','wb') )"
   ]
  },
  {
   "cell_type": "markdown",
   "metadata": {},
   "source": [
    "## Cherche les images existantes  et enregistre les meta-données"
   ]
  },
  {
   "cell_type": "code",
   "execution_count": 142,
   "metadata": {
    "collapsed": true
   },
   "outputs": [],
   "source": [
    "import os\n",
    "import re"
   ]
  },
  {
   "cell_type": "code",
   "execution_count": 143,
   "metadata": {},
   "outputs": [
    {
     "name": "stdout",
     "output_type": "stream",
     "text": [
      "nombre de figures: 2586\n"
     ]
    }
   ],
   "source": [
    "def patentid_from_figname( figname ):\n",
    "    return figname.split('-')[0]\n",
    " \n",
    "FIGURESDIR = 'web/static/figures_extracted/'\n",
    "FIGURESLIST =  os.listdir( FIGURESDIR )\n",
    "\n",
    "print('nombre de figures:', len(FIGURESLIST))"
   ]
  },
  {
   "cell_type": "code",
   "execution_count": 144,
   "metadata": {},
   "outputs": [
    {
     "data": {
      "text/plain": [
       "'US20060143923-fig18.png'"
      ]
     },
     "execution_count": 144,
     "metadata": {},
     "output_type": "execute_result"
    }
   ],
   "source": [
    "FIGURESLIST[0]"
   ]
  },
  {
   "cell_type": "code",
   "execution_count": 145,
   "metadata": {},
   "outputs": [
    {
     "name": "stdout",
     "output_type": "stream",
     "text": [
      "nombre de brevet hors DATA ayant une figure :  0\n"
     ]
    }
   ],
   "source": [
    "# init \n",
    "for entry in data.values():\n",
    "    entry['figures'] = []\n",
    "\n",
    "pattern = re.compile( r\"^(US[0-9RE]+)-fig([0-9]+).png$\" )\n",
    "\n",
    "# loop\n",
    "nopatentforfigure = {}\n",
    "for figname in FIGURESLIST:\n",
    "    matchs = pattern.match( figname )\n",
    "    if not matchs:\n",
    "        print( 'erreur %s' % figname )\n",
    "    else:\n",
    "        fignum = matchs.group(2)\n",
    "        patnum = matchs.group(1)\n",
    "        \n",
    "        figinfo = {'filename':figname, 'number':fignum}\n",
    "        \n",
    "        if patnum in data:\n",
    "            data[patnum]['figures'].append( figinfo )\n",
    "        else:\n",
    "            if patnum in nopatentforfigure:\n",
    "                nopatentforfigure[patnum].append( figinfo )\n",
    "            else:\n",
    "                nopatentforfigure[patnum] = [ figinfo ]\n",
    "                \n",
    "print('nombre de brevet hors DATA ayant une figure : ', len(nopatentforfigure))"
   ]
  },
  {
   "cell_type": "code",
   "execution_count": 146,
   "metadata": {},
   "outputs": [
    {
     "name": "stdout",
     "output_type": "stream",
     "text": [
      "nombre de brevets sans figures : 60\n"
     ]
    }
   ],
   "source": [
    "# Brevet sans figures :\n",
    "patentwithoutfigure = []\n",
    "for patnum, entry in data.items():\n",
    "    nfig = len( entry['figures'] )\n",
    "    if nfig == 0:\n",
    "        patentwithoutfigure.append( patnum )\n",
    "        \n",
    "print( 'nombre de brevets sans figures : %i'% len(patentwithoutfigure))\n",
    "\n",
    "# enregistre la liste - pour effectuer les traitements \n",
    "pickle.dump( data, open('extract_image/patentwithoutfigure.pickle','wb') )"
   ]
  },
  {
   "cell_type": "code",
   "execution_count": 147,
   "metadata": {
    "collapsed": true
   },
   "outputs": [],
   "source": [
    "# Trie les figures par numéro (à priori l'ordre d'aparition dans le brevet)\n",
    "\n",
    "for entry in data.values():\n",
    "    entry['figures'] = sorted(entry['figures'], key= lambda x: int( x['number'] ) )"
   ]
  },
  {
   "cell_type": "markdown",
   "metadata": {},
   "source": [
    "## Ajoute les dimensions de l'image"
   ]
  },
  {
   "cell_type": "code",
   "execution_count": 148,
   "metadata": {},
   "outputs": [],
   "source": [
    "from wand.image import Image"
   ]
  },
  {
   "cell_type": "code",
   "execution_count": 149,
   "metadata": {},
   "outputs": [],
   "source": [
    "def add_image_size( figure ):\n",
    "    filename = FIGURESDIR+figure['filename']\n",
    "\n",
    "    with Image(filename=filename) as img:\n",
    "        w, h = img.size\n",
    "\n",
    "    figure['width'] = w\n",
    "    figure['height'] = h"
   ]
  },
  {
   "cell_type": "code",
   "execution_count": 150,
   "metadata": {
    "collapsed": true
   },
   "outputs": [],
   "source": [
    "for entry in data.values() :\n",
    "    for figure in entry['figures']:\n",
    "        add_image_size( figure )"
   ]
  },
  {
   "cell_type": "markdown",
   "metadata": {
    "collapsed": true
   },
   "source": [
    "# Ajoute la legende"
   ]
  },
  {
   "cell_type": "code",
   "execution_count": 151,
   "metadata": {
    "collapsed": true
   },
   "outputs": [],
   "source": [
    "from extract_legend.extract_legend import  extract_finale_legend"
   ]
  },
  {
   "cell_type": "code",
   "execution_count": 152,
   "metadata": {
    "collapsed": true
   },
   "outputs": [],
   "source": [
    "def add_consecutive_field( legend ):\n",
    "    \"\"\" test si les numéros sont consécutifs (sans gap)\n",
    "    \"\"\"\n",
    "    for i in range( len(legend)-1 ):\n",
    "        n = legend[i]['numero']\n",
    "        nSuivant = legend[i+1]['numero']\n",
    "        if n+1 == nSuivant:\n",
    "            legend[i]['consecutive'] = True\n",
    "        else:\n",
    "            legend[i]['consecutive'] = False\n",
    "\n",
    "    legend[-1]['consecutive'] = True"
   ]
  },
  {
   "cell_type": "code",
   "execution_count": 153,
   "metadata": {},
   "outputs": [],
   "source": [
    "for e in data.values():\n",
    "    legend = extract_finale_legend( e['description'] )\n",
    "    if legend:\n",
    "        add_consecutive_field( legend )\n",
    "    e['legend'] = legend"
   ]
  },
  {
   "cell_type": "code",
   "execution_count": 154,
   "metadata": {
    "collapsed": true
   },
   "outputs": [],
   "source": [
    "pickle.dump( data, open('web/data/patent_infos.pickle','wb') )"
   ]
  },
  {
   "cell_type": "code",
   "execution_count": null,
   "metadata": {
    "collapsed": true
   },
   "outputs": [],
   "source": []
  }
 ],
 "metadata": {
  "kernelspec": {
   "display_name": "Python 3",
   "language": "python",
   "name": "python3"
  },
  "language_info": {
   "codemirror_mode": {
    "name": "ipython",
    "version": 3
   },
   "file_extension": ".py",
   "mimetype": "text/x-python",
   "name": "python",
   "nbconvert_exporter": "python",
   "pygments_lexer": "ipython3",
   "version": "3.5.2"
  }
 },
 "nbformat": 4,
 "nbformat_minor": 2
}
