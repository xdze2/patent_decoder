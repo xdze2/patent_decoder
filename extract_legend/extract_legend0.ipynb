{
 "cells": [
  {
   "cell_type": "markdown",
   "metadata": {},
   "source": [
    "# Extraire la legende depuis la description\n",
    "## tentative n°1"
   ]
  },
  {
   "cell_type": "markdown",
   "metadata": {},
   "source": [
    "https://regex101.com/"
   ]
  },
  {
   "cell_type": "code",
   "execution_count": 1290,
   "metadata": {},
   "outputs": [],
   "source": [
    "import pickle\n",
    "import regex   # permet overlapping matching"
   ]
  },
  {
   "cell_type": "code",
   "execution_count": 1291,
   "metadata": {},
   "outputs": [],
   "source": [
    "def print_legend( legend ):\n",
    "    sortfun = lambda x: ( x['number'] , len(x['position']), x['label'][::-1] )\n",
    "    legendsorted = sorted( legend, key=sortfun  )\n",
    "\n",
    "    current_number = legendsorted[0]['number']\n",
    "    for match in legendsorted:\n",
    "        if current_number != match['number']:\n",
    "            print('     --')\n",
    "            current_number = match['number']\n",
    "\n",
    "        n_merged = len(match['position'])\n",
    "        n_merged_str = '  ' if n_merged==1 else '(%i)'%n_merged\n",
    "        print( '{label:>42} {number:>4}  {n}  {context:>30}'.format( **match, n=n_merged_str) )"
   ]
  },
  {
   "cell_type": "code",
   "execution_count": 1292,
   "metadata": {},
   "outputs": [
    {
     "data": {
      "text/plain": [
       "379"
      ]
     },
     "execution_count": 1292,
     "metadata": {},
     "output_type": "execute_result"
    }
   ],
   "source": [
    "# load pre-processed data\n",
    "data = pickle.load( open( \"../web/data/patent_infos.pickle\", \"rb\" ) )\n",
    "len(data)"
   ]
  },
  {
   "cell_type": "code",
   "execution_count": 1293,
   "metadata": {
    "scrolled": true
   },
   "outputs": [
    {
     "name": "stdout",
     "output_type": "stream",
     "text": [
      "US9266223\n",
      "https://www.google.com/patents/US9266223\n",
      "nombre de mots : 13975\n"
     ]
    }
   ],
   "source": [
    "# select a patent\n",
    "\n",
    "k = 38 #44 #41\n",
    "patent = list(data.values())[k]\n",
    "description = patent['description']\n",
    "\n",
    "print( patent['patent_number'] )\n",
    "print( 'https://www.google.com/patents/%s'%patent['patent_number'] )\n",
    "\n",
    "print('nombre de mots :', len(description.split(' ')))"
   ]
  },
  {
   "cell_type": "code",
   "execution_count": 1294,
   "metadata": {},
   "outputs": [],
   "source": [
    "# Travail sur le texte entier :\n",
    "\n",
    "description = description.replace('\\n', '')\n",
    "description = regex.sub('\\s+',' ', description) # remove multiple space\n",
    "description = description.lower()\n",
    "\n",
    "# patent number XX\n",
    "patent_number_pattern = r'(\\d{1, 4}[,-])?\\d{3, 8}[,-]\\d{3, 8}'\n",
    "description = regex.sub(patent_number_pattern, '', description  )\n",
    "\n",
    "# remove non-AASII caracters\n",
    "description = regex.sub(r'[^\\x00-\\x7F]+', '', description)"
   ]
  },
  {
   "cell_type": "code",
   "execution_count": 1295,
   "metadata": {},
   "outputs": [
    {
     "name": "stdout",
     "output_type": "stream",
     "text": [
      "[]\n"
     ]
    }
   ],
   "source": [
    "# Find values\n",
    "units = ['inch', 'volt', 'm', 'mm']\n",
    "find_sci_values =  r\" (\\d{1,4}([\\.,]\\d{1,4})? (%s)\\W)\" % '|'.join(units)\n",
    "\n",
    "print( regex.findall(find_sci_values, description) )\n",
    "description = regex.sub(find_sci_values, '<value>', description  )"
   ]
  },
  {
   "cell_type": "code",
   "execution_count": 1296,
   "metadata": {},
   "outputs": [
    {
     "name": "stdout",
     "output_type": "stream",
     "text": [
      "[]\n"
     ]
    }
   ],
   "source": [
    "# Find values\n",
    "units = ['inch', 'volt', 'm', 'mm']\n",
    "find_sci_values =  r\" (\\d{1,4}([\\.,]\\d{1,4})? (%s)\\W)\" % '|'.join(units)\n",
    "\n",
    "print( regex.findall(find_sci_values, description) )\n",
    "description = regex.sub(find_sci_values, '<value>', description  )"
   ]
  },
  {
   "cell_type": "code",
   "execution_count": 1297,
   "metadata": {},
   "outputs": [
    {
     "name": "stdout",
     "output_type": "stream",
     "text": [
      "[('7,717,', ',717'), ('5,062,', ',062'), ('3,742,', ',742'), ('2,020,', ',020')]\n"
     ]
    }
   ],
   "source": [
    "# Find floats\n",
    "find_sci_floats =  r\" (\\d{1,4}([\\.,]\\d{1,4})\\W)\" \n",
    "\n",
    "print( regex.findall(find_sci_floats, description) )\n",
    "description = regex.sub(find_sci_floats, '<value>', description  )"
   ]
  },
  {
   "cell_type": "code",
   "execution_count": 1298,
   "metadata": {},
   "outputs": [
    {
     "name": "stdout",
     "output_type": "stream",
     "text": [
      "[]\n"
     ]
    }
   ],
   "source": [
    "# \" between 0.4 to 2.5 \" \n",
    "betweenpattern = r\"(between [\\d\\.,]{1,4} (to|and) [\\d\\.,]{1,4}\\W)\"\n",
    "\n",
    "print( regex.findall(betweenpattern, description) )\n",
    "description = regex.sub(betweenpattern, '<between>', description  )"
   ]
  },
  {
   "cell_type": "code",
   "execution_count": 1299,
   "metadata": {},
   "outputs": [
    {
     "data": {
      "text/plain": [
       "'cross-reference to related applications this application is a continuation-in-part of u.s. design application ser. no. 29/467,935 filed concurrently on sep. 25, 2013, which application is a continuation-in-part of international application no. pct/us2009/001442, filed mar. 4, 2009 designating the united states and other countries, which is a continuation of u.s. application ser. no. 12/137,482, filed jun. 11, 2008, now u.s. pat. no.<value>017 issued on may 18, 2010, the disclosures of which are hereby incorporated by reference in their entirety to provide continuity of disclosure to the extent such disclosures are not inconsistent with the disclosure herein. field of the invention this invention generally relates to tools and more particularly relates to hand tools and methods of manufacturing and using same. background of the invention conventional hand tools, such as conventional fingernail and toe nail clippers, have proven problematic to use, particularly when used by the elderly, arthritic individuals, stroke victims and others who have limited range of arm, wrist and hand movement. more specifically, conventional fingernail and toe nail clippers have a spring handle that pivots about a fulcrum. connected to the handle is a lever that is configured to downwardly press against the handle, so as to cause cutting edges formed on the handle to contact each other. however, the handle and lever must be in alignment with each other during the nail clipping operation to achieve efficient operation of the device. movement of the handle and lever into alignment during the nail clipping operation requires extensive manipulation of the handle and lever and extensive dexterity on the part of the user. such extensive manipulation and need for extensive dexterity is problematic for elderly persons, arthritic individuals, stroke victims and others having limited arm, wrist and hand movement. as another example, with respect to surgical instruments, it is often necessary to perform surgery on difficult-to-reach areas of the human body without obstructing the surgeon&#39;s field of view. this is also true with respect to veterinarians who perform surgery on animals. also, in the specific case of surgery, it is also often necessary for the surgeon to use one surgical instrument, such as scissors, to perform a clipping/cutting procedure on a body structure, while using another surgical instrument, such as forceps or clamps, to hold the body structure. these two surgical instruments typically have significantly different fixed configurations. having to stock a multiplicity of surgical instruments in hospital inventory with significantly different fixed configurations for performing different surgical functions is inconvenient and costly. as a further example, with respect to wire and bolt cutters, it is sometimes necessary to sever cables and bolts located in confined spaces and recesses. this may be necessary when performing machinery repair, remodeling/renovating buildings, rescue of persons trapped by fallen building structure and debris, and rescue of persons trapped in damaged automobiles due to a collision. use of cable and bolt cutters having configurations with cutting edges in a permanent, fixed orientation can make such cutting operations more difficult. attempts have been made to address the considerations mentioned hereinabove with respect to the structure and use of hand tools. for example, u.s. pat. no.<value>666 titled nail clipper issued nov. 12, 1991, in the name of jaw-shiunn tsay relates to an improved nail clipper. according to the tsay patent, the nail clipper comprises an elongate lever, a short upper body, a long lower body and a joint pin to assemble the lever and both the upper and the lower bodies together at their front sections, so that the lever can be pressed down to compress the upper body downward on the lower body. the nail clipper further comprises two opposed pairs of curved cutting edges provided on opposite sides of the upper and the lower bodies (see figs. 3, 4, 5 and 6 of the tsay patent). the cutting edges are fixed at two positions, one position being perpendicular to the other position. this patent states that an advantage of the nail clipper is that the two pairs of cutting edges can easily clip nails on the other hand after finishing one hand. however, the tsay patent discloses that the cutting edges are fixed at two positions, one position being perpendicular to the other position. fixing the cutting edges at two positions may nonetheless require a user to extensively manipulate the nail clipper to clip nails. requiring the user to extensively manipulate the nail clipper to clip nails is inconvenient for the user. another attempt to address the considerations mentioned hereinabove with respect to the structure and use of hand tools is disclosed in u.s. pat. no.<value>957 titled surgical clamp issued jul. 3, 1973, in the name of jack h. white. the white patent relates to surgical and like clamps. according to the white patent, a clamp includes a set of jaws including a gripping portion and an actuating portion and pin means pivotally connecting the jaws for movement between open and closed positions within a first plane. a set of handles comprising crank arms are disposed and operable between the open and closed positions within a second plane. the second plane is mutually intersecting with the first plane and the crank arms are connected to the actuating portion of the jaws at the junctures of respective leg portions of the crank arms. as mentioned in the white patent, this connection comprises a hinge for infinite angular positioning of the first plane containing the jaws with respect to the second plane containing the crank arms. also, the leg portions of the crank arms are pivotally joined as by a pin, which in the illustrated embodiment comprises a screw, to provide for opening and closing movement of the handles. however, the white patent discloses that opening and closing movement of the handles is accomplished by adjustment of a screw (i.e., pin) that joins the handles. only allowing opening and closing movement of the handles by means of a screw creates unnecessary delay in adjusting the clamp before surgery, readjusting the clamp during surgery, if necessary, and releasing the clamp after surgery because a screw driver is apparently needed to adjust the screw. such a delay before, during and after a surgical procedure is undesirable. another attempt to address the considerations mentioned hereinabove with respect to the structure and use of hand tools is disclosed in u.s. pat. no.<value>242 titled swivel head tool issued nov. 5, 1935, in the name of g. w. geddes. the geddes patent relates to tools in which the jaws may be placed in various angular positions relative to an operating handle system. according to the geddes patent, a bolt clipper embodying a jaw lever system and an actuating handle lever system are provided. the jaw levers can be adjusted to various angular positions relative to the plane of the handle levers so as to permit operating swinging movement of the jaws. for this purpose, joints embody mating spherical surfaces and tail portions of the jaw levers are provided with shallow recesses of spherical contour, which receive interposed balls on which at least of one of the parts turns (see column 2, lines 15-37 of the geddes patent). this patent also discloses that handle members are apparently pivotally mounted by means of a screw-like pin. however, although the geddes patent discloses handle members that are pivotally mounted, this patent apparently requires adjustment of a screw-like pin in order to return the handle members to their default position. requiring adjustment of the screw-like pin in order to return the handle members to their default position is inconvenient for the user because a screw driver is apparently needed to adjust the screw-like pin. although the approaches recited hereinabove disclose various configurations of hand tools, the approaches recited hereinabove do not appear to disclose the invention described and claimed hereinbelow. summary of the invention the present invention addresses the shortcomings of the prior art approaches mentioned hereinabove by providing a suitable hand tool, and method of manufacturing and using same. according to a first embodiment of the present invention, the hand tool comprises a handle assembly that, in use, is oriented in a y-axis plane. the handle assembly is sized and contoured to be manipulated by hand. in this regard, the handle assembly includes a generally smooth, arcuate-shaped upper handle member and a generally smooth, arcuate-shaped lower handle member disposed opposite the upper handle member. in this manner, the upper handle member and the lower handle member are disposed in the same y-axis plane for grasping by the user. in addition, the upper handle member and the lower handle member are pivotally linked or pivotally joined together by a linkage bolt that allows pivoting action of the handle members in the y-axis plane. that is, the upper and lower handle members pivot toward each other to a closed position when the user grasps and simultaneously applies manual pressure to the upper and lower handle members. a biasing member, which may be in the form of a leaf spring, is interposed between the handle members for automatically biasing the handle members away from each other in order to return the handle members to their default open position after hand pressure is released. the hand tool also comprises a coupler assembly including an upper coupler and a lower coupler. the upper coupler includes an articulating upper heim joint and the lower coupler includes an articulating lower heim joint. the upper heim joint is connected to the upper handle member and the lower heim joint is connected to the lower handle member. the upper and lower heim joints are each provided with threaded shanks for threadably engaging their respective upper and lower handle members. in this manner, the upper and lower heim joints are fixedly attached to their respective upper and lower handle members. as known in the art, a heim joint (i.e., also referred to in the art as a rose joint, rod end bearing, or heim bearing) allows multi-directional, such as side-to-side (i.e., rotational or swiveling), and tilting, substantially frictionless movement of a component connected to it without breaking of the component. as contemplated by the invention, a component comprising a tool head is connected to the upper and lower heim joints. the tool head can be fingernail or toe nail clipper blades, surgical clamp jaws, bolt cutter blades or other tool head. for example, with respect to blade tools (e.g., fingernail or toe nail clippers, bolt cutters), the tool head comprises an upper blade tool pivotally connected to the upper heim joint and a lower blade tool pivotally connected to the lower heim joint. a pivot pin joins the upper blade tool and the lower blade tool. in this manner, the pivot pin, upper heim joint and lower heim joint cooperate to allow simultaneous side-to-side (i.e., rotational or swiveling) movement of the upper and lower blade tools in addition to allowing closing and opening of the blade tools. the user manually moves the blade tools to a desired side-to-side (i.e., rotated, swiveled) and/or tilted orientation for operating on a work piece. when the user grasps and simultaneously applies manual pressure to the upper and lower handle members, the upper and lower handle members pivot toward each other and lock in position. as the upper and lower handle members pivot toward each other, the upper and lower blade tools also pivot toward each other due to the previously mentioned interconnection of the blade tools with the handle members. as the upper and lower blade tools pivot toward each other in this manner, the upper blade tool and the lower blade tool close. conversely, as manual pressure is released, the upper and lower handle members automatically pivot away from each other due to presence of the biasing member interposed between them. thus, as the upper and lower handle members pivot away from each other, the upper blade tool and the lower blade tool open, which is the default position of the device. in this manner, manual actuation of the handle members in cooperation with the heim joints that interconnect the tool head assembly and the handle assembly allow opening and closing of the upper and lower blade tools. the upper and lower heim joints allow their respective upper and lower blade tools to swivel or rotate side-to-side at least 180 degrees in the x-plane and tilt a limited amount (e.g., about 30) in the x and y axes planes in order to conveniently position the upper and lower blade tools at a desired location on the work piece. as previously mentioned, means are provided for locking the angular (i.e., rotational, swivel or side-to-side) and tilted position of the upper and lower blade tools. in other words, once the upper and lower blade tools are positioned at the desired location on the work piece, the handle members are closed in order to lock the upper and lower blade tools in their angular position and to actuate the upper and lower blade tools, so that the upper and lower blade tools close, as previously mentioned, to cut the work piece. thus, the upper blade tool, lower blade tool, pivot pin, upper heim joint, and lower heim joint cooperate to allow the upper blade tool and lower blade tool to simultaneously swivel or rotate at least 180 degrees in the x-axis plane and tilt a limited amount (i.e., about 30) in the x and y axes planes for positioning the upper blade tool and lower tool at the desired location for operating on the work piece. in this first embodiment of the invention, the tool head is detachable from the heim joints by means described in detail hereinbelow. this allows decoupling of the tool head from the heim joints, so that different types of tool heads and various sizes of the same type of tool head can be interchanged. also, providing for detachment or decoupling of the tool head from the heim joints allows replacement of a worn tool head. thus, the hand tool of the present invention is versatile and accommodates tool heads required for different applications. therefore, the 180 degree rotational (i.e., swivel) feature and the tilting feature allow the hand tool of the first embodiment of the invention to obtain a variable angle of attack on a work piece. obtaining such a variable of attack allows the hand tool to be conveniently manipulated in a manner that is particularly useful for elderly persons, arthritic individuals, stroke victims and others who have a limited range of arm, wrist and hand movement. the variable angle of attack also allows the hand tool to be conveniently manipulated in a manner that is particularly useful for performing surgical procedures on structures located in difficult-to-reach areas of the human body without obstructing the surgeon&#39;s field of view. in addition, the variable angle of attack allows the hand tool to be conveniently manipulated in a manner for cutting cables and bolts located in difficult to access, confined spaces. a second embodiment of the invention is strictly in the form of a fingernail or toe nail clipper and has some features similar to the features of the first embodiment of the invention. in this regard, the second embodiment of the invention comprises a pair of handle members each including a relatively thin, arcuate-shaped outer shell matingly mounted on an arcuate-shaped inner supporting frame member. the outer shell covers the frame member, so that the frame member is not substantially visible. the outer shell may be formed from an aesthetically pleasing, decorative polymer plastic material, or other aesthetically pleasing material, and the frame member may be a light weight metal, metal alloy or other light-weight composition, so that the nail clipper may be easily carried in pocket or purse. pair of oppositely disposed, pivotable cutting edges are interposed between distal end portions of the handle members and are generally concealed from view by the distal end portions of the handle members when viewed from the top or bottom of the device. a pair of heim joints interconnects respective ones of the pair of handle members with respective ones of the pair of cutting edges. the heim joints allow side-to-side rotational or swiveling movement of the cutting edges through an angle of about 180. the upper handle member and the lower handle member are pivotally joined together by a pivot pin that allows pivoting action of the handle members in the y-axis plane. the upper and lower handle members pivot toward each other to a closed position when the user grasps and simultaneously applies manual pressure to the upper and lower handle members. the cutting edges are simultaneously locked in position and cut the fingernails or toe nails of the user when hand pressure is applied to close the handle members. a biasing member, which may be in the form of a torsion spring, is interposed between the handle members for biasing the handle members to their open default position when hand pressure is released by the user. therefore, the 180 degree side-to-side (i.e., rotational or swivel) movement feature of the cutting edges belonging to this second embodiment of the invention allows the device to obtain a variable angle of attack, so that fingernails and toe nails can be conveniently clipped by elderly persons, arthritic individuals, stroke victims and others who have a limited range of arm, wrist and hand movement. according to an aspect of the present invention, there is provided a hand tool comprising a handle assembly oriented in a first plane and sized for hand manipulation; a tool head assembly coupled to the handle assembly for operating on a work piece in response to hand manipulation of the handle assembly; and at least one heim joint coupler interconnecting the handle assembly and the tool head assembly for rotating the tool head assembly to a selected angle relative to the handle assembly. according to another aspect of the present invention, there is provided a hand tool, comprising: a handle assembly including a pair of handles oriented in a first plane and sized for hand manipulation; a tool head assembly coupled to the handle assembly for operating on a work piece in response to hand manipulation of the pair of handles; and at least one heim joint coupler interconnecting the handle assembly and the tool head assembly for rotating the tool head assembly to a selected angle relative to the handle assembly, so that the tool head assembly is oriented to operate on the work piece at the selected angle. according to yet another aspect of the present invention there is provided a method of manufacturing a hand tool, comprising the steps of: providing a handle assembly; coupling a tool head assembly to the handle assembly; and interconnecting the handle assembly and the tool head assembly to at least one heim joint coupler. a feature of the present invention is the provision of a tool head assembly coupled to a handle assembly for operating on a work piece in response to hand manipulation of the handle assembly, the tool head assembly being adapted to operate on the work piece at a selected angle. another feature of the present invention is the provision of at least one heim joint coupler interconnecting the handle assembly and the tool head assembly. in addition to the foregoing, various other method and/or device aspects and features are set forth and described in the teachings, such as text (e.g., claims and/or detailed description) and/or drawings of the present invention. the foregoing is a summary and thus may contain simplifications, generalizations, inclusions, and/or omissions of detail. consequently, those skilled in the art will appreciate that the summary is illustrative only and is not intended to be in any way limiting. in addition to the illustrative aspects, embodiments, and features described hereinabove, further aspects, embodiments, and features will become apparent by reference to the drawings and the following detailed description. brief description of the drawing the invention will be more fully understood by reference to the detailed description in conjunction with the following figures, wherein: fig. 1 is a view in perspective of a first embodiment hand tool including a first embodiment tool head assembly configured as a fingernail or toe nail clipper; fig. 2 is a rear view in elevation of the first embodiment hand tool; fig. 3 is a front view in elevation of the first embodiment hand tool; fig. 4 is a right side view in elevation of the first embodiment hand tool; fig. 4a is a fragmentary view in elevation of the right side of the first embodiment hand tool; fig. 5 is a left side view in elevation of the first embodiment hand tool, the first embodiment hand tool being shown in an open position; fig. 5a is a left side view in elevation of the first embodiment hand tool, the first embodiment hand tool being shown in a closed position; fig. 6 is a partially exploded view of the first embodiment hand tool; fig. 7 is a top plan view of the first embodiment hand tool; fig. 8 is a bottom plan view of the first embodiment hand tool; fig. 9 is a right side view in elevation of a detached first embodiment tool head assembly configured as a fingernail or toe nail clipper; fig. 10 is a right side view in elevation of a detached second embodiment tool head assembly configured as a surgical clamp; fig. 11 is a right side view in elevation of a detached third embodiment tool head assembly configured as a cable/bolt cutter; fig. 12 is a view in perspective of a second embodiment hand tool including a tool head assembly configured as a fingernail or toe nail clipper, the second embodiment hand tool being shown in an open position; fig. 13 is a front view in elevation of the second embodiment hand tool; fig. 14 is a rear view in elevation of the second embodiment hand tool; fig. 15 is a right side view in elevation of the second embodiment hand tool; fig. 16 is a left side view in elevation of the second embodiment hand tool; fig. 16a is a fragmentary view in elevation of a distal end portion of the second embodiment hand tool; fig. 17 is a top plan view of the second embodiment hand tool; fig. 18 is a bottom plan view of the second embodiment hand tool; fig. 18a is a view in elevation of the second embodiment hand tool in a closed position; fig. 19 is an exploded view of the second embodiment hand tool; and fig. 20 is a flowchart showing an illustrative method of manufacturing the first and second embodiments of the hand tool. detailed description of preferred embodiments in the following detailed description, reference is made to the accompanying drawings, which form a part hereof. in the drawings, similar symbols typically identify similar components, unless context dictates otherwise. the illustrative embodiments described in the detailed description, drawings, and claims are not meant to be limiting. other embodiments may be utilized, and other changes may be made, without departing from either the spirit or scope of the invention. in addition, the present patent specification uses formal outline headings for clarity of presentation. however, it is to be understood that the outline headings are for presentation purposes, and that different types of subject matter may be discussed throughout the application (e.g., device(s)/structure(s) may be described under process(es)/operations heading(s) and/or process(es)/operations may be discussed under structure(s)/process(es) headings; and/or descriptions of single topics may span two or more topic headings). hence, the use of the formal outline headings is not intended to be in any way limiting. therefore, with reference to figs. 1 , 2 and 3 , there is shown a first embodiment hand tool, generally referred as 1000 , for operating on a work piece (not shown). in the exemplary embodiment illustrated, hand tool 1000 is a fingernail or toe nail clipper for clipping or cutting fingernails and toe nails of a user (also not shown). however, it will be appreciated that hand tool 1000 is not limited to the configuration of a fingernail or toe nail clipper. rather, hand tool 1000 may be in the configuration of other types of hand tools, as well, such as clamps and bolt cutters. referring again to figs. 1 , 2 and 3 , hand tool 1000 comprises a first embodiment hand held tool mount or handle assembly 1010 shown oriented in a y-axis or first plane. handle assembly 1010 , which is sized for hand manipulation or grasping by the user, includes a generally smooth, contoured, arcuate-shaped upper handle member 1020 and a generally smooth, contoured, arcuate-shaped lower handle member 1030 disposed in the first plane opposite upper handle member 1020 . the contoured or arcuate shape of upper handle member 1020 and lower handle member 1030 facilitates grasping thereof by the user of hand tool 1000 . upper handle member 1020 defines a proximal end portion 1032 a and a distal end portion 1032 b for reasons recited hereinbelow. similarly, lower handle member 1030 defines a proximal end portion 1035 a and a distal end portion 1035 b for reasons recited hereinbelow. the handle assembly 1010 is also provided with a resilient biasing member in the form of an elongate leaf spring 1040 for reasons provided hereinbelow. in this regard, leaf spring 1040 has a unitary construction that includes a central straight segment portion 1050 , which is disposed between an upper straight portion 1050 a and a lower rounded or curved end portion 1050 b . upper straight portion 1050 a is positioned generally intermediate proximal end portion 1032 a and distal end portion 1032 b of upper handle member 1020 . lower rounded or curved end portion 1050 b is positioned generally intermediate proximal end portion 1035 a and distal end portion 1035 b of lower handle member 1030 . still referring to figs. 1 , 2 and 3 , in order to hold the handle members 1020 / 1030 apart, lower rounded or curved end portion 1050 b of leaf spring 1040 is mounted within a lower handle member cutout 1060 by a mounting or spring pin indicated generally at 1070 . cutout 1060 is disposed at an inner rearward surface area of lower handle member 1030 in a manner that allows leaf spring 1040 to be disposed at an inclined angle between upper handle member 1020 and lower handle member 1030 . the opposite end of leaf spring 1040 , which terminates in upper straight portion 1050 a , permits the opposite or upper straight portion 1050 a to rest in engagement with an inner surface area of upper handle member 1020 . in short, leaf spring 1040 is wedged between upper handle member 1020 and lower handle member 1030 to provide a return force when the two handle members 1020 / 1030 are manually squeezed together by the user, such as in the direction of directional arrows 1075 a and 1075 b (see fig. 5a ). referring again to figs. 1 , 2 , and 3 , upper handle member 1020 and lower handle member 1030 are pivotably connected to each other on an axis defined by a mounting or linkage bolt 1080 and are held apart from one another, in a default position, by the previously mentioned leaf spring 1040 . linkage bolt 1080 therefore facilitates holding the two handle members 1020 / 1030 pivotally together. the previously mentioned return force is a force sufficient to cause the two handle members 1020 / 1030 to move pivotally away from one another about the axis defined by mounting or linkage bolt 1080 when handle members 1020 / 1030 are released by the user, so that handle members 1020 / 1030 return to their default or open positions as best seen in fig. 1 . although leaf spring 1040 of a particular configuration is illustrated, it should be understood by those skilled in the art that other suitable biasing or spring means may be utilized, such as a coiled compression spring (not shown) or other suitable spring means. as shown in figs. 1 , 2 and 3 , hand tool 1000 further includes a heim joint coupler assembly [the handle assembly was already called a tool mount] indicated generally at 1090 . the coupler assembly 1090 includes an upper mount or upper coupler in the form of an articulating upper heim joint 1100 . coupler assembly 1090 further includes a lower mount or lower coupler in the form of an articulating lower heim joint 1110 , [when you are going to describe different assembly components you should separate the reference characters by at least 100 unitsthis allows you to keep upper assembly component together and lower assembly component together which also allows the drawing parts to be more easily identified] upper heim joint 1100 is threadably attached to distal end portion 1032 b of upper handle member 1020 by means of an elongate, externally threaded upper shank portion 1120 that is received in an internally threaded upper bore or hole 1130 formed in distal end portion 1032 b . similarly, lower heim joint 1110 is threadably attached to distal end portion 1035 b of lower handle member 1030 by means of an elongate, externally threaded lower shank portion 1140 that is received in an internally threaded lower bore or hole 1150 formed in distal end portion 1035 b . thus, upper shank portion 1120 is threadably received in upper hole 1130 and lower shank portion 1140 is threadably received in lower hole 1150 for coupling shank portions 1120 / 1140 to handle members 1020 / 1030 , respectively. however, shank portions 1120 / 1140 and holes 1130 / 1150 need not be threaded; rather, shank portions 1120 / 1140 and holes 1130 / 1150 may be smooth and sized for allowing coupling of shank portions 1120 / 1140 to handle members 1020 / 1030 by means of a press-fit. referring to figs. 1 , 4 , 4 a, 5 , 5 a and 6 , upper heim joint 1100 comprises an annular upper casing 1160 integrally attached to upper shank portion 1120 . upper casing 1160 defines an opening 1165 therethrough for reasons provided hereinbelow. in addition, upper casing 1160 may have a generally spherical interior (not shown) contoured for slidably, matingly receiving a spherical upper ball swivel 1170 , such that upper ball swivel 1170 is slidably retained within upper casing 1160 . upper ball swivel 1170 defines an upper ball hole 1180 (see fig. 6 ) centrally therethrough for reasons provided hereinbelow. in this manner, upper ball swivel 1170 is capable of multi-directional, slidable movement within upper casing 1160 . in other words, upper ball swivel 1170 is capable of side-to-side, rotational, or swivel movement in the horizontal x-axis plane as illustrated by directional arrow 1182 (see fig. 1 ). in addition, upper ball swivel 1170 is capable of tilting movement in the y-axis plane as illustrated by directional arrow 1184 (see figs. 1 and 5a ) as well as tilting movement in the x-axis plane as illustrated by directional arrow 1186 (see fig. 1 ). referring again to figs. 1 , 4 , 4 a, 5 , 5 a and 6 , lower heim joint 1110 comprises an annular lower casing 1190 integrally attached to lower shank portion 1140 . lower casing 1190 defines a lower casing opening 1195 therethrough for reasons provided hereinbelow. in addition, lower casing 1190 may have a generally spherical interior (not shown) contoured for slidably, matingly receiving spherical lower ball swivel 1200 , such that lower ball swivel 1200 is slidably retained within lower casing 1190 . lower ball swivel 1200 defines a lower ball hole 1210 (see fig. 6 ) centrally therethrough for reasons provided hereinbelow. in this manner, lower ball swivel 1200 is capable of multi-directional, slidable movement within lower casing 1190 . in other words, lower ball swivel 1200 is capable of side-to-side, rotational, or swivel movement in the horizontal x-axis plane as illustrated by previously mentioned directional arrow 1182 (see fig. 1 ). in addition, lower ball swivel 1200 is capable of tilting movement in the y-axis plane as illustrated by directional arrow 1205 (see figs. 1 and 5a ) as well as tilting movement in the x-axis plane as illustrated by previously mentioned directional arrow 1186 (see fig. 1 ). as described fully hereinbelow, it will be appreciated that ball swivels 1170 / 1200 will rotate and tilt in unison as will be explained in greater detail hereinafter. referring to figs. 1 , 3 , 4 , 4 a, 5 , 5 a and 6 , to provide hand tool 1000 with the functionality noted hereinabove, hand tool 1000 further includes a replaceable, first embodiment tool head assembly, generally referred to as 1220 , for clipping fingernails and toe nails of the user of hand tool 1000 . in other words, tool head assembly 1220 , which is coupled to handle assembly 1010 by means of coupler assembly 1090 , is capable of operating on (i.e., clipping) the fingernails and toe nails (i.e., the work piece) of the user in response to hand manipulation of handle assembly 1010 , as described in detail presently. in this regard, tool head assembly 1220 generally includes an upper tool member 1230 and a lower tool member 1240 both disposed in the y-axis plane, lower tool member 1240 being oriented opposite to and coincident with upper tool member 1230 . lower tool member 1240 includes a lower tool member [it is always better to use names as opposed to first, second, etc.] pivoting portion 1250 a and upper tool member 1230 includes an upper tool member pivoting portion 1250 b (see fig. 3 ). the lower tool member pivoting portion 1250 a and upper tool member pivoting portion 1250 b are pivotably interconnected by a pivot pin 1260 . thus, the pivotable interconnection of first pivoting portion 1250 a and second pivoting portion 1250 b allow lower tool member 1240 and upper tool member 1230 to pivot about pivot pin 1260 for reasons provided hereinbelow. referring yet again to figs. 1 , 4 , 4 a, 5 , 5 a and 6 , upper tool member 1230 has a unitary construction and includes an upper jaw 1270 in the form of an upper blade tool having an upper tool elongate front cutting edge portion 1280 . similarly, lower tool member 1240 has a unitary construction and includes a lower jaw 1290 opposite upper jaw 1270 . the lower jaw 1290 is in the form of a lower blade tool having a lower tool elongate front cutting edge portion 1300 . fingernails and toe nails of the user are clipped or cut when cutting edge portions 1280 / 1300 are brought to bear against each in the manner described hereinbelow. still referring to figs. 1 , 4 , 4 a, 5 , 5 a and 6 , upper tool member 1230 includes an upper arm portion 1304 a and a lower arm portion 1304 b . lower arm portion 1304 b is disposed opposite of and coincident with upper arm portion 1304 a . upper arm portion 1304 a defines an internally threaded upper arm bore 1306 a therethrough and lower arm portion 1304 b defines an internally threaded lower arm bore 1306 b therethrough (see fig. 4a ), upper arm bore 1306 a and lower arm bore 1306 b are aligned with previously mentioned upper ball hole 1180 defined by the upper ball swivel 1170 . similarly, lower tool member 1240 includes a third or another upper arm portion 1308 a and a fourth or another lower arm portion 1308 b . the lower tool member lower arm portion 1308 b is disposed opposite of and coincident with the lower tool member upper arm portion 1308 a . the lower tool upper arm portion 1308 a defines an internally threaded lower tool upper arm bore 1309 a therethrough and lower tool lower arm portion 1308 b defines an internally threaded lower tool lower arm bore 1309 b therethrough (see fig. 4a ). the lower tool lower arm bore 1309 a and the lower tool upper arm bore 1309 b are aligned with previously mentioned lower ball hole 1210 defined by lower ball swivel 1200 . moreover, upper arm portion 1304 a and lower arm portion 1304 b of the upper tool member 1230 are spaced apart, so as to define a space 1310 therebetween for receiving upper heim joint 1100 thereinto. similarly, upper arm portion 1308 a and lower arm portion 1308 b of the lower tool member 1240 are space apart, so as to define another space 1320 therebetween for receiving lower heim joint 1110 thereinto. spaces 1310 and 1320 are sized to accommodate presence of heim joints 1100 / 1110 therein and allow tool head assembly 1220 to freely rotate in the x-axis plane without obstruction. in this regard, it will be appreciated by those skilled in the arm that ball swivels 1170 / 1200 will rotate and tilt in unison and to a like extent due to their interconnection by means of the upper tool member 1230 , the lower tool member 1240 and the pivot pin 1260 (see figs. 1 , 4 , 4 a, 5 and 5 a). although not critical, it is nonetheless important that tool head assembly 1220 be detachably coupled to coupler assembly 1090 , so that different types of tool head assemblies 1220 and various sizes of the same type of tool head assembly 1220 can be interchanged. also, providing for detachment of tool head assembly 1220 from coupler assembly 1090 allows replacement of a worn tool head assembly 1220 . thus, hand tool 1000 is versatile and accommodates tool head assemblies required for different applications. referring again to figs. 1 , 4 , 4 a, 5 , 5 a and 6 , the manner in which tool head assembly 1220 is detachably coupled to coupler assembly 1090 will now be described. in this regard, an upper connecting member, such as externally threaded upper tool screw-bolt 1330 (see fig. 6 ), is caused to threadably engage internally threaded upper arm bore 1306 a and internally threaded lower arm bore 1306 b as upper tool screw-bolt 1330 extends through upper arm bore 1306 a , upper ball hole 1180 defined by upper ball swivel 1170 and into lower arm bore 1306 b . in this manner, upper heim joint 1100 is retained within space 1310 as upper tool member 1230 rotates and/or tilts. similarly, a lower connecting member, such as externally threaded lower tool screw-bolt 1340 , is caused to threadably engage internally threaded lower arm bore 1309 b and internally threaded upper arm bore 1309 a as lower tool screw-bolt 1340 extends through upper arm bore 1309 b , lower ball hole 1210 defined by lower ball swivel 1200 and into upper arm bore 1309 a . in this manner, lower heim joint 1110 is retained within space 1320 as lower tool member 1240 rotates and/or tilts. also, in this manner, upper tool member 1230 and lower tool member 1240 are detachably coupled to upper heim joint 1100 and lower heim joint 1110 , respectively, due to use of screw bolts 1330 / 1340 . it should be appreciated that upper tool member 1230 and lower tool member 1240 will rotate and tilt in unison and to a like extent due to their interconnection by means of pivot pin 1260 and due to use of upper screw-bolt 1330 and lower screw-bolt 1340 , as described hereinabove. detaching or decoupling of upper tool member 1230 and lower tool member 1240 from upper heim joint 1100 and lower heim joint 1110 , respectively, is accomplished by reversing the above-described steps for coupling upper tool member 1230 and lower tool member 1240 to upper heim joint 1100 and lower heim joint 1110 . as previously indicated, movement of tool head assembly 1220 is multi-directional because tool head assembly 1220 is adapted to rotate or swivel in the x-axis plane and tilt in both the x-axis and y-axis planes. such rotation and tilting is provided by presence of upper ball swivel 1170 that belongs to upper heim joint 1100 and lower ball swivel 1200 that belongs to lower heim joint 1110 . however, for the sake of brevity, the description hereinbelow is directed only to rotation or swiveling of tool head assembly 1220 in the x-axis plane, it being understood that tool head assembly 1220 is adapted to swivel and tilt in the x-axis plane and only tilt in the y-axis plane. therefore, referring to figs. 1 , 7 and 8 , tool head assembly 1220 is adapted to move side-to-side (i.e., rotate or swivel) in the x-axis plane to a user selected angle less than or equal to an angle theta  of about 180 degrees. tool head assembly 1220 is capable of rotating in the x-axis plane due to presence of upper ball swivel 1170 and lower ball swivel 1200 , as previously mentioned. such side-to-side, rotational or swiveling movement of tool head assembly 1220 in the x-axis plane is accomplished by hand. turning now to figs. 9 , 10 and 11 , various tool head assembly embodiments are there shown. as previously mentioned, detachable first embodiment tool head assembly 1220 comprises upper jaw 1270 having upper tool front cutting edge 1280 and lower jaw 1290 having lower tool front cutting edge 1300 for cutting or clipping fingernails or toe nails of the user when upper tool cutting edge 1280 and lower tool front cutting edge 1300 are brought to bear against each other. a detachable second embodiment tool head assembly, generally referred to as 1350 , comprises an upper jaw 1360 having an upper jaw clamping extension 1370 and a lower jaw 1380 having a lower jaw clamping extension 1390 . upper jaw 1360 and lower jaw 1380 of second embodiment tool head assembly 1350 are capable of pivoting about pivot pin 1260 in a manner substantially similar to the pivoting action of upper jaw 1270 and lower jaw 1290 of first embodiment tool head 1220 . upper jaw clamping extension 1370 and lower jaw clamping extension 1390 are capable of capturing and holding a work piece (not shown) therebetween, such as tissue being operated upon during a surgical procedure. a detachable third embodiment tool head assembly, generally referred to as 1400 , comprises an upper jaw 1410 having a upper sharpened edge 1420 and a lower jaw 1430 having a lower sharpened edge 1440 . upper jaw 1410 and lower jaw 1430 of second embodiment tool head assembly 1440 are capable of pivoting about pivot pin 1260 in a manner substantially similar to the pivoting action of upper jaw 1270 and lower jaw 1290 of first embodiment tool head 1220 . upper sharpened edge 1420 and lower sharpened edge 1440 are capable of shearing a work piece (not shown) therebetween, such as a bolt or cable. turning now to figs. 12 , 13 and 14 , there is shown a second embodiment hand tool, generally referred to as 1450 . the second embodiment hand tool 1450 comprises a second embodiment hand held tool mount or handle assembly 1460 shown oriented in a y-axis or first plane. handle assembly 1460 , which is sized for hand manipulation or grasping by the user, comprises an upper handle member 1470 that includes a generally smooth, contoured, arcuate-shaped upper shell 1472 that matingly covers an arcuate-shaped upper frame member 1475 . upper frame member 1475 has a proximal end portion 1477 a and a distal end portion 1477 b . handle assembly 1460 further comprises a lower handle member 1480 that includes a generally smooth, contoured, arcuate-shaped lower shell 1482 that matingly covers an arcuate-shaped lower frame member 1484 . lower frame member 1484 has a proximal end portion 1485 a and a distal end portion 1485 b . lower handle member 1480 is disposed in the first plane opposite upper handle member 1470 . the contoured or arcuate shape of upper shell 1472 that belongs to upper handle member 1470 and the contoured or arcuate shape of lower shell 1482 that belongs to lower handle member 1480 facilitates grasping thereof by the user of hand tool 1450 . frame members 1475 / 1484 provide support for shells 1472 / 1482 and serves other useful functions, as described hereinbelow. upper handle member 1470 defines a proximal end portion 1486 a and a distal end portion 1486 b for reasons recited hereinbelow. similarly, lower handle member 1480 defines a proximal end portion 1488 a and a distal end portion 1488 b for reasons recited hereinbelow. hand tool 1450 is also provided with a resilient biasing member in the form of a coiled torsion spring 1490 for reasons provided hereinbelow. torsion spring 1490 is disposed between upper handle member 1470 and lower handle member 1480 . torsion spring 1490 is configured to have a pair of protruding ends 1492 a / 1492 b thereof in contact with upper handle member 1470 and lower handle member 1480 , respectively, for providing a biasing force against upper handle member 1470 and lower handle member 1480 . in this manner, torsion spring 1490 provides a biasing return force to maintain upper handle member 1470 and lower handle member 1480 in an open default position, as shown, upper handle member 1470 and lower handle member 1480 are maintained in the open default position until the user simultaneously applies manual pressure to upper handle member 1470 and lower handle member 1480 to move upper handle member 1470 and lower handle member 1480 closer together. this act by the user places torsion spring 1490 in compression. upon release of the manual pressure by the user, torsion spring 1490 is released from its compressed state and expands, so that handle members 1470 / 1480 return to their open, default positions. referring again to figs. 12 , 13 and 14 , upper handle member 1470 and lower handle member 1480 are pivotably connected to each other on an axis defined by a mounting or linkage bolt 1500 (see fig. 19 ) and are held apart from one another, in a default position, by the previously mentioned torsion spring 1490 . linkage bolt 1500 therefore facilitates holding the two handle members 1470 / 1480 pivotally together. although torsion spring 1490 of a particular configuration is illustrated, it should be understood by those skilled in the art that other suitable biasing or spring means may be utilized, such as a coiled compression spring (not shown) or other suitable spring means. referring to figs. 15 and 16 , hand tool 1450 generally includes a tool mount or coupler assembly indicated generally at 1510 . the coupler assembly 1510 includes an upper mount or upper coupler in the form of an articulating upper heim joint, generally referred to as 1520 . coupler assembly 1510 further includes a lower mount or lower coupler in the form of an articulating lower heim joint, generally referred to as 1530 . upper heim joint 1520 is threadably attached to distal end portion 1477 b of upper frame member 1475 by means of an elongate, externally threaded upper shank portion 1540 (see fig. 19 ) that is received in an internally threaded upper bore or hole (not shown) formed in distal end portion 1477 b . similarly, lower heim joint 1530 is threadably attached to distal end portion 1485 b of lower frame member 1484 by means of an elongate, externally threaded lower shank portion 1550 that is received in an internally threaded lower bore or hole (not shown) formed in distal end portion 1485 b . thus, upper shank portion 1540 is threadably received in the upper hole and lower shank portion 1550 is threadably received in the lower hole for coupling shank portions 1540 / 1550 to handle members 1470 / 1480 , respectively. however, shank portions 1540 / 1550 and their respective holes need not be threaded; rather, shank portions 1540 / 1550 and their respective holes may be smooth and sized for allowing coupling of shank portions 1540 / 1550 to handle members 1470 / 1480 by means of a press-fit. referring to figs. 15 , 16 , 17 , 18 and 19 , upper heim joint 1520 comprises an annular upper casing 1560 integrally attached to upper shank portion 1540 . upper casing 1560 defines an opening 1565 therethrough for reasons provided hereinbelow. in addition, upper casing 1560 may have a generally spherical interior (not shown) contoured for slidably, matingly receiving a spherical upper ball swivel 1570 , such that upper ball swivel 1570 is slidably retained within upper casing 1560 . upper ball swivel 1570 defines a hole 1575 (see fig. 19 ) centrally therethrough for receiving a smooth upper connector pin 1576 about which upper ball swivel 1570 freely rotates in the x-plane. connector pin 1576 also interconnects upper ball swivel 1570 to upper frame member 1475 and to an upper tool member 1600 as will be explained hereinafter in greater detail. in this manner, upper ball swivel 1570 is capable of multi-directional, slidable movement within upper casing 1560 . in other words, upper ball swivel 1570 is capable of side-to-side, rotational, or swivel movement in the horizontal x-axis plane as illustrated by directional arrow 1577 (see fig. 12 ). referring again to figs. 15 , 16 , 17 , 18 and 19 , lower heim joint 1530 comprises an annular lower casing 1580 integrally attached to lower shank portion 1550 . lower casing 1580 defines an opening 1585 therethrough for reasons provided hereinbelow. in addition, lower casing 1580 may have a generally spherical interior (not shown) contoured for slidably, matingly receiving a spherical lower ball swivel 1590 , such that lower ball swivel 1590 is slidably retained within lower casing 1580 . lower ball swivel 1590 defines a hole 1595 (see fig. 19 ) centrally therethrough for receiving a smooth lower connector pin 1596 about which lower ball swivel 1590 freely rotates in the x-plane. connector pin 1596 also interconnects lower ball swivel 1590 to lower frame member 1484 and to a lower tool member 1610 as will be explained hereinafter in greater detail. in this manner, lower ball swivel 1590 is capable of multi-directional, slidable movement within lower casing 1580 . in other words, lower ball swivel 1590 is capable of side-to-side, rotational, or swivel movement in the horizontal x-axis plane as illustrated by previously mentioned directional arrow 1577 (see fig. 12 ). as described fully hereinbelow, it will be appreciated that ball swivels 1570 / 1590 will rotate in unison and to a like extent due to their interconnection by means of the upper tool member 1600 , the lower tool member 1610 and a pivot pin 1620 (see figs. 12 , 15 , 16 and 19 ). lower tool member 1610 includes a hole 1625 for reasons provided hereinbelow. still referring to figs. 15 , 16 , 17 , 18 and 19 , to provide hand tool 1450 with the functionality noted hereinabove, hand tool 1450 further includes a tool head assembly, generally referred to as 1630 , for clipping fingernails and toe nails of the user of hand tool 1450 . in other words, tool head assembly 1630 , which is coupled to handle assembly 1460 by means of coupler assembly 1510 , is capable of operating on (i.e., clipping) the fingernails and toe nails (i.e., the work piece) of the user in response to hand manipulation of handle assembly 1460 , as described in detail presently. in this regard, tool head assembly 1630 generally includes the upper tool member or upper jaw 1600 and the lower tool member or lower jaw 1610 . upper tool member 1600 and lower tool member 1610 are both disposed in the y-axis plane, lower tool member 1610 being oriented opposite to and coincident with upper tool member 1600 . lower tool member 1610 and upper tool member 1600 are pivotably interconnected by previously mentioned pivot pin 1620 that is sized to be received in previously mentioned hole 1625 , such as by a press fit. thus, the pivotable interconnection of lower tool member 1610 and upper tool member 1600 allow lower tool member 1610 and upper tool member 1600 to pivot about pivot pin 1620 . referring again to figs. 15 , 16 , 17 , 18 and 19 , upper tool member 1600 has an inwardly-curved first cutting edge portion 1640 . similarly, lower tool member 1610 has an inwardly curved second cutting edge portion 1650 . fingernails and toe nails of the user are clipped or cut when cutting edge portions 1640 / 1650 are brought to bear against each other in the manner described hereinabove. illustrative methods: an illustrative method associated with an exemplary embodiment for manufacturing the hand tool will now be described. referring to fig. 20 , an illustrative method, generally referred to as 1660 , is provided for manufacturing a hand tool. the method starts at a step 1670 . at a step 1680 , a handle assembly is provided. at a step 1690 , a tool head assembly is coupled to the handle assembly. at a step 1700 , the handle assembly and the tool head assembly are interconnected to at least one heim joint coupler. the method stops at a step 1710 . other modifications and implementations will occur to those skilled in the art without departing from the spirit and the scope of the invention as claimed. for example, handle assembly 1010 belonging to the first embodiment hand tool 1000 may be coupled to a hydraulic system that is, in turn, hand actuated. such a hydraulic system would be coupled to upper handle member 1020 and lower handle 1030 for hydraulically operating upper and lower handle members 1020 / 1030 . as another example, handle assembly 1010 may be coupled to an electric motor system that is, in turn, hand operated by means of a suitable guidance control switch. such an electric motor system would be coupled to upper handle member 1020 and lower handle member 1030 for electrically operating upper and lower handle members 1020 / 1030 and for articulating the tool head assembly by means of electric motors. these examples can be used for cutting bolts and cables. accordingly, the description hereinabove is not intended to limit the invention, except as indicated in the following claims. the claims will be interpreted according to law. however, and notwithstanding the alleged or perceived ease or difficulty of interpreting any claim or portion thereof, under no circumstances may any adjustment or amendment of a claim or any portion thereof during prosecution of the application or applications leading to this patent be interpreted as having forfeited any right to any and all equivalents thereof that do not form a part of the prior art. all of the features disclosed in this specification may be combined in any combination. thus, unless expressly stated otherwise, each feature disclosed is only an example of a generic series of equivalent or similar features. it is to be understood that while the invention has been described in conjunction with the detailed description thereof, the foregoing description is intended to illustrate and not limit the scope of the invention, which is defined by the scope of the appended claims. thus, from the foregoing, it will be appreciated that, although specific embodiments of the invention have been described herein for the purpose of illustration, various modifications may be made without deviating from the spirit and scope of the invention. other aspects, advantages, and modifications are within the scope of the following claims and the present invention is not limited except as by the appended claims. the specific methods and compositions described herein are representative of preferred embodiments and are exemplary and not intended as limitations on the scope of the invention. other objects, aspects, and embodiments will occur to those skilled in the art upon consideration of this specification, and are encompassed within the spirit of the invention as defined by the scope of the claims. the invention illustratively described herein suitably may be practiced in the absence of any element or elements, or limitation or limitations, which is not specifically disclosed herein as essential. thus, for example, in each instance herein, in embodiments or examples of the present invention, the terms comprising, including, containing, etc. are to be read expansively and without limitation. the methods and processes illustratively described herein suitably may be practiced in differing orders of steps, and that they are not necessarily restricted to the orders of steps indicated herein or in the claims. the terms and expressions that have been employed are used as terms of description and not of limitation, and there is no intent in the use of such terms and expressions to exclude any equivalent of the features shown and described or portions thereof, but it is recognized that various modifications are possible within the scope of the invention as claimed. thus, it will be understood that although the present invention has been specifically disclosed by various embodiments and/or preferred embodiments and optional features, any and all modifications and variations of the concepts herein disclosed that may be resorted to by those skilled in the art are considered to be within the scope of this invention as defined by the appended claims. the invention has been described broadly and generically herein. each of the narrower species and subgeneric groupings falling within the generic disclosure also form part of the invention. this includes the generic description of the invention with a proviso or negative limitation removing any subject matter from the genus, regardless of whether or not the excised material is specifically recited herein. it is also to be understood that as used herein and in the appended claims, the singular forms a, an, and the include plural reference unless the context clearly dictates otherwise, the term x and/or y means x or y or both x and y, and the letter s following a noun designates both the plural and singular forms of that noun. in addition, where features or aspects of the invention are described in terms of markush groups, it is intended and those skilled in the art will recognize, that the invention embraces and is also thereby described in terms of any individual member or subgroup of members of the markush group. other embodiments are within the following claims. the issued patent may not be interpreted to be limited to the specific examples or embodiments or methods specifically and/or expressly disclosed herein. under no circumstances may the issued patent be interpreted to be limited by any statement made by any examiner or any other official or employee of the patent and trademark office unless such statement is specifically and without qualification or reservation expressly adopted in a responsive writing by applicant(s). although the invention has been described in terms of exemplary embodiments, it is not limited thereto. rather, the appended claims should be construed broadly, to include other variants and embodiments of the invention, which may be made by those skilled in the art without departing from the scope and range of equivalents of the invention. therefore, provided herein area hand tool and a method of manufacturing and using same. parts list 1000 a hand tool 1010 a first embodiment hand held tool mount or handle assembly 1020 an upper handle member 1032 a a proximal end portion 1032 b a distal end portion 1030 a lower handle member 1035 a a proximal end portion 1035 b a distal end portion 1040 an elongate leaf spring 1050 a central straight segment portion 1050 a an upper straight portion 1050 b a lower rounded or curved end portion 1060 a lower handle cutout [suggest identify as 1036 under 1030 1070 a mounting or spring pin 1075 a a direction arrow for upper handle squeezing toward lower handle member 1075 b a direction arrow for lower handle squeezing toward upper handle member 1080 a mounting or linkage bolt 1090 a heim joint coupler assembly 1100 an articulating upper heim joint 1110 an articulating lower heim joint 1120 an upper shank portion 1130 an upper bore or hole 1140 a lower shank portion 1150 a lower bore or hole 1160 an annular upper casing 1165 an upper casing opening 1170 an upper spherical ball swivel 1180 a upper ball hole 1182 a swivel direction arrow for upper ball swivel 1184 a y-axis tilting direction arrow for upper ball swivel 1186 an x-axis tilting direction arrow for upper/lower ball swivel 1190 an annular lower casing 1195 a lower casing opening 1200 a lower spherical ball swivel 1205 a y-axis tilting direction for lower ball swivel 1210 a lower ball hole 1220 a replaceable first embodiment tool head assembly 1230 an upper tool member 1240 a lower tool member 1250 a a lower tool member or first pivoting portion 1250 b an upper tool member or second pivoting portion 1260 an interconnecting pivot pin 1270 an upper jaw or upper blade tool 1280 a first or upper tool elongate front cutting edge portion 1290 a lower jaw or lower blade tool 1300 a second or lower tool elongate front cutting edge portion 1304 a a first or upper tool member upper arm portion 1306 a a first or upper tool member upper arm bore 1304 b a second or upper tool member lower arm portion 1306 b a second or upper tool member lower arm bore 1308 a a third or lower tool member upper arm portion 1308 b a fourth or lower tool member lower arm portion 1309 a a lower tool upper arm bore 1309 b a lower tool lower arm bore 1330 an upper tool screw bolt 1340 a lower tool screw bolt 1350 a detachable second embodiment tool head assembly 1360 an upper jaw 1370 an upper jaw clamping extension 1370 1380 a lower jaw 1380 1390 a lower jaw clamping extension 1400 a detachable third embodiment tool head assembly 1410 an upper jaw 1410 1420 a upper sharpened edge 1420 1430 a lower jaw 1430 1440 a lower sharpened edge 1440 1450 a second embodiment hand tool 1460 a second embodiment hand held tool mount or handle assembly 1470 an upper handle member 1470 1472 a generally smooth, contoured, arcuate-shaped upper shell 1472 1475 an arcuate-shaped upper frame member 1475 1477 a a proximal end portion 1477 a 1477 b a distal end portion 1477 b 1480 a lower handle member 1480 1482 a contoured, arcuate-shaped lower shell 482 1484 an arcuate-shaped lower frame member 1484 1485 a a proximal end portion 1485 a 1485 b a distal end portion 1485 b. 1486 a a proximal end portion 1486 a 1486 b a distal end portion 1486 b 1488 a a proximal end portion 1488 a 1488 b a distal end portion 1488 b 1490 a coiled torsion spring 1490 1500 a mounting or linkage bolt 1500 1510 a tool mount or coupler assembly 1510 1520 an articulating upper heim joint 1520 1530 an articulating lower heim joint 1530 1540 an elongate, externally threaded upper shank portion 1540 1550 an elongate, externally threaded lower shank portion 1550 1560 an annular upper casing 1560 1565 an opening 1565 1570 a spherical upper ball swivel 1570 1575 a hole 1575 1576 a smooth upper connector pin 1576 1577 a directional arrow 1577 1580 an annular lower casing 1580 1585 an opening 1585 1590 a spherical lower ball swivel 1590 1595 a hole 1595 1596 a smooth lower connector pin 159 1610 a lower tool member 1610 1620 a pivot pin 1620 1625 a hole 1625 1630 a tool head assembly 1630 1640 an inwardly-curved first cutting edge portion 1640 1650 an inwardly curved second cutting edge portion 1650'"
      ]
     },
     "execution_count": 1299,
     "metadata": {},
     "output_type": "execute_result"
    }
   ],
   "source": [
    "description"
   ]
  },
  {
   "cell_type": "code",
   "execution_count": 1300,
   "metadata": {},
   "outputs": [
    {
     "name": "stdout",
     "output_type": "stream",
     "text": [
      "142\n",
      "158\n"
     ]
    }
   ],
   "source": [
    "# trouve tout les chiffres, avec un espace devant\n",
    "#exp =  r\"(.{40}) (\\d{1,3})\"\n",
    "\n",
    "exp =  r\" (?P<n1>\\d{1,3})( (and|or) (?P<n2>\\d{1,3}))?[^a-z0-9\\-]\"\n",
    "\n",
    "# exp =  r'(\\d{1,3}((, | and )\\d{1,3})*)'   # E(SE)  Element  Separator\n",
    "\n",
    "allmatches = list( regex.finditer(exp, description) )\n",
    "print(len(allmatches))\n",
    "\n",
    "legend = []\n",
    "for m in allmatches:\n",
    "\n",
    "    label = description[ max(0, m.start()-40 ): m.start() ]  # to prevent overlapping\n",
    "    context = description[ max(0, m.start()-10 ): min( len(description), m.end()+10 ) ]  # to debug\n",
    "    \n",
    "    item = {'number':int(m.group('n1')), 'label':label, 'position':[m.span('n2')], 'context':context}\n",
    "    legend.append( item )\n",
    "    \n",
    "    if m.group('n2'): # correspond to \"23 and 24\"\n",
    "        item = {'number':int(m.group('n2')), 'label':label, 'position':[m.span('n2')], 'context':context}\n",
    "        legend.append( item )\n",
    "        \n",
    "print(len(legend))"
   ]
  },
  {
   "cell_type": "code",
   "execution_count": 1301,
   "metadata": {},
   "outputs": [
    {
     "name": "stdout",
     "output_type": "stream",
     "text": [
      "158\n"
     ]
    }
   ],
   "source": [
    "# autre approche\n",
    "#    ' 45, 46 and 47 '\n",
    "\n",
    "exp =  r' (\\d{1,3}(( ?, ?| and | or )\\d{1,3})*)[^a-z0-9\\-]'\n",
    "\n",
    "# explication:\n",
    "# la forme est E(SE) avec Element  Separator\n",
    "# et le séparateur est une virgule ou and ou or \n",
    "\n",
    "splitpat = regex.compile(r'[^\\d]+')\n",
    "\n",
    "allmatches = list( regex.finditer(exp, description) )\n",
    "\n",
    "legend = []\n",
    "for m in allmatches:\n",
    "    capture = m.group(1)\n",
    "    numbers = splitpat.split( capture )\n",
    "    start = m.start()\n",
    "    \n",
    "    label = description[ max(0, m.start()-40 ): m.start() ]  # to prevent overlapping\n",
    "    context = description[ max(0, m.start()-10 ): min( len(description), m.end()+10 ) ]  # to debug\n",
    "    \n",
    "    for n in numbers:\n",
    "        item = {'number':int(n), 'label':label, 'position':[m.span(1)], 'context':context}\n",
    "        legend.append( item )\n",
    "        \n",
    "print(len(legend))"
   ]
  },
  {
   "cell_type": "code",
   "execution_count": 1302,
   "metadata": {},
   "outputs": [
    {
     "name": "stdout",
     "output_type": "stream",
     "text": [
      "  st of one of the parts turns (see column    2             see column 2, lines 15-\n",
      "     --\n",
      "  e and tilt a limited amount (i.e., about   30            .e., about 30) in the x \n",
      "  e and tilt a limited amount (e.g., about   30            .g., about 30) in the x \n",
      "     --\n",
      "  ate the reference characters by at least  100           y at least 100 unitsthis \n",
      "     --\n",
      "  e 1595 1596 a smooth lower connector pin  159           nector pin 159 1610 a low\n",
      "     --\n",
      "  o swivel or rotate side-to-side at least  180           e at least 180 degrees in\n",
      "  simultaneously swivel or rotate at least  180           e at least 180 degrees in\n",
      "  han or equal to an angle theta  of about  180             of about 180 degrees. t\n",
      "   cutting edges through an angle of about  180           e of about 180. the upper\n",
      "     --\n",
      "   a contoured, arcuate-shaped lower shell  482           ower shell 482 1484 an ar\n",
      "     --\n",
      "   ). referring again to figs. 1 , 2 , and  998              , 2 , and 3 , upper ha\n",
      "  erring to figs. 1 , 4 , 4 a, 5 , 5 a and  998              , 5 a and 6 , upper he\n",
      "  erring to figs. 1 , 4 , 4 a, 5 , 5 a and  998              , 5 a and 6 , upper to\n",
      "   again to figs. 1 , 4 , 4 a, 5 , 5 a and  998              , 5 a and 6 , lower he\n",
      "   again to figs. 1 , 4 , 4 a, 5 , 5 a and  998              , 5 a and 6 , upper to\n",
      "   again to figs. 1 , 4 , 4 a, 5 , 5 a and  998              , 5 a and 6 , the mann\n",
      "  ng to figs. 1 , 3 , 4 , 4 a, 5 , 5 a and  998              , 5 a and 6 , to provi\n",
      "   is released by the user. therefore, the  998           efore, the 180 degree sid\n",
      "  r different applications. therefore, the  998           efore, the 180 degree rot\n",
      "  ow u.s. pat. no.<value>017 issued on may  998            ued on may 18, 2010, the\n",
      "     --\n",
      "  e pivot pin 1260 (see figs. 1 , 4 , 4 a,  999       , 4 , 4 a, 5 and 5 a). althou\n",
      "  e pivot pin 1260 (see figs. 1 , 4 , 4 a,  999       , 4 , 4 a, 5 and 5 a). althou\n",
      "  ess-fit. referring to figs. 1 , 4 , 4 a,  999         , 4 , 4 a, 5 , 5 a and 6 , \n",
      "  ess-fit. referring to figs. 1 , 4 , 4 a,  999         , 4 , 4 a, 5 , 5 a and 6 , \n",
      "  w. still referring to figs. 1 , 4 , 4 a,  999         , 4 , 4 a, 5 , 5 a and 6 , \n",
      "  w. still referring to figs. 1 , 4 , 4 a,  999         , 4 , 4 a, 5 , 5 a and 6 , \n",
      "  ). referring again to figs. 1 , 4 , 4 a,  999         , 4 , 4 a, 5 , 5 a and 6 , \n",
      "  ). referring again to figs. 1 , 4 , 4 a,  999         , 4 , 4 a, 5 , 5 a and 6 , \n",
      "  s. referring again to figs. 1 , 4 , 4 a,  999         , 4 , 4 a, 5 , 5 a and 6 , \n",
      "  s. referring again to figs. 1 , 4 , 4 a,  999         , 4 , 4 a, 5 , 5 a and 6 , \n",
      "  eferring yet again to figs. 1 , 4 , 4 a,  999         , 4 , 4 a, 5 , 5 a and 6 , \n",
      "  eferring yet again to figs. 1 , 4 , 4 a,  999         , 4 , 4 a, 5 , 5 a and 6 , \n",
      "  ter. referring to figs. 1 , 3 , 4 , 4 a,  999         , 4 , 4 a, 5 , 5 a and 6 , \n",
      "  ter. referring to figs. 1 , 3 , 4 , 4 a,  999         , 4 , 4 a, 5 , 5 a and 6 , \n",
      "  ith the following figures, wherein: fig.  999             rein: fig. 1 is a view \n",
      "  of the second embodiment hand tool; fig.  999            tool; fig. 14 is a rear \n",
      "  of the second embodiment hand tool; fig.  999            tool; fig. 15 is a right\n",
      "  of the second embodiment hand tool; fig.  999            tool; fig. 16 is a left \n",
      "  of the second embodiment hand tool; fig.  999            tool; fig. 17 is a top p\n",
      "  of the second embodiment hand tool; fig.  999            tool; fig. 18 is a botto\n",
      "   of the first embodiment hand tool; fig.  999             tool; fig. 3 is a front\n",
      "   of the first embodiment hand tool; fig.  999             tool; fig. 4 is a right\n",
      "   of the first embodiment hand tool; fig.  999             tool; fig. 5 is a left \n",
      "   of the first embodiment hand tool; fig.  999             tool; fig. 7 is a top p\n",
      "   of the first embodiment hand tool; fig.  999             tool; fig. 8 is a botto\n",
      "   of the first embodiment hand tool; fig.  999             tool; fig. 9 is a right\n",
      "  ent hand tool in a closed position; fig.  999            tion; fig. 19 is an expl\n",
      "  l being shown in a closed position; fig.  999             tion; fig. 6 is a parti\n",
      "  ol being shown in an open position; fig.  999            tion; fig. 13 is a front\n",
      "  bly configured as a surgical clamp; fig.  999            lamp; fig. 11 is a right\n",
      "  s a fingernail or toe nail clipper; fig.  999             pper; fig. 2 is a rear \n",
      "  s a fingernail or toe nail clipper; fig.  999            pper; fig. 10 is a right\n",
      "   configured as a cable/bolt cutter; fig.  999            tter; fig. 12 is a view \n",
      "  he second embodiment hand tool; and fig.  999            ; and fig. 20 is a flowc\n",
      "   mounting or linkage bolt 1500 (see fig.  999             (see fig. 19 ) and are \n",
      "  defines a lower ball hole 1210 (see fig.  999              (see fig. 6 ) centrall\n",
      "  ded upper tool screw-bolt 1330 (see fig.  999              (see fig. 6 ), is caus\n",
      "  eaded upper shank portion 1540 (see fig.  999             (see fig. 19 ) that is \n",
      "  efines an upper ball hole 1180 (see fig.  999              (see fig. 6 ) centrall\n",
      "  ntioned directional arrow 1182 (see fig.  999              (see fig. 1 ). in addi\n",
      "  ated by directional arrow 1182 (see fig.  999              (see fig. 1 ). in addi\n",
      "  wivel 1570 defines a hole 1575 (see fig.  999             (see fig. 19 ) centrall\n",
      "  wivel 1590 defines a hole 1595 (see fig.  999             (see fig. 19 ) centrall\n",
      "  ntioned directional arrow 1186 (see fig.  999              (see fig. 1 ). as desc\n",
      "  ated by directional arrow 1186 (see fig.  999              (see fig. 1 ). referri\n",
      "  ntioned directional arrow 1577 (see fig.  999             (see fig. 12 ). as desc\n",
      "  ated by directional arrow 1577 (see fig.  999             (see fig. 12 ). referri\n",
      "  member pivoting portion 1250 b (see fig.  999              (see fig. 3 ). the low\n",
      "  t or open positions as best seen in fig.  999             en in fig. 1 . although\n",
      "  will now be described. referring to fig.  999            ng to fig. 20 , an illus\n",
      "  ue>957 titled surgical clamp issued jul.  999             ssued jul. 3, 1973, in \n",
      "  lication ser. no. 12/137,482, filed jun.  999            filed jun. 11, 2008, now\n",
      "  ontinuation of u.s. application ser. no.  999            n ser. no. 12/137,482, f\n",
      "  part of u.s. design application ser. no.  999            n ser. no. 29/467,935 fi\n",
      "  o. 29/467,935 filed concurrently on sep.  999            ly on sep. 25, 2013, whi\n",
      "  cation no. pct/us2009/001442, filed mar.  999             filed mar. 4, 2009 desi\n",
      "  ber 1610 and a pivot pin 1620 (see figs.  999      (see figs. 12 , 15 , 16 and 19 ). lower t\n",
      "  ber 1610 and a pivot pin 1620 (see figs.  999      (see figs. 12 , 15 , 16 and 19 ). lower t\n",
      "  ber 1610 and a pivot pin 1620 (see figs.  999      (see figs. 12 , 15 , 16 and 19 ). lower t\n",
      "  ber 1610 and a pivot pin 1620 (see figs.  999      (see figs. 12 , 15 , 16 and 19 ). lower t\n",
      "  r 1240 and the pivot pin 1260 (see figs.  999      (see figs. 1 , 4 , 4 a, 5 and 5\n",
      "  r 1240 and the pivot pin 1260 (see figs.  999      (see figs. 1 , 4 , 4 a, 5 and 5\n",
      "  r 1240 and the pivot pin 1260 (see figs.  999      (see figs. 1 , 4 , 4 a, 5 and 5\n",
      "  ted by directional arrow 1184 (see figs.  999             (see figs. 1 and 5a ) a\n",
      "  ted by directional arrow 1205 (see figs.  999             (see figs. 1 and 5a ) a\n",
      "  he upper and the lower bodies (see figs.  999      (see figs. 3, 4, 5 and 6 of the tsa\n",
      "  he upper and the lower bodies (see figs.  999      (see figs. 3, 4, 5 and 6 of the tsa\n",
      "  he upper and the lower bodies (see figs.  999      (see figs. 3, 4, 5 and 6 of the tsa\n",
      "  he upper and the lower bodies (see figs.  999      (see figs. 3, 4, 5 and 6 of the tsa\n",
      "  suitable spring means. as shown in figs.  999      n in figs. 1 , 2 and 3 , hand too\n",
      "  suitable spring means. as shown in figs.  999      n in figs. 1 , 2 and 3 , hand too\n",
      "  suitable spring means. as shown in figs.  999      n in figs. 1 , 2 and 3 , hand too\n",
      "  ting. therefore, with reference to figs.  999      e to figs. 1 , 2 and 3 , there is\n",
      "  ting. therefore, with reference to figs.  999      e to figs. 1 , 2 and 3 , there is\n",
      "  ting. therefore, with reference to figs.  999      e to figs. 1 , 2 and 3 , there is\n",
      "  xis plane. therefore, referring to figs.  999      g to figs. 1 , 7 and 8 , tool hea\n",
      "  xis plane. therefore, referring to figs.  999      g to figs. 1 , 7 and 8 , tool hea\n",
      "  xis plane. therefore, referring to figs.  999      g to figs. 1 , 7 and 8 , tool hea\n",
      "  r detail hereinafter. referring to figs.  999      g to figs. 1 , 3 , 4 , 4 a, 5 , 5 a\n",
      "  r detail hereinafter. referring to figs.  999      g to figs. 1 , 3 , 4 , 4 a, 5 , 5 a\n",
      "  r detail hereinafter. referring to figs.  999      g to figs. 1 , 3 , 4 , 4 a, 5 , 5 a\n",
      "  r detail hereinafter. referring to figs.  999      g to figs. 1 , 3 , 4 , 4 a, 5 , 5 a\n",
      "  uitable spring means. referring to figs.  999      g to figs. 15 and 16 , hand too\n",
      "  uitable spring means. referring to figs.  999      g to figs. 15 and 16 , hand too\n",
      "  means of a press-fit. referring to figs.  999      g to figs. 1 , 4 , 4 a, 5 , 5 a\n",
      "  means of a press-fit. referring to figs.  999      g to figs. 1 , 4 , 4 a, 5 , 5 a\n",
      "  means of a press-fit. referring to figs.  999      g to figs. 1 , 4 , 4 a, 5 , 5 a\n",
      "  means of a press-fit. referring to figs.  999      g to figs. 15 , 16 , 17 , 18 and 19 , upper he\n",
      "  means of a press-fit. referring to figs.  999      g to figs. 15 , 16 , 17 , 18 and 19 , upper he\n",
      "  means of a press-fit. referring to figs.  999      g to figs. 15 , 16 , 17 , 18 and 19 , upper he\n",
      "  means of a press-fit. referring to figs.  999      g to figs. 15 , 16 , 17 , 18 and 19 , upper he\n",
      "  means of a press-fit. referring to figs.  999      g to figs. 15 , 16 , 17 , 18 and 19 , upper he\n",
      "  e member 1030 . still referring to figs.  999      g to figs. 1 , 2 and 3 , in order\n",
      "  e member 1030 . still referring to figs.  999      g to figs. 1 , 2 and 3 , in order\n",
      "  e member 1030 . still referring to figs.  999      g to figs. 1 , 2 and 3 , in order\n",
      "  ed hereinbelow. still referring to figs.  999      g to figs. 1 , 4 , 4 a, 5 , 5 a\n",
      "  ed hereinbelow. still referring to figs.  999      g to figs. 1 , 4 , 4 a, 5 , 5 a\n",
      "  ed hereinbelow. still referring to figs.  999      g to figs. 1 , 4 , 4 a, 5 , 5 a\n",
      "  ed hereinbelow. still referring to figs.  999      g to figs. 15 , 16 , 17 , 18 and 19 , to provi\n",
      "  ed hereinbelow. still referring to figs.  999      g to figs. 15 , 16 , 17 , 18 and 19 , to provi\n",
      "  ed hereinbelow. still referring to figs.  999      g to figs. 15 , 16 , 17 , 18 and 19 , to provi\n",
      "  ed hereinbelow. still referring to figs.  999      g to figs. 15 , 16 , 17 , 18 and 19 , to provi\n",
      "  ed hereinbelow. still referring to figs.  999      g to figs. 15 , 16 , 17 , 18 and 19 , to provi\n",
      "  ivot pin 1620 . referring again to figs.  999      n to figs. 15 , 16 , 17 , 18 and 19 , upper to\n",
      "  ivot pin 1620 . referring again to figs.  999      n to figs. 15 , 16 , 17 , 18 and 19 , upper to\n",
      "  ivot pin 1620 . referring again to figs.  999      n to figs. 15 , 16 , 17 , 18 and 19 , upper to\n",
      "  ivot pin 1620 . referring again to figs.  999      n to figs. 15 , 16 , 17 , 18 and 19 , upper to\n",
      "  ivot pin 1620 . referring again to figs.  999      n to figs. 15 , 16 , 17 , 18 and 19 , upper to\n",
      "   (see fig. 1 ). referring again to figs.  999      n to figs. 1 , 4 , 4 a, 5 , 5 a\n",
      "   (see fig. 1 ). referring again to figs.  999      n to figs. 1 , 4 , 4 a, 5 , 5 a\n",
      "   (see fig. 1 ). referring again to figs.  999      n to figs. 1 , 4 , 4 a, 5 , 5 a\n",
      "  (see fig. 12 ). referring again to figs.  999      n to figs. 15 , 16 , 17 , 18 and 19 , lower he\n",
      "  (see fig. 12 ). referring again to figs.  999      n to figs. 15 , 16 , 17 , 18 and 19 , lower he\n",
      "  (see fig. 12 ). referring again to figs.  999      n to figs. 15 , 16 , 17 , 18 and 19 , lower he\n",
      "  (see fig. 12 ). referring again to figs.  999      n to figs. 15 , 16 , 17 , 18 and 19 , lower he\n",
      "  (see fig. 12 ). referring again to figs.  999      n to figs. 15 , 16 , 17 , 18 and 19 , lower he\n",
      "  (see fig. 5a ). referring again to figs.  999         n to figs. 1 , 2 , and 3 , \n",
      "  (see fig. 5a ). referring again to figs.  999         n to figs. 1 , 2 , and 3 , \n",
      "  t applications. referring again to figs.  999      n to figs. 1 , 4 , 4 a, 5 , 5 a\n",
      "  t applications. referring again to figs.  999      n to figs. 1 , 4 , 4 a, 5 , 5 a\n",
      "  t applications. referring again to figs.  999      n to figs. 1 , 4 , 4 a, 5 , 5 a\n",
      "  ault positions. referring again to figs.  999      n to figs. 12 , 13 and 14 , upper ha\n",
      "  ault positions. referring again to figs.  999      n to figs. 12 , 13 and 14 , upper ha\n",
      "  ault positions. referring again to figs.  999      n to figs. 12 , 13 and 14 , upper ha\n",
      "  d bolt cutters. referring again to figs.  999      n to figs. 1 , 2 and 3 , hand too\n",
      "  d bolt cutters. referring again to figs.  999      n to figs. 1 , 2 and 3 , hand too\n",
      "  d bolt cutters. referring again to figs.  999      n to figs. 1 , 2 and 3 , hand too\n",
      "  ereinbelow. referring yet again to figs.  999      n to figs. 1 , 4 , 4 a, 5 , 5 a\n",
      "  ereinbelow. referring yet again to figs.  999      n to figs. 1 , 4 , 4 a, 5 , 5 a\n",
      "  ereinbelow. referring yet again to figs.  999      n to figs. 1 , 4 , 4 a, 5 , 5 a\n",
      "  complished by hand. turning now to figs.  999      w to figs. 9 , 10 and 11 , various \n",
      "  complished by hand. turning now to figs.  999      w to figs. 9 , 10 and 11 , various \n",
      "  complished by hand. turning now to figs.  999      w to figs. 9 , 10 and 11 , various \n",
      "  as a bolt or cable. turning now to figs.  999      w to figs. 12 , 13 and 14 , there is\n",
      "  as a bolt or cable. turning now to figs.  999      w to figs. 12 , 13 and 14 , there is\n",
      "  as a bolt or cable. turning now to figs.  999      w to figs. 12 , 13 and 14 , there is\n",
      "  >242 titled swivel head tool issued nov.  999             ssued nov. 5, 1935, in \n",
      "  alue>666 titled nail clipper issued nov.  999            ssued nov. 12, 1991, in \n"
     ]
    }
   ],
   "source": [
    "def disqualify( legend, pattern, n=999 ):\n",
    "    for i, row in enumerate( legend ):\n",
    "        if pattern.search( row['label'] ):\n",
    "            legend[ i ]['number'] = n\n",
    "\n",
    "# Disqualifie si point final :  & tiret   ... mais pas une virgule car 45, 46 and 47 -> on va le faire avant ...\n",
    "# Fig. 1  ;  No. 511  \n",
    "# en fait si ce n'est pas un Word caracter... que l'on restreint à l'alphabet, pour éviter les symboles\n",
    "pattern = regex.compile( r'[^a-z]$', regex.I )\n",
    "\n",
    "disqualify( legend, pattern, n=999 )\n",
    "\n",
    "        \n",
    "# si c'est un mois, ou un autre mots clés :\n",
    "keywords = ['january', 'february', 'march', 'april', 'may', 'june',\\\n",
    "          'july', 'august', 'september', 'october', 'november', 'december',\\\n",
    "           'figure', 'figures', 'claim', 'claims', 'at', 'and', 'numeral']\n",
    "\n",
    "keywords.extend( ['the', 'a', 'an', 'these', 'their', 'when', 'with', 'by', 'this', \\\n",
    "               'have', 'having', 'has', 'is', 'are', 'over', 'its', 'of said', 'and', 'as',\\\n",
    "              'of', 'in', 'to', 'but', 'another', 'through', 'on'] )\n",
    "\n",
    "pattern = regex.compile( r'\\W(%s)$' % '|'.join(keywords), regex.I )\n",
    "\n",
    "disqualify( legend, pattern, n=998 )\n",
    "        \n",
    "    \n",
    "print_legend( legend )"
   ]
  },
  {
   "cell_type": "markdown",
   "metadata": {
    "collapsed": true
   },
   "source": [
    "## Coupe sur certain mot clé (the, a, an, ...)"
   ]
  },
  {
   "cell_type": "code",
   "execution_count": 1303,
   "metadata": {
    "collapsed": true
   },
   "outputs": [],
   "source": [
    "def cut_label( legend, pattern ):\n",
    "    for i, row in enumerate( legend ):\n",
    "        label = row['label']\n",
    "\n",
    "        match = pattern.search(label)\n",
    "\n",
    "        if match:\n",
    "            newlabel = match.group(2)\n",
    "            legend[i]['label'] = newlabel"
   ]
  },
  {
   "cell_type": "code",
   "execution_count": 1304,
   "metadata": {},
   "outputs": [],
   "source": [
    "small_words = ['the', 'a', 'an', 'these', 'their', 'when', 'with', 'by', 'this', 'that', \\\n",
    "               'have', 'having', 'has', 'is', 'are', 'should', 'over', 'its', 'of said', 'and', 'as',\\\n",
    "              'of', 'in', 'to', 'at',  'but', 'another', 'through', 'on', 'same', 'from',\\\n",
    "              'include', 'includes', 'beyond', 'between']\n",
    "\n",
    "pattern = regex.compile( r'^.* (%s) (.+)$' % '|'.join(small_words), regex.I )\n",
    "\n",
    "cut_label( legend, pattern )"
   ]
  },
  {
   "cell_type": "code",
   "execution_count": 1305,
   "metadata": {},
   "outputs": [
    {
     "name": "stdout",
     "output_type": "stream",
     "text": [
      "                   parts turns (see column    2             see column 2, lines 15-\n",
      "     --\n",
      "                                     about   30            .g., about 30) in the x \n",
      "                                     about   30            .e., about 30) in the x \n",
      "     --\n",
      "                                     least  100           y at least 100 unitsthis \n",
      "     --\n",
      "                smooth lower connector pin  159           nector pin 159 1610 a low\n",
      "     --\n",
      "                                     least  180           e at least 180 degrees in\n",
      "                                     least  180           e at least 180 degrees in\n",
      "                                     about  180           e of about 180. the upper\n",
      "                                     about  180             of about 180 degrees. t\n",
      "     --\n",
      "                arcuate-shaped lower shell  482           ower shell 482 1484 an ar\n",
      "     --\n",
      "                                       and  998              , 2 , and 3 , upper ha\n",
      "                                       and  998              , 5 a and 6 , upper he\n",
      "                                       and  998              , 5 a and 6 , lower he\n",
      "                                       and  998              , 5 a and 6 , to provi\n",
      "                                       and  998              , 5 a and 6 , upper to\n",
      "                                       and  998              , 5 a and 6 , upper to\n",
      "                                       and  998              , 5 a and 6 , the mann\n",
      "                                       the  998           efore, the 180 degree rot\n",
      "                                       the  998           efore, the 180 degree sid\n",
      "                                       may  998            ued on may 18, 2010, the\n",
      "     --\n",
      "                                      4 a,  999         , 4 , 4 a, 5 , 5 a and 6 , \n",
      "                                      4 a,  999         , 4 , 4 a, 5 , 5 a and 6 , \n",
      "                                      4 a,  999         , 4 , 4 a, 5 , 5 a and 6 , \n",
      "                                      4 a,  999         , 4 , 4 a, 5 , 5 a and 6 , \n",
      "                                      4 a,  999         , 4 , 4 a, 5 , 5 a and 6 , \n",
      "                                      4 a,  999         , 4 , 4 a, 5 , 5 a and 6 , \n",
      "                                      4 a,  999         , 4 , 4 a, 5 , 5 a and 6 , \n",
      "                                      4 a,  999         , 4 , 4 a, 5 , 5 a and 6 , \n",
      "                                      4 a,  999         , 4 , 4 a, 5 , 5 a and 6 , \n",
      "                                      4 a,  999         , 4 , 4 a, 5 , 5 a and 6 , \n",
      "                                      4 a,  999       , 4 , 4 a, 5 and 5 a). althou\n",
      "                                      4 a,  999       , 4 , 4 a, 5 and 5 a). althou\n",
      "                                      4 a,  999         , 4 , 4 a, 5 , 5 a and 6 , \n",
      "                                      4 a,  999         , 4 , 4 a, 5 , 5 a and 6 , \n",
      "                                      fig.  999             pper; fig. 2 is a rear \n",
      "                                      fig.  999             tool; fig. 3 is a front\n",
      "                                      fig.  999             tool; fig. 4 is a right\n",
      "                                      fig.  999             tool; fig. 5 is a left \n",
      "                                      fig.  999             tion; fig. 6 is a parti\n",
      "                                      fig.  999             tool; fig. 7 is a top p\n",
      "                                      fig.  999             tool; fig. 8 is a botto\n",
      "                                      fig.  999             tool; fig. 9 is a right\n",
      "                                      fig.  999            pper; fig. 10 is a right\n",
      "                                      fig.  999            lamp; fig. 11 is a right\n",
      "                                      fig.  999            tter; fig. 12 is a view \n",
      "                                      fig.  999            tion; fig. 13 is a front\n",
      "                                      fig.  999            tool; fig. 14 is a rear \n",
      "                                      fig.  999            tool; fig. 15 is a right\n",
      "                                      fig.  999            tool; fig. 16 is a left \n",
      "                                      fig.  999            tool; fig. 17 is a top p\n",
      "                                      fig.  999            tool; fig. 18 is a botto\n",
      "                                      fig.  999            tion; fig. 19 is an expl\n",
      "                                      fig.  999            ; and fig. 20 is a flowc\n",
      "                                      fig.  999             en in fig. 1 . although\n",
      "                                      fig.  999            ng to fig. 20 , an illus\n",
      "                             wherein: fig.  999             rein: fig. 1 is a view \n",
      "   mounting or linkage bolt 1500 (see fig.  999             (see fig. 19 ) and are \n",
      "            lower ball hole 1210 (see fig.  999              (see fig. 6 ) centrall\n",
      "  ded upper tool screw-bolt 1330 (see fig.  999              (see fig. 6 ), is caus\n",
      "  eaded upper shank portion 1540 (see fig.  999             (see fig. 19 ) that is \n",
      "            upper ball hole 1180 (see fig.  999              (see fig. 6 ) centrall\n",
      "          directional arrow 1182 (see fig.  999              (see fig. 1 ). in addi\n",
      "  ntioned directional arrow 1182 (see fig.  999              (see fig. 1 ). in addi\n",
      "                       hole 1575 (see fig.  999             (see fig. 19 ) centrall\n",
      "                       hole 1595 (see fig.  999             (see fig. 19 ) centrall\n",
      "          directional arrow 1186 (see fig.  999              (see fig. 1 ). referri\n",
      "  ntioned directional arrow 1186 (see fig.  999              (see fig. 1 ). as desc\n",
      "          directional arrow 1577 (see fig.  999             (see fig. 12 ). referri\n",
      "  ntioned directional arrow 1577 (see fig.  999             (see fig. 12 ). as desc\n",
      "  member pivoting portion 1250 b (see fig.  999              (see fig. 3 ). the low\n",
      "  ue>957 titled surgical clamp issued jul.  999             ssued jul. 3, 1973, in \n",
      "                                filed jun.  999            filed jun. 11, 2008, now\n",
      "                                       no.  999            n ser. no. 29/467,935 fi\n",
      "                                       no.  999            n ser. no. 12/137,482, f\n",
      "                                      sep.  999            ly on sep. 25, 2013, whi\n",
      "                                filed mar.  999             filed mar. 4, 2009 desi\n",
      "                                     figs.  999      e to figs. 1 , 2 and 3 , there is\n",
      "                                     figs.  999      e to figs. 1 , 2 and 3 , there is\n",
      "                                     figs.  999      e to figs. 1 , 2 and 3 , there is\n",
      "                                     figs.  999      n to figs. 1 , 2 and 3 , hand too\n",
      "                                     figs.  999      n to figs. 1 , 2 and 3 , hand too\n",
      "                                     figs.  999      n to figs. 1 , 2 and 3 , hand too\n",
      "                                     figs.  999      g to figs. 1 , 2 and 3 , in order\n",
      "                                     figs.  999      g to figs. 1 , 2 and 3 , in order\n",
      "                                     figs.  999      g to figs. 1 , 2 and 3 , in order\n",
      "                                     figs.  999         n to figs. 1 , 2 , and 3 , \n",
      "                                     figs.  999         n to figs. 1 , 2 , and 3 , \n",
      "                                     figs.  999      n in figs. 1 , 2 and 3 , hand too\n",
      "                                     figs.  999      n in figs. 1 , 2 and 3 , hand too\n",
      "                                     figs.  999      n in figs. 1 , 2 and 3 , hand too\n",
      "                                     figs.  999      g to figs. 1 , 4 , 4 a, 5 , 5 a\n",
      "                                     figs.  999      g to figs. 1 , 4 , 4 a, 5 , 5 a\n",
      "                                     figs.  999      g to figs. 1 , 4 , 4 a, 5 , 5 a\n",
      "                                     figs.  999      n to figs. 1 , 4 , 4 a, 5 , 5 a\n",
      "                                     figs.  999      n to figs. 1 , 4 , 4 a, 5 , 5 a\n",
      "                                     figs.  999      n to figs. 1 , 4 , 4 a, 5 , 5 a\n",
      "                                     figs.  999      g to figs. 1 , 3 , 4 , 4 a, 5 , 5 a\n",
      "                                     figs.  999      g to figs. 1 , 3 , 4 , 4 a, 5 , 5 a\n",
      "                                     figs.  999      g to figs. 1 , 3 , 4 , 4 a, 5 , 5 a\n",
      "                                     figs.  999      g to figs. 1 , 3 , 4 , 4 a, 5 , 5 a\n",
      "                                     figs.  999      n to figs. 1 , 4 , 4 a, 5 , 5 a\n",
      "                                     figs.  999      n to figs. 1 , 4 , 4 a, 5 , 5 a\n",
      "                                     figs.  999      n to figs. 1 , 4 , 4 a, 5 , 5 a\n",
      "                                     figs.  999      g to figs. 1 , 4 , 4 a, 5 , 5 a\n",
      "                                     figs.  999      g to figs. 1 , 4 , 4 a, 5 , 5 a\n",
      "                                     figs.  999      g to figs. 1 , 4 , 4 a, 5 , 5 a\n",
      "                                     figs.  999      n to figs. 1 , 4 , 4 a, 5 , 5 a\n",
      "                                     figs.  999      n to figs. 1 , 4 , 4 a, 5 , 5 a\n",
      "                                     figs.  999      n to figs. 1 , 4 , 4 a, 5 , 5 a\n",
      "                                     figs.  999      g to figs. 1 , 7 and 8 , tool hea\n",
      "                                     figs.  999      g to figs. 1 , 7 and 8 , tool hea\n",
      "                                     figs.  999      g to figs. 1 , 7 and 8 , tool hea\n",
      "                                     figs.  999      w to figs. 9 , 10 and 11 , various \n",
      "                                     figs.  999      w to figs. 9 , 10 and 11 , various \n",
      "                                     figs.  999      w to figs. 9 , 10 and 11 , various \n",
      "                                     figs.  999      w to figs. 12 , 13 and 14 , there is\n",
      "                                     figs.  999      w to figs. 12 , 13 and 14 , there is\n",
      "                                     figs.  999      w to figs. 12 , 13 and 14 , there is\n",
      "                                     figs.  999      n to figs. 12 , 13 and 14 , upper ha\n",
      "                                     figs.  999      n to figs. 12 , 13 and 14 , upper ha\n",
      "                                     figs.  999      n to figs. 12 , 13 and 14 , upper ha\n",
      "                                     figs.  999      g to figs. 15 and 16 , hand too\n",
      "                                     figs.  999      g to figs. 15 and 16 , hand too\n",
      "                                     figs.  999      g to figs. 15 , 16 , 17 , 18 and 19 , upper he\n",
      "                                     figs.  999      g to figs. 15 , 16 , 17 , 18 and 19 , upper he\n",
      "                                     figs.  999      g to figs. 15 , 16 , 17 , 18 and 19 , upper he\n",
      "                                     figs.  999      g to figs. 15 , 16 , 17 , 18 and 19 , upper he\n",
      "                                     figs.  999      g to figs. 15 , 16 , 17 , 18 and 19 , upper he\n",
      "                                     figs.  999      n to figs. 15 , 16 , 17 , 18 and 19 , lower he\n",
      "                                     figs.  999      n to figs. 15 , 16 , 17 , 18 and 19 , lower he\n",
      "                                     figs.  999      n to figs. 15 , 16 , 17 , 18 and 19 , lower he\n",
      "                                     figs.  999      n to figs. 15 , 16 , 17 , 18 and 19 , lower he\n",
      "                                     figs.  999      n to figs. 15 , 16 , 17 , 18 and 19 , lower he\n",
      "                                     figs.  999      g to figs. 15 , 16 , 17 , 18 and 19 , to provi\n",
      "                                     figs.  999      g to figs. 15 , 16 , 17 , 18 and 19 , to provi\n",
      "                                     figs.  999      g to figs. 15 , 16 , 17 , 18 and 19 , to provi\n",
      "                                     figs.  999      g to figs. 15 , 16 , 17 , 18 and 19 , to provi\n",
      "                                     figs.  999      g to figs. 15 , 16 , 17 , 18 and 19 , to provi\n",
      "                                     figs.  999      n to figs. 15 , 16 , 17 , 18 and 19 , upper to\n",
      "                                     figs.  999      n to figs. 15 , 16 , 17 , 18 and 19 , upper to\n",
      "                                     figs.  999      n to figs. 15 , 16 , 17 , 18 and 19 , upper to\n",
      "                                     figs.  999      n to figs. 15 , 16 , 17 , 18 and 19 , upper to\n",
      "                                     figs.  999      n to figs. 15 , 16 , 17 , 18 and 19 , upper to\n",
      "                 pivot pin 1620 (see figs.  999      (see figs. 12 , 15 , 16 and 19 ). lower t\n",
      "                 pivot pin 1620 (see figs.  999      (see figs. 12 , 15 , 16 and 19 ). lower t\n",
      "                 pivot pin 1620 (see figs.  999      (see figs. 12 , 15 , 16 and 19 ). lower t\n",
      "                 pivot pin 1620 (see figs.  999      (see figs. 12 , 15 , 16 and 19 ). lower t\n",
      "                 pivot pin 1260 (see figs.  999      (see figs. 1 , 4 , 4 a, 5 and 5\n",
      "                 pivot pin 1260 (see figs.  999      (see figs. 1 , 4 , 4 a, 5 and 5\n",
      "                 pivot pin 1260 (see figs.  999      (see figs. 1 , 4 , 4 a, 5 and 5\n",
      "         directional arrow 1184 (see figs.  999             (see figs. 1 and 5a ) a\n",
      "         directional arrow 1205 (see figs.  999             (see figs. 1 and 5a ) a\n",
      "                   lower bodies (see figs.  999      (see figs. 3, 4, 5 and 6 of the tsa\n",
      "                   lower bodies (see figs.  999      (see figs. 3, 4, 5 and 6 of the tsa\n",
      "                   lower bodies (see figs.  999      (see figs. 3, 4, 5 and 6 of the tsa\n",
      "                   lower bodies (see figs.  999      (see figs. 3, 4, 5 and 6 of the tsa\n",
      "  >242 titled swivel head tool issued nov.  999             ssued nov. 5, 1935, in \n",
      "  alue>666 titled nail clipper issued nov.  999            ssued nov. 12, 1991, in \n"
     ]
    }
   ],
   "source": [
    "# cut at point and comma :\n",
    "pattern = regex.compile( '^.*([\\.,;] )(.+)$' )\n",
    "\n",
    "cut_label( legend, pattern )\n",
    "\n",
    "print_legend( legend )"
   ]
  },
  {
   "cell_type": "code",
   "execution_count": 1306,
   "metadata": {},
   "outputs": [],
   "source": [
    "def get_positions( label, candidats ):\n",
    "    positions = []\n",
    "    for item in candidats:\n",
    "        if item['label']==label:\n",
    "            positions.extend( item['position'] )\n",
    "    return positions\n",
    "\n",
    "def get_context( label, candidats ):\n",
    "    items = [ item for item in candidats if item['label']==label ]\n",
    "    \n",
    "    return items[0]['context']\n",
    "\n",
    "def merge( legend ):\n",
    "    # merge identical label\n",
    "    \n",
    "    numbers_unique = { item['number'] for item in legend  } # set\n",
    "\n",
    "    new_legend = []\n",
    "    for n in numbers_unique:\n",
    "\n",
    "        candidats = [ line for line in legend if line['number']==n ]\n",
    "\n",
    "        labels_unique = { item['label'] for item in candidats  }\n",
    "\n",
    "        new_candidats = [ { 'number':n, 'label':label_u,\\\n",
    "                           'position':get_positions(label_u, candidats), 'context':get_context(label_u, candidats) }\n",
    "                          for label_u in labels_unique ]\n",
    "        \n",
    "        new_legend.extend( new_candidats )\n",
    "\n",
    "    return new_legend"
   ]
  },
  {
   "cell_type": "code",
   "execution_count": 1307,
   "metadata": {
    "scrolled": false
   },
   "outputs": [
    {
     "name": "stdout",
     "output_type": "stream",
     "text": [
      "                   parts turns (see column    2             see column 2, lines 15-\n",
      "     --\n",
      "                                     about   30  (2)        .g., about 30) in the x \n",
      "     --\n",
      "                                     least  100           y at least 100 unitsthis \n",
      "     --\n",
      "                smooth lower connector pin  159           nector pin 159 1610 a low\n",
      "     --\n",
      "                                     least  180  (2)       e at least 180 degrees in\n",
      "                                     about  180  (2)       e of about 180. the upper\n",
      "     --\n",
      "                arcuate-shaped lower shell  482           ower shell 482 1484 an ar\n",
      "     --\n",
      "                                       may  998            ued on may 18, 2010, the\n",
      "                                       the  998  (2)       efore, the 180 degree rot\n",
      "                                       and  998  (7)          , 2 , and 3 , upper ha\n",
      "     --\n",
      "                             wherein: fig.  999             rein: fig. 1 is a view \n",
      "   mounting or linkage bolt 1500 (see fig.  999             (see fig. 19 ) and are \n",
      "            lower ball hole 1210 (see fig.  999              (see fig. 6 ) centrall\n",
      "  ded upper tool screw-bolt 1330 (see fig.  999              (see fig. 6 ), is caus\n",
      "  eaded upper shank portion 1540 (see fig.  999             (see fig. 19 ) that is \n",
      "            upper ball hole 1180 (see fig.  999              (see fig. 6 ) centrall\n",
      "          directional arrow 1182 (see fig.  999              (see fig. 1 ). in addi\n",
      "  ntioned directional arrow 1182 (see fig.  999              (see fig. 1 ). in addi\n",
      "                       hole 1575 (see fig.  999             (see fig. 19 ) centrall\n",
      "                       hole 1595 (see fig.  999             (see fig. 19 ) centrall\n",
      "          directional arrow 1186 (see fig.  999              (see fig. 1 ). referri\n",
      "  ntioned directional arrow 1186 (see fig.  999              (see fig. 1 ). as desc\n",
      "          directional arrow 1577 (see fig.  999             (see fig. 12 ). referri\n",
      "  ntioned directional arrow 1577 (see fig.  999             (see fig. 12 ). as desc\n",
      "  member pivoting portion 1250 b (see fig.  999              (see fig. 3 ). the low\n",
      "  ue>957 titled surgical clamp issued jul.  999             ssued jul. 3, 1973, in \n",
      "                                filed jun.  999            filed jun. 11, 2008, now\n",
      "                                      sep.  999            ly on sep. 25, 2013, whi\n",
      "                                filed mar.  999             filed mar. 4, 2009 desi\n",
      "         directional arrow 1184 (see figs.  999             (see figs. 1 and 5a ) a\n",
      "         directional arrow 1205 (see figs.  999             (see figs. 1 and 5a ) a\n",
      "  >242 titled swivel head tool issued nov.  999             ssued nov. 5, 1935, in \n",
      "  alue>666 titled nail clipper issued nov.  999            ssued nov. 12, 1991, in \n",
      "                                       no.  999  (2)        n ser. no. 29/467,935 fi\n",
      "                 pivot pin 1260 (see figs.  999  (3)  (see figs. 1 , 4 , 4 a, 5 and 5\n",
      "                 pivot pin 1620 (see figs.  999  (4)  (see figs. 12 , 15 , 16 and 19 ). lower t\n",
      "                   lower bodies (see figs.  999  (4)  (see figs. 3, 4, 5 and 6 of the tsa\n",
      "                                      4 a,  999  (14)     , 4 , 4 a, 5 , 5 a and 6 , \n",
      "                                      fig.  999  (21)         pper; fig. 2 is a rear \n",
      "                                     figs.  999  (67)  e to figs. 1 , 2 and 3 , there is\n"
     ]
    }
   ],
   "source": [
    "print_legend(  merge( legend ) )"
   ]
  },
  {
   "cell_type": "markdown",
   "metadata": {},
   "source": [
    "### To look\n",
    "* line 5 - 5\n",
    "*      march   15                 march 15,   \n",
    "en debut de la description ...\n",
    "* sort of recursive... identifier un permet d'en déduire un autre...\n",
    "* \" respectivement A et B \" ... respective\n",
    "* letter sur les vieux brevets\n",
    "* merge keywords and small_words ??\n",
    "* pluriel\n",
    "\n",
    "## other things\n",
    "* Find values like \"110 volts\"... "
   ]
  },
  {
   "cell_type": "code",
   "execution_count": null,
   "metadata": {
    "collapsed": true
   },
   "outputs": [],
   "source": []
  }
 ],
 "metadata": {
  "kernelspec": {
   "display_name": "Python 3",
   "language": "python",
   "name": "python3"
  },
  "language_info": {
   "codemirror_mode": {
    "name": "ipython",
    "version": 3
   },
   "file_extension": ".py",
   "mimetype": "text/x-python",
   "name": "python",
   "nbconvert_exporter": "python",
   "pygments_lexer": "ipython3",
   "version": "3.5.2"
  }
 },
 "nbformat": 4,
 "nbformat_minor": 2
}
