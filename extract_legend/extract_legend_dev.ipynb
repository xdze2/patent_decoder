{
 "cells": [
  {
   "cell_type": "markdown",
   "metadata": {},
   "source": [
    "# Extraire la legende depuis la description"
   ]
  },
  {
   "cell_type": "code",
   "execution_count": 355,
   "metadata": {
    "collapsed": true
   },
   "outputs": [],
   "source": [
    "import pickle\n",
    "import regex   # permet overlapping matching\n",
    "import copy"
   ]
  },
  {
   "cell_type": "code",
   "execution_count": 356,
   "metadata": {
    "collapsed": true
   },
   "outputs": [],
   "source": [
    "def print_legend( legend ):\n",
    "    sortfun = lambda x: ( x['number'] , len(x['position']), x['label'][::-1] )\n",
    "    legendsorted = sorted( legend, key=sortfun  )\n",
    "\n",
    "    current_number = legendsorted[0]['number']\n",
    "    for match in legendsorted:\n",
    "        if current_number != match['number']:\n",
    "            print('     --')\n",
    "            current_number = match['number']\n",
    "\n",
    "        n_merged = len(match['position'])\n",
    "        n_merged_str = '  ' if n_merged==1 else '(%i)'%n_merged\n",
    "        print( '{label:>42} {number:>4}  {n}  {context:>35}'.format( **match, n=n_merged_str) )"
   ]
  },
  {
   "cell_type": "code",
   "execution_count": 357,
   "metadata": {},
   "outputs": [
    {
     "data": {
      "text/plain": [
       "379"
      ]
     },
     "execution_count": 357,
     "metadata": {},
     "output_type": "execute_result"
    }
   ],
   "source": [
    "# load pre-processed data\n",
    "data = pickle.load( open( \"../web/data/patent_infos.pickle\", \"rb\" ) )\n",
    "len(data)"
   ]
  },
  {
   "cell_type": "code",
   "execution_count": 379,
   "metadata": {
    "scrolled": true
   },
   "outputs": [
    {
     "name": "stdout",
     "output_type": "stream",
     "text": [
      "US20030094183\n",
      "https://www.google.com/patents/US20030094183\n",
      "nombre de mots : 7150\n",
      "nombre de caractères : 33448\n"
     ]
    }
   ],
   "source": [
    "# test: select a patent\n",
    "\n",
    "k = 44  #70 #44 #41\n",
    "patent = sorted( data.values(), key=lambda x:x['patent_number'] )[k]\n",
    "description = patent['description']\n",
    "\n",
    "print( patent['patent_number'] )\n",
    "print( 'https://www.google.com/patents/%s'%patent['patent_number'] )\n",
    "\n",
    "print('nombre de mots :', len(description.split(' ')))\n",
    "print('nombre de caractères :', len(description))"
   ]
  },
  {
   "cell_type": "code",
   "execution_count": 359,
   "metadata": {
    "collapsed": true
   },
   "outputs": [],
   "source": [
    "def fullTextTrimming( description ):\n",
    "    \"\"\" Travail sur le texte entier\n",
    "        en gardant le nombre de caractère constant\n",
    "    \"\"\"\n",
    "    description = description.replace('\\n', ' ')\n",
    "    description = description.lower() \n",
    "    \n",
    "    # description = regex.sub('\\s+',' ', description) # remove multiple space\n",
    "    description = description.lower()\n",
    "\n",
    "    # patent number XX\n",
    "    # patent_number_pattern = r'(\\d{1, 4}[,-])?\\d{3, 8}[,-]\\d{3, 8}'\n",
    "    # description = regex.sub(patent_number_pattern, '', description  )\n",
    "\n",
    "    # remove non-AASII caracters\n",
    "    description = regex.sub(r'[^\\x00-\\x7F]', ' ', description)\n",
    "    \n",
    "    return description"
   ]
  },
  {
   "cell_type": "code",
   "execution_count": 360,
   "metadata": {},
   "outputs": [
    {
     "name": "stdout",
     "output_type": "stream",
     "text": [
      "nombre de caractères : 10785\n"
     ]
    }
   ],
   "source": [
    "# test\n",
    "description = fullTextTrimming( description )\n",
    "print('nombre de caractères :', len(description))"
   ]
  },
  {
   "cell_type": "code",
   "execution_count": 361,
   "metadata": {
    "collapsed": true
   },
   "outputs": [],
   "source": [
    "def findAllCandidates( description ):\n",
    "    \"\"\" Recherche  les chiffres isolés pouvant correspondre à un numéro de légende\n",
    "\n",
    "        par exemple   \" 4, 5 and 6 \", ou \" 6 and 7 \", \" 6, 7 \"\n",
    "\n",
    "        retourne une legend : liste avec les infos pour chaque 'match'\n",
    "    \"\"\" \n",
    "    \n",
    "    pattern =  r' (\\d{1,3}(( ?, ?| and | or )\\d{1,3})*)[^a-z0-9\\-]'\n",
    "\n",
    "    # Explication:\n",
    "    # la forme générale est E(SE) avec Element  Separator\n",
    "    # et le séparateur est une virgule ou and ou or \n",
    "   \n",
    "    allmatches = list( regex.finditer(pattern, description) )\n",
    "    splitpattern = regex.compile(r'[^\\d]+')\n",
    "    \n",
    "    legend = []\n",
    "    for m in allmatches:\n",
    "        capture = m.group(1)\n",
    "        numbers = splitpattern.split( capture )\n",
    "        start = m.start()\n",
    "\n",
    "        label = description[ max(0, m.start()-40 ): m.start() ]  # to prevent overlapping\n",
    "        label = label.strip(' ')  # cas avec plusieurs espace consécutifs\n",
    "        \n",
    "        context = description[ max(0, m.start()-16 ): min( len(description), m.end()+10 ) ]  # to debug\n",
    "\n",
    "        for n in numbers:\n",
    "            item = {'number':int(n), 'label':label, 'position':[m.span(1)], 'context':context}\n",
    "            legend.append( item )\n",
    "\n",
    "    return legend"
   ]
  },
  {
   "cell_type": "code",
   "execution_count": 362,
   "metadata": {},
   "outputs": [
    {
     "name": "stdout",
     "output_type": "stream",
     "text": [
      "53\n"
     ]
    }
   ],
   "source": [
    "# test\n",
    "legend = findAllCandidates( description )\n",
    "print(len(legend))"
   ]
  },
  {
   "cell_type": "code",
   "execution_count": 363,
   "metadata": {
    "scrolled": true
   },
   "outputs": [
    {
     "name": "stdout",
     "output_type": "stream",
     "text": [
      "   3  of 1.5-4 mm, with a thickness  4  of    0            thickness  4  of 0.5-1 mm. it\n",
      "     --\n",
      "                                              1                       1,192,748           \n",
      "  n of drawings           [0008]      fig.    1            [0008]      fig. 1  is an obl\n",
      "  2  of about 25-40 mm, and a width  3  of    1            d a width  3  of 1.5-4 mm, wi\n",
      "     --\n",
      "                                              2                       2,610,399           \n",
      "                                              2                       2,676,595           \n",
      "   u  shaped.             [0010]      fig.    2            [0010]      fig. 2   b  is a \n",
      "  nail plate.             [0009]      fig.    2            [0009]      fig. 2   a  is an\n",
      "       fig. 2   b  is a side view of  fig.    2            de view of  fig. 2   a , illu\n",
      "  uding rounded a  u  shape shown in  fig.    2            e shown in  fig. 2   a  or an\n",
      "   flat, rectangular shape having a length    2            having a length  2  of about \n",
      "     --\n",
      "                                              3                       3,803,713           \n",
      "                                              3                       3,835,536           \n",
      "                                              3                       3,877,147           \n",
      "  extensions.             [0011]      fig.    3            [0011]      fig. 3   a  is an\n",
      "   v  shaped.             [0012]      fig.    3            [0012]      fig. 3   b  is a \n",
      "       fig. 3   b  is a side view of  fig.    3            de view of  fig. 3   a , illu\n",
      "    or an angular  v  shape shown in  fig.    3            e shown in  fig. 3   a , with\n",
      "   ngth  2  of about 25-40 mm, and a width    3            mm, and a width  3  of 1.5-4 \n",
      "     --\n",
      "   width  3  of 1.5-4 mm, with a thickness    4            ith a thickness  4  of 0.5-1 \n",
      "     --\n",
      "                                              5                       5,285,577           \n",
      "                                              5                       5,341,822           \n",
      "                                              5                       5,524,348           \n",
      "   he scalpel blade is releasably attached    5            asably attached  5  to a stan\n",
      "     --\n",
      "                                              6                       6,182,364           \n",
      "   tached  5  to a standard scalpel handle    6             scalpel handle  6 , and the \n",
      "     --\n",
      "                                              7                       7,818,885           \n",
      "   d scalpel handle  6 , and the other end    7            d the other end  7  sharpened\n",
      "     --\n",
      "   ail plate. the distal corner extensions    8            rner extensions  8  may be bl\n",
      "   being that the distal corner extensions    8            rner extensions  8  serve as \n",
      "     --\n",
      "   e in the concave sharpened cutting edge    9            ed cutting edge  9  as the sc\n",
      "     --\n",
      "                                            147                       3,877,147           \n",
      "     --\n",
      "                                            182                       6,182,364           \n",
      "     --\n",
      "                                            192                       1,192,748           \n",
      "     --\n",
      "                                            285                       5,285,577           \n",
      "     --\n",
      "                                            341                       5,341,822           \n",
      "     --\n",
      "                                            348                       5,524,348           \n",
      "     --\n",
      "                                            364                       6,182,364           \n",
      "     --\n",
      "                                            399                       2,610,399           \n",
      "     --\n",
      "                                            524                       5,524,348           \n",
      "     --\n",
      "                                            536                       3,835,536           \n",
      "     --\n",
      "                                            577                       5,285,577           \n",
      "     --\n",
      "                                            595                       2,676,595           \n",
      "     --\n",
      "                                            610                       2,610,399           \n",
      "     --\n",
      "                                            676                       2,676,595           \n",
      "     --\n",
      "                                            713                       3,803,713           \n",
      "     --\n",
      "                                            748                       1,192,748           \n",
      "     --\n",
      "                                            803                       3,803,713           \n",
      "     --\n",
      "                                            818                       7,818,885           \n",
      "     --\n",
      "                                            822                       5,341,822           \n",
      "     --\n",
      "                                            835                       3,835,536           \n",
      "     --\n",
      "                                            877                       3,877,147           \n",
      "     --\n",
      "                                            885                       7,818,885           \n"
     ]
    }
   ],
   "source": [
    "print_legend( legend )"
   ]
  },
  {
   "cell_type": "code",
   "execution_count": 364,
   "metadata": {},
   "outputs": [
    {
     "data": {
      "text/plain": [
       "[0, 1, 2, 3, 4]"
      ]
     },
     "execution_count": 364,
     "metadata": {},
     "output_type": "execute_result"
    }
   ],
   "source": [
    "a = list( range(5) )\n",
    "b = list( a )\n",
    "a[4] = 10\n",
    "b"
   ]
  },
  {
   "cell_type": "code",
   "execution_count": 365,
   "metadata": {
    "collapsed": true
   },
   "outputs": [],
   "source": [
    "def disqualify( legend, pattern, n=-1 ):\n",
    "    for i, row in enumerate( legend ):\n",
    "        if pattern.search( row['label'] ):\n",
    "            legend[ i ]['number'] = n\n",
    "\n",
    "KEYWORDS = ['january', 'february', 'march', 'april', 'may', 'june',\\\n",
    "            'july', 'august', 'september', 'october', 'november', 'december',\\\n",
    "            'fig', 'figure', 'figures', 'claim', 'claims', 'at', 'and',\\\n",
    "            'numeral', 'embodiment', 'invention', 'part']\n",
    "\n",
    "KEYWORDS.extend( ['the', 'a', 'an', 'these', 'their', 'when', 'with', 'by', 'this', \\\n",
    "                   'have', 'having', 'has', 'is', 'are', 'over', 'its', 'of said', 'and', 'as',\\\n",
    "                   'of', 'in', 'to', 'but', 'another', 'through', 'on'] )\n",
    "            \n",
    "def firstScreening( legend ):\n",
    "    \"\"\" Premier filtrage en regardant comment se termine le label,\n",
    "        Critères éliminants:\n",
    "        \n",
    "            - ne se termine pas par une lettre (Typiquement Fig. 5)\n",
    "            - se termine par un des mots clés ('claim') ou un mot commun\n",
    "            \n",
    "        change le numéro pour 998 ou 999..\n",
    "    \"\"\"\n",
    "    newlegend = copy.deepcopy(legend) # copy (pour ne pas ecrasser Legend)\n",
    "    \n",
    "    pattern = regex.compile( r'[^a-z]$', regex.I )\n",
    "    disqualify( newlegend, pattern )\n",
    "   \n",
    "\n",
    "    pattern = regex.compile( r'\\W(%s)$' % '|'.join(KEYWORDS), regex.I )\n",
    "    disqualify( newlegend, pattern )\n",
    "\n",
    "    return newlegend"
   ]
  },
  {
   "cell_type": "code",
   "execution_count": 366,
   "metadata": {},
   "outputs": [
    {
     "name": "stdout",
     "output_type": "stream",
     "text": [
      "   u  shaped.             [0010]      fig.   -1            [0010]      fig. 2   b  is a \n",
      "  extensions.             [0011]      fig.   -1            [0011]      fig. 3   a  is an\n",
      "   v  shaped.             [0012]      fig.   -1            [0012]      fig. 3   b  is a \n",
      "  n of drawings           [0008]      fig.   -1            [0008]      fig. 1  is an obl\n",
      "  nail plate.             [0009]      fig.   -1            [0009]      fig. 2   a  is an\n",
      "       fig. 2   b  is a side view of  fig.   -1            de view of  fig. 2   a , illu\n",
      "       fig. 3   b  is a side view of  fig.   -1            de view of  fig. 3   a , illu\n",
      "  uding rounded a  u  shape shown in  fig.   -1            e shown in  fig. 2   a  or an\n",
      "    or an angular  v  shape shown in  fig.   -1            e shown in  fig. 3   a , with\n",
      "  2  of about 25-40 mm, and a width  3  of   -1            d a width  3  of 1.5-4 mm, wi\n",
      "   3  of 1.5-4 mm, with a thickness  4  of   -1            thickness  4  of 0.5-1 mm. it\n",
      "     --\n",
      "                                              1                       1,192,748           \n",
      "     --\n",
      "                                              2                       2,610,399           \n",
      "                                              2                       2,676,595           \n",
      "   flat, rectangular shape having a length    2            having a length  2  of about \n",
      "     --\n",
      "                                              3                       3,803,713           \n",
      "                                              3                       3,835,536           \n",
      "                                              3                       3,877,147           \n",
      "   ngth  2  of about 25-40 mm, and a width    3            mm, and a width  3  of 1.5-4 \n",
      "     --\n",
      "   width  3  of 1.5-4 mm, with a thickness    4            ith a thickness  4  of 0.5-1 \n",
      "     --\n",
      "                                              5                       5,285,577           \n",
      "                                              5                       5,341,822           \n",
      "                                              5                       5,524,348           \n",
      "   he scalpel blade is releasably attached    5            asably attached  5  to a stan\n",
      "     --\n",
      "                                              6                       6,182,364           \n",
      "   tached  5  to a standard scalpel handle    6             scalpel handle  6 , and the \n",
      "     --\n",
      "                                              7                       7,818,885           \n",
      "   d scalpel handle  6 , and the other end    7            d the other end  7  sharpened\n",
      "     --\n",
      "   ail plate. the distal corner extensions    8            rner extensions  8  may be bl\n",
      "   being that the distal corner extensions    8            rner extensions  8  serve as \n",
      "     --\n",
      "   e in the concave sharpened cutting edge    9            ed cutting edge  9  as the sc\n",
      "     --\n",
      "                                            147                       3,877,147           \n",
      "     --\n",
      "                                            182                       6,182,364           \n",
      "     --\n",
      "                                            192                       1,192,748           \n",
      "     --\n",
      "                                            285                       5,285,577           \n",
      "     --\n",
      "                                            341                       5,341,822           \n",
      "     --\n",
      "                                            348                       5,524,348           \n",
      "     --\n",
      "                                            364                       6,182,364           \n",
      "     --\n",
      "                                            399                       2,610,399           \n",
      "     --\n",
      "                                            524                       5,524,348           \n",
      "     --\n",
      "                                            536                       3,835,536           \n",
      "     --\n",
      "                                            577                       5,285,577           \n",
      "     --\n",
      "                                            595                       2,676,595           \n",
      "     --\n",
      "                                            610                       2,610,399           \n",
      "     --\n",
      "                                            676                       2,676,595           \n",
      "     --\n",
      "                                            713                       3,803,713           \n",
      "     --\n",
      "                                            748                       1,192,748           \n",
      "     --\n",
      "                                            803                       3,803,713           \n",
      "     --\n",
      "                                            818                       7,818,885           \n",
      "     --\n",
      "                                            822                       5,341,822           \n",
      "     --\n",
      "                                            835                       3,835,536           \n",
      "     --\n",
      "                                            877                       3,877,147           \n",
      "     --\n",
      "                                            885                       7,818,885           \n"
     ]
    }
   ],
   "source": [
    "legend = firstScreening(legend) \n",
    "print_legend( legend )"
   ]
  },
  {
   "cell_type": "markdown",
   "metadata": {
    "collapsed": true
   },
   "source": [
    "## Coupe sur certain mot clé (the, a, an, ...)"
   ]
  },
  {
   "cell_type": "code",
   "execution_count": 367,
   "metadata": {
    "collapsed": true
   },
   "outputs": [],
   "source": [
    "def cut_legend_using_pattern( legend, pattern ):\n",
    "    for i, row in enumerate( legend ):\n",
    "        label = row['label']\n",
    "\n",
    "        match = pattern.search(label)\n",
    "\n",
    "        if match:\n",
    "            newlabel = match.group(2)\n",
    "            legend[i]['label'] = newlabel\n",
    "            \n",
    "SMALL_WORDS = ['the', 'a', 'an', 'these', 'their', 'when', 'with', 'by', 'this', 'that', \\\n",
    "               'have', 'having', 'has', 'is', 'are', 'should', 'over', 'its', 'of said', 'and', 'as',\\\n",
    "               'of', 'in', 'to', 'at',  'but', 'another', 'through', 'on', 'same', 'from',\\\n",
    "               'include', 'includes', 'beyond', 'between']"
   ]
  },
  {
   "cell_type": "code",
   "execution_count": 368,
   "metadata": {
    "collapsed": true
   },
   "outputs": [],
   "source": [
    "def cutLabels( legend ):\n",
    "    \"\"\" coupe les labels sur certain mots commun ('the', 'a'... etc)\n",
    "        et sur certains caractères spéciaux (. , ;)\n",
    "    \"\"\"\n",
    "    newlegend = copy.deepcopy(legend) # copy (pour ne pas ecrasser Legend)\n",
    "    \n",
    "    pattern_small_words = regex.compile( r'^.* (%s) (.+)$' % '|'.join(SMALL_WORDS), regex.I )\n",
    "    cut_legend_using_pattern( newlegend, pattern_small_words )\n",
    "    \n",
    "    pattern = regex.compile( '^.*([\\.,;] )(.+)$' )\n",
    "    cut_legend_using_pattern( newlegend, pattern )\n",
    "    \n",
    "    return newlegend"
   ]
  },
  {
   "cell_type": "code",
   "execution_count": 369,
   "metadata": {},
   "outputs": [
    {
     "name": "stdout",
     "output_type": "stream",
     "text": [
      "                                      fig.   -1            de view of  fig. 2   a , illu\n",
      "                                      fig.   -1            de view of  fig. 3   a , illu\n",
      "                                      fig.   -1            e shown in  fig. 2   a  or an\n",
      "                                      fig.   -1            e shown in  fig. 3   a , with\n",
      "                          [0010]      fig.   -1            [0010]      fig. 2   b  is a \n",
      "                          [0011]      fig.   -1            [0011]      fig. 3   a  is an\n",
      "                          [0012]      fig.   -1            [0012]      fig. 3   b  is a \n",
      "       drawings           [0008]      fig.   -1            [0008]      fig. 1  is an obl\n",
      "                          [0009]      fig.   -1            [0009]      fig. 2   a  is an\n",
      "                              width  3  of   -1            d a width  3  of 1.5-4 mm, wi\n",
      "                          thickness  4  of   -1            thickness  4  of 0.5-1 mm. it\n",
      "     --\n",
      "                                              1                       1,192,748           \n",
      "     --\n",
      "                                              2                       2,610,399           \n",
      "                                              2                       2,676,595           \n",
      "                                    length    2            having a length  2  of about \n",
      "     --\n",
      "                                              3                       3,803,713           \n",
      "                                              3                       3,835,536           \n",
      "                                              3                       3,877,147           \n",
      "                                     width    3            mm, and a width  3  of 1.5-4 \n",
      "     --\n",
      "                                 thickness    4            ith a thickness  4  of 0.5-1 \n",
      "     --\n",
      "                                              5                       5,285,577           \n",
      "                                              5                       5,341,822           \n",
      "                                              5                       5,524,348           \n",
      "                       releasably attached    5            asably attached  5  to a stan\n",
      "     --\n",
      "                                              6                       6,182,364           \n",
      "                   standard scalpel handle    6             scalpel handle  6 , and the \n",
      "     --\n",
      "                                              7                       7,818,885           \n",
      "                                 other end    7            d the other end  7  sharpened\n",
      "     --\n",
      "                  distal corner extensions    8            rner extensions  8  serve as \n",
      "                  distal corner extensions    8            rner extensions  8  may be bl\n",
      "     --\n",
      "            concave sharpened cutting edge    9            ed cutting edge  9  as the sc\n",
      "     --\n",
      "                                            147                       3,877,147           \n",
      "     --\n",
      "                                            182                       6,182,364           \n",
      "     --\n",
      "                                            192                       1,192,748           \n",
      "     --\n",
      "                                            285                       5,285,577           \n",
      "     --\n",
      "                                            341                       5,341,822           \n",
      "     --\n",
      "                                            348                       5,524,348           \n",
      "     --\n",
      "                                            364                       6,182,364           \n",
      "     --\n",
      "                                            399                       2,610,399           \n",
      "     --\n",
      "                                            524                       5,524,348           \n",
      "     --\n",
      "                                            536                       3,835,536           \n",
      "     --\n",
      "                                            577                       5,285,577           \n",
      "     --\n",
      "                                            595                       2,676,595           \n",
      "     --\n",
      "                                            610                       2,610,399           \n",
      "     --\n",
      "                                            676                       2,676,595           \n",
      "     --\n",
      "                                            713                       3,803,713           \n",
      "     --\n",
      "                                            748                       1,192,748           \n",
      "     --\n",
      "                                            803                       3,803,713           \n",
      "     --\n",
      "                                            818                       7,818,885           \n",
      "     --\n",
      "                                            822                       5,341,822           \n",
      "     --\n",
      "                                            835                       3,835,536           \n",
      "     --\n",
      "                                            877                       3,877,147           \n",
      "     --\n",
      "                                            885                       7,818,885           \n"
     ]
    }
   ],
   "source": [
    "# test\n",
    "legend = cutLabels(legend) \n",
    "print_legend( legend )"
   ]
  },
  {
   "cell_type": "markdown",
   "metadata": {},
   "source": [
    "### Merge : regroupe les candidats ayant un label identique\n",
    "\n",
    "Rq: utile pour le dev. mais pas pour l'identification"
   ]
  },
  {
   "cell_type": "code",
   "execution_count": 370,
   "metadata": {
    "collapsed": true
   },
   "outputs": [],
   "source": [
    "def get_positions( label, candidats ):\n",
    "    positions = []\n",
    "    for item in candidats:\n",
    "        if item['label']==label:\n",
    "            positions.extend( item['position'] )\n",
    "    return positions\n",
    "\n",
    "def get_context( label, candidats ):\n",
    "    items = [ item for item in candidats if item['label']==label ]\n",
    "    \n",
    "    return items[0]['context']\n",
    "\n",
    "def merge( legend ):\n",
    "    # merge identical label\n",
    "    \n",
    "    numbers_unique = { item['number'] for item in legend  } # set\n",
    "\n",
    "    new_legend = []\n",
    "    for n in numbers_unique:\n",
    "\n",
    "        candidats = [ line for line in legend if line['number']==n ]\n",
    "\n",
    "        labels_unique = { item['label'] for item in candidats  }\n",
    "\n",
    "        new_candidats = [ { 'number':n, 'label':label_u,\\\n",
    "                           'position':get_positions(label_u, candidats), 'context':get_context(label_u, candidats) }\n",
    "                          for label_u in labels_unique ]\n",
    "        \n",
    "        new_legend.extend( new_candidats )\n",
    "\n",
    "    return new_legend"
   ]
  },
  {
   "cell_type": "code",
   "execution_count": 371,
   "metadata": {
    "scrolled": false
   },
   "outputs": [
    {
     "name": "stdout",
     "output_type": "stream",
     "text": [
      "                          [0010]      fig.   -1            [0010]      fig. 2   b  is a \n",
      "                          [0011]      fig.   -1            [0011]      fig. 3   a  is an\n",
      "                          [0012]      fig.   -1            [0012]      fig. 3   b  is a \n",
      "       drawings           [0008]      fig.   -1            [0008]      fig. 1  is an obl\n",
      "                          [0009]      fig.   -1            [0009]      fig. 2   a  is an\n",
      "                              width  3  of   -1            d a width  3  of 1.5-4 mm, wi\n",
      "                          thickness  4  of   -1            thickness  4  of 0.5-1 mm. it\n",
      "                                      fig.   -1  (4)        de view of  fig. 2   a , illu\n",
      "     --\n",
      "                                              1                       1,192,748           \n",
      "     --\n",
      "                                    length    2            having a length  2  of about \n",
      "                                              2  (2)                   2,610,399           \n",
      "     --\n",
      "                                     width    3            mm, and a width  3  of 1.5-4 \n",
      "                                              3  (3)                   3,803,713           \n",
      "     --\n",
      "                                 thickness    4            ith a thickness  4  of 0.5-1 \n",
      "     --\n",
      "                       releasably attached    5            asably attached  5  to a stan\n",
      "                                              5  (3)                   5,285,577           \n",
      "     --\n",
      "                                              6                       6,182,364           \n",
      "                   standard scalpel handle    6             scalpel handle  6 , and the \n",
      "     --\n",
      "                                              7                       7,818,885           \n",
      "                                 other end    7            d the other end  7  sharpened\n",
      "     --\n",
      "                  distal corner extensions    8  (2)        rner extensions  8  serve as \n",
      "     --\n",
      "            concave sharpened cutting edge    9            ed cutting edge  9  as the sc\n",
      "     --\n",
      "                                            147                       3,877,147           \n",
      "     --\n",
      "                                            182                       6,182,364           \n",
      "     --\n",
      "                                            192                       1,192,748           \n",
      "     --\n",
      "                                            285                       5,285,577           \n",
      "     --\n",
      "                                            341                       5,341,822           \n",
      "     --\n",
      "                                            348                       5,524,348           \n",
      "     --\n",
      "                                            364                       6,182,364           \n",
      "     --\n",
      "                                            399                       2,610,399           \n",
      "     --\n",
      "                                            524                       5,524,348           \n",
      "     --\n",
      "                                            536                       3,835,536           \n",
      "     --\n",
      "                                            577                       5,285,577           \n",
      "     --\n",
      "                                            595                       2,676,595           \n",
      "     --\n",
      "                                            610                       2,610,399           \n",
      "     --\n",
      "                                            676                       2,676,595           \n",
      "     --\n",
      "                                            713                       3,803,713           \n",
      "     --\n",
      "                                            748                       1,192,748           \n",
      "     --\n",
      "                                            803                       3,803,713           \n",
      "     --\n",
      "                                            818                       7,818,885           \n",
      "     --\n",
      "                                            822                       5,341,822           \n",
      "     --\n",
      "                                            835                       3,835,536           \n",
      "     --\n",
      "                                            877                       3,877,147           \n",
      "     --\n",
      "                                            885                       7,818,885           \n"
     ]
    }
   ],
   "source": [
    "print_legend( merge( legend ) )"
   ]
  },
  {
   "cell_type": "markdown",
   "metadata": {},
   "source": [
    "## Identification du meilleur candidats"
   ]
  },
  {
   "cell_type": "code",
   "execution_count": 372,
   "metadata": {
    "collapsed": true
   },
   "outputs": [],
   "source": [
    "def candidates_for_onenumber( legend, i ):\n",
    "    candidates = [ c for c in legend if c['number'] == i ]\n",
    "\n",
    "    for c in candidates:\n",
    "        c['reversed'] = c['label'].split(' ')[::-1]\n",
    "        c['weight'] = len( c['position'] )\n",
    "        \n",
    "    return candidates"
   ]
  },
  {
   "cell_type": "code",
   "execution_count": 373,
   "metadata": {},
   "outputs": [
    {
     "name": "stdout",
     "output_type": "stream",
     "text": [
      "[]\n"
     ]
    }
   ],
   "source": [
    "print( candidates_for_onenumber(legend, 34) )"
   ]
  },
  {
   "cell_type": "code",
   "execution_count": 374,
   "metadata": {
    "collapsed": true
   },
   "outputs": [],
   "source": [
    "def increment_dico( dico, key, value ):\n",
    "    if key in dico:\n",
    "        dico[key] += value\n",
    "    else:\n",
    "        dico[key] = value\n",
    "        \n",
    "def append_dico( dico, key, value ):\n",
    "    if key in dico:\n",
    "        dico[key].append( value )\n",
    "    else:\n",
    "        dico[key] = [value]\n",
    "\n",
    "def who_are_the_winners( scoreboard ):\n",
    "    scoreMax = max( scoreboard.values() )\n",
    "    winners = [ sb[0] for sb in scoreboard.items() if sb[1] == scoreMax ]\n",
    "    return winners"
   ]
  },
  {
   "cell_type": "code",
   "execution_count": 375,
   "metadata": {
    "collapsed": true
   },
   "outputs": [],
   "source": [
    "def choose_best_label( remainingcandidates ):\n",
    "    \"\"\" Choisi un candidat gagnant unique\n",
    "    \n",
    "        choisi le label mot par mot, en partant de la fin :\n",
    "            - si un mot apparait plus souvent que tout les autres, alors il est choisi\n",
    "            - si plusieurs mots apparaissent aussi souvent, alors le label est coupé ici\n",
    "    \"\"\"\n",
    "    N = len( remainingcandidates )\n",
    "    \n",
    "    if N == 1:\n",
    "        return remainingcandidates[0]['label']\n",
    "    \n",
    "    previouschoice=[]\n",
    "    for i in range(20):\n",
    "        current_indice = len(previouschoice)\n",
    "\n",
    "        scoreboard = {}\n",
    "        nextword2candidates ={}\n",
    "        for c in remainingcandidates:\n",
    "            if current_indice < len( c['reversed'] ):\n",
    "                next_word = c['reversed'][ current_indice ]\n",
    "            else:\n",
    "                next_word = ''\n",
    "\n",
    "            append_dico( nextword2candidates, next_word, c )\n",
    "            increment_dico( scoreboard, next_word, c['weight'] )\n",
    "\n",
    "            #print(next_word, c['weight'])\n",
    "\n",
    "        #print( 'scoreboard: ', scoreboard )\n",
    "        winners = who_are_the_winners( scoreboard )\n",
    "        #print( 'winners:', winners )\n",
    "        if len(winners) == 1 and winners[0]:\n",
    "            choice = winners[0]\n",
    "            remainingcandidates = nextword2candidates[choice]\n",
    "            previouschoice.append( choice )\n",
    "            #print(' ')\n",
    "\n",
    "        else: # exaequo ou fin -> stop\n",
    "            selectedlabel = ' '.join( previouschoice[::-1] )\n",
    "            #print( selectedlabel )\n",
    "            break\n",
    "\n",
    "    return selectedlabel"
   ]
  },
  {
   "cell_type": "code",
   "execution_count": 376,
   "metadata": {},
   "outputs": [
    {
     "ename": "ValueError",
     "evalue": "max() arg is an empty sequence",
     "output_type": "error",
     "traceback": [
      "\u001b[0;31m---------------------------------------------------------------------------\u001b[0m",
      "\u001b[0;31mValueError\u001b[0m                                Traceback (most recent call last)",
      "\u001b[0;32m<ipython-input-376-ca1c0f6f4edc>\u001b[0m in \u001b[0;36m<module>\u001b[0;34m()\u001b[0m\n\u001b[1;32m      1\u001b[0m \u001b[0;31m# test\u001b[0m\u001b[0;34m\u001b[0m\u001b[0;34m\u001b[0m\u001b[0m\n\u001b[1;32m      2\u001b[0m \u001b[0mcandidates\u001b[0m \u001b[0;34m=\u001b[0m \u001b[0mcandidates_for_onenumber\u001b[0m\u001b[0;34m(\u001b[0m\u001b[0mlegend\u001b[0m\u001b[0;34m,\u001b[0m \u001b[0;36m33\u001b[0m\u001b[0;34m)\u001b[0m\u001b[0;34m\u001b[0m\u001b[0m\n\u001b[0;32m----> 3\u001b[0;31m \u001b[0mchoose_best_label\u001b[0m\u001b[0;34m(\u001b[0m \u001b[0mcandidates\u001b[0m \u001b[0;34m)\u001b[0m\u001b[0;34m\u001b[0m\u001b[0m\n\u001b[0m",
      "\u001b[0;32m<ipython-input-375-f3512da1c5b8>\u001b[0m in \u001b[0;36mchoose_best_label\u001b[0;34m(remainingcandidates)\u001b[0m\n\u001b[1;32m     29\u001b[0m \u001b[0;34m\u001b[0m\u001b[0m\n\u001b[1;32m     30\u001b[0m         \u001b[0;31m#print( 'scoreboard: ', scoreboard )\u001b[0m\u001b[0;34m\u001b[0m\u001b[0;34m\u001b[0m\u001b[0m\n\u001b[0;32m---> 31\u001b[0;31m         \u001b[0mwinners\u001b[0m \u001b[0;34m=\u001b[0m \u001b[0mwho_are_the_winners\u001b[0m\u001b[0;34m(\u001b[0m \u001b[0mscoreboard\u001b[0m \u001b[0;34m)\u001b[0m\u001b[0;34m\u001b[0m\u001b[0m\n\u001b[0m\u001b[1;32m     32\u001b[0m         \u001b[0;31m#print( 'winners:', winners )\u001b[0m\u001b[0;34m\u001b[0m\u001b[0;34m\u001b[0m\u001b[0m\n\u001b[1;32m     33\u001b[0m         \u001b[0;32mif\u001b[0m \u001b[0mlen\u001b[0m\u001b[0;34m(\u001b[0m\u001b[0mwinners\u001b[0m\u001b[0;34m)\u001b[0m \u001b[0;34m==\u001b[0m \u001b[0;36m1\u001b[0m \u001b[0;32mand\u001b[0m \u001b[0mwinners\u001b[0m\u001b[0;34m[\u001b[0m\u001b[0;36m0\u001b[0m\u001b[0;34m]\u001b[0m\u001b[0;34m:\u001b[0m\u001b[0;34m\u001b[0m\u001b[0m\n",
      "\u001b[0;32m<ipython-input-374-a81d4ff2d6b0>\u001b[0m in \u001b[0;36mwho_are_the_winners\u001b[0;34m(scoreboard)\u001b[0m\n\u001b[1;32m     12\u001b[0m \u001b[0;34m\u001b[0m\u001b[0m\n\u001b[1;32m     13\u001b[0m \u001b[0;32mdef\u001b[0m \u001b[0mwho_are_the_winners\u001b[0m\u001b[0;34m(\u001b[0m \u001b[0mscoreboard\u001b[0m \u001b[0;34m)\u001b[0m\u001b[0;34m:\u001b[0m\u001b[0;34m\u001b[0m\u001b[0m\n\u001b[0;32m---> 14\u001b[0;31m     \u001b[0mscoreMax\u001b[0m \u001b[0;34m=\u001b[0m \u001b[0mmax\u001b[0m\u001b[0;34m(\u001b[0m \u001b[0mscoreboard\u001b[0m\u001b[0;34m.\u001b[0m\u001b[0mvalues\u001b[0m\u001b[0;34m(\u001b[0m\u001b[0;34m)\u001b[0m \u001b[0;34m)\u001b[0m\u001b[0;34m\u001b[0m\u001b[0m\n\u001b[0m\u001b[1;32m     15\u001b[0m     \u001b[0mwinners\u001b[0m \u001b[0;34m=\u001b[0m \u001b[0;34m[\u001b[0m \u001b[0msb\u001b[0m\u001b[0;34m[\u001b[0m\u001b[0;36m0\u001b[0m\u001b[0;34m]\u001b[0m \u001b[0;32mfor\u001b[0m \u001b[0msb\u001b[0m \u001b[0;32min\u001b[0m \u001b[0mscoreboard\u001b[0m\u001b[0;34m.\u001b[0m\u001b[0mitems\u001b[0m\u001b[0;34m(\u001b[0m\u001b[0;34m)\u001b[0m \u001b[0;32mif\u001b[0m \u001b[0msb\u001b[0m\u001b[0;34m[\u001b[0m\u001b[0;36m1\u001b[0m\u001b[0;34m]\u001b[0m \u001b[0;34m==\u001b[0m \u001b[0mscoreMax\u001b[0m \u001b[0;34m]\u001b[0m\u001b[0;34m\u001b[0m\u001b[0m\n\u001b[1;32m     16\u001b[0m     \u001b[0;32mreturn\u001b[0m \u001b[0mwinners\u001b[0m\u001b[0;34m\u001b[0m\u001b[0m\n",
      "\u001b[0;31mValueError\u001b[0m: max() arg is an empty sequence"
     ]
    }
   ],
   "source": [
    "# test\n",
    "candidates = candidates_for_onenumber(legend, 33)\n",
    "choose_best_label( candidates )"
   ]
  },
  {
   "cell_type": "code",
   "execution_count": null,
   "metadata": {},
   "outputs": [],
   "source": [
    "allnumbers = sorted( { c['number'] for c in legend if c['number']>0 } ) # unique et triés\n",
    "print( allnumbers )"
   ]
  },
  {
   "cell_type": "code",
   "execution_count": null,
   "metadata": {
    "collapsed": true
   },
   "outputs": [],
   "source": [
    "final_legend = []\n",
    "for numero in allnumbers:\n",
    "    candidates = candidates_for_onenumber(legend, numero)\n",
    "    thelabel = choose_best_label( candidates )\n",
    "\n",
    "    line = {'numero':numero , 'label':thelabel  }\n",
    "    final_legend.append( line )"
   ]
  },
  {
   "cell_type": "code",
   "execution_count": null,
   "metadata": {},
   "outputs": [],
   "source": [
    "for line in final_legend:\n",
    "    print( '{numero:>5}  {label}'.format( **line ) )"
   ]
  },
  {
   "cell_type": "markdown",
   "metadata": {},
   "source": [
    "# Remarques\n",
    "### Comment selectionner le meilleurs candidats ?\n",
    "\n",
    " * si unique:  ok\n",
    "       et si unique et len()==40... ? c.a.d. pas coupé\n",
    " * si max unique: ok\n",
    " * sinon : selectionne les qualifiés, puis...\n",
    " * exaequo...  construit un arbre de comptage ?\n"
   ]
  },
  {
   "cell_type": "markdown",
   "metadata": {},
   "source": [
    "\n",
    "\n",
    "### To look\n",
    "* patents number: 3,803,713  \n",
    "* comment ne pas modifier le texte, pour pouvoir l'annoter ?\n",
    "* paranthese: between the elongated plates ( 1 , 2 ).\n",
    "* line 5 - 5\n",
    "*      march   15                 march 15,   \n",
    "en debut de la description ...\n",
    "* generally... adverbes ?\n",
    "* \" respectivement A et B \" ... respective\n",
    "* letter sur les vieux brevets\n",
    "* merge keywords and small_words ??\n",
    "* pluriel\n",
    "\n",
    "* sort of recursive... identifier un permet d'en déduire un autre...\n",
    "\n",
    "## other things\n",
    "* Find values like \"110 volts\"... "
   ]
  },
  {
   "cell_type": "code",
   "execution_count": null,
   "metadata": {
    "collapsed": true
   },
   "outputs": [],
   "source": []
  },
  {
   "cell_type": "code",
   "execution_count": null,
   "metadata": {},
   "outputs": [],
   "source": [
    "# Find values\n",
    "units = ['inch', 'volt', 'm', 'mm']\n",
    "find_sci_values =  r\" (\\d{1,4}([\\.,]\\d{1,4})? (%s)\\W)\" % '|'.join(units)\n",
    "\n",
    "print( regex.findall(find_sci_values, description) )\n",
    "description = regex.sub(find_sci_values, '<value>', description  )"
   ]
  },
  {
   "cell_type": "code",
   "execution_count": null,
   "metadata": {},
   "outputs": [],
   "source": [
    "# Find values\n",
    "units = ['inch', 'volt', 'm', 'mm']\n",
    "find_sci_values =  r\" (\\d{1,4}([\\.,]\\d{1,4})? (%s)\\W)\" % '|'.join(units)\n",
    "\n",
    "print( regex.findall(find_sci_values, description) )\n",
    "description = regex.sub(find_sci_values, '<value>', description  )"
   ]
  },
  {
   "cell_type": "code",
   "execution_count": null,
   "metadata": {},
   "outputs": [],
   "source": [
    "# Find floats\n",
    "find_sci_floats =  r\" (\\d{1,4}([\\.,]\\d{1,4})\\W)\" \n",
    "\n",
    "print( regex.findall(find_sci_floats, description) )\n",
    "description = regex.sub(find_sci_floats, '<value>', description  )"
   ]
  },
  {
   "cell_type": "code",
   "execution_count": null,
   "metadata": {},
   "outputs": [],
   "source": [
    "# \" between 0.4 to 2.5 \" \n",
    "betweenpattern = r\"(between [\\d\\.,]{1,4} (to|and) [\\d\\.,]{1,4}\\W)\"\n",
    "\n",
    "print( regex.findall(betweenpattern, description) )\n",
    "description = regex.sub(betweenpattern, '<between>', description  )"
   ]
  }
 ],
 "metadata": {
  "kernelspec": {
   "display_name": "Python 3",
   "language": "python",
   "name": "python3"
  },
  "language_info": {
   "codemirror_mode": {
    "name": "ipython",
    "version": 3
   },
   "file_extension": ".py",
   "mimetype": "text/x-python",
   "name": "python",
   "nbconvert_exporter": "python",
   "pygments_lexer": "ipython3",
   "version": "3.5.2"
  }
 },
 "nbformat": 4,
 "nbformat_minor": 2
}
