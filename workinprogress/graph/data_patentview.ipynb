{
 "cells": [
  {
   "cell_type": "markdown",
   "metadata": {},
   "source": [
    "# Data from PatentView API\n",
    "\n",
    "Query you made:  \n",
    "\n",
    "        http://www.patentsview.org/api/patents/query?q={\"_and\":[{\"cpc_section_id\":\"A\"},{\"cpc_subsection_id\":\"A45\"},{\"cpc_group_id\":\"A45D\"},{\"cpc_subgroup_id\":\"A45D29/02\"}]}&f=[\"patent_number\",\"patent_title\",\"patent_abstract\",\"patent_date\",\"patent_year\",\"inventor_id\",\"inventor_first_name\",\"inventor_last_name\",\"inventor_city\",\"inventor_country\",\"cited_patent_number\",\"cited_patent_title\",\"cited_patent_date\",\"cited_patent_kind\",\"cited_patent_category\",\"cited_patent_sequence\",\"citedby_patent_number\",\"citedby_patent_title\",\"citedby_patent_date\",\"citedby_patent_kind\",\"citedby_patent_category\",\"cpc_section_id\",\"cpc_subsection_id\",\"cpc_group_id\",\"cpc_subgroup_id\",\"cpc_category\",\"cpc_subsection_title\",\"cpc_group_title\",\"cpc_subgroup_title\",\"cpc_first_seen_date\",\"cpc_last_seen_date\",\"cpc_sequence\"]&s=[{\"patent_title\":\"asc\"}]\n",
    "\n",
    "\n",
    "_Rq_: données seulement depuis 1976"
   ]
  },
  {
   "cell_type": "code",
   "execution_count": 21,
   "metadata": {
    "collapsed": true
   },
   "outputs": [],
   "source": [
    "import json\n",
    "import matplotlib.pyplot as plt\n",
    "%matplotlib inline\n",
    "\n",
    "import numpy as np"
   ]
  },
  {
   "cell_type": "code",
   "execution_count": 9,
   "metadata": {},
   "outputs": [
    {
     "name": "stdout",
     "output_type": "stream",
     "text": [
      "116 116\n"
     ]
    }
   ],
   "source": [
    "# load the data\n",
    "file_path = './data/patentview_d5291033.json'\n",
    "\n",
    "data_brut = []\n",
    "with open(file_path) as f:\n",
    "    d = f.read()\n",
    "    data_brut = json.loads(d)\n",
    "        \n",
    "print( data_brut['count'], data_brut['total_patent_count'] )\n",
    "\n",
    "data_brut = data_brut['patents']"
   ]
  },
  {
   "cell_type": "code",
   "execution_count": 13,
   "metadata": {},
   "outputs": [
    {
     "data": {
      "text/plain": [
       "dict_keys(['patent_date', 'cited_patents', 'cpcs', 'citedby_patents', 'inventors', 'patent_title', 'patent_number', 'patent_abstract', 'patent_year'])"
      ]
     },
     "execution_count": 13,
     "metadata": {},
     "output_type": "execute_result"
    }
   ],
   "source": [
    "data_brut[1].keys()"
   ]
  },
  {
   "cell_type": "code",
   "execution_count": 14,
   "metadata": {
    "collapsed": true
   },
   "outputs": [],
   "source": [
    "# brevet par année"
   ]
  },
  {
   "cell_type": "code",
   "execution_count": 17,
   "metadata": {},
   "outputs": [],
   "source": [
    "years = [ p['patent_year'] for p in data_brut ]"
   ]
  },
  {
   "cell_type": "code",
   "execution_count": 20,
   "metadata": {},
   "outputs": [
    {
     "data": {
      "text/plain": [
       "('1976', '2016')"
      ]
     },
     "execution_count": 20,
     "metadata": {},
     "output_type": "execute_result"
    }
   ],
   "source": [
    "min(years), max(years)"
   ]
  },
  {
   "cell_type": "code",
   "execution_count": 22,
   "metadata": {},
   "outputs": [
    {
     "data": {
      "text/plain": [
       "5"
      ]
     },
     "execution_count": 22,
     "metadata": {},
     "output_type": "execute_result"
    }
   ],
   "source": [
    "np.argmin( years )"
   ]
  },
  {
   "cell_type": "code",
   "execution_count": 23,
   "metadata": {},
   "outputs": [
    {
     "data": {
      "text/plain": [
       "{'cited_patents': [{'cited_patent_category': None,\n",
       "   'cited_patent_date': None,\n",
       "   'cited_patent_kind': None,\n",
       "   'cited_patent_number': None,\n",
       "   'cited_patent_sequence': '0',\n",
       "   'cited_patent_title': None},\n",
       "  {'cited_patent_category': None,\n",
       "   'cited_patent_date': None,\n",
       "   'cited_patent_kind': None,\n",
       "   'cited_patent_number': None,\n",
       "   'cited_patent_sequence': '1',\n",
       "   'cited_patent_title': None},\n",
       "  {'cited_patent_category': None,\n",
       "   'cited_patent_date': None,\n",
       "   'cited_patent_kind': None,\n",
       "   'cited_patent_number': None,\n",
       "   'cited_patent_sequence': '2',\n",
       "   'cited_patent_title': None},\n",
       "  {'cited_patent_category': None,\n",
       "   'cited_patent_date': None,\n",
       "   'cited_patent_kind': None,\n",
       "   'cited_patent_number': None,\n",
       "   'cited_patent_sequence': '3',\n",
       "   'cited_patent_title': None},\n",
       "  {'cited_patent_category': None,\n",
       "   'cited_patent_date': None,\n",
       "   'cited_patent_kind': None,\n",
       "   'cited_patent_number': None,\n",
       "   'cited_patent_sequence': '4',\n",
       "   'cited_patent_title': None}],\n",
       " 'citedby_patents': [{'citedby_patent_category': None,\n",
       "   'citedby_patent_date': '1976-12-21',\n",
       "   'citedby_patent_kind': 'A',\n",
       "   'citedby_patent_number': '3997966',\n",
       "   'citedby_patent_title': 'Combination nail clipper, clipping receptacle and removable front lid'},\n",
       "  {'citedby_patent_category': None,\n",
       "   'citedby_patent_date': '1979-04-24',\n",
       "   'citedby_patent_kind': 'A',\n",
       "   'citedby_patent_number': '4150481',\n",
       "   'citedby_patent_title': 'Finger-toe nail clipper having shifting receptacle'},\n",
       "  {'citedby_patent_category': None,\n",
       "   'citedby_patent_date': '1980-09-02',\n",
       "   'citedby_patent_kind': 'A',\n",
       "   'citedby_patent_number': '4219929',\n",
       "   'citedby_patent_title': 'Finger-toe nail clipper having shifting receptacle'},\n",
       "  {'citedby_patent_category': None,\n",
       "   'citedby_patent_date': '1986-01-14',\n",
       "   'citedby_patent_kind': 'A',\n",
       "   'citedby_patent_number': '4564034',\n",
       "   'citedby_patent_title': 'Nail clipper holder'},\n",
       "  {'citedby_patent_category': None,\n",
       "   'citedby_patent_date': '1986-07-29',\n",
       "   'citedby_patent_kind': 'A',\n",
       "   'citedby_patent_number': '4602430',\n",
       "   'citedby_patent_title': 'Nail clipper handle and clipping catcher'},\n",
       "  {'citedby_patent_category': None,\n",
       "   'citedby_patent_date': '1987-03-10',\n",
       "   'citedby_patent_kind': 'A',\n",
       "   'citedby_patent_number': '4648415',\n",
       "   'citedby_patent_title': 'Nail clipper and retainer and disposer of nail clippings'},\n",
       "  {'citedby_patent_category': None,\n",
       "   'citedby_patent_date': '1988-12-06',\n",
       "   'citedby_patent_kind': 'A',\n",
       "   'citedby_patent_number': '4788768',\n",
       "   'citedby_patent_title': 'Nail clipper with guard means'},\n",
       "  {'citedby_patent_category': None,\n",
       "   'citedby_patent_date': '1990-09-18',\n",
       "   'citedby_patent_kind': 'A',\n",
       "   'citedby_patent_number': '4956915',\n",
       "   'citedby_patent_title': 'Sanitary nail clipping device'},\n",
       "  {'citedby_patent_category': None,\n",
       "   'citedby_patent_date': '1991-07-16',\n",
       "   'citedby_patent_kind': 'A',\n",
       "   'citedby_patent_number': '5031765',\n",
       "   'citedby_patent_title': 'Protective casing for nail scissors'},\n",
       "  {'citedby_patent_category': None,\n",
       "   'citedby_patent_date': '1991-09-10',\n",
       "   'citedby_patent_kind': 'A',\n",
       "   'citedby_patent_number': '5046606',\n",
       "   'citedby_patent_title': 'Container for nail clippings'},\n",
       "  {'citedby_patent_category': None,\n",
       "   'citedby_patent_date': '1992-07-21',\n",
       "   'citedby_patent_kind': 'A',\n",
       "   'citedby_patent_number': '5131146',\n",
       "   'citedby_patent_title': 'Nail clipper receptacle'},\n",
       "  {'citedby_patent_category': None,\n",
       "   'citedby_patent_date': '1993-03-23',\n",
       "   'citedby_patent_kind': 'A',\n",
       "   'citedby_patent_number': '5195544',\n",
       "   'citedby_patent_title': 'Nail catcher case'},\n",
       "  {'citedby_patent_category': None,\n",
       "   'citedby_patent_date': '1994-06-28',\n",
       "   'citedby_patent_kind': 'A',\n",
       "   'citedby_patent_number': '5323537',\n",
       "   'citedby_patent_title': 'Cover for a nail clipper'},\n",
       "  {'citedby_patent_category': None,\n",
       "   'citedby_patent_date': '1996-02-13',\n",
       "   'citedby_patent_kind': 'A',\n",
       "   'citedby_patent_number': '5490327',\n",
       "   'citedby_patent_title': 'Retainer for a nail clipper'},\n",
       "  {'citedby_patent_category': None,\n",
       "   'citedby_patent_date': '1999-03-16',\n",
       "   'citedby_patent_kind': 'A',\n",
       "   'citedby_patent_number': '5881735',\n",
       "   'citedby_patent_title': 'Nail clipper'},\n",
       "  {'citedby_patent_category': 'cited by examiner',\n",
       "   'citedby_patent_date': '2003-04-29',\n",
       "   'citedby_patent_kind': 'B2',\n",
       "   'citedby_patent_number': '6553592',\n",
       "   'citedby_patent_title': 'Nail cutter equipped with supplementary function'},\n",
       "  {'citedby_patent_category': 'cited by examiner',\n",
       "   'citedby_patent_date': '2007-09-04',\n",
       "   'citedby_patent_kind': 'B2',\n",
       "   'citedby_patent_number': '7263775',\n",
       "   'citedby_patent_title': 'Illuminating nail clipper'},\n",
       "  {'citedby_patent_category': 'cited by examiner',\n",
       "   'citedby_patent_date': '2009-10-06',\n",
       "   'citedby_patent_kind': 'B2',\n",
       "   'citedby_patent_number': '7596928',\n",
       "   'citedby_patent_title': 'Apparatus for severing and loading bag fasteners'},\n",
       "  {'citedby_patent_category': 'cited by examiner',\n",
       "   'citedby_patent_date': '2012-01-17',\n",
       "   'citedby_patent_kind': 'B2',\n",
       "   'citedby_patent_number': '8096053',\n",
       "   'citedby_patent_title': 'Nail clipper'},\n",
       "  {'citedby_patent_category': 'cited by other',\n",
       "   'citedby_patent_date': '2012-09-11',\n",
       "   'citedby_patent_kind': 'B2',\n",
       "   'citedby_patent_number': '8261513',\n",
       "   'citedby_patent_title': 'Apparatus and method for severing and loading bag fasteners'},\n",
       "  {'citedby_patent_category': 'cited by examiner',\n",
       "   'citedby_patent_date': '2013-07-30',\n",
       "   'citedby_patent_kind': 'B2',\n",
       "   'citedby_patent_number': '8496013',\n",
       "   'citedby_patent_title': 'Nail clipper holding device'},\n",
       "  {'citedby_patent_category': 'cited by applicant',\n",
       "   'citedby_patent_date': '2014-02-04',\n",
       "   'citedby_patent_kind': 'B2',\n",
       "   'citedby_patent_number': '8640319',\n",
       "   'citedby_patent_title': 'Nail clipping system'},\n",
       "  {'citedby_patent_category': None,\n",
       "   'citedby_patent_date': '1989-12-26',\n",
       "   'citedby_patent_kind': 'S',\n",
       "   'citedby_patent_number': 'D305267',\n",
       "   'citedby_patent_title': 'Fingernail clipper'},\n",
       "  {'citedby_patent_category': None,\n",
       "   'citedby_patent_date': '1993-09-21',\n",
       "   'citedby_patent_kind': 'S',\n",
       "   'citedby_patent_number': 'D339656',\n",
       "   'citedby_patent_title': 'Nail clippings retainer'},\n",
       "  {'citedby_patent_category': 'cited by examiner',\n",
       "   'citedby_patent_date': '2002-12-03',\n",
       "   'citedby_patent_kind': 'S1',\n",
       "   'citedby_patent_number': 'D466283',\n",
       "   'citedby_patent_title': 'Nail clipper case'}],\n",
       " 'cpcs': [{'cpc_category': 'inventional',\n",
       "   'cpc_first_seen_date': '1976-01-06',\n",
       "   'cpc_group_id': 'A45D',\n",
       "   'cpc_group_title': 'Hairdressing or shaving equipment; manicuring or other cosmetic treatment',\n",
       "   'cpc_last_seen_date': '2017-07-25',\n",
       "   'cpc_section_id': 'A',\n",
       "   'cpc_sequence': '0',\n",
       "   'cpc_subgroup_id': 'A45D29/02',\n",
       "   'cpc_subgroup_title': 'Manicuring or pedicuring implements-Nail clippers or cutters',\n",
       "   'cpc_subsection_id': 'A45',\n",
       "   'cpc_subsection_title': 'Hand or travelling articles'},\n",
       "  {'cpc_category': 'inventional',\n",
       "   'cpc_first_seen_date': '1976-01-06',\n",
       "   'cpc_group_id': 'A45D',\n",
       "   'cpc_group_title': 'Hairdressing or shaving equipment; manicuring or other cosmetic treatment',\n",
       "   'cpc_last_seen_date': '2017-07-25',\n",
       "   'cpc_section_id': 'A',\n",
       "   'cpc_sequence': '1',\n",
       "   'cpc_subgroup_id': 'A45D29/023',\n",
       "   'cpc_subgroup_title': 'Manicuring or pedicuring implements-Nail clippers or cutters-with retainers for nail clippings',\n",
       "   'cpc_subsection_id': 'A45',\n",
       "   'cpc_subsection_title': 'Hand or travelling articles'}],\n",
       " 'inventors': [{'inventor_city': 'Albany',\n",
       "   'inventor_country': 'US',\n",
       "   'inventor_first_name': 'James J.',\n",
       "   'inventor_id': '3943948-1',\n",
       "   'inventor_last_name': 'Sartore'}],\n",
       " 'patent_abstract': 'A case comprised of a generally longitudinally tubular portion in which a nail clip can be inserted therein. Conforming to the same general outline of the nail clip which it houses and shell-like in appearance to it. Having internal pressure catches to captively hold the nail clip in place. With provision in its top wall to allow for the free movement of the operating handle and provision for a file, placed on a transverse to the longitudinal portion. Also containing a closeable and sealable front lid.',\n",
       " 'patent_date': '1976-03-16',\n",
       " 'patent_number': '3943948',\n",
       " 'patent_title': 'Case with closeable lid',\n",
       " 'patent_year': '1976'}"
      ]
     },
     "execution_count": 23,
     "metadata": {},
     "output_type": "execute_result"
    }
   ],
   "source": [
    "data_brut[ 5 ]"
   ]
  },
  {
   "cell_type": "code",
   "execution_count": null,
   "metadata": {
    "collapsed": true
   },
   "outputs": [],
   "source": []
  }
 ],
 "metadata": {
  "kernelspec": {
   "display_name": "Python 3",
   "language": "python",
   "name": "python3"
  },
  "language_info": {
   "codemirror_mode": {
    "name": "ipython",
    "version": 3
   },
   "file_extension": ".py",
   "mimetype": "text/x-python",
   "name": "python",
   "nbconvert_exporter": "python",
   "pygments_lexer": "ipython3",
   "version": "3.5.2"
  }
 },
 "nbformat": 4,
 "nbformat_minor": 2
}
