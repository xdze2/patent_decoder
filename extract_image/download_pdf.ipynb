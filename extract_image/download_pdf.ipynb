{
 "cells": [
  {
   "cell_type": "code",
   "execution_count": 1,
   "metadata": {
    "collapsed": true
   },
   "outputs": [],
   "source": [
    "import requests\n",
    "import pickle\n",
    "import os\n",
    "import time\n",
    "from random import randint"
   ]
  },
  {
   "cell_type": "code",
   "execution_count": 2,
   "metadata": {
    "collapsed": true
   },
   "outputs": [],
   "source": [
    "session = requests.Session()\n",
    "session.headers.update({'User-Agent': 'Mozilla/5.0 (X11; Linux x86_64; rv:57.0) Gecko/20100101 Firefox/57.0', \\\n",
    "                        'Accept':'text/html,application/xhtml+xml,application/xml;q=0.9,image/webp,*/*;q=0.8'})\n",
    "\n",
    "#session.headers.update({'User-Agent': 'Mozilla/5.0 (Windows NT 10.0; WOW64; rv:50.0) Gecko/20100101 Firefox/50.0', \\\n",
    "#                        'Accept':'text/html,application/xhtml+xml,application/xml;q=0.9,image/webp,*/*;q=0.8'})"
   ]
  },
  {
   "cell_type": "markdown",
   "metadata": {},
   "source": [
    "see\n",
    "http://edmundmartin.com/random-user-agent-requests-python/"
   ]
  },
  {
   "cell_type": "code",
   "execution_count": 3,
   "metadata": {},
   "outputs": [
    {
     "name": "stdout",
     "output_type": "stream",
     "text": [
      "379\n"
     ]
    }
   ],
   "source": [
    "patentlist = pickle.load( open('../YearsPatentNumber_ggle.pickle','rb') )\n",
    "print(len(patentlist))"
   ]
  },
  {
   "cell_type": "code",
   "execution_count": 4,
   "metadata": {},
   "outputs": [
    {
     "data": {
      "text/plain": [
       "[('US-138061-A', 1873),\n",
       " ('US-183256-A', 1876),\n",
       " ('US-219633-A', 1879),\n",
       " ('US-244891-A', 1881),\n",
       " ('US-293718-A', 1884),\n",
       " ('US-327065-A', 1885),\n",
       " ('US-413712-A', 1889),\n",
       " ('US-442247-A', 1890),\n",
       " ('US-464341-A', 1891),\n",
       " ('US-450703-A', 1891)]"
      ]
     },
     "execution_count": 4,
     "metadata": {},
     "output_type": "execute_result"
    }
   ],
   "source": [
    "patentlist[:10]"
   ]
  },
  {
   "cell_type": "code",
   "execution_count": 5,
   "metadata": {
    "collapsed": true
   },
   "outputs": [],
   "source": [
    "patentlist_formated = [ num[0].split('-')[1] for num in patentlist ]"
   ]
  },
  {
   "cell_type": "code",
   "execution_count": 6,
   "metadata": {
    "collapsed": true
   },
   "outputs": [],
   "source": [
    "# le format du numéro de brevet :\n",
    "# 6 ou 7 digits\n",
    "# ou l'année + 7 digits\n",
    "# si on trouve année+6digits ce n'est pas bon\n",
    "\n",
    "def addzero( number ):\n",
    "    if len( number ) > 7:  # en vrai ==10\n",
    "        number = number[0:4] + number[4:].zfill(7)\n",
    "\n",
    "    return number"
   ]
  },
  {
   "cell_type": "code",
   "execution_count": 7,
   "metadata": {
    "collapsed": true
   },
   "outputs": [],
   "source": [
    "patentlist_formated = [ addzero( num ) for num in patentlist_formated ]"
   ]
  },
  {
   "cell_type": "code",
   "execution_count": 8,
   "metadata": {
    "collapsed": true
   },
   "outputs": [],
   "source": [
    "PATH = 'pdfs/'\n",
    "def query(patent_number):\n",
    "\n",
    "    # download the patent pdf file\n",
    "    pdfname = 'US%s.pdf' % patent_number\n",
    "\n",
    "    # cache \n",
    "    if not os.path.isfile(PATH+pdfname) :\n",
    "\n",
    "        url = 'http://patentimages.storage.googleapis.com/pdfs/%s' % pdfname\n",
    "        \n",
    "        #url = 'http://www.pat2pdf.org/pat2pdf/foo.pl?number=%s' % patent_number\n",
    "        #url = 'http://www.pat2pdf.org/patents/pat%s.pdf' % patent_number.strip('US')\n",
    "\n",
    "\n",
    "        # query\n",
    "        r = session.get(url)\n",
    "        \n",
    "        if r.status_code == 200:\n",
    "            with open(PATH+pdfname, \"wb\") as file:\n",
    "                file.write( r.content )\n",
    "                print( 'save %s'%pdfname )\n",
    "                sucess = True\n",
    "                \n",
    "        else:\n",
    "            sucess = False\n",
    "            print('error: %i'%r.status_code)\n",
    "\n",
    "    else:\n",
    "        sucess = True\n",
    "        local_filename = PATH+pdfname\n",
    "        print('already saved : %s'%local_filename)\n",
    "        \n",
    "    return sucess"
   ]
  },
  {
   "cell_type": "code",
   "execution_count": 9,
   "metadata": {
    "collapsed": true
   },
   "outputs": [],
   "source": [
    "class stoploop(Exception):\n",
    "    pass"
   ]
  },
  {
   "cell_type": "code",
   "execution_count": 11,
   "metadata": {},
   "outputs": [
    {
     "name": "stdout",
     "output_type": "stream",
     "text": [
      "go ? yes\n",
      "save US20060158871.pdf\n",
      "save US7020964.pdf\n",
      "save US7003882.pdf\n",
      "save US20060075639.pdf\n",
      "save US20060085988.pdf\n",
      "save US20060026839.pdf\n",
      "save US7007387.pdf\n",
      "save US20060207400.pdf\n",
      "save US20060042092.pdf\n",
      "save US20060143923.pdf\n",
      "save US7131448.pdf\n",
      "save US20060180169.pdf\n",
      "save US20060174486.pdf\n",
      "save US20060016079.pdf\n",
      "save US20060042559.pdf\n",
      "save US20060268540.pdf\n",
      "save US20060277765.pdf\n",
      "save US7194807.pdf\n",
      "save US20070017540.pdf\n",
      "save US7210230.pdf\n",
      "save US20070137041.pdf\n",
      "save US20070017537.pdf\n",
      "save US20070017096.pdf\n",
      "save US7234238.pdf\n",
      "save US20070157471.pdf\n",
      "save US20070067995.pdf\n",
      "save US7263775.pdf\n",
      "save US7194806.pdf\n",
      "save US7284555.pdf\n",
      "save US7159595.pdf\n",
      "save US7217001.pdf\n",
      "save US20080168656.pdf\n",
      "save US20080000088.pdf\n",
      "save US20080178896.pdf\n",
      "save US20080163432.pdf\n",
      "save US20080066771.pdf\n",
      "save US7320180.pdf\n",
      "save US20080173321.pdf\n",
      "save US20080148572.pdf\n",
      "save US7530170.pdf\n",
      "save US20090229622.pdf\n",
      "save US20090119922.pdf\n",
      "save US7575335.pdf\n",
      "save US20090308211.pdf\n",
      "save US20090223055.pdf\n",
      "save US20090000122.pdf\n",
      "save US20090078278.pdf\n",
      "save US20090241342.pdf\n",
      "save US20090211098.pdf\n",
      "save US20100257740.pdf\n",
      "save US7717017.pdf\n",
      "save US20100132727.pdf\n",
      "save US20100071213.pdf\n",
      "save US20100107989.pdf\n",
      "save US20100050438.pdf\n",
      "save US7797782.pdf\n",
      "save US7954242.pdf\n",
      "save US20110219619.pdf\n",
      "save US20110061239.pdf\n",
      "save US20110005537.pdf\n"
     ]
    }
   ],
   "source": [
    "# -- Loop --\n",
    "\n",
    "confirm_input = input('go ? ')\n",
    "if confirm_input != 'yes':\n",
    "    raise stoploop( 'abort' )\n",
    "\n",
    "for patent_number in patentlist_formated[320:]:\n",
    "        \n",
    "    # fake query\n",
    "    if randint(1, 10) == 2:\n",
    "        url = 'https://www.google.com/patents/US%s' % patent_number\n",
    "        r = session.get(url)\n",
    "        time.sleep( randint(20, 80) )\n",
    "        \n",
    "    # real query\n",
    "    sucess = query(patent_number)\n",
    "    \n",
    "    # arret \n",
    "    if not sucess:\n",
    "        print('end loop :%s'%patent_number)\n",
    "        break\n",
    "    \n",
    "    # timer\n",
    "    time.sleep( randint(1, 15) )"
   ]
  },
  {
   "cell_type": "markdown",
   "metadata": {},
   "source": [
    "http://patentimages.storage.googleapis.com/pdfs/US2001007172.pdf   \n",
    "http://patentimages.storage.googleapis.com/pdfs/US20010007172.pdf"
   ]
  },
  {
   "cell_type": "code",
   "execution_count": null,
   "metadata": {
    "collapsed": true
   },
   "outputs": [],
   "source": []
  },
  {
   "cell_type": "markdown",
   "metadata": {},
   "source": [
    "# Brouillon"
   ]
  },
  {
   "cell_type": "code",
   "execution_count": 18,
   "metadata": {},
   "outputs": [
    {
     "data": {
      "text/plain": [
       "'442247'"
      ]
     },
     "execution_count": 18,
     "metadata": {},
     "output_type": "execute_result"
    }
   ],
   "source": [
    "k = 7\n",
    "patent_number = patentlist[k][0].split('-')[1]\n",
    "patent_number"
   ]
  },
  {
   "cell_type": "code",
   "execution_count": 63,
   "metadata": {},
   "outputs": [
    {
     "data": {
      "text/plain": [
       "'https://www.google.com/patents/US138061'"
      ]
     },
     "execution_count": 63,
     "metadata": {},
     "output_type": "execute_result"
    }
   ],
   "source": [
    "url = 'https://www.google.com/patents/US%s' % patent_number\n",
    "url"
   ]
  },
  {
   "cell_type": "code",
   "execution_count": 64,
   "metadata": {
    "collapsed": true
   },
   "outputs": [],
   "source": [
    "r = session.get(url)"
   ]
  },
  {
   "cell_type": "code",
   "execution_count": 65,
   "metadata": {},
   "outputs": [
    {
     "data": {
      "text/plain": [
       "200"
      ]
     },
     "execution_count": 65,
     "metadata": {},
     "output_type": "execute_result"
    }
   ],
   "source": [
    "r.status_code"
   ]
  },
  {
   "cell_type": "code",
   "execution_count": 67,
   "metadata": {
    "collapsed": true
   },
   "outputs": [],
   "source": [
    "with open('ggtest.html', \"wb\") as file:\n",
    "    file.write( r.content )"
   ]
  },
  {
   "cell_type": "code",
   "execution_count": null,
   "metadata": {
    "collapsed": true
   },
   "outputs": [],
   "source": []
  }
 ],
 "metadata": {
  "kernelspec": {
   "display_name": "Python 3",
   "language": "python",
   "name": "python3"
  },
  "language_info": {
   "codemirror_mode": {
    "name": "ipython",
    "version": 3
   },
   "file_extension": ".py",
   "mimetype": "text/x-python",
   "name": "python",
   "nbconvert_exporter": "python",
   "pygments_lexer": "ipython3",
   "version": "3.5.2"
  }
 },
 "nbformat": 4,
 "nbformat_minor": 2
}
