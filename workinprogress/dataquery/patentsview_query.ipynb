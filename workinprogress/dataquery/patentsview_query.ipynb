{
 "cells": [
  {
   "cell_type": "markdown",
   "metadata": {},
   "source": [
    "http://www.patentsview.org/api/patent.html"
   ]
  },
  {
   "cell_type": "code",
   "execution_count": 2,
   "metadata": {},
   "outputs": [],
   "source": [
    "import requests"
   ]
  },
  {
   "cell_type": "code",
   "execution_count": 5,
   "metadata": {},
   "outputs": [],
   "source": [
    "url = \"http://www.patentsview.org/api/patents/query\""
   ]
  },
  {
   "cell_type": "code",
   "execution_count": 7,
   "metadata": {},
   "outputs": [],
   "source": [
    "\n",
    "returnedfields = [\"patent_date\",  \"patent_title\", 'patent_number']\n",
    "#returnedfields.extend[ ['patent_abstract', \"patent_num_cited_by_us_patents\"] ]\n",
    "#returnedfields.extend( [ 'cpc_subgroup_title', 'cpc_subgroup_id' ])\n",
    "#returnedfields.extend( [ 'cited_patent_number' ] )\n",
    "#returnedfields.extend([\"inventor_first_name\",\"inventor_last_name\"])\n",
    "#returnedfields.extend([\"citedby_patent_number\"])\n",
    "\n",
    "returnedfields_str = '''[%s]''' % ', '.join( [ '''\"%s\"''' % f for f in returnedfields ] )"
   ]
  },
  {
   "cell_type": "code",
   "execution_count": 41,
   "metadata": {},
   "outputs": [],
   "source": [
    "cpc_subgroup_id = 'B62M1/10'  #'F41B5' # bow"
   ]
  },
  {
   "cell_type": "code",
   "execution_count": 42,
   "metadata": {},
   "outputs": [],
   "source": [
    "query = '''{\"_begins\":{\"cpc_subgroup_id\":\"%s\"}}''' % cpc_subgroup_id"
   ]
  },
  {
   "cell_type": "code",
   "execution_count": 43,
   "metadata": {},
   "outputs": [],
   "source": [
    "r = requests.get(url, params={'q':query, 'f':returnedfields_str, 'o':'''{\"page\":1,\"per_page\":1500}'''})\n",
    "r_json = r.json()"
   ]
  },
  {
   "cell_type": "code",
   "execution_count": 44,
   "metadata": {},
   "outputs": [],
   "source": [
    "data = r_json['patents']"
   ]
  },
  {
   "cell_type": "code",
   "execution_count": 45,
   "metadata": {},
   "outputs": [
    {
     "name": "stdout",
     "output_type": "stream",
     "text": [
      "89\n"
     ]
    }
   ],
   "source": [
    "print(len(data))"
   ]
  },
  {
   "cell_type": "code",
   "execution_count": 46,
   "metadata": {},
   "outputs": [
    {
     "data": {
      "text/plain": [
       "89"
      ]
     },
     "execution_count": 46,
     "metadata": {},
     "output_type": "execute_result"
    }
   ],
   "source": [
    "r_json['total_patent_count']"
   ]
  },
  {
   "cell_type": "raw",
   "metadata": {},
   "source": [
    "http://www.patentsview.org/api/patents/query?q={\"begins\":{\"cpc_subgroup_id\":\"B62M1/10\"}}&f=[\"patent_number\",\"patent_title\"]&s=[{\"patent_title\":\"asc\"}] "
   ]
  },
  {
   "cell_type": "code",
   "execution_count": 52,
   "metadata": {},
   "outputs": [
    {
     "data": {
      "text/plain": [
       "{'patent_date': '1983-11-22',\n",
       " 'patent_number': '4416464',\n",
       " 'patent_title': 'Spring assist drive for cycle'}"
      ]
     },
     "execution_count": 52,
     "metadata": {},
     "output_type": "execute_result"
    }
   ],
   "source": [
    "data[6]"
   ]
  },
  {
   "cell_type": "raw",
   "metadata": {},
   "source": [
    "## scrap text description ?\n",
    "\n",
    "https://patentscope.wipo.int/search/fr/detail.jsf?docId=WO2017201184&recNum=1&maxRec=&office=&prevFilter=&sortOption=&queryString=&tab=PCTDescription\n",
    "\n",
    "\n",
    "https://patentscope.wipo.int/search/fr/detail.jsf?docId=US4037854&recNum=1&maxRec=&office=&prevFilter=&sortOption=&queryString=bike&tab=PCTDescription\n",
    "\n",
    "https://patentscope.wipo.int/search/fr/detail.jsf?docId=US36961343&recNum=3&office=&queryString=FP%3A%284037854%29&prevFilter=&sortOption=Date+de+pub.+antichronologique&maxRec=3\n",
    "\n",
    "https://patentscope.wipo.int/search/fr/detail.jsf?docId=US4108459&recNum=3&office=&queryString=FP%3A(4037854)&prevFilter=&sortOption=Date+de+pub.+antichronologique&maxRec=3\n",
    "\n",
    "... hash du numéro ... ?\n",
    "\n",
    "Espace net :\n",
    "\n",
    "https://worldwide.espacenet.com/publicationDetails/description?CC=US&NR=4108459A&KC=A&FT=D&ND=3&date=19780822&DB=EPODOC&locale=en_EP#\n",
    "\n",
    "\n",
    "https://worldwide.espacenet.com/publicationDetails/description?CC=US&NR=4353569A&KC=A&FT=D&ND=3&date=19780822&DB=EPODOC&locale=en_EP#\n",
    "\n",
    "https://worldwide.espacenet.com/publicationDetails/description?CC=US&NR=4416464A&KC=A&FT=D&ND=3&date=19780822&DB=EPODOC&locale=en_EP#\n",
    "\n",
    "\n",
    "maybe!"
   ]
  },
  {
   "cell_type": "code",
   "execution_count": null,
   "metadata": {},
   "outputs": [],
   "source": []
  }
 ],
 "metadata": {
  "kernelspec": {
   "display_name": "Python 3",
   "language": "python",
   "name": "python3"
  },
  "language_info": {
   "codemirror_mode": {
    "name": "ipython",
    "version": 3
   },
   "file_extension": ".py",
   "mimetype": "text/x-python",
   "name": "python",
   "nbconvert_exporter": "python",
   "pygments_lexer": "ipython3",
   "version": "3.5.2"
  }
 },
 "nbformat": 4,
 "nbformat_minor": 2
}
