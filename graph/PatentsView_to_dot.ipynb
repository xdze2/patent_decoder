{
 "cells": [
  {
   "cell_type": "markdown",
   "metadata": {},
   "source": [
    "http://www.patentsview.org/api/patent.html"
   ]
  },
  {
   "cell_type": "code",
   "execution_count": 276,
   "metadata": {
    "collapsed": true
   },
   "outputs": [],
   "source": [
    "import requests"
   ]
  },
  {
   "cell_type": "code",
   "execution_count": 277,
   "metadata": {
    "collapsed": true
   },
   "outputs": [],
   "source": [
    "fields = [\"patent_abstract\", \"patent_date\", \"patent_num_cited_by_us_patents\", \"patent_title\", 'patent_number']\n",
    "fields.extend( [ 'cpc_subgroup_title', 'cpc_subgroup_id' ])\n",
    "fields.extend( [ 'cited_patent_number' ] )\n",
    "fields.extend([\"inventor_first_name\",\"inventor_last_name\"])\n",
    "fields.extend([\"citedby_patent_number\"])\n",
    "\n",
    "FIELDS_str = '''[%s]''' % ', '.join( [ '''\"%s\"''' % f for f in fields ] )\n",
    "\n",
    "URL = \"http://www.patentsview.org/api/patents/query\"\n",
    "\n",
    "def query_patent( patent_number):\n",
    "    \n",
    "    query = '''{\"patent_number\":\"%s\"}''' % patent_number\n",
    "    \n",
    "    r = requests.get(URL, params={'q':query, 'f':FIELDS_str})\n",
    "    r_json = r.json()\n",
    "    data = r_json['patents'][0]\n",
    "    \n",
    "    # post-process\n",
    "    citedby_patents = [ d['citedby_patent_number'] for d in data['citedby_patents'] if d['citedby_patent_number'] ] \n",
    "    data['citedby_patents'] = citedby_patents\n",
    "\n",
    "    cited_patents = [ d['cited_patent_number'] for d in data['cited_patents'] if  d['cited_patent_number'] ] \n",
    "    data['cited_patents'] = cited_patents\n",
    "    \n",
    "    return data"
   ]
  },
  {
   "cell_type": "code",
   "execution_count": 278,
   "metadata": {
    "collapsed": true
   },
   "outputs": [],
   "source": [
    "import pickle"
   ]
  },
  {
   "cell_type": "code",
   "execution_count": 279,
   "metadata": {
    "collapsed": true
   },
   "outputs": [],
   "source": [
    "# -- cache --\n",
    "#DATA = {}\n",
    "\n",
    "DATA = pickle.load( open('DATA.pickle','rb') )\n",
    "\n",
    "def get_patent( patent_number ):\n",
    "    if patent_number in DATA:\n",
    "        patent = DATA[patent_number]\n",
    "    else:\n",
    "        print(  'query patentview for %s'%patent_number )\n",
    "        patent = query_patent( patent_number )\n",
    "        DATA[ patent_number ] = patent\n",
    "        \n",
    "    return patent"
   ]
  },
  {
   "cell_type": "code",
   "execution_count": 280,
   "metadata": {
    "collapsed": true
   },
   "outputs": [],
   "source": [
    "pickle.dump( DATA, open('DATA.pickle','wb') )"
   ]
  },
  {
   "cell_type": "code",
   "execution_count": 281,
   "metadata": {
    "collapsed": true
   },
   "outputs": [],
   "source": [
    "r = get_patent( \"6220251\" )"
   ]
  },
  {
   "cell_type": "code",
   "execution_count": 282,
   "metadata": {},
   "outputs": [
    {
     "name": "stdout",
     "output_type": "stream",
     "text": [
      "{'cited_patents': ['3955884', '4398800', '4640011', '4788768', '4809431', '4893406', '4930871', '4956915', '5046606', '5263754', '5357677', '5358297', '5370648', '5546658', '5775340', '5931167'], 'patent_date': '2001-04-24', 'patent_num_cited_by_us_patents': '23', 'citedby_patents': ['6381080', '6384990', '6523545', '6539632', '6553592', '6560874', '6683298', '6865812', '7131448', '7137356', '7263775', '7320180', '7464665', '7575335', '8096305', '8496013', 'D446352', 'D498333', 'D519677', 'D625884', 'D634066', 'D673733', 'D726374'], 'patent_title': 'Combination vision enhancement kit and nail clipper', 'patent_number': '6220251', 'cpcs': [{'cpc_subgroup_title': 'Manicuring or pedicuring implements-Nail files, e.g. manually operated', 'cpc_subgroup_id': 'A45D29/04'}, {'cpc_subgroup_title': 'Manicuring or pedicuring implements-Manicure or pedicure sets, e.g. combinations without case, etui, or the like', 'cpc_subgroup_id': 'A45D29/18'}, {'cpc_subgroup_title': 'Manicuring or pedicuring implements-Nail clippers or cutters-for toenails, e.g. with a rod acting over the clipper', 'cpc_subgroup_id': 'A45D2029/026'}], 'inventors': [{'inventor_last_name': 'Jeong', 'inventor_first_name': 'Seong Won'}, {'inventor_last_name': 'Jung', 'inventor_first_name': 'Sang Hoon'}], 'patent_abstract': \"A visual enhancement kit for use in combination with a nail clipper featuring a lens that may be dismounted and interchanged with any of a plurality of lenses of varying refractive qualities. The resulting field of view of the cutting edge of the clipper and the area adjacent thereto enhances the user's ability to see the work being done by the clipper. vice as claimed in claim 1 additionally comprising a means to vary the distance between said lens and cutting blades. The device may be attached to a conventional nail clipper already in use and features rotational positioning of the lens in relation to the user. The device may also be provided already attached to a nail clipper and optionally features the ability to vary the distance between the lens and the cutting edge of the clipper which is user adjustable. Using hinged connections the lens may be folded for storage in a storage compartment formed from components of the device. The device is further enhanced by an optional light source.\"}\n"
     ]
    }
   ],
   "source": [
    "print( r )"
   ]
  },
  {
   "cell_type": "markdown",
   "metadata": {},
   "source": [
    "# graph \n",
    "\n",
    "finalement avec `pygraphviz`  \n",
    "https://pygraphviz.github.io/documentation/latest/tutorial.html"
   ]
  },
  {
   "cell_type": "code",
   "execution_count": 283,
   "metadata": {
    "collapsed": true
   },
   "outputs": [],
   "source": [
    "import pygraphviz as pgv"
   ]
  },
  {
   "cell_type": "code",
   "execution_count": 284,
   "metadata": {
    "collapsed": true
   },
   "outputs": [],
   "source": [
    "# create graph\n",
    "G = pgv.AGraph(strict=True, directed=True)"
   ]
  },
  {
   "cell_type": "code",
   "execution_count": 285,
   "metadata": {
    "collapsed": true
   },
   "outputs": [],
   "source": [
    "G.graph_attr['rankdir'] = 'LR' # orientation du graph lors du rendu: Left->Right"
   ]
  },
  {
   "cell_type": "code",
   "execution_count": 286,
   "metadata": {
    "collapsed": true
   },
   "outputs": [],
   "source": [
    "def add_node( patent, gen ):\n",
    "    node_id = patent['patent_number']\n",
    "    G.add_node( node_id, id=node_id, gen=gen )"
   ]
  },
  {
   "cell_type": "markdown",
   "metadata": {},
   "source": [
    "### gen0"
   ]
  },
  {
   "cell_type": "code",
   "execution_count": 287,
   "metadata": {
    "collapsed": true
   },
   "outputs": [],
   "source": [
    "seed_number = \"5307209\"\n",
    "#seed_number = \"D470161\"\n",
    "\n",
    "seed_patent = get_patent( seed_number )\n",
    "\n",
    "add_node( seed_patent, 0 )"
   ]
  },
  {
   "cell_type": "code",
   "execution_count": 288,
   "metadata": {
    "scrolled": true
   },
   "outputs": [
    {
     "name": "stdout",
     "output_type": "stream",
     "text": [
      "strict digraph {\n",
      "\tgraph [rankdir=LR];\n",
      "\t5307209\t [gen=0,\n",
      "\t\tid=5307209];\n",
      "}\n",
      "\n"
     ]
    }
   ],
   "source": [
    "print( G.string() )"
   ]
  },
  {
   "cell_type": "markdown",
   "metadata": {},
   "source": [
    "## gen1"
   ]
  },
  {
   "cell_type": "code",
   "execution_count": 289,
   "metadata": {
    "collapsed": true
   },
   "outputs": [],
   "source": [
    "# cited\n",
    "for citation_number in seed_patent['cited_patents']:\n",
    "    patent = get_patent(citation_number)\n",
    "    \n",
    "    add_node( patent, 1 )\n",
    "    \n",
    "# cited by\n",
    "for citedby_number in seed_patent['citedby_patents']:\n",
    "    patent = get_patent(citedby_number)\n",
    "    \n",
    "    add_node( patent, 1 )"
   ]
  },
  {
   "cell_type": "code",
   "execution_count": 290,
   "metadata": {
    "collapsed": true,
    "scrolled": true
   },
   "outputs": [],
   "source": [
    "# add edges\n",
    "\n",
    "for node_id in G.nodes():\n",
    "    \n",
    "    patent_number = node_id\n",
    "    \n",
    "    patent = get_patent( patent_number )\n",
    "    \n",
    "    target = node_id\n",
    "    for cited_number in patent['cited_patents']:\n",
    "        if G.has_node( cited_number ):\n",
    "            \n",
    "            source = cited_number\n",
    "            G.add_edge(source, target, id='-'.join([source, target]))"
   ]
  },
  {
   "cell_type": "markdown",
   "metadata": {},
   "source": [
    "## Style"
   ]
  },
  {
   "cell_type": "code",
   "execution_count": 291,
   "metadata": {
    "collapsed": true
   },
   "outputs": [],
   "source": [
    "for e in G.edges( [seed_number] ): # selectionne les edges adjacents à seed_number\n",
    "    e.attr['color'] = 'gray'"
   ]
  },
  {
   "cell_type": "code",
   "execution_count": 292,
   "metadata": {
    "collapsed": true
   },
   "outputs": [],
   "source": [
    "for node, deg in G.in_degree_iter(): \n",
    "    if deg == 0:\n",
    "        node.attr['fillcolor'] = '#ffe6b3'\n",
    "        node.attr['style'] = 'filled'"
   ]
  },
  {
   "cell_type": "code",
   "execution_count": 304,
   "metadata": {
    "collapsed": true
   },
   "outputs": [],
   "source": [
    "for node in G.nodes():\n",
    "    patent = get_patent( node )\n",
    "    node.attr['tooltip'] = '%s \\n(%s) <b>test</b>'%(patent['patent_title'], patent['patent_date'])\n",
    "    node.attr['label'] = patent['inventors'][0]['inventor_first_name'] +' '+ patent['inventors'][0]['inventor_last_name'] + '\\n'+ patent['patent_date']\n",
    "    node.attr['url'] = 'http://hello.world'"
   ]
  },
  {
   "cell_type": "code",
   "execution_count": 299,
   "metadata": {},
   "outputs": [
    {
     "data": {
      "text/plain": [
       "{'cited_patents': ['3936156',\n",
       "  '3955884',\n",
       "  '4094598',\n",
       "  '4190322',\n",
       "  '4712870',\n",
       "  '4819351',\n",
       "  '5113289',\n",
       "  '5204775',\n",
       "  '5218482',\n",
       "  '5245477',\n",
       "  '5307209',\n",
       "  '5309279',\n",
       "  '5471347',\n",
       "  '5615768',\n",
       "  '5847883',\n",
       "  '5926315',\n",
       "  '6137639',\n",
       "  '6233102',\n",
       "  '7218463'],\n",
       " 'citedby_patents': [],\n",
       " 'cpcs': [{'cpc_subgroup_id': None, 'cpc_subgroup_title': None}],\n",
       " 'inventors': [{'inventor_first_name': 'Paul F.',\n",
       "   'inventor_last_name': 'Giampavolo'},\n",
       "  {'inventor_first_name': 'Christine', 'inventor_last_name': 'Giampavolo'}],\n",
       " 'patent_abstract': 'A magnification device for attachment to store merchandise shelving for magnifying merchandise labeling information including an optical magnification member; a bracket for attachment to merchandise shelving; the optical magnification member being attached to the bracket. A connector is preferably provided connecting the magnification member to the bracket and preferably allows the magnification member to be moved into one of a plurality of positions to enable the magnification member to be provided into a position allowing the merchandise labeling to be displayed.',\n",
       " 'patent_date': '2010-04-20',\n",
       " 'patent_num_cited_by_us_patents': '0',\n",
       " 'patent_number': 'RE41241',\n",
       " 'patent_title': 'Label enlarging device'}"
      ]
     },
     "execution_count": 299,
     "metadata": {},
     "output_type": "execute_result"
    }
   ],
   "source": [
    "patent"
   ]
  },
  {
   "cell_type": "code",
   "execution_count": 294,
   "metadata": {
    "collapsed": true
   },
   "outputs": [],
   "source": [
    "#G.node_attr['height'] = 1.5 # default 0.5"
   ]
  },
  {
   "cell_type": "code",
   "execution_count": 295,
   "metadata": {
    "collapsed": true
   },
   "outputs": [],
   "source": [
    "#n = G.get_node( seed_number )\n",
    "#n.attr['image'] = \"images/1996-US-5557849-A.png\"\n",
    "#n.attr['imagescale'] = True\n",
    "#n.attr['fixedsize'] = True"
   ]
  },
  {
   "cell_type": "markdown",
   "metadata": {},
   "source": [
    "# Save"
   ]
  },
  {
   "cell_type": "code",
   "execution_count": 306,
   "metadata": {
    "collapsed": true
   },
   "outputs": [],
   "source": [
    "G.draw('testgraph.svg', prog='dot')"
   ]
  },
  {
   "cell_type": "code",
   "execution_count": 305,
   "metadata": {
    "collapsed": true
   },
   "outputs": [],
   "source": [
    "filename_web = 'web/data/gen_graph_%s.dot' % seed_number\n",
    "G.write(filename_web)"
   ]
  },
  {
   "cell_type": "code",
   "execution_count": 298,
   "metadata": {
    "collapsed": true
   },
   "outputs": [],
   "source": [
    "pickle.dump( DATA, open('DATA.pickle','wb') )"
   ]
  },
  {
   "cell_type": "code",
   "execution_count": null,
   "metadata": {
    "collapsed": true
   },
   "outputs": [],
   "source": []
  }
 ],
 "metadata": {
  "kernelspec": {
   "display_name": "Python 3",
   "language": "python",
   "name": "python3"
  },
  "language_info": {
   "codemirror_mode": {
    "name": "ipython",
    "version": 3
   },
   "file_extension": ".py",
   "mimetype": "text/x-python",
   "name": "python",
   "nbconvert_exporter": "python",
   "pygments_lexer": "ipython3",
   "version": "3.5.2"
  }
 },
 "nbformat": 4,
 "nbformat_minor": 2
}
