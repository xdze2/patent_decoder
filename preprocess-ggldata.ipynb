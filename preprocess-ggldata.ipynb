{
 "cells": [
  {
   "cell_type": "markdown",
   "metadata": {},
   "source": [
    "# Pré-traitement des données 'Google'\n",
    "\n",
    "* requète sur `BigQuerry`:\n",
    "        /* 26Go proceceed */\n",
    "\n",
    "        #standardSQL\n",
    "\n",
    "        SELECT\n",
    "          root.publication_number,\n",
    "          publication_date,\n",
    "          root.title_localized,\n",
    "          root.cpc,\n",
    "          root.citation\n",
    "        FROM\n",
    "          `patents-public-data.patents.publications` root,\n",
    "          UNNEST( cpc ) AS cpc\n",
    "        WHERE \n",
    "         cpc.code like 'A45D29/02' and\n",
    "         country_code = 'US'\n",
    "        LIMIT\n",
    "          1000"
   ]
  },
  {
   "cell_type": "code",
   "execution_count": 133,
   "metadata": {
    "collapsed": true
   },
   "outputs": [],
   "source": [
    "import json\n",
    "import pickle"
   ]
  },
  {
   "cell_type": "code",
   "execution_count": 134,
   "metadata": {
    "collapsed": true
   },
   "outputs": [],
   "source": [
    "import datetime as dt"
   ]
  },
  {
   "cell_type": "code",
   "execution_count": 135,
   "metadata": {},
   "outputs": [
    {
     "name": "stdout",
     "output_type": "stream",
     "text": [
      "408\n"
     ]
    }
   ],
   "source": [
    "# load the data\n",
    "file_path = './data/fulldata_gglBigQuery.json'\n",
    "\n",
    "data_brut = []\n",
    "with open(file_path) as f:\n",
    "    for line in f:\n",
    "        entry = json.loads(line)\n",
    "        data_brut.append( entry )\n",
    "        \n",
    "print( len(data_brut) )"
   ]
  },
  {
   "cell_type": "code",
   "execution_count": 136,
   "metadata": {
    "collapsed": true
   },
   "outputs": [],
   "source": [
    "# le format du numéro de brevet (pour ggl):\n",
    "# 6 ou 7 digits\n",
    "# ou l'année + 7 digits\n",
    "# si on trouve année+6digits ce n'est pas bon\n",
    "\n",
    "# https://www.uspto.gov/patents-application-process/applying-online/patent-number\n",
    "# http://www.bpmlegal.com/howtopat1.html\n",
    "\n",
    "def format_publicationnumber( pubnumber ):\n",
    "    \n",
    "    number = pubnumber.split('-')[1]\n",
    "    \n",
    "    if len( number ) > 7:  # en vrai ==10\n",
    "        number = number[0:4] + number[4:].zfill(7)\n",
    "\n",
    "    number = 'US' + number\n",
    "    \n",
    "    return number"
   ]
  },
  {
   "cell_type": "code",
   "execution_count": 137,
   "metadata": {},
   "outputs": [
    {
     "data": {
      "text/plain": [
       "dict_keys(['cpc', 'publication_date', 'citation', 'priority_claim', 'description_localized', 'inventor_harmonized', 'publication_number', 'title_localized', 'abstract_localized', 'assignee_harmonized'])"
      ]
     },
     "execution_count": 137,
     "metadata": {},
     "output_type": "execute_result"
    }
   ],
   "source": [
    "data_brut[0].keys()"
   ]
  },
  {
   "cell_type": "code",
   "execution_count": 138,
   "metadata": {},
   "outputs": [
    {
     "data": {
      "text/plain": [
       "{'abstract_localized': [{'language': 'en',\n",
       "   'text': 'An ingrown toenail cutter ( 10, 10 A) including a handle or shank ( 12, 12 A) which at one end has a curved or angled part ( 14, 52 ) which extends away from the handle ( 12, 12 A) and said curved or angled part ( 14, 52 ) has a cutting edge ( 15, 54 ) on an inner side thereof ( 14 A) and there is also provided a terminal abutment ( 17, 56 ) at a free end of the curved or angled part ( 14, 52 ) on the inner side ( 14 A) adjacent to cutting edge ( 15, 54 ) wherein the cutting edge ( 15,54 ) is oriented at an angle of  15° - 60°  to a longitudinal axis of the handle or shank.'}],\n",
       " 'assignee_harmonized': [{'country_code': 'AU', 'name': 'HEDGER ALLAN'}],\n",
       " 'citation': [{'application_number': '',\n",
       "   'category': 'PRS',\n",
       "   'filing_date': '0',\n",
       "   'npl_text': '',\n",
       "   'publication_number': 'US-350720-A',\n",
       "   'type': ''},\n",
       "  {'application_number': '',\n",
       "   'category': 'PRS',\n",
       "   'filing_date': '0',\n",
       "   'npl_text': '',\n",
       "   'publication_number': 'US-448409-A',\n",
       "   'type': ''},\n",
       "  {'application_number': '',\n",
       "   'category': 'PRS',\n",
       "   'filing_date': '0',\n",
       "   'npl_text': '',\n",
       "   'publication_number': 'US-464341-A',\n",
       "   'type': ''},\n",
       "  {'application_number': '',\n",
       "   'category': 'PRS',\n",
       "   'filing_date': '0',\n",
       "   'npl_text': '',\n",
       "   'publication_number': 'US-528317-A',\n",
       "   'type': ''},\n",
       "  {'application_number': '',\n",
       "   'category': 'PRS',\n",
       "   'filing_date': '0',\n",
       "   'npl_text': '',\n",
       "   'publication_number': 'US-534500-A',\n",
       "   'type': ''},\n",
       "  {'application_number': '',\n",
       "   'category': 'PRS',\n",
       "   'filing_date': '0',\n",
       "   'npl_text': '',\n",
       "   'publication_number': 'US-1040446-A',\n",
       "   'type': ''},\n",
       "  {'application_number': '',\n",
       "   'category': 'PRS',\n",
       "   'filing_date': '0',\n",
       "   'npl_text': '',\n",
       "   'publication_number': 'US-1089019-A',\n",
       "   'type': ''},\n",
       "  {'application_number': '',\n",
       "   'category': 'PRS',\n",
       "   'filing_date': '0',\n",
       "   'npl_text': '',\n",
       "   'publication_number': 'US-1135987-A',\n",
       "   'type': ''},\n",
       "  {'application_number': '',\n",
       "   'category': 'PRS',\n",
       "   'filing_date': '0',\n",
       "   'npl_text': '',\n",
       "   'publication_number': 'US-1476508-A',\n",
       "   'type': ''},\n",
       "  {'application_number': '',\n",
       "   'category': 'PRS',\n",
       "   'filing_date': '0',\n",
       "   'npl_text': '',\n",
       "   'publication_number': 'US-1855063-A',\n",
       "   'type': ''},\n",
       "  {'application_number': '',\n",
       "   'category': 'PRS',\n",
       "   'filing_date': '0',\n",
       "   'npl_text': '',\n",
       "   'publication_number': 'US-2479514-A',\n",
       "   'type': ''},\n",
       "  {'application_number': '',\n",
       "   'category': 'PRS',\n",
       "   'filing_date': '0',\n",
       "   'npl_text': '',\n",
       "   'publication_number': 'US-2801640-A',\n",
       "   'type': ''},\n",
       "  {'application_number': '',\n",
       "   'category': 'PRS',\n",
       "   'filing_date': '0',\n",
       "   'npl_text': '',\n",
       "   'publication_number': 'US-3445931-A',\n",
       "   'type': ''},\n",
       "  {'application_number': '',\n",
       "   'category': 'PRS',\n",
       "   'filing_date': '0',\n",
       "   'npl_text': '',\n",
       "   'publication_number': 'US-3600803-A',\n",
       "   'type': ''},\n",
       "  {'application_number': '',\n",
       "   'category': 'PRS',\n",
       "   'filing_date': '0',\n",
       "   'npl_text': '',\n",
       "   'publication_number': 'US-3670733-A',\n",
       "   'type': ''},\n",
       "  {'application_number': '',\n",
       "   'category': 'PRS',\n",
       "   'filing_date': '0',\n",
       "   'npl_text': '',\n",
       "   'publication_number': 'US-4709481-A',\n",
       "   'type': ''},\n",
       "  {'application_number': '',\n",
       "   'category': 'PRS',\n",
       "   'filing_date': '0',\n",
       "   'npl_text': '',\n",
       "   'publication_number': 'US-4964213-A',\n",
       "   'type': ''},\n",
       "  {'application_number': '',\n",
       "   'category': 'PRS',\n",
       "   'filing_date': '0',\n",
       "   'npl_text': '',\n",
       "   'publication_number': 'US-5437679-A',\n",
       "   'type': ''},\n",
       "  {'application_number': '',\n",
       "   'category': 'PRS',\n",
       "   'filing_date': '0',\n",
       "   'npl_text': '',\n",
       "   'publication_number': 'US-5620455-A',\n",
       "   'type': ''},\n",
       "  {'application_number': '',\n",
       "   'category': 'PRS',\n",
       "   'filing_date': '0',\n",
       "   'npl_text': '',\n",
       "   'publication_number': 'US-5755239-A',\n",
       "   'type': ''},\n",
       "  {'application_number': '',\n",
       "   'category': 'PRS',\n",
       "   'filing_date': '0',\n",
       "   'npl_text': '',\n",
       "   'publication_number': 'US-5881461-A',\n",
       "   'type': ''},\n",
       "  {'application_number': '',\n",
       "   'category': 'PRS',\n",
       "   'filing_date': '0',\n",
       "   'npl_text': '',\n",
       "   'publication_number': 'US-6402763-B1',\n",
       "   'type': ''},\n",
       "  {'application_number': '',\n",
       "   'category': 'PRS',\n",
       "   'filing_date': '0',\n",
       "   'npl_text': '',\n",
       "   'publication_number': 'US-2005056296-A1',\n",
       "   'type': ''},\n",
       "  {'application_number': '',\n",
       "   'category': 'PRS',\n",
       "   'filing_date': '0',\n",
       "   'npl_text': '',\n",
       "   'publication_number': 'US-2005056295-A1',\n",
       "   'type': ''},\n",
       "  {'application_number': '',\n",
       "   'category': 'PRS',\n",
       "   'filing_date': '0',\n",
       "   'npl_text': '',\n",
       "   'publication_number': 'US-2005092337-A1',\n",
       "   'type': ''},\n",
       "  {'application_number': '',\n",
       "   'category': 'PRS',\n",
       "   'filing_date': '0',\n",
       "   'npl_text': '',\n",
       "   'publication_number': 'US-7322107-B2',\n",
       "   'type': ''},\n",
       "  {'application_number': '',\n",
       "   'category': 'PRS',\n",
       "   'filing_date': '0',\n",
       "   'npl_text': '',\n",
       "   'publication_number': 'US-2008078085-A1',\n",
       "   'type': ''},\n",
       "  {'application_number': '',\n",
       "   'category': 'PRS',\n",
       "   'filing_date': '0',\n",
       "   'npl_text': '',\n",
       "   'publication_number': 'US-2009090377-A1',\n",
       "   'type': ''},\n",
       "  {'application_number': '',\n",
       "   'category': 'PRS',\n",
       "   'filing_date': '0',\n",
       "   'npl_text': '',\n",
       "   'publication_number': 'US-2009090375-A1',\n",
       "   'type': ''},\n",
       "  {'application_number': '',\n",
       "   'category': 'PRS',\n",
       "   'filing_date': '0',\n",
       "   'npl_text': '',\n",
       "   'publication_number': 'US-8372086-B2',\n",
       "   'type': ''}],\n",
       " 'cpc': [{'code': 'A45D29/02',\n",
       "   'first': 'true',\n",
       "   'inventive': 'true',\n",
       "   'tree': []},\n",
       "  {'code': 'A61B17/3213', 'first': 'false', 'inventive': 'true', 'tree': []},\n",
       "  {'code': 'A45D29/02', 'first': 'true', 'inventive': 'true', 'tree': []},\n",
       "  {'code': 'A61B2017/00446',\n",
       "   'first': 'false',\n",
       "   'inventive': 'false',\n",
       "   'tree': []}],\n",
       " 'description_localized': [{'language': 'en',\n",
       "   'text': 'FIELD OF THE INVENTION \\n       [0001]    This invention relates to an ingrown toenail cutter and has particular application to ingrown and incurved toenails. However the invention may also be used for cutting toenails which are not incurved or ingrown. \\n       BACKGROUND OF THE INVENTION \\n       [0002]    Onychocryptosis (also known as in “ingrown toenail”) is a common nail ailment and is a very painful condition in which the nail grows so that it cuts into one or both sides of the nail bed which is a layer of tissue under the nail or nail plate which comprises dermis and epidermis. This condition may commonly occur in toenails but can also occur in nails of the hand or other foot nails other than toenails. Hence the term “toenails” as used herein also includes within its scope other nails as described above. \\n         [0003]    Conventional methods of treatment of ingrown toenails include removal of the portion of the toenail growing under the skin (i.e. “the ingrown toenail”) to be removed by a podiatrist after administration of a local anesthetic. Once the toe is numb the podiatrist will be able to remove the ingrown toenail and the nail matrix or nail root can be either destroyed with phenol or excusing the nail matrix. After either procedure the nail had to be dressed with antibiotic cream and bandages. It was to be appreciated that this was a very time consuming and painful procedure. \\n         [0004]    Surgical techniques for removal of ingrown toenails involved use of a digital block to anaesthetise the nail and use of a tourniquet. Then an incision is made from the base of the nail leaving the nail bed intact and the incision is continued toward the side of the toe in an elliptical sweep to end up under the tip of the nail about 3-4 mm in from the edge. In this procedure it was important that all the skin at the edge of the nail had to be removed. Again this was a time consuming procedure and the toe had to be soaked in warm water 3 times a day until healing occurred in 4-6 weeks. \\n         [0005]    Reference also may be made to WO 2009/156788 which describes a toe restraining implement having a toe restraining hook at each end which refers to a curved end having a pointed end which was used for restraining a toe and keeping it stable while performing a treatment on the nail such as filing. However this implement could not be used for treatment of ingrown toenails. \\n         [0006]    U.S. Pat. No. 4,936,322 referred to the use of an ingrown toenail part remover which was a hollow cylindrical rod having a tapered end which was shaped to include a soft tissue depressor and a safety knife surface having a cutting edge located within the rod so that it cuts portions of the ingrown toenail as the rod is pulled away. This was a complicated device to manufacture and its use in effective treatment of ingrown toenails was questionable. \\n         [0007]    Reference also may be made to U.S. Pat. No. 1,219,626 which referred to a manicuring device having a shank which also includes a bent portion at one end which is provided with a slot which is provided with a cutting edge on a lower part of the slot in use. A fingernail to be trimmed is placed within the slot so as to be trimmed by the cutting edge. This device could not be used for removal of ingrown toenails as it could only be applied to trimming uninfected or normal nails. \\n       OBJECT OF THE INVENTION \\n       [0008]    It is therefore an object of the invention to provide an ingrown toenail cutter which is effective in use. \\n       SUMMARY OF THE INVENTION \\n       [0009]    The ingrown toenail cutter of the invention includes a handle or shank which at one end has a curved part or angled part which extends away from the handle or shank and said curved or angled part has a cutting edge on an inner side thereof and there is also provided a terminal abutment at a free end of the curved or angled part on the inner side adjacent the cutting edge wherein the cutting edge is oriented at an acute angle of 15°-60° to a longitudinal axis of the handle or shank. \\n         [0010]    The handle or shank in one form of the invention may be integral with the curved or angled part so that the cutter is formed in one piece. In another arrangement there may be provided a cutting component which includes the shank and the curved or angled part which is releasably attached to a handle part. The handle part in a desirable form of the invention may correspond or resemble a scalpel handle of conventional type. Thus in this arrangement the scalpel handle may be releasably attached to the cutting component in a similar manner as a scalpel blade is releasably attached to a scalpel blade. Thus more specifically the scalpel handle may include an elongate end extension which may releasably engage in a retention slot in a shank of the cutting component. In this embodiment the end extension may have opposed slots which engage with corresponding edges of the retention slot. \\n         [0011]    However the cutting component may be releasably attached to the handle part by any other form of reliable engagement such as by use of a grub screw or other fastener interconnecting aligned apertures in both the handle component and the shank of the cutting component. \\n         [0012]    In relation to the acute angle between the cutting edge and the handle or shank this may more preferably be between 25°-40° and most preferably be 30° or 35° or therebetween. \\n         [0013]    In one form of the invention the shank of the cutting component is relatively straight and the curved part forms an end extension of the shank whereby the cutting edge may form the acute angle with the longitudinal axis of the shank as described above. Welded or attached to the curved part of the shank may be a web plate which interconnects an adjacent end of the shank and the terminal abutment. A free edge of the web plate may form the cutting edge. \\n         [0014]    In another form of the invention the cutting component has the shank in the form of an elongate plate and the angled part is an end extension of the elongate plate whereby the cutting edge forms the acute angle as described above. On the inner side of the end extension is the cutting edge and there is also provided an outer edge in opposed relationship to the inner edge. \\n         [0015]    It will be appreciated that the term “inner” having regard to the curved or angled part of the ingrown toenail cutter of the invention means that the inner side is located or defined by possessing the cutting edge and the terminal abutment. In relation to the term “outer” this means an edge or side of the angled or curved part which is substantially in opposed relationship with the inner side or edge. \\n         [0016]    In another aspect of the invention there is provided a method of use of the ingrown toenail cutter of the invention which includes the following steps of:\\n       (i) compressing soft flesh of a toe adjacent an ingrown toenail with an outer side of the curved or angled part;   (ii) placing the curved or angled part underneath the ingrown toenail wherein the terminal abutment engages an outer surface of the ingrown toenail; and   (iii) cutting the ingrown toenail away from an adjacent toenail by using the cutting edge in a reciprocatory or sawing motion while at the same time pulling the curved or angled part away from the ingrown toenail to separate the ingrown toenail from the toenail.       \\n \\n         [0020]    In yet another aspect of the invention there is provided the cutting component per se. \\n     \\n    \\n     \\n       DESCRIPTION OF THE PREFERRED EMBODIMENT OF THE INVENTION \\n         [0021]    Reference may now be made to a preferred embodiment of the invention as shown in the attached drawings wherein: \\n           [0022]      FIG. 1  is a side view of one embodiment of the ingrown toenail cutter of the invention; \\n           [0023]      FIG. 2  is a perspective view of the ingrown toenail cutter of  FIG. 1 ; \\n           [0024]      FIG. 3  is a detailed view of the area marked with a circle in phantom shown in  FIG. 2 ; \\n           [0025]      FIG. 4  is a perspective view showing initial removal of the cutter component from the scalpel component; \\n           [0026]      FIG. 5  shows partial removal of the cutter component from the scalpel component; \\n           [0027]      FIG. 6  shows complete removal of the cutter component from the scalpel component; \\n           [0028]      FIG. 7  is a detailed view of the leading end of the scalpel component; \\n           [0029]      FIGS. 8-9  are views showing initial movement of the ingrown toenail cutter shown in  FIGS. 1-2  in use in removal of an ingrown toenail wherein the outer side is pushing down on the flesh of the toe adjacent the ingrown toenail. \\n           [0030]      FIGS. 10-11  shows subsequent movement of the ingrown toenail cutter with the blade hooked or placed under the ingrown toenail and the end protrusion engaging the ingrown toenail; \\n           [0031]      FIG. 12  shows the blade cutting the ingrown toenail in a sawing motion and at the same time pulling back in the direction of the arrow; \\n           [0032]      FIG. 13  shows complete removal of the ingrown toenail; \\n           [0033]      FIG. 14  shows a perspective view of an alternative type of toenail cutter of the invention; \\n           [0034]      FIG. 15  shows a detailed view of an area marked with a circle in phantom shown in  FIG. 14 ; and \\n           [0035]      FIGS. 16-17  show a plan view of alternative cutting components for use in the invention. \\n       \\n    \\n    \\n       [0036]    In  FIGS. 1-3  there is provided an ingrown toenail cutter  10  having a cutter component  11  and a scalpel component or scalpel handle  12 . The cutter component has angled part  14  and cutting edge  15  which as shown in  FIGS. 16-17  may extend at an acute angle α to the longitudinal axis of the shank  19  of cutting component  11 . In  FIGS. 1-3  the longitudinal axis may be defined at least in part by projection  26  described hereinafter and at least in part by slot  23  of scalpel component  12  mentioned hereinafter. The angled part  14  has an inner side  14 A on which the cutting edge  15  and the terminal abutment  17  is located as shown in  FIG. 3  and an outer side  16 . The terminal abutment in the form of a small end protrusion  17  and cutting edge  15  is located between protrusion  17  and stem  19  of cutting component  11  which is shown in the form of an elongate narrow plate. The scalpel component has handle part  21 , corrugations  22  and slots  23  on either side of handle part  21 . \\n         [0037]    In  FIG. 4  is shown initial removal of cutting component  11  from scalpel component  12  and this is caused by pushing up with the thumb (not shown) on end part  20  as shown by the arrow A. Subsequently cutting component  11  can be slidably removed from scalpel component  12  by movement in the direction marked with the arrow B in  FIG. 5 . Further continued slidable movement is shown in  FIG. 6  which shows cutting component  11  completely separated from scalpel component  12 . When cutting component  11  is completely engaged with scalpel component  12  end part  26  which is in the form of an elongate protrusion has opposed slots  27  and  28  which each engage with a respective edge  29  and  30  of intermediate slot  31  of cutting component  11 . Cutting component  11  also has larger slot  32  which prevents separation of elongate protrusion  26  from slot  31 . There is also provided a smaller outer end slot  33  which functions as a stop to prevent any undesired movement of protrusion  26  away from slot  31 . \\n         [0038]    It will be appreciated from the foregoing that re-engagement of cutting component  11  with scalpel component  12  is easily achieved by slots  27  and  28  being re-engaged with adjacent edges  29  and  30  as shown by the arrow C where end part  20  will then also abut corresponding flat part  34  or socket of reduced thickness compared to end portion  26  and handle part  21 . In this position end part  20  will also contact edge  24  of flat part  34 . \\n         [0039]      FIGS. 8-13  describe the method of use of ingrown toenail cutter  10  and in  FIGS. 8-9  there is shown the first step wherein Outer side  16  of angled part  14  presses down on soft flesh  40  adjacent ingrown toenail  41  which adjoins toenail  42  located on toe  43 . \\n         [0040]    In  FIGS. 10-11  there is shown angled part  14  hooked or placed under ingrown toenail  41  with small protrusion  17  engaging ingrown toenail  41  to locate or support cutting edge  15  in desired position as shown in  FIG. 11 . In  FIG. 11  soft flesh  42  has been omitted for convenience. \\n         [0041]    In  FIG. 12  there is shown cutting edge  15  being moved with a sawing action as shown by double headed arrow D and also with the cutter  10  being pulled back as shown by arrow E to partly remove ingrown toenail  41 . In  FIG. 13  there is shown the treated nail  41  with the ingrown toenail  41  completely removed. \\n         [0042]    In  FIGS. 14-15  there is shown another ingrown toenail cutter  10 A of the invention where use is made of a handle  50  integral or releasably attached to cutting component or shank  51 . \\n         [0043]    Shank  51  is formed from rod of round cross section which has a curved part or end  52  integral with shank  51 . There is also provided a web plate  53  located on an inner side  14 A of curved end  52  interconnecting shank  51  and a terminal projection in the form of hemispherical boss  56  shown in  FIG. 15 . There is also provided cavities or recesses  55  located on opposed sides of curved end  52 . The purpose of the opposed cavities  55  is to reduce the overall width of curved end  52  and this facilitates the use of ingrown toenail cutter  10 A in a manner similar to nail cutter  10  as shown in  FIGS. 8-13 . There is also shown outer side  16 A. Web plate  53  also has cutting edge  54  aligned at an angle α of 30°-35° to longitudinal axis  49  of shank  51 . \\n         [0044]    It will also be appreciated that both a left handed version as well as a right handed version of the cutter  10  or  10 A be provided so that whether a left hand side or right hand side of toenail  43  requires removal of an ingrown toenail  41 . \\n         [0045]    This is shown in  FIGS. 16-17  wherein  FIG. 16  illustrates a cutting component  11 A wherein cutting edge  15  extends at angle α to longitudinal axis  9  of shank  19  of cutting component  11 A and wherein angled part  14  extends to the right of longitudinal axis  9  and in cutting component  11  B wherein angled component  14  extends to the left of longitudinal axis  9  at angle α to longitudinal axis  9 . In either case angle α can be 30° or 35° or any value between these angles. The right hand component  11 A can be used for cutting left hand corners of the user&#39;s toenails and the left hand component  11 B would be suitable for cutting a left hand corner of the user&#39;s toenails. \\n         [0046]    It will be appreciated from the foregoing that the ingrown toenail cutter of the invention is of extremely simple construction and very effective in use. The use of a conventional scalpel handle is also extremely advantageous and avoids manufacture of an integral handle. The ingrown toenail cutter of the invention is also very simple to use in practice as shown in  FIGS. 8-13  wherein the outer side  16  is pressed against the soft flesh  40  adjacent ingrown toenail  41  to allow the cutting edge  15  to be inserted under ingrown toenail  41  and levered into desired position for cutting ingrown toenail  41  with projection  17  permitting cutting edge  15  to be safely inserted under ingrown toenail  41  and located in an appropriate position as shown in  FIG. 11  to enable cutting edge  15  to be drawn back and forth or in a sawing or reciprocatory fashion to cut ingrown toenail  41  as shown in  FIGS. 12-13 . \\n         [0047]    From the above, it will further be appreciated that the feature of projection  17  is important because it makes the ingrown toenail cutter of the invention extremely safe to use because projection  17  or boss  56  will ensure that the cutting edge  15  will not cut or remove tissue if the ingrown toenail cutter  10  or  10 A is used in the manner described above. This also means that the ingrown toenail cutter  10  can be used by any member of the public or unskilled person without the requirement of a podiatrist. This is achieved by projection  17  or boss  56  ensuring that the cutting edge  15  to be safely inserted under ingrown toenail  41  and located in desired position as described above. \\n         [0048]    It is emphasized that prior to use the ingrown toenail cutter of the invention should be immersed in a solution of warm water which optionally can contain wetting agents and/or disinfectants.'}],\n",
       " 'inventor_harmonized': [{'country_code': 'AU', 'name': 'HEDGER ALLAN'}],\n",
       " 'priority_claim': [{'application_number': 'AU-2012000028-W',\n",
       "   'category': '',\n",
       "   'filing_date': '20120116',\n",
       "   'npl_text': '',\n",
       "   'publication_number': '',\n",
       "   'type': ''},\n",
       "  {'application_number': 'AU-2011900476-A',\n",
       "   'category': '',\n",
       "   'filing_date': '20110214',\n",
       "   'npl_text': '',\n",
       "   'publication_number': '',\n",
       "   'type': ''}],\n",
       " 'publication_date': '20131205',\n",
       " 'publication_number': 'US-2013319446-A1',\n",
       " 'title_localized': [{'language': 'en', 'text': 'Ingrown toenail cutter'}]}"
      ]
     },
     "execution_count": 138,
     "metadata": {},
     "output_type": "execute_result"
    }
   ],
   "source": [
    "data_brut[0]"
   ]
  },
  {
   "cell_type": "code",
   "execution_count": 139,
   "metadata": {},
   "outputs": [
    {
     "name": "stdout",
     "output_type": "stream",
     "text": [
      "379\n"
     ]
    }
   ],
   "source": [
    "data = {}\n",
    "k = 0\n",
    "for entry in data_brut:\n",
    "   \n",
    "    \n",
    "    pubnum = entry['publication_number']\n",
    "    patent_number = format_publicationnumber( pubnum )\n",
    "    \n",
    "    if patent_number in data: # supprime les doublons\n",
    "        continue\n",
    "\n",
    "    new_entry = {}\n",
    "    \n",
    "    new_entry['publication_number_raw'] = pubnum\n",
    "    new_entry['patent_number'] = patent_number\n",
    "    \n",
    "    # date\n",
    "    new_entry['year'] = int(  entry['publication_date'][0:4] )   \n",
    "    new_entry['month'] = int( entry['publication_date'][4:6] )\n",
    "    new_entry['day'] = int(   entry['publication_date'][6:]  )\n",
    "    date = dt.date(new_entry['year'], new_entry['month'], new_entry['day'])\n",
    "    \n",
    "    new_entry['date_str'] = entry['publication_date']\n",
    "    new_entry['date_formatted'] = date.strftime( '%B %d, %Y' )\n",
    "    \n",
    "    # info\n",
    "    new_entry['title'] = entry['title_localized'][0]['text'].strip('.')\n",
    "    \n",
    "    # abstract\n",
    "    if len( entry['abstract_localized'] )>0:\n",
    "        new_entry['abstract'] = entry['abstract_localized'][0]['text']\n",
    "    else:\n",
    "        new_entry['abstract'] = ''\n",
    "        \n",
    "    # description text\n",
    "    if len( entry['description_localized'] )>0:\n",
    "        new_entry['description'] = entry['description_localized'][0]['text']\n",
    "    else:\n",
    "        new_entry['description'] = ''\n",
    "    \n",
    "    # inventor\n",
    "    new_entry['inventor'] = entry['inventor_harmonized']\n",
    "    \n",
    "    # citations :\n",
    "    citation = [] \n",
    "    for cit in entry['citation']:\n",
    "        if not cit['publication_number'] : continue\n",
    "        infos = {}\n",
    "        infos['publication_number_raw'] = cit['publication_number'] \n",
    "        infos['patent_number'] = format_publicationnumber( cit['publication_number']  )\n",
    "\n",
    "        infos['category'] =  cit['category'] \n",
    "\n",
    "        citation.append( infos )\n",
    "        \n",
    "    new_entry['citation'] = citation\n",
    "\n",
    "    # CPC\n",
    "    new_entry['cpc'] = entry['cpc']\n",
    "    \n",
    "    # save\n",
    "    data[ patent_number ] = new_entry\n",
    "    \n",
    "    k+=1  # debug\n",
    "print(len(data))"
   ]
  },
  {
   "cell_type": "code",
   "execution_count": 140,
   "metadata": {},
   "outputs": [
    {
     "name": "stdout",
     "output_type": "stream",
     "text": [
      "('US20130067748', {'title': 'Apparatus for safely clipping the nails of young children and method of use thereof', 'cpc': [{'code': 'A45D29/02', 'first': 'true', 'inventive': 'true', 'tree': []}, {'code': 'A45D29/02', 'first': 'true', 'inventive': 'true', 'tree': []}], 'year': 2013, 'date_str': '20130321', 'date_formatted': 'March 21, 2013', 'publication_number_raw': 'US-2013067748-A1', 'description': 'CROSS-REFERENCE TO RELATED APPLICATIONS \\n       [0001]    This application claims the benefit of and is a continuation of prior U.S. Provisional Application No. 61/494,357, filed 13 Jun. 2011. \\n     \\n    \\n     BACKGROUND OF THE INVENTION \\n       [0002]    The present invention generally relates to apparatus for clipping nails and, more specifically, to a nail clipper apparatus for safely clipping the fingernails or toenails of young children and others who may require care in the trimming of nails, such as the elderly, persons with poor eyesight, or disabled persons. \\n         [0003]    The trimming of fingernails and toenails is important to the safety, appearance and hygiene of a person. Further, when a child&#39;s nails are not trimmed, especially a young infant, the child may scratch his/her face and eyes, causing injury. \\n         [0004]    For some persons, the trimming of fingernails and toenails may pose a particular challenge. For example, young children, elderly people with poor eyesight, or those with other disabilities may find it difficult or impossible to trim their own nails. When a person clips the nails of another person, the person performing the clipping cannot feel whether the clipper is properly positioned to correctly and safely trim the nail. \\n         [0005]    Conventional nail clippers include sharp upper and lower blades. In U.S. Pat. No. 1,702,137, Schnefel discloses an example of a conventional nail clipper featuring sharp upper and lower blades. When people use these conventional nail clippers, especially when trimming the nails of another person, they often unintentionally clip the flesh underneath the nail with the sharp bottom blade of the clippers, thereby causing injury. \\n         [0006]    As can be understood, there is a need for an apparatus and method for safely trimming the nails of young children and infants, and of other persons for whom trimming of fingernails and toenails may be a challenge. \\n       SUMMARY OF THE INVENTION \\n       [0007]    In view of the limitations and disadvantages inherent to conventional means of trimming nails, it is an object of the present invention to provide an apparatus and method for trimming nails that reduces the risk of injury. \\n         [0008]    According to one aspect of the present invention, an apparatus for safely clipping nails (hereinafter “safety clipper”) comprises a blade/base assembly, a lever, and a shaft. The blade/base assembly comprises a blade, incorporating a sharp cutting edge for cutting a nail; a base, incorporating a ledge having a front face for aligning the tool to the nail to be clipped and a top face for supporting the nail as the safety clipper is used; and a rivet designed and configured to mechanically fix said blade to said base. The lever is designed to actuate the apparatus, having a fixed end, an unconstrained end, and a cam feature. The fixed end is mechanically fixed to said blade/base assembly by means of a shaft that incorporates a slot designed to simultaneously capture the fixed end of the lever and to place said blade/base assembly into a spring-loaded condition. The cam feature is designed to compress the blade/base assembly as the unconstrained end of the lever is pressed toward blade/base assembly, thereby causing the sharp cutting edge to clamp down on the nail, capturing the nail between the sharp cutting edge and the ledge, and causing the sharp cutting edge to cut through the nail. \\n         [0009]    According to another aspect of the present invention, the top face of the ledge incorporates a groove that is designed and configured to align with the sharp cutting edge of the blade and to enable the sharp cutting edge to cut all the way through the nail. \\n         [0010]    These and other objects, features, aspects and advantages of the present invention will become apparent to those with skill in the art from the following figures, descriptions and claims. As will be appreciated by those with skill in the art, the apparatus and method of the present invention may be implemented in a plurality of equivalent embodiments. Such alternative embodiments, and their attendant objects, aspects and advantages, are within the scope of the present invention and, therefore, the examples set forth herein shall not be limiting. \\n     \\n    \\n     \\n       BRIEF DESCRIPTION OF THE DRAWINGS \\n         [0011]    The nature of this invention, as well as all its objects, aspects and advantages, will become readily apparent and understood upon reference to the following detailed description when considered in conjunction with the accompanying drawings, in which like reference numerals designate like parts throughout the figures thereof, and wherein: \\n           [0012]      FIG. 1  presents front, side, top, and perspective detail views of a safety clipper shown in its stowed configuration, according to an exemplary embodiment of the invention; \\n           [0013]      FIG. 2  illustrates a method of deploying the safety clipper of  FIG. 1 , according to an exemplary embodiment of the invention; and \\n           [0014]      FIG. 3  illustrates a method of using the safety clipper of  FIG. 1 , according to an exemplary embodiment of the invention. \\n       \\n    \\n    \\n     DETAILED DESCRIPTION OF THE INVENTION \\n       [0015]    The following description is provided to enable any person skilled in the art to make and use the invention, and sets forth the best modes contemplated by the inventor of carrying out the invention. The present invention shall not be limited to the examples disclosed. Rather, the scope of the invention shall be as broad as the claims will allow. \\n         [0016]    Various inventive features are described below that can each be used independently of one another or in combination with other features. However, any single inventive feature may not address any of the disadvantages discussed above, or may only address one of the disadvantages discussed above. Further, one or more of the disadvantages discussed above may not be fully addressed by any of the features described below. \\n         [0017]    Broadly, embodiments of the present invention generally provide an improved apparatus for safely trimming the nails of young children and infants, and of other persons for whom trimming of fingernails and toenails may be a challenge. More specifically, the apparatus of the present invention is an improvement over conventional nail clippers. The safety clipper incorporates a ledge feature, in place of the sharp lower cutting blade of conventional clippers, which aligns the safety clipper to the nail to be trimmed and eliminates the possibility of cutting the skin of the finger beneath the nail. \\n         [0018]    Referring now to the drawings,  FIG. 1  illustrates a safety clipper  10  in its stowed configuration, according to an exemplary embodiment of the invention. \\n         [0019]    A front view is presented in  FIG. 1A , a side view in  FIG. 1B , and a top view in  FIG. 1C . A blade  14  may be mechanically fixed to a base  12  by means of a rivet  20 . A lever  16  may be mechanically fixed to this blade  14 /base  12  assembly by means of a shaft  18  which incorporates a slot designed to simultaneously capture the lever  16  and to place the blade  14 /base  12  assembly into a spring-loaded condition. As illustrated in perspective detail view  FIG. 1D , the blade  14  may incorporate a sharp cutting edge  22  designed to cut through a nail. The base  12  may incorporate a ledge  24 , having a front face  28  and a top face  26 . A front portion of the ledge  24  may extend outwardly and beyond the sharp cutting edge  22  when the blade is closed against the ledge  24 , as shown in  FIGS. 1C and 1D . \\n         [0020]    As shown in  FIG. 1C , the top view profile of the blade  14  at the sharp cutting edge  22  may be concave in order to conform to the convex shape of a nail. The front face  28  may be a flat or curved surface configured to align the safety clipper  10  to the nail to be trimmed. The top face  26  may comprise a generally flat surface designed to align the safety clipper to the nail to be clipped and to support the nail as the safety clipper  10  is in use. \\n         [0021]      FIG. 2  illustrates a method of deploying the safety clipper  10  of  FIG. 1  from the stowed configuration to the ready-for-use configuration, according to an exemplary embodiment of the invention. The safety clipper  10  may be deployed in the following manner. First, as illustrated in  FIG. 2A , the unconstrained end of the lever  16  may be lifted away from the blade  14  and rotated forward and over the centerline axis of the shaft  18 , the restrained end of the lever  16  thereby compressing the spring-loaded blade  14 /base  12  assembly, until the lever  16  reaches the over-centered position, as illustrated in  FIG. 2A . Then, the lever  16  may be rotated 180 degrees about the centerline axis of the shaft  18 , as illustrated in  FIG. 2B , until the lever reaches the ready-for-use position, as illustrated in  FIG. 2C . The safety clipper  10  may subsequently be reconfigured after use into its stowed, safe configuration by reversing the deployment steps. \\n         [0022]      FIG. 3  illustrates a method of using the safety clipper  10  of  FIG. 1 , according to an exemplary embodiment of the invention. Starting with the safety clipper  10  in the ready-for-use configuration, as illustrated in  FIG. 3A , a user of the safety clipper  10  may align the safety clipper  10  to the nail  40  to be trimmed by placing the top face  26  of the ledge  24  beneath the nail  40  to be trimmed, and pressing the front face  28  of the ledge  24  against the tip of the finger  42  beneath the nail  40 , as illustrated in  FIG. 3B . The user of the safety clipper  10  may then press downward on the unconstrained end of the lever  16 , as illustrated in  FIG. 3C . As the unconstrained end of the lever  16  is pressed downward toward the blade  14 , a cam feature  30  of the lever may force the sharp cutting edge  22  of the blade  14  to clamp down on the nail  40 , capturing the nail  40  between the sharp cutting edge  22  and the top face  26  of the ledge  24 , as illustrated in  FIG. 3C . As the downward force on lever  16  is increased, the sharp cutting edge  22  may cut through the nail  40 , thereby removing the unwanted portion of the nail  40 . \\n         [0023]    In one embodiment of the invention, the top face  26  of the ledge  24  may be a generally flat surface. \\n         [0024]    In an alternative embodiment of the invention, a groove  32  may be incorporated into the top face  26  of the ledge  24 , as shown in  FIGS. 1D , and  3 B. The groove  32  may work in conjunction with the sharp cutting edge  22  to allow the sharp cutting edge  22  to cut all the way through the thickness of the nail  40 , as opposed to pinching the nail  40 . The cross-section of the groove  32  may be in the shape of a “V”, as shown in  FIGS. 1D and 3B , or any other useful and practical shape. The groove  32  and the ledge  24  may also provide a visual cue to allow the user to see exactly where the sharp edge  20  will trim the nail. The groove  32  may also be designed as a guide to control the length of nail  40  to be left after clipping by adjusting the distance of the groove  32  from the front face  28  of the ledge  24 . \\n         [0025]    The components of the safety clipper may be made of any useful material including, but not limited to metal, wood, plastic or rubber. \\n         [0026]    In alternative embodiments of the invention, the top face of the ledge  26  may be a contrasting color to that of skin and nails and/or illuminated such that the user may see that only the nail (and no skin) is resting on the ledge  24  and, therefore, that the nail  40  is ready to safely be trimmed. In further alternative embodiments, the groove  32  may be a contrasting color to that of the ledge  24  or illuminated for increased visibility and accuracy. The ledge  24  may have a rubber surface or overlay to enhance positioning of the safety clipper  10  between the nail and the tip of the finger under the nail. \\n         [0027]    In still further alternative embodiments of the invention, the base  12 , the blade  14  and/or the lever  16  may be encased in a material including, but not limited to, plastic, rubber or paint which may act as an outer skin for the purpose of aiding in gripping the safety clipper  10 , or simply for aesthetics. \\n         [0028]    It is within the contemplated scope of the invention that the ledge  24  and/or groove  32  features of the present invention may be incorporated into other clipper configurations, both currently known in the art and yet to be designed. \\n         [0029]    As can be appreciated by those skilled in the art, embodiments of the present invention provide an improved apparatus for safely trimming the nails of young children and infants, and of other persons for whom trimming of fingernails and toenails may be a challenge. \\n         [0030]    It should be understood, of course, that the foregoing relates to exemplary embodiments of the invention, and that modifications may be made without departing from the spirit and scope of the invention as set forth in the following claims. The elements of the device may be modified, interchanged, separated or combined, or additional elements added without departing from the spirit of the invention. The invention may be practiced in alternative embodiments other than those illustrated in the Figures. Such modifications, combinations, additions and alternatives are within the contemplation of the present invention. The exemplary embodiments disclosed are not intended to limit the scope of this invention. Accordingly, the scope of the invention should be determined not by the embodiments illustrated, but by their legal equivalents, and shall be as broad as the claims will allow.', 'abstract': 'An apparatus for safely clipping nails comprises a blade/base assembly, a lever, and a shaft. The blade/base assembly comprises a blade incorporating a sharp cutting edge, a base incorporating a ledge having a front face for aligning the tool to the nail and a top face for supporting the nail, and a rivet to fix said blade to said base. The lever is designed to actuate the apparatus, having a fixed end, an unconstrained end, and a cam. The fixed end is mechanically fixed to said blade/base assembly by means of a shaft designed to place said blade/base assembly into a spring-loaded condition. The cam is designed to compress the blade/base assembly as the unconstrained end of the lever is pressed toward blade/base assembly, thereby causing the sharp cutting edge to clamp down upon and cut through the nail.', 'citation': [{'patent_number': 'US846565', 'category': 'PRS', 'publication_number_raw': 'US-846565-A'}, {'patent_number': 'US1085569', 'category': 'PRS', 'publication_number_raw': 'US-1085569-A'}, {'patent_number': 'US1363164', 'category': 'PRS', 'publication_number_raw': 'US-1363164-A'}, {'patent_number': 'US3089239', 'category': 'PRS', 'publication_number_raw': 'US-3089239-A'}, {'patent_number': 'US4117591', 'category': 'PRS', 'publication_number_raw': 'US-4117591-A'}, {'patent_number': 'US4637137', 'category': 'PRS', 'publication_number_raw': 'US-4637137-A'}, {'patent_number': 'US5323537', 'category': 'PRS', 'publication_number_raw': 'US-5323537-A'}, {'patent_number': 'US5983498', 'category': 'PRS', 'publication_number_raw': 'US-5983498-A'}, {'patent_number': 'US20050160604', 'category': 'PRS', 'publication_number_raw': 'US-2005160604-A1'}, {'patent_number': 'US20050172488', 'category': 'PRS', 'publication_number_raw': 'US-2005172488-A1'}, {'patent_number': 'US20070067995', 'category': 'PRS', 'publication_number_raw': 'US-2007067995-A1'}], 'month': 3, 'patent_number': 'US20130067748', 'inventor': [{'country_code': 'US', 'name': 'HALLOWELL HOLLY'}], 'day': 21})\n"
     ]
    }
   ],
   "source": [
    "# test\n",
    "print( list(data.items())[2] )"
   ]
  },
  {
   "cell_type": "markdown",
   "metadata": {},
   "source": [
    "## Format names"
   ]
  },
  {
   "cell_type": "code",
   "execution_count": 141,
   "metadata": {},
   "outputs": [],
   "source": [
    "import re"
   ]
  },
  {
   "cell_type": "code",
   "execution_count": 142,
   "metadata": {
    "collapsed": true
   },
   "outputs": [],
   "source": [
    "def format_name( name ):\n",
    "    # ajoute le point pour une initiale (lettre seule)\n",
    "    singleletter = re.compile( r'\\b(?P<letter>[A-Z])(?!\\.)\\b' )\n",
    "    name = singleletter.sub('\\g<letter>.', name)\n",
    "\n",
    "    # passe en minuscule sauf premiere lettre\n",
    "    wordpattern = re.compile( r'\\b(?P<word>\\w+)\\b' )\n",
    "    titlefun = lambda match:  match.group('word').title()\n",
    "    name = wordpattern.sub(titlefun, name)\n",
    "\n",
    "    # JR -> Jr.\n",
    "    JRpattern = re.compile( r'\\b(?P<jr>JR)(?!\\.)\\b', re.I )\n",
    "    name = JRpattern.sub('Jr.', name)\n",
    "    \n",
    "    return name"
   ]
  },
  {
   "cell_type": "code",
   "execution_count": 143,
   "metadata": {},
   "outputs": [
    {
     "data": {
      "text/plain": [
       "'FRIEDMAN JR DAVID Jr. H hello B'"
      ]
     },
     "execution_count": 143,
     "metadata": {},
     "output_type": "execute_result"
    }
   ],
   "source": [
    "# test\n",
    "name = 'FRIEDMAN JR DAVID Jr. H hello B'\n",
    "format_name( name )\n",
    "name"
   ]
  },
  {
   "cell_type": "code",
   "execution_count": 144,
   "metadata": {},
   "outputs": [],
   "source": [
    "for e in data.values():\n",
    "    for i in e['inventor']:\n",
    "        i['name_formatted'] = format_name( i['name'] )"
   ]
  },
  {
   "cell_type": "markdown",
   "metadata": {},
   "source": [
    "## Add 'cited' and 'citedby'"
   ]
  },
  {
   "cell_type": "code",
   "execution_count": 145,
   "metadata": {
    "collapsed": true
   },
   "outputs": [],
   "source": [
    "def countplusone( d, key ):\n",
    "    if key in d:\n",
    "        d[ key ]+=1\n",
    "    else:\n",
    "        d[ key ] = 1"
   ]
  },
  {
   "cell_type": "code",
   "execution_count": 146,
   "metadata": {},
   "outputs": [
    {
     "name": "stdout",
     "output_type": "stream",
     "text": [
      "1086\n"
     ]
    }
   ],
   "source": [
    "# init\n",
    "ghost = {}\n",
    "\n",
    "for entry in data.values():\n",
    "    entry['cited'] = []\n",
    "    entry['citedby'] = []\n",
    "    \n",
    "# loop\n",
    "for patent_number, entry in data.items():\n",
    "    \n",
    "    cited_number_list = [ c['patent_number'] for c in entry['citation']  ]\n",
    "    \n",
    "    for cited_number in cited_number_list:\n",
    "        if cited_number in data:\n",
    "            entry['cited'].append( cited_number )\n",
    "            data[ cited_number ]['citedby'].append( patent_number )\n",
    "        else:\n",
    "            countplusone( ghost, cited_number ) \n",
    "            \n",
    "    \n",
    "    \n",
    "print( len(ghost) )"
   ]
  },
  {
   "cell_type": "code",
   "execution_count": 147,
   "metadata": {
    "collapsed": true
   },
   "outputs": [],
   "source": [
    "pickle.dump( data, open('web/data/patent_infos.pickle','wb') )"
   ]
  },
  {
   "cell_type": "code",
   "execution_count": 148,
   "metadata": {},
   "outputs": [
    {
     "name": "stdout",
     "output_type": "stream",
     "text": [
      "['US846565', 'US1085569', 'US1363164', 'US3089239', 'US4637137', 'US5323537', 'US20050160604', 'US20050172488', 'US20070067995']\n"
     ]
    }
   ],
   "source": [
    "# test\n",
    "print( list(data.values())[2]['cited'] )"
   ]
  },
  {
   "cell_type": "markdown",
   "metadata": {
    "collapsed": true
   },
   "source": [
    "## search images\n",
    "\n",
    "https://stackoverflow.com/a/19035508/8069403"
   ]
  },
  {
   "cell_type": "markdown",
   "metadata": {},
   "source": [
    "    >>> t = magic.from_file('teste.png')\n",
    "    >>> t\n",
    "    'PNG image data, 782 x 602, 8-bit/color RGBA, non-interlaced'\n",
    "    >>> re.search('(\\d+) x (\\d+)', t).groups()\n",
    "    ('782', '602')"
   ]
  },
  {
   "cell_type": "code",
   "execution_count": null,
   "metadata": {
    "collapsed": true
   },
   "outputs": [],
   "source": []
  }
 ],
 "metadata": {
  "kernelspec": {
   "display_name": "Python 3",
   "language": "python",
   "name": "python3"
  },
  "language_info": {
   "codemirror_mode": {
    "name": "ipython",
    "version": 3
   },
   "file_extension": ".py",
   "mimetype": "text/x-python",
   "name": "python",
   "nbconvert_exporter": "python",
   "pygments_lexer": "ipython3",
   "version": "3.5.2"
  }
 },
 "nbformat": 4,
 "nbformat_minor": 2
}
