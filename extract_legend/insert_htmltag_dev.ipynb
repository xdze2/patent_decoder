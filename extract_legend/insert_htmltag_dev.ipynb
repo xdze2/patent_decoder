{
 "cells": [
  {
   "cell_type": "code",
   "execution_count": 75,
   "metadata": {},
   "outputs": [],
   "source": [
    "import pickle\n",
    "data = pickle.load( open( \"../web/data/patent_infos.pickle\", \"rb\" ) )"
   ]
  },
  {
   "cell_type": "code",
   "execution_count": 76,
   "metadata": {},
   "outputs": [],
   "source": [
    "patentlist = list(data.keys())"
   ]
  },
  {
   "cell_type": "code",
   "execution_count": 93,
   "metadata": {},
   "outputs": [],
   "source": [
    "k = 81\n",
    "patent = data[ patentlist[k] ]"
   ]
  },
  {
   "cell_type": "code",
   "execution_count": 94,
   "metadata": {},
   "outputs": [
    {
     "name": "stdout",
     "output_type": "stream",
     "text": [
      "[{'label': 'nail clipping apparatus', 'position': (4663, 4665), 'numero': 10}, {'label': 'nail clipping apparatus', 'position': (5064, 5066), 'numero': 10}, {'label': 'base', 'position': (5130, 5132), 'numero': 12}, {'label': 'upstanding support', 'position': (5164, 5166), 'numero': 14}, {'label': 'base', 'position': (5187, 5189), 'numero': 12}, {'label': 'flat plate', 'position': (5212, 5214), 'numero': 12}, {'label': 'base', 'position': (5306, 5308), 'numero': 12}, {'label': 'non-slip mat', 'position': (5336, 5338), 'numero': 12}, {'label': 'mat', 'position': (5456, 5458), 'numero': 12}, {'label': 'bottom base surface', 'position': (5539, 5541), 'numero': 12}, {'label': 'mat', 'position': (5557, 5559), 'numero': 12}, {'label': 'upstanding support', 'position': (5725, 5727), 'numero': 14}, {'label': 'spaced apart upstanding sides', 'position': (5800, 5802), 'numero': 14}, {'label': 'angled side wings', 'position': (5832, 5834), 'numero': 14}, {'label': 'angled top surface', 'position': (5864, 5866), 'numero': 14}, {'label': 'sides', 'position': (5897, 5899), 'numero': 14}, {'label': 'polygonal base', 'position': (5927, 5929), 'numero': 14}, {'label': 'sides', 'position': (5968, 5970), 'numero': 14}, {'label': 'base', 'position': (6077, 6079), 'numero': 12}, {'label': 'side wings', 'position': (6102, 6104), 'numero': 14}, {'label': 'base', 'position': (6131, 6133), 'numero': 12}, {'label': 'one-piece support', 'position': (6159, 6161), 'numero': 14}, {'label': 'support', 'position': (6342, 6344), 'numero': 14}, {'label': 'base', 'position': (6475, 6477), 'numero': 12}, {'label': 'base', 'position': (6510, 6512), 'numero': 12}, {'label': 'support', 'position': (6531, 6533), 'numero': 14}, {'label': 'base', 'position': (6706, 6708), 'numero': 12}, {'label': 'optional nail file', 'position': (6745, 6747), 'numero': 13}, {'label': 'support plate', 'position': (6778, 6780), 'numero': 15}, {'label': 'clips', 'position': (6977, 6979), 'numero': 17}, {'label': 'support plate', 'position': (7003, 7005), 'numero': 15}, {'label': 'nail clipper', 'position': (7139, 7141), 'numero': 20}, {'label': 'support', 'position': (7168, 7170), 'numero': 14}, {'label': 'rotatable cutter head', 'position': (7224, 7226), 'numero': 22}, {'label': 'lower cutting jaws', 'position': (7265, 7267), 'numero': 22}, {'label': 'lower clipper arm', 'position': (7481, 7483), 'numero': 24}, {'label': 'upper clipper arm', 'position': (7523, 7525), 'numero': 26}, {'label': 'cutter head', 'position': (7553, 7555), 'numero': 22}, {'label': 'nail clipper', 'position': (7584, 7586), 'numero': 20}, {'label': 'support', 'position': (7803, 7805), 'numero': 14}, {'label': 'support', 'position': (7897, 7899), 'numero': 14}, {'label': 'clipper arm', 'position': (7919, 7921), 'numero': 26}, {'label': 'angled top surface', 'position': (7963, 7965), 'numero': 14}, {'label': 'clipper arm', 'position': (7992, 7994), 'numero': 24}, {'label': 'actuating member', 'position': (8033, 8035), 'numero': 28}, {'label': 'cutter head', 'position': (8079, 8081), 'numero': 22}, {'label': 'nail positioning pad', 'position': (8112, 8114), 'numero': 30}, {'label': 'actuating member', 'position': (8153, 8155), 'numero': 28}, {'label': 'cutter head', 'position': (8183, 8185), 'numero': 22}, {'label': 'clipper arm', 'position': (8205, 8207), 'numero': 26}, {'label': 'cutter head', 'position': (8353, 8355), 'numero': 22}, {'label': 'upper clipper arm', 'position': (8405, 8407), 'numero': 26}, {'label': 'cutter head', 'position': (8442, 8444), 'numero': 22}, {'label': 'fastener pin', 'position': (8487, 8489), 'numero': 25}, {'label': 'that connects cooperating end regions', 'position': (8530, 8532), 'numero': 26}, {'label': 'upper clipper arm', 'position': (8574, 8576), 'numero': 26}, {'label': 'lower clipper arm', 'position': (8605, 8607), 'numero': 24}, {'label': 'cutter head', 'position': (8630, 8632), 'numero': 22}, {'label': 'fastener pin', 'position': (8653, 8655), 'numero': 25}, {'label': 'cutter head', 'position': (8724, 8726), 'numero': 22}, {'label': 'clipper arm', 'position': (8787, 8789), 'numero': 26}, {'label': 'cutter head', 'position': (8848, 8850), 'numero': 22}, {'label': 'upper clipper arm', 'position': (8913, 8915), 'numero': 26}, {'label': 'lower clipper arm', 'position': (9152, 9154), 'numero': 24}, {'label': 'fastener pin', 'position': (9215, 9217), 'numero': 25}, {'label': 'yoke connection', 'position': (9241, 9243), 'numero': 27}, {'label': '3  where side projections', 'position': (9287, 9289), 'numero': 27}, {'label': 'arm', 'position': (9303, 9305), 'numero': 24}, {'label': 'arm  24  extend into side-bores', 'position': (9331, 9333), 'numero': 25}, {'label': 'fastener pin', 'position': (9402, 9404), 'numero': 25}, {'label': 'fastener pin', 'position': (9442, 9444), 'numero': 25}, {'label': 'lower clipper arm', 'position': (9569, 9571), 'numero': 24}, {'label': 'bend', 'position': (9590, 9592), 'numero': 24}, {'label': 'fastener pin', 'position': (9626, 9628), 'numero': 25}, {'label': 'lower cutter jaw', 'position': (9704, 9706), 'numero': 22}, {'label': 'clipper arm', 'position': (9732, 9734), 'numero': 26}, {'label': 'clipper arm', 'position': (9758, 9760), 'numero': 24}, {'label': 'clipper arm', 'position': (9806, 9808), 'numero': 26}, {'label': 'paddle region', 'position': (9869, 9871), 'numero': 28}, {'label': 'actuating member', 'position': (9902, 9904), 'numero': 28}, {'label': 'upper clipper arm', 'position': (9984, 9986), 'numero': 26}, {'label': 'angled top surface', 'position': (10036, 10038), 'numero': 14}, {'label': 'support', 'position': (10060, 10062), 'numero': 14}, {'label': 'fastener', 'position': (10121, 10123), 'numero': 32}, {'label': 'upper clipper arm', 'position': (10197, 10199), 'numero': 26}, {'label': 'support', 'position': (10242, 10244), 'numero': 14}, {'label': 'top connector plate', 'position': (10362, 10364), 'numero': 14}, {'label': 'about', 'position': (10385, 10387), 'numero': 17}, {'label': 'cutter head', 'position': (10589, 10591), 'numero': 22}, {'label': 'fall down onto base', 'position': (10763, 10765), 'numero': 12}, {'label': 'lower clipper arm', 'position': (10855, 10857), 'numero': 24}, {'label': 'elongated arm', 'position': (10898, 10900), 'numero': 28}, {'label': 'actuating member', 'position': (10930, 10932), 'numero': 28}, {'label': 'cutter head', 'position': (10986, 10988), 'numero': 22}, {'label': 'about', 'position': (11047, 11049), 'numero': 14}, {'label': 'positioning pad', 'position': (11131, 11133), 'numero': 30}, {'label': 'enlarged paddle or platform region', 'position': (11189, 11191), 'numero': 28}, {'label': 'actuating member', 'position': (11222, 11224), 'numero': 28}, {'label': 'lower clipper arm', 'position': (11259, 11261), 'numero': 24}, {'label': 'pad', 'position': (11321, 11323), 'numero': 30}, {'label': 'groove or channel', 'position': (11355, 11357), 'numero': 30}, {'label': 'cutter head', 'position': (11413, 11415), 'numero': 22}, {'label': 'lower clipper arm', 'position': (11487, 11489), 'numero': 24}, {'label': 'actuating member', 'position': (11529, 11531), 'numero': 28}, {'label': 'screw', 'position': (11575, 11577), 'numero': 40}, {'label': 'wedge', 'position': (11661, 11663), 'numero': 42}, {'label': 'lower clipper arm', 'position': (11708, 11710), 'numero': 28}, {'label': 'actuating member', 'position': (11738, 11740), 'numero': 28}, {'label': 'positioning pad', 'position': (11781, 11783), 'numero': 30}, {'label': 'cutter head', 'position': (11833, 11835), 'numero': 22}, {'label': 'cutting jaws', 'position': (11924, 11926), 'numero': 22}, {'label': 'positioning pad', 'position': (12006, 12008), 'numero': 30}, {'label': 'positioning pad', 'position': (12116, 12118), 'numero': 30}, {'label': 'the enlarged paddle or platform region', 'position': (12179, 12181), 'numero': 28}, {'label': 'actuating member', 'position': (12212, 12214), 'numero': 28}, {'label': 'enlarged paddle region', 'position': (12310, 12312), 'numero': 28}, {'label': 'actuating member', 'position': (12343, 12345), 'numero': 28}, {'label': 'paddle region', 'position': (12583, 12585), 'numero': 28}, {'label': 'pad channel', 'position': (12633, 12635), 'numero': 30}, {'label': 'cutter head', 'position': (12681, 12683), 'numero': 22}, {'label': 'paddle region', 'position': (12781, 12783), 'numero': 28}, {'label': 'pad channel', 'position': (12829, 12831), 'numero': 30}, {'label': 'cutter head', 'position': (12883, 12885), 'numero': 22}, {'label': 'paddle region', 'position': (13079, 13081), 'numero': 28}, {'label': 'clipper arm', 'position': (13155, 13157), 'numero': 24}, {'label': 'clipper arm', 'position': (13192, 13194), 'numero': 26}, {'label': 'cutter head jaws', 'position': (13229, 13231), 'numero': 22}, {'label': 'actuating member', 'position': (13426, 13428), 'numero': 28}, {'label': 'cutter head', 'position': (13452, 13454), 'numero': 22}, {'label': 'upper clipper arm', 'position': (13492, 13494), 'numero': 26}, {'label': 'cutter head', 'position': (13823, 13825), 'numero': 22}, {'label': 'actuating member', 'position': (13886, 13888), 'numero': 28}, {'label': 'nail clipping apparatus', 'position': (14110, 14112), 'numero': 10}, {'label': 'paddle region', 'position': (14224, 14226), 'numero': 28}, {'label': 'positioning pad', 'position': (14267, 14269), 'numero': 30}, {'label': 'cutter head', 'position': (14331, 14333), 'numero': 22}, {'label': 'actuating member', 'position': (14450, 14452), 'numero': 28}, {'label': 'paddle region', 'position': (14473, 14475), 'numero': 28}, {'label': 'paddle region', 'position': (14546, 14548), 'numero': 28}]\n"
     ]
    }
   ],
   "source": [
    "print(patent['raw_legend'])"
   ]
  },
  {
   "cell_type": "code",
   "execution_count": 95,
   "metadata": {},
   "outputs": [],
   "source": [
    "description = patent['description']"
   ]
  },
  {
   "cell_type": "code",
   "execution_count": 80,
   "metadata": {},
   "outputs": [
    {
     "data": {
      "text/plain": [
       "' filed September 23, 1876.  \\n To all whom it may concern: I  \\n Be it known that I, WILLIAM (3. EDGE,'"
      ]
     },
     "execution_count": 80,
     "metadata": {},
     "output_type": "execute_result"
    }
   ],
   "source": [
    "text = description[350:450]\n",
    "text"
   ]
  },
  {
   "cell_type": "code",
   "execution_count": 81,
   "metadata": {},
   "outputs": [],
   "source": [
    "def insertbefore( i, string, text ):\n",
    "    newtext = list(text)\n",
    "    newtext.insert( i, string )\n",
    "    newtext = ''.join( newtext )\n",
    "    return newtext\n",
    "\n",
    "def insertseveralbefore( severalstrings, text ):\n",
    "    \"\"\" insert plusieurs chaine de caractères aux positions i :\n",
    "        severalstrings = [ (i, str), (i,str), ... ]\n",
    "    \"\"\"\n",
    "    offset = 0\n",
    "    for i, string in severalstrings:\n",
    "        text = insertbefore( offset+i, string, text )\n",
    "        offset = offset + len( string )\n",
    "        \n",
    "    return text\n",
    "    "
   ]
  },
  {
   "cell_type": "code",
   "execution_count": 96,
   "metadata": {},
   "outputs": [],
   "source": [
    "raw_legend = patent['raw_legend']\n",
    "description = patent['description']"
   ]
  },
  {
   "cell_type": "code",
   "execution_count": 117,
   "metadata": {},
   "outputs": [],
   "source": [
    "from IPython.core.display import display, HTML"
   ]
  },
  {
   "cell_type": "code",
   "execution_count": 114,
   "metadata": {},
   "outputs": [],
   "source": [
    "tobeinserted = []\n",
    "for line in raw_legend:\n",
    "    end =  line['position'][1] \n",
    "    start =  line['position'][0] - len(line['label']) - 2\n",
    "    \n",
    "    start_tag = '<span style=\"color:blue;\">'\n",
    "    end_tag = '</span>'\n",
    "    \n",
    "    tobeinserted.append( (start, start_tag) )\n",
    "    tobeinserted.append( (end, end_tag) )\n",
    "\n",
    "htmldescription = insertseveralbefore( tobeinserted, description )"
   ]
  },
  {
   "cell_type": "code",
   "execution_count": 116,
   "metadata": {},
   "outputs": [
    {
     "data": {
      "text/html": [
       "FIELD OF THE INVENTION \n",
       "       [0001]    The present invention relates to a nail clipping apparatus operable using one hand or one foot. \n",
       "       BACKGROUND OF THE INVENTION \n",
       "       [0002]    Some individuals, due to age, injury or disability, lack strength and/or dexterity in one hand required to independently operate conventional finger nail clippers in widespread use. Moreover, individuals having amputation of a hand also suffer the same problem. Similarly, individuals who are unable to bend over to clip their toenails also suffer the same problem. Such individuals often have difficulty clipping their nails using standard mechanical nail clippers. \n",
       "         [0003]    Motorized nail clippers are available for use by individuals, but are disadvantageous in that the motorized nail clipper cannot be operated with one hand, does not remain stable on a surface, and is uncomfortable for some users due to the electric motor. \n",
       "         [0004]    A mechanical nail clipper mounted to a base, which is secured in position by suction cups, also is available for use by individuals. However, this is disadvantageous in that the nail clipper cannot be operated with one hand and is not sturdy under pressure of the user&#39;s hand. \n",
       "       SUMMARY OF THE INVENTION \n",
       "       [0005]    The present invention provides a nail clipping apparatus which is operable by an individual using one hand or foot, which is stable in use, which allows the user to comfortably clip his/her nails, and which permits clipping around the periphery of the nails. \n",
       "         [0006]    In an illustrative embodiment of the invention, a nail clipping apparatus comprises a base having an upstanding support member and a nail clipper disposed on the support member. The nail clipper includes a rotatable cutter head that resides on a nail clipper arm connected to the support member. The cutter head is rotatable by the user to different angular positions in order to clip around the front and side peripheries of a nail. \n",
       "         [0007]    In a further illustrative embodiment of the present invention, the nail clipping apparatus has a cutter head actuated to cut the user&#39;s nail through a pivoting movement of a lower clipper arm upwardly toward an upper clipper arm on which the cutter head resides. The upper clipper arm is connected to the support member and the lower clipper arm is connected to an actuating member that extends in front of the cutter head where a nail positioning pad is disposed on the actuating member adjacent the cutter head and where a user pushes downwardly on the actuating member with his/her hand or foot to move the lower clipper arm upwardly toward the upper clipper arm to actuate the cutter head to cut a nail positioned in the cutter head. The cutter head can be rotatably disposed on the upper clipper arm to permit clipping around the periphery of a nail by the user&#39;s rotation of the cutter head. \n",
       "         [0008]    The nail clipping apparatus of the present invention is advantageous in that the user can clip or cut his/her nails using one hand or one foot in comfortable manner. The user can clip or cut around the periphery of his/her nails by adjusting angular position of the cutter head. \n",
       "         [0009]    These and other features and advantages of the present invention will be set forth in the following detailed description taken with the following drawings. \n",
       "     \n",
       "    \n",
       "     \n",
       "       DESCRIPTION OF THE DRAWINGS \n",
       "         [0010]      FIG. 1  is perspective view of a nail clipping apparatus pursuant to an illustrative embodiment of the invention. \n",
       "           [0011]      FIG. 2  is an exploded view of the nail clipping apparatus of  FIG. 1 . \n",
       "           [0012]      FIG. 3  is a partial view of the pivot connection between the lower clipper arm and the fastener pin. \n",
       "           [0013]      FIGS. 4 ,  4 A and  5  are perspective view of the nail clipping apparatus showing a user&#39;s hand on the actuating member during clipping a fingernail for  FIG. 4A ,  4 B and a thumbnail on a large hand,  FIG. 5 . \n",
       "           [0014]      FIG. 6A ,  6 B are plan views of the nail clipping apparatus showing a user&#39;s hand on the actuating member with the cutter head aligned with the upper clipper arm to clip a front of the middle fingernail,  FIG. 6A , and rotated to an angular position relative to the upper clipper arm to clip the periphery of a middle fingernail. \n",
       "           [0015]      FIG. 7  is a partial sectional view of the base and a one-piece support thereon. \n",
       "       \n",
       "    \n",
       "    \n",
       "     DESCRIPTION OF THE INVENTION \n",
       "       [0016]    In one embodiment, the present invention provides a <span style=\"color:blue;\">nail clipping apparatus  10</span>  which is operable by an individual using one hand or one foot, which is stable in use, which allows the user to comfortably clip his/her nails, and which permits clipping around the periphery of the nails. The invention envisions clipping of a user&#39;s fingernail, thumbnail, and/or toenail. \n",
       "         [0017]    Referring to  FIGS. 1-5 , an illustrative embodiment of a <span style=\"color:blue;\">nail clipping apparatus  10</span>  pursuant to the present invention is shown comprising a <span style=\"color:blue;\">base  12</span>  having an <span style=\"color:blue;\">upstanding support  14</span>  thereon. The <span style=\"color:blue;\">base  12</span>  can be a <span style=\"color:blue;\">flat plate  12</span>   p  of any suitable material, such as polycarbonate or other suitable material. The <span style=\"color:blue;\">base  12</span>  can have an <span style=\"color:blue;\">non-slip mat  12</span>   m , or non-slip rubber feet, suction cups, or other non-slip feature, to keep the base stationary in use. The <span style=\"color:blue;\">mat  12</span>   m  can be attached by adhesive or other technique on the <span style=\"color:blue;\">bottom base surface  12</span>   b . The <span style=\"color:blue;\">mat  12</span>   m  can comprise a commercially non-slip mat available from Dycem Limited, Warwick Central Industrial Park, R.I. 02886. \n",
       "         [0018]    The <span style=\"color:blue;\">upstanding support  14</span>  can comprise a one-piece support having <span style=\"color:blue;\">spaced apart upstanding sides  14</span>   p  with <span style=\"color:blue;\">angled side wings  14</span>   w , an <span style=\"color:blue;\">angled top surface  14</span>   t  integral with the <span style=\"color:blue;\">sides  14</span>   p  and a <span style=\"color:blue;\">polygonal base  14</span>   b  that is integral with the <span style=\"color:blue;\">sides  14</span>   p  and that is received and adhered or otherwise fastened in a complementary shaped recess in the <span style=\"color:blue;\">base  12</span>  with the <span style=\"color:blue;\">side wings  14</span>   w  resting on the <span style=\"color:blue;\">base  12</span> . The <span style=\"color:blue;\">one-piece support  14</span>  can be made of any suitable material such as polycarbonate or other suitable material and can be made by machining a polycarbonate block. In an alternate embodiment, the <span style=\"color:blue;\">support  14</span>  can comprise separate side, top and bottom plate members fastened together with fasteners or adhesive and similarly to the <span style=\"color:blue;\">base  12</span> . \n",
       "         [0019]    The <span style=\"color:blue;\">base  12</span>  and the <span style=\"color:blue;\">support  14</span>  provide a stable platform for use of the nail clipping apparatus by an individual using one hand as described and shown below (or one foot). \n",
       "         [0020]    The <span style=\"color:blue;\">base  12</span>  can include an <span style=\"color:blue;\">optional nail file  13</span>  disposed on a <span style=\"color:blue;\">support plate  15</span>  fastened on the base,  FIG. 2 . The nail file can include, but is not limited to, a conventional emory board, a metal nail file, or other nail file, releasably attached at opposite end by <span style=\"color:blue;\">clips  17</span>  to the <span style=\"color:blue;\">support plate  15</span>  so that the nail file can be replaced as needed,  FIG. 4 . \n",
       "         [0021]    The nail clipping apparatus includes a <span style=\"color:blue;\">nail clipper  20</span>  disposed on the <span style=\"color:blue;\">support  14</span> . The nail clipper includes a <span style=\"color:blue;\">rotatable cutter head  22</span>  having upper and <span style=\"color:blue;\">lower cutting jaws  22</span>   a ,  22   b  usually open by virtue of the spring properties of the cutter head and actuated to close together to cut the user&#39;s fingernail, thumbnail or toenail by pivoting movement of a <span style=\"color:blue;\">lower clipper arm  24</span>  upwardly toward an <span style=\"color:blue;\">upper clipper arm  26</span>  on which the <span style=\"color:blue;\">cutter head  22</span>  resides. The <span style=\"color:blue;\">nail clipper  20</span>  can comprise a commercially available Sally Hansen LaCross toenail clipper (or fingernail clipper) available from LaCross, 726 Reckson Plaza, Uniondale, N.Y. 11553, but inverted when it is connected to the <span style=\"color:blue;\">support  14</span>  as shown best in  FIGS. 1 ,  4  and  4 A so that in the inverted position on the <span style=\"color:blue;\">support  14</span> , the <span style=\"color:blue;\">clipper arm  26</span>  is connected to the <span style=\"color:blue;\">angled top surface  14</span>   t  and the <span style=\"color:blue;\">clipper arm  24</span>  is connected to an <span style=\"color:blue;\">actuating member  28</span>  that extends in front of the <span style=\"color:blue;\">cutter head  22</span>  were a <span style=\"color:blue;\">nail positioning pad  30</span>  is disposed on the <span style=\"color:blue;\">actuating member  28</span>  adjacent the <span style=\"color:blue;\">cutter head  22</span> . The <span style=\"color:blue;\">clipper arm  26</span>  can be modified to remove a plastic covering thereon as-purchased to facilitate attachment to the support. \n",
       "         [0022]    The <span style=\"color:blue;\">cutter head  22</span>  is rotatably disposed on the <span style=\"color:blue;\">upper clipper arm  26</span> . In particular, the <span style=\"color:blue;\">cutter head  22</span>  is rotatably disposed on a <span style=\"color:blue;\">fastener pin  25</span>  <span style=\"color:blue;\">that connects cooperating end regions  26</span>   e ,  24   e  of the <span style=\"color:blue;\">upper clipper arm  26</span>  and the <span style=\"color:blue;\">lower clipper arm  24</span>  and the <span style=\"color:blue;\">cutter head  22</span> . The <span style=\"color:blue;\">fastener pin  25</span>  is rotatable about its axis. In  FIGS. 1 and 6A , the <span style=\"color:blue;\">cutter head  22</span>  is aligned along the longitudinal axis of the <span style=\"color:blue;\">clipper arm  26</span>  to cut the front periphery of the nail. The <span style=\"color:blue;\">cutter head  22</span>  can be manually rotatable relative to the <span style=\"color:blue;\">upper clipper arm  26</span>  by the user to different angular position(s) to cut a side periphery of a fingernail as shown in  FIG. 6B , or a thumbnail or a toenail. The entire periphery of a nail thereby can be clipped. \n",
       "         [0023]    The <span style=\"color:blue;\">lower clipper arm  24</span>  is pivotably connected to a lower end of the <span style=\"color:blue;\">fastener pin  25</span>  by a <span style=\"color:blue;\">yoke connection  27</span>  shown in  FIG. <span style=\"color:blue;\">3  where side projections  27</span>   a  of <span style=\"color:blue;\">arm  24<span style=\"color:blue;\"></span>  extend into side-bores  25</span>   b  of a slightly enlarged, rounded lower end of the <span style=\"color:blue;\">fastener pin  25</span> . The upper end of the <span style=\"color:blue;\">fastener pin  25</span>  is flattened after assembly with the clipper arms/cutter head to form an upper flattened shaft end. The <span style=\"color:blue;\">lower clipper arm  24</span>  includes a <span style=\"color:blue;\">bend  24</span>   b  proximate the <span style=\"color:blue;\">fastener pin  25</span>  in usual manner so that closing force is exerted on the <span style=\"color:blue;\">lower cutter jaw  22</span>   b  by the <span style=\"color:blue;\">clipper arm  26</span>  when the <span style=\"color:blue;\">clipper arm  24</span>  is pivoted upwardly toward the <span style=\"color:blue;\">clipper arm  26</span>  by the user&#39;s pushing downwardly on the <span style=\"color:blue;\">paddle region  28</span>   p  of the <span style=\"color:blue;\">actuating member  28</span>  using the user&#39;s hand or foot. \n",
       "         [0024]    The <span style=\"color:blue;\">upper clipper arm  26</span>  is fixedly connected to the <span style=\"color:blue;\">angled top surface  14</span>   t  of the <span style=\"color:blue;\">support  14</span>  at an end region of the upper clipper arm by a <span style=\"color:blue;\">fastener  32</span> , such as a screw or any other fastening element. The <span style=\"color:blue;\">upper clipper arm  26</span>  extends forwardly away from the <span style=\"color:blue;\">support  14</span>  preferably at a downward acute angle (relative to horizontal) that replicates the angle of the <span style=\"color:blue;\">top connector plate  14</span>   t , such as<span style=\"color:blue;\"> about 17</span>.5 degrees or other suitable acute angle below horizontal, although the upper clipper arm can be oriented horizontally or at other angles. This cutter head angle advantageously orients the <span style=\"color:blue;\">cutter head  22</span>  at a similar angle to allow a user ready visibility of the fingernail, thumbnail or toenail relative to the cutter head and allows nail clippings to <span style=\"color:blue;\">fall down onto base  12</span> , eliminating random projecting of clippings. \n",
       "         [0025]    The <span style=\"color:blue;\">lower clipper arm  24</span>  also is connected to an <span style=\"color:blue;\">elongated arm  28</span>   a  of an <span style=\"color:blue;\">actuating member  28</span>  that extends forwardly in front of the <span style=\"color:blue;\">cutter head  22</span>  at an upward acute relative to horizontal, such as<span style=\"color:blue;\"> about 14</span> degrees or other upward acute angle above horizontal, where the <span style=\"color:blue;\">positioning pad  30</span>  is disposed on an <span style=\"color:blue;\">enlarged paddle or platform region  28</span>   p  of the <span style=\"color:blue;\">actuating member  28</span> , although the <span style=\"color:blue;\">lower clipper arm  24</span>  can be oriented horizontally or at other angles. The <span style=\"color:blue;\">pad  30</span>  includes a <span style=\"color:blue;\">groove or channel  30</span>   c  located adjacent and in front of the <span style=\"color:blue;\">cutter head  22</span>  to receive a finger, thumb or toe of the user. The <span style=\"color:blue;\">lower clipper arm  24</span>  is connected to the <span style=\"color:blue;\">actuating member  28</span>  by one or more fasteners such as a <span style=\"color:blue;\">screw  40</span>  and nut (not shown) below the clipper arm, adhesive, or other technique. A <span style=\"color:blue;\">wedge  42</span>  is disposed between the <span style=\"color:blue;\">lower clipper arm  28</span>  and the <span style=\"color:blue;\">actuating member  28</span>  so as to position the <span style=\"color:blue;\">positioning pad  30</span>  at a desired level in front of the <span style=\"color:blue;\">cutter head  22</span>  so that the fingernail, thumbnail or toenail can be inserted between the <span style=\"color:blue;\">cutting jaws  22</span>   a  and  22   b  of the cutter head. \n",
       "         [0026]    The <span style=\"color:blue;\">positioning pad  30</span>  can comprise foam plastic material, such as Neoprene or any other suitable material. The <span style=\"color:blue;\">positioning pad  30</span>  can be attached to <span style=\"color:blue;\">the enlarged paddle or platform region  28</span>   p  of the <span style=\"color:blue;\">actuating member  28</span>  by adhesive or any other fastening technique. \n",
       "         [0027]    The <span style=\"color:blue;\">enlarged paddle region  28</span>   p  of the <span style=\"color:blue;\">actuating member  28</span>  is adapted to receive the user&#39;s hand or foot, or a portion thereof, as illustrated for a user&#39;s hand in  FIGS. 4 ,  4 A and  5 . For example,  FIGS. 4 ,  4 A show the palm of the user&#39;s hand laid flat on the <span style=\"color:blue;\">paddle region  28</span>   p  with a index finger lying in <span style=\"color:blue;\">pad channel  30</span>   c  with the fingernail in the <span style=\"color:blue;\">cutter head  22</span> .  FIG. 5  shows the knuckles of the fingers of the user&#39;s larger hand on the <span style=\"color:blue;\">paddle region  28</span>   p  with the thumb residing in <span style=\"color:blue;\">pad channel  30</span>   c  to position the thumbnail in the <span style=\"color:blue;\">cutter head  22</span> .  FIG. 5  is useful for users with large hands to clip his/her nails and/or for thumbnail clipping for some users. In  FIGS. 4 ,  4 A and  5 , the user pushes downwardly on the <span style=\"color:blue;\">paddle region  28</span>   p  of the actuating member using his/her hand to move the <span style=\"color:blue;\">clipper arm  24</span>  upwardly toward the <span style=\"color:blue;\">clipper arm  26</span>  to actuate the <span style=\"color:blue;\">cutter head jaws  22</span>   a ,  22   b  to cut the fingernail or thumbnail positioned in the cutter head.  FIG. 6A ,  6 B are plan views of the nail clipping apparatus showing a user&#39;s hand on the <span style=\"color:blue;\">actuating member  28</span>  with the <span style=\"color:blue;\">cutter head  22</span>  aligned with the <span style=\"color:blue;\">upper clipper arm  26</span>  to clip a front of the middle fingernail,  FIG. 6A , and rotated to an angular position relative to the upper clipper arm to clip the side periphery of a middle fingernail,  FIG. 6B . The entire front and side peripheries of a fingernail, thumbnail or toenail can clipped by the user&#39;s rotatably adjusting the <span style=\"color:blue;\">cutter head  22</span>  to this end and then pushing down on the <span style=\"color:blue;\">actuating member  28</span> . In  FIGS. 6A ,  6 B, the user can press down on the paddle with his/her palm or with his/her thumb to cut a nail. \n",
       "         [0028]    In clipping a toenail, the user can sit in a chair with the <span style=\"color:blue;\">nail clipping apparatus  10</span>  on the floor for example. The user, sitting in the chair, can simply place his/her foot on the <span style=\"color:blue;\">paddle region  28</span>   p  with a toe on the <span style=\"color:blue;\">positioning pad  30</span>  to position the toenail thereof for cutting by <span style=\"color:blue;\">cutter head  22</span>  when the user presses downwardly with his/her foot on the paddle region. \n",
       "         [0029]    The <span style=\"color:blue;\">actuating member  28</span>  and <span style=\"color:blue;\">paddle region  28</span>   p  can have any suitable shape. The contour shown at <span style=\"color:blue;\">paddle region  28</span>   p  allows for increased ease of use in cutting nails and also serves to provide a carrying handle for ease of transportation of the apparatus. \n",
       "         [0030]    The invention envisions mounting a vision magnifying device, such as a magnifying glass (not shown), on the base or support above the cutter head in a manner to improve vision of the nail clipping area by a user who may have less-than perfect eye sight. \n",
       "         [0031]    While certain embodiments of the invention have been described in detail above, those skilled in the art will appreciate that changes and modifications can be made therein within the scope of the invention as set forth in the appended claims."
      ],
      "text/plain": [
       "<IPython.core.display.HTML object>"
      ]
     },
     "metadata": {},
     "output_type": "display_data"
    }
   ],
   "source": [
    "display(HTML( htmldescription ))"
   ]
  },
  {
   "cell_type": "code",
   "execution_count": null,
   "metadata": {},
   "outputs": [],
   "source": []
  }
 ],
 "metadata": {
  "kernelspec": {
   "display_name": "Python 3",
   "language": "python",
   "name": "python3"
  },
  "language_info": {
   "codemirror_mode": {
    "name": "ipython",
    "version": 3
   },
   "file_extension": ".py",
   "mimetype": "text/x-python",
   "name": "python",
   "nbconvert_exporter": "python",
   "pygments_lexer": "ipython3",
   "version": "3.5.2"
  }
 },
 "nbformat": 4,
 "nbformat_minor": 2
}
