{
 "cells": [
  {
   "cell_type": "markdown",
   "metadata": {},
   "source": [
    "# Google Patents\n",
    "\n",
    "[Google Patents](https://patents.google.com/advanced) est un super outil pour explorer les brevets... et la base de donnée est en accès libre!\n",
    "\n",
    "En effet _Google BigQuery_ fournis des bases de données en accès libre: [Google BigQuery Public Datasets ](https://cloud.google.com/bigquery/public-data/).\n",
    "\n",
    "_Remarques : _ \n",
    "* Espacenet/European Patent Office à aussi un acces libre, avec une API : [Open Patent Services](https://developers.epo.org/). Il y a une interface python : [python-epo-ops-client](https://github.com/55minutes/python-epo-ops-client)\n",
    "* Les données \"patents view\" sont accescible ici:  http://www.patentsview.org/download/  avec une API en accès libre!\n",
    "* Il y a un package R pour l'acces à Patents View, https://ropensci.org/blog/2017/09/19/patentsview/\n",
    "\n",
    "Le projet [patents-public-data](https://github.com/google/patents-public-data) sur github (de google) fournis des exemples d'utilisation (Patent landscaping...), dont un sorte de **tutorial pour bien commencer: [claim_text_extraction.ipynb](https://github.com/google/patents-public-data/blob/master/examples/claim-text/claim_text_extraction.ipynb)**. \n",
    "\n",
    "* [ Quickstart -for BigQuery- Using the Web UI ](https://cloud.google.com/bigquery/quickstart-web-ui)\n",
    "\n",
    "[GoogleCloud Manager Resource Page](https://console.cloud.google.com/cloud-resource-manager?_ga=2.44653220.-1097117540.1503584570)\n",
    "\n",
    "_Note : _ L'essai gratuit n'est possible -en Europe- que pour les entreprises... mais pas besoin pour accéder aux données ?\n",
    "\n",
    "\n",
    "Librairie Python pour l'API:\n",
    "[ BigQuery API Client Library ](https://cloud.google.com/bigquery/docs/reference/libraries#client-libraries-install-python)\n",
    "\n",
    "        $ pip install --upgrade google-cloud-bigquery\n",
    "        \n",
    "Le documentation : [Python API Reference Documentation](https://googlecloudplatform.github.io/google-cloud-python/latest/bigquery/usage.html).\n",
    "\n",
    "\n",
    "* Créer une Authentification: [set up authentication](https://cloud.google.com/docs/authentication/getting-started).\n",
    "* Voir ses Authentifications: [API credentials](https://console.cloud.google.com/apis/credentials).\n",
    "\n",
    "Le chemin (absolu) du fichier de la clé (JSON) est a ajouter comme variable d'environement:\n",
    "\n",
    "        $ export GOOGLE_APPLICATION_CREDENTIALS=<path_to_service_account_file>\n",
    "        \n",
    "_Rq :_ il faut redémarrer le VirtualEnv ?"
   ]
  },
  {
   "cell_type": "markdown",
   "metadata": {},
   "source": [
    "## Test de l'authentification"
   ]
  },
  {
   "cell_type": "code",
   "execution_count": 8,
   "metadata": {},
   "outputs": [
    {
     "name": "stdout",
     "output_type": "stream",
     "text": [
      "/home/etienne/Projets/patentsExplore/patentdata-06da94da5331.json\n"
     ]
    }
   ],
   "source": [
    "import os\n",
    "print( os.environ['GOOGLE_APPLICATION_CREDENTIALS'] )"
   ]
  },
  {
   "cell_type": "code",
   "execution_count": 2,
   "metadata": {
    "collapsed": true
   },
   "outputs": [],
   "source": [
    "from google.cloud import bigquery"
   ]
  },
  {
   "cell_type": "code",
   "execution_count": 3,
   "metadata": {
    "collapsed": true
   },
   "outputs": [],
   "source": [
    "client = bigquery.Client()"
   ]
  },
  {
   "cell_type": "markdown",
   "metadata": {},
   "source": [
    "Jusque là tout va bien...\n",
    "\n",
    "## Faire une requète\n",
    "\n",
    "* documentation: [google-cloud-python: Querying data](https://googlecloudplatform.github.io/google-cloud-python/latest/bigquery/usage.html#queries)\n",
    "\n",
    "Copier - coller :"
   ]
  },
  {
   "cell_type": "code",
   "execution_count": 25,
   "metadata": {
    "collapsed": true
   },
   "outputs": [],
   "source": [
    "QUERY = (\n",
    "    'SELECT name FROM `bigquery-public-data.usa_names.usa_1910_2013` '\n",
    "    'WHERE state = \"TX\" '\n",
    "    'LIMIT 100')\n",
    "\n",
    "TIMEOUT = 30  # in seconds\n",
    "query_job = client.query(QUERY)  # API request - starts the query\n",
    "assert query_job.state == 'RUNNING'\n",
    "\n",
    "# Waits for the query to finish\n",
    "iterator = query_job.result(timeout=TIMEOUT)\n",
    "rows = list(iterator)\n",
    "\n",
    "assert query_job.state == 'DONE'\n",
    "assert len(rows) == 100\n",
    "row = rows[0]\n",
    "assert row[0] == row.name == row['name']"
   ]
  },
  {
   "cell_type": "code",
   "execution_count": 26,
   "metadata": {},
   "outputs": [
    {
     "name": "stdout",
     "output_type": "stream",
     "text": [
      "Row(('Frances',), {'name': 0})\n"
     ]
    }
   ],
   "source": [
    "print( row )"
   ]
  },
  {
   "cell_type": "markdown",
   "metadata": {},
   "source": [
    "# Let's go\n",
    "\n",
    "[Google BigQuery Web API](https://bigquery.cloud.google.com/)"
   ]
  },
  {
   "cell_type": "code",
   "execution_count": 86,
   "metadata": {
    "collapsed": true
   },
   "outputs": [],
   "source": [
    "QUERY = \"\"\"\n",
    "SELECT patent_id\n",
    "FROM\n",
    "  `patents-public-data.patentsview.match`\n",
    "WHERE \n",
    "  publication_number = \"US-3930277-A\"\n",
    "LIMIT\n",
    "  10\n",
    "\"\"\""
   ]
  },
  {
   "cell_type": "code",
   "execution_count": 87,
   "metadata": {
    "collapsed": true
   },
   "outputs": [],
   "source": [
    "TIMEOUT = 60  # in seconds\n",
    "query_job = client.query(QUERY)  # API request - starts the query\n",
    "assert query_job.state == 'RUNNING'\n",
    "\n",
    "# Waits for the query to finish\n",
    "iterator = query_job.result(timeout=TIMEOUT)\n",
    "rows = list(iterator)\n",
    "\n",
    "assert query_job.state == 'DONE'"
   ]
  },
  {
   "cell_type": "code",
   "execution_count": 88,
   "metadata": {},
   "outputs": [
    {
     "name": "stdout",
     "output_type": "stream",
     "text": [
      "3930277\n"
     ]
    }
   ],
   "source": [
    "patent_id = rows[0].values()[0]\n",
    "print( patent_id )"
   ]
  },
  {
   "cell_type": "code",
   "execution_count": 92,
   "metadata": {
    "collapsed": true
   },
   "outputs": [],
   "source": [
    "r = query_job.query_results()"
   ]
  },
  {
   "cell_type": "code",
   "execution_count": null,
   "metadata": {
    "collapsed": true
   },
   "outputs": [],
   "source": [
    "iterator."
   ]
  }
 ],
 "metadata": {
  "kernelspec": {
   "display_name": "Python 3",
   "language": "python",
   "name": "python3"
  },
  "language_info": {
   "codemirror_mode": {
    "name": "ipython",
    "version": 3
   },
   "file_extension": ".py",
   "mimetype": "text/x-python",
   "name": "python",
   "nbconvert_exporter": "python",
   "pygments_lexer": "ipython3",
   "version": "3.5.2"
  }
 },
 "nbformat": 4,
 "nbformat_minor": 2
}
