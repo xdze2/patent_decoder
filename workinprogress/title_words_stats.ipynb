{
 "cells": [
  {
   "cell_type": "code",
   "execution_count": 15,
   "metadata": {},
   "outputs": [],
   "source": [
    "import pickle\n",
    "data = pickle.load( open( \"web/data/patent_infos.pickle\", \"rb\" ) )"
   ]
  },
  {
   "cell_type": "code",
   "execution_count": 19,
   "metadata": {},
   "outputs": [
    {
     "name": "stdout",
     "output_type": "stream",
     "text": [
      "378\n"
     ]
    }
   ],
   "source": [
    "words_count = {}\n",
    "\n",
    "for patent in data.values():\n",
    "    title = patent['title']\n",
    "    \n",
    "    title = title.lower()\n",
    "    title = title.split()\n",
    "    for w in title:\n",
    "        if w in words_count:\n",
    "            words_count[w] += 1\n",
    "        else:\n",
    "            words_count[w] = 1\n",
    "            \n",
    "print(len(words_count))"
   ]
  },
  {
   "cell_type": "code",
   "execution_count": 26,
   "metadata": {},
   "outputs": [],
   "source": [
    "words_count = sorted( words_count.items(), key=lambda x:x[1], reverse=True )"
   ]
  },
  {
   "cell_type": "code",
   "execution_count": 29,
   "metadata": {},
   "outputs": [
    {
     "name": "stdout",
     "output_type": "stream",
     "text": [
      "nail (201), clipper (157), and (72), for (53), clippers (37), with (35), device (26), the (22), cutting (22), implement (21), tool (21), of (20), finger-nail (19), cutter (17), nail-clipper (16), manicure (15), combination (15), apparatus (15), trimmer (14), toenail (13), finger (13), fingernail (12), same (12), a (11), manicuring (11), method (11), using (11), blade (10), pets (10), clipping (10), having (10), combined (9), toe (9), nails (9), hand (8), animal (7), safety (7), instrument (6), lever (6), fingernails (5), care (5), illuminating (5), in (5), handle (5), or (5), assembly (5), actuated (5), clip (5), knife (5), thereof (5), function (4), body (4), file (4), nippers (4), methods (4), curved (4), scissors (4), holder (4), to (4), manufacturing (4), grip (4), disposable (4), devices (4), pet (4), guard (4), cuticle (4), ingrown (4), double (4), blades (4), blade-insert (3), shearing (3), tweezers (3), extension (3), clippings (3), trimming (3), claw (3), jaws (3), improvement (3), adjustable (3), nipper (3), article (3), sanitary (3), pocket (3), integral (3), long (3), cutter, (3), cover (3), grooming (3), kit (3), apparatuses (3), system (3), edges (3), ended (3), ribbed (2), improved (2), clipper, (2), therefrom, (2), part (2), loops (2), shape (2), pad (2), control (2), magnifying (2), pieces (2), hygiene (2), preventing (2), led (2), body, (2), nail-clip (2), receptacle (2), reverse (2), key (2), remover (2), action (2), retainer (2), more (2), made (2), removing (2), multiple (2), its (2), switching (2), toenails (2), and/or (2), fingernails, (2), means (2), polish (2), an (2), shaft (2), illuminator (2), slicer (2), gel (2), supporting (2), safe (2), dual (2), protective (2), decorative (2), removable (2), tweezer (2), complex (2), inclined (2), lid (2), cuticles, (2), supplementary (2), artificial (2), light (2), corn (2), other (2), side (2), nesting (2), gauge (2), accommodating (2), two (2), semi-spherical (2), curve-type (2), pedicure (2), equipped (2), wendt (1), nail/toe (1), opposing (1), squeezing (1), unit (1), container (1), indexing (1), powered (1), modified (1), front (1), v-nose (1), parallel (1), type (1), curvature (1), scorer (1), automatic (1), pouch (1), pair (1), purposes (1), vibrating (1), remove (1), commercially (1), implements (1), instruments (1), are (1), notched (1), grips (1), edmund (1), richard (1), flap (1), bottle/applicator (1), corn-planer (1), cut (1), manicure-tool (1), comfortably (1), knife-blade (1), source (1), ornamental (1), lock (1), enhanced (1), attachment (1), adaptive (1), laser (1), available (1), arc (1), trimmers (1), module (1), handles (1), guess (1), skin (1), surgeon&#39;s (1), shear-type (1), finger-operated (1), finger-nails (1), top (1), associated (1), baby (1), rest (1), gripper (1), centering (1), multi-function (1), attached (1), implementing (1), treating (1), design (1), dbmab (1), index (1), directional (1), e (1), nail-cutter (1), easily (1), single (1), razor (1), exposed (1), pocketknife (1), structure (1), utility (1), cleaning (1), appliances (1), hole (1), sport (1), mehod (1), shears (1), island (1), case (1), pivoted (1), quick (1), closeable (1), leverage (1), chiropodist&#39;s (1), twist (1), off (1), cleaner, (1), honing, (1), double-spring (1), pressure (1), nail-file (1), stabilizing (1), pliers, (1), corn-extractor (1), element (1), nail-trimming (1), measuring (1), moon (1), box (1), methods, (1), includes (1), by (1), electric (1), toilet-scissors (1), lighted (1), positioning (1), warning (1), directly (1), adjust (1), from (1), animals (1), winger (1), sealable (1), biased (1), rotatable (1), wire-cutter (1), grip-operated (1), holding (1), corns (1), sensing (1), right (1), blunt (1), hand-tool (1), reusable (1), manicure-knife (1), formed (1), held (1), than (1), is (1), punching (1), blade, (1), particularly (1), closed (1), process (1), wiping, (1), bunion (1), ring (1), holds (1), trim (1), capabilities (1), be (1), like (1), create (1), clipped (1), claws (1), splitter (1), scattering (1), easy-to-press (1), wedge (1), screw (1), clasp (1), decoration (1), cuticle-clipper (1), resection (1), file, (1), safely (1), cigar-cutter (1), spring (1), thereby (1), uniform (1), joint (1), bag (1), clips (1), directing (1), viewing (1), compositions, (1), left (1), retractable (1), remotely (1), making (1), operate (1), dogs (1), illuminated (1), enhancing (1), improving (1), motorized (1), work (1), triangular-shaped (1), anti-infective (1), clipper-combined (1), corn-paper (1), clipper/stripper (1), angler&#39;s (1), guarded (1), commercial (1), that (1), discharge (1), components (1), curve (1), inserted (1), procedure (1), working (1), manicube (1), ergonomic (1), position (1), children (1), jaw (1), aid (1), gripping (1), when (1), on (1), bottle (1), window (1), t (1), young (1), tools (1), cuticles (1), scalpel (1), user&#39;s (1), nail-scissors (1), including (1), use (1), shaper (1), single-spring (1), activated (1), nail-trimmer (1)\n"
     ]
    }
   ],
   "source": [
    "print(', '.join( [ '%s (%i)'%wc for wc in words_count ] ))"
   ]
  },
  {
   "cell_type": "code",
   "execution_count": null,
   "metadata": {},
   "outputs": [],
   "source": []
  }
 ],
 "metadata": {
  "kernelspec": {
   "display_name": "Python 3",
   "language": "python",
   "name": "python3"
  },
  "language_info": {
   "codemirror_mode": {
    "name": "ipython",
    "version": 3
   },
   "file_extension": ".py",
   "mimetype": "text/x-python",
   "name": "python",
   "nbconvert_exporter": "python",
   "pygments_lexer": "ipython3",
   "version": "3.5.2"
  }
 },
 "nbformat": 4,
 "nbformat_minor": 2
}
