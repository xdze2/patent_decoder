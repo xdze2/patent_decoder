{
 "cells": [
  {
   "cell_type": "markdown",
   "metadata": {},
   "source": [
    "# Extraire la legende depuis la description"
   ]
  },
  {
   "cell_type": "code",
   "execution_count": 249,
   "metadata": {
    "collapsed": true
   },
   "outputs": [],
   "source": [
    "import pickle\n",
    "import regex   # permet overlapping matching\n",
    "import copy"
   ]
  },
  {
   "cell_type": "code",
   "execution_count": 250,
   "metadata": {
    "collapsed": true
   },
   "outputs": [],
   "source": [
    "def print_legend( legend ):\n",
    "    sortfun = lambda x: ( x['number'] , len(x['position']), x['label'][::-1] )\n",
    "    legendsorted = sorted( legend, key=sortfun  )\n",
    "\n",
    "    current_number = legendsorted[0]['number']\n",
    "    for match in legendsorted:\n",
    "        if current_number != match['number']:\n",
    "            print('     --')\n",
    "            current_number = match['number']\n",
    "\n",
    "        n_merged = len(match['position'])\n",
    "        n_merged_str = '  ' if n_merged==1 else '(%i)'%n_merged\n",
    "        print( '{label:>42} {number:>4}  {n}  {context:>35}'.format( **match, n=n_merged_str) )"
   ]
  },
  {
   "cell_type": "code",
   "execution_count": 251,
   "metadata": {},
   "outputs": [
    {
     "data": {
      "text/plain": [
       "379"
      ]
     },
     "execution_count": 251,
     "metadata": {},
     "output_type": "execute_result"
    }
   ],
   "source": [
    "# load pre-processed data\n",
    "data = pickle.load( open( \"../web/data/patent_infos.pickle\", \"rb\" ) )\n",
    "len(data)"
   ]
  },
  {
   "cell_type": "code",
   "execution_count": 252,
   "metadata": {
    "scrolled": true
   },
   "outputs": [
    {
     "name": "stdout",
     "output_type": "stream",
     "text": [
      "US2664624\n",
      "https://www.google.com/patents/US2664624\n",
      "nombre de mots : 3555\n",
      "nombre de caractères : 19112\n"
     ]
    }
   ],
   "source": [
    "# select a patent\n",
    "\n",
    "k = 44 #70 #44 #41\n",
    "patent = list(data.values())[k]\n",
    "description = patent['description']\n",
    "\n",
    "print( patent['patent_number'] )\n",
    "print( 'https://www.google.com/patents/%s'%patent['patent_number'] )\n",
    "\n",
    "print('nombre de mots :', len(description.split(' ')))\n",
    "print('nombre de caractères :', len(description))"
   ]
  },
  {
   "cell_type": "code",
   "execution_count": 253,
   "metadata": {
    "collapsed": true
   },
   "outputs": [],
   "source": [
    "def fullTextTrimming( description ):\n",
    "    \"\"\" Travail sur le texte entier\n",
    "        en gardant le nombre de caractère constant\n",
    "    \"\"\"\n",
    "    description = description.replace('\\n', ' ')\n",
    "    description = description.lower() \n",
    "    \n",
    "    # description = regex.sub('\\s+',' ', description) # remove multiple space\n",
    "    description = description.lower()\n",
    "\n",
    "    # patent number XX\n",
    "    # patent_number_pattern = r'(\\d{1, 4}[,-])?\\d{3, 8}[,-]\\d{3, 8}'\n",
    "    # description = regex.sub(patent_number_pattern, '', description  )\n",
    "\n",
    "    # remove non-AASII caracters\n",
    "    description = regex.sub(r'[^\\x00-\\x7F]', ' ', description)\n",
    "    \n",
    "    return description"
   ]
  },
  {
   "cell_type": "code",
   "execution_count": 254,
   "metadata": {},
   "outputs": [
    {
     "name": "stdout",
     "output_type": "stream",
     "text": [
      "nombre de caractères : 19112\n"
     ]
    }
   ],
   "source": [
    "# test\n",
    "description = fullTextTrimming( description )\n",
    "print('nombre de caractères :', len(description))"
   ]
  },
  {
   "cell_type": "code",
   "execution_count": 255,
   "metadata": {
    "collapsed": true
   },
   "outputs": [],
   "source": [
    "def findAllCandidates( description ):\n",
    "    \"\"\" Recherche  les chiffres isolés pouvant correspondre à un numéro de légende\n",
    "\n",
    "        par exemple   \" 4, 5 and 6 \", ou \" 6 and 7 \", \" 6, 7 \"\n",
    "\n",
    "        retourne une legend : liste avec les infos pour chaque 'match'\n",
    "    \"\"\" \n",
    "    \n",
    "    pattern =  r' (\\d{1,3}(( ?, ?| and | or )\\d{1,3})*)[^a-z0-9\\-]'\n",
    "\n",
    "    # Explication:\n",
    "    # la forme générale est E(SE) avec Element  Separator\n",
    "    # et le séparateur est une virgule ou and ou or \n",
    "   \n",
    "    allmatches = list( regex.finditer(pattern, description) )\n",
    "    splitpattern = regex.compile(r'[^\\d]+')\n",
    "    \n",
    "    legend = []\n",
    "    for m in allmatches:\n",
    "        capture = m.group(1)\n",
    "        numbers = splitpattern.split( capture )\n",
    "        start = m.start()\n",
    "\n",
    "        label = description[ max(0, m.start()-40 ): m.start() ]  # to prevent overlapping\n",
    "        label = label.strip(' ')  # cas avec plusieurs espace consécutifs\n",
    "        \n",
    "        context = description[ max(0, m.start()-16 ): min( len(description), m.end()+10 ) ]  # to debug\n",
    "\n",
    "        for n in numbers:\n",
    "            item = {'number':int(n), 'label':label, 'position':[m.span(1)], 'context':context}\n",
    "            legend.append( item )\n",
    "\n",
    "    return legend"
   ]
  },
  {
   "cell_type": "code",
   "execution_count": 256,
   "metadata": {},
   "outputs": [
    {
     "name": "stdout",
     "output_type": "stream",
     "text": [
      "137\n"
     ]
    }
   ],
   "source": [
    "# test\n",
    "legend = findAllCandidates( description )\n",
    "print(len(legend))"
   ]
  },
  {
   "cell_type": "code",
   "execution_count": 257,
   "metadata": {
    "scrolled": true
   },
   "outputs": [
    {
     "name": "stdout",
     "output_type": "stream",
     "text": [
      "  ng. through the opening in the members i    0            in the members i 0 and i] and\n",
      "  s necessary to subject the jaw members i    0            he jaw members i 0 and ii to \n",
      "     --\n",
      "  ogether for the clipping or trimming op-    1             or trimming op- 1 eration. a\n",
      "   invention.    in this drawing:     fig.    1            rawing:     fig. 1 is a plan \n",
      "  ansverse section on the line 3-3 of fig.    1            line 3-3 of fig. 1;     fig. \n",
      "  e elevation of the clipper shown in fig.    1            er shown in fig. 1;     fig. \n",
      "   1;     fig. 4 is a view similar to fig.    1             similar to fig. 1 but showin\n",
      "  ber when in the folded position of fi s.    1      osition of fi s. 1 and 2 to provide\n",
      "  ver is raised from the position of figs.    1      osition of figs. 1 and 2 about its \n",
      "  r turned over from the position of figs.    1      osition of figs. 1 and 2, so that t\n",
      "   closed or inoperative position of figs.    1      osition of figs. 1 and 2 and preven\n",
      "  e top of the member h, as shown in figs.    1      s shown in figs. 1 and 2, it lies u\n",
      "  p of the jaw member ii as shown in figs.    1            s shown in figs. 1 and &#39;2\n",
      "  name date 1,538,995 lakatos may 26, 1925    1      tos may 26, 1925 1,702,137 schnefel f\n",
      "      the nature of my invention, i claim:    1            on, i claim:     1. the combi\n",
      "  t united states patents number name date    1      number name date 1,538,995 lakatos ma\n",
      "  hown, but may transverse undercut rec ss    1            undercut rec ss 01 n tc 20 p \n",
      "     --\n",
      "      rmal operating jaw-closing pressure.    2            ng pressure.     2. the combi\n",
      "  ne embodiment of the invention;     fig.    2            ention;     fig. 2 is a side \n",
      "   is bent downwardly, as shown at in fig.    2            shown at in fig. 2, to&#39; r\n",
      "  fel feb. 12, 1929 2,477,782 bassett aug.    2                 782 bassett aug. 2, 1949\n",
      "   over the clipper shown in my patent no.    2      in my patent no. 2,477,782, granted a\n",
      "  ber when in the folded position of fi s.    2      osition of fi s. 1 and 2 to provide\n",
      "  ver is raised from the position of figs.    2      osition of figs. 1 and 2 about its \n",
      "  r turned over from the position of figs.    2      osition of figs. 1 and 2, so that t\n",
      "   closed or inoperative position of figs.    2      osition of figs. 1 and 2 and preven\n",
      "  e top of the member h, as shown in figs.    2      s shown in figs. 1 and 2, it lies u\n",
      "  re normally held open, as shown in figs.    2      s shown in figs. 2 and 5, and this \n",
      "  d each other somewhat, as shown in figs.    2      s shown in figs. 2, 5 and 6, whereby t\n",
      "  6, 1925 1,702,137 schnefel feb. 12, 1929    2      el feb. 12, 1929 2,477,782 bassett au\n",
      "  050 inch thick, but the opening or space    2            opening or space 2| a from th\n",
      "  ransverse undercut rec ss 01 n tc 20 p n    2            s 01 n tc 20 p n 2 embody var\n",
      "  m the top of member i! to the end of lip    2            o the end of lip 2| when the \n",
      "  nough to permit withdrawal from the slot    2            al from the slot 2|] of the l\n",
      "   my patent no. 2,477,782, granted august    2            , granted august 2, 1949.    \n",
      "                jan. 5, i954 w. e. bassett    2      54 w. e. bassett 2,664,624    nail cl\n",
      "     --\n",
      "  of the clipper shown in fig. 1;     fig.    3            fig. 1;     fig. 3 is a trans\n",
      "      in under normal operating pressures.    3            g pressures.     3. the combi\n",
      "  ably the upper surface, to form the file    3            to form the file 3|, and it m\n",
      "     --\n",
      "  tion on the line 3-3 of fig. 1;     fig.    4            fig. 1;     fig. 4 is a view \n",
      "  its pivot bar 22 to the position of fig.    4            position of fig. 4 and then i\n",
      "  y be swung again to the position of fig.    4            position of fig. 4, using the\n",
      "  position, as shown in full lines in fig.    4            ll lines in fig. 4, so that t\n",
      "  laterally, as shown in dotted lines fig.    4            otted lines fig. 4, to a more\n",
      "     tion july 5, 1950, serial no. 172,077    4            l no. 172,077    4 claims.   \n",
      "   opposite ends with cutter jaws l3 and i    4            er jaws l3 and i 4, the free \n",
      "     --\n",
      "   the features of the invention;     fig.    5            ention;     fig. 5 is a side \n",
      "  39; downward as &#39;sh own at 31c, fig.    5            own at 31c, fig. 5. this brin\n",
      "  tter in the clipping operation, see fig.    5            ration, see fig. 5. in moving\n",
      "  ever to be swung to the position of fig.    5            position of fig. 5 over the u\n",
      "  both the open jaw position shown in fig.    5            on shown in fig. 5 and the cl\n",
      "                                      jan.    5                        jan. 5, i954 w. e\n",
      "  50 zhwemor m @m (ittornegs patented jan.    5            gs patented jan. 5, 1954 unit\n",
      "  en the lever is in the position of figs.    5      osition of figs. 5 and 6) may be cu\n",
      "  re normally held open, as shown in figs.    5      s shown in figs. 2 and 5, and this \n",
      "  d each other somewhat, as shown in figs.    5      s shown in figs. 2, 5 and 6, whereby t\n",
      "  ett 2,664,624    nail clipper filed july    5            ipper filed july 5, 1950 zhwe\n",
      "  t, woodbridge, conn.    application july    5            application july 5, 1950, ser\n",
      "     --\n",
      "  and the nail file extended, and     fig.    6            ed, and     fig. 6 is a parti\n",
      "  he upper jaw member ii, as shown in fig.    6            as shown in fig. 6, the bar 2\n",
      "  ed position-of the jaws as shown in fig.    6            as shown in fig. 6, the dista\n",
      "  po-- sition shown in solid lines in fig.    6            id lines in fig. 6. so that e\n",
      "  utting edges grip and cut the nail (fig.    6            t the nail (fig. 6), so that \n",
      "  the ends of the pin, and the upper (fig.    6             the upper (fig. 6) side, i. \n",
      "  en the lever is in the position of figs.    6      osition of figs. 5 and 6) may be cu\n",
      "  d each other somewhat, as shown in figs.    6      s shown in figs. 2, 5 and 6, whereby t\n",
      "  ii, as shown in broken lines i la in fig    6            ines i la in fig 6, away from\n",
      "     --\n",
      "  tos may 26, 1925 1,702,137 schnefel feb.   12           37 schnefel feb. 12, 1929 2,47\n",
      "     --\n",
      "  s l3, m are spaced apart. these jaws l3,   14           . these jaws l3, 14 are normal\n",
      "     --\n",
      "  vided with curved cutting or knife edges   15           g or knife edges 15 and i6 opp\n",
      "     --\n",
      "  in i! extending through aligned openings   18           aligned openings 18 and [9 in \n",
      "     --\n",
      "  t may transverse undercut rec ss 01 n tc   20           t rec ss 01 n tc 20 p n 2 embo\n",
      "  e bar 22 seating in the end of the notch   20           end of the notch 20 in the piv\n",
      "   the end of the slot defined by the wall   20           ined by the wall 20&#39;. thes\n",
      "  the construction of the pin :2. the slot   20           pin :2. the slot 20 may be con\n",
      "   the lip 2i suniciently to open the slot   20           to open the slot 20 or increas\n",
      "  istance to reta n the bar 22 in the slot   20           r 22 in the slot 20 in both th\n",
      "  nsertion of the cross bar 22 in the slot   20           r 22 in the slot 20 in origina\n",
      "  i at the upper edge of the undercut slot   20           he undercut slot 20 in the lev\n",
      "     --\n",
      "  a short distance from the pin h, the end   21           e pin h, the end 21 of which w\n",
      "  der side of the lever, and its free ed e   21           nd its free ed e 21 rests on t\n",
      "     --\n",
      "  w member ii, as shown in fig. 6, the bar   22            fig. 6, the bar 22 of the lev\n",
      "  ds of the curved portion 25, and the bar   22            25, and the bar 22 seating in\n",
      "   the like. thus, for example, if the bar   22           mple, if the bar 22 on lever 2\n",
      "   i is less than the thickness of the bar   22           kness of the bar 22 of the ope\n",
      "   a suffic ent distance to reta n the bar   22           o reta n the bar 22 in the slo\n",
      "  tion in which is seated a transverse bar   22           a transverse bar 22 at the end\n",
      "   or to permit insertion of the cross bar   22           of the cross bar 22 in the slo\n",
      "  aws to such an extent that the cross bar   22           at the cross bar 22 cannot be \n",
      "  from the slot 2|] of the lever cross bar   22            lever cross bar 22, or to per\n",
      "  accidental disengagement of thecrqss bar   22            of thecrqss bar 22 from the s\n",
      "  ion of figs. 1 and 2 about its pivot bar   22           ut its pivot bar 22 to the pos\n",
      "     --\n",
      "  e lever re maining in the undercut notch   23           e undercut notch 23 of the piv\n",
      "  ming op- 1 eration. after use, the lever   23           r use, the lever 23 may be swu\n",
      "   tend to swing the free end of the lever   23           end of the lever 23 downwardly\n",
      "  ing downwardly the free end of the lever   23           end of the lever 23, the lug 2\n",
      "   which the free end portion of the lever   23           ion of the lever 23 may seat a\n",
      "  l be clear this will not allow the lever   23            allow the lever 23 to become \n",
      "  ess of the bar 22 of the operating lever   23            operating lever 23. therefore\n",
      "  o prevent removal of the operating lever   23            operating lever 23 from the a\n",
      "  dental separation of the operating lever   23            operating lever 23 from the p\n",
      "  er and is covered by the operating lever   23            operating lever 23, so that i\n",
      "   bar 22 at the end of an operating lever   23            operating lever 23. this bar \n",
      "  hus, for example, if the bar 22 on lever   23            bar 22 on lever 23 is approxi\n",
      "     --\n",
      "  is bar is provided by cutting an opening   24           tting an opening 24 in this le\n",
      "     --\n",
      "  sition of figs. 1 and 2, so that the lug   25            so that the lug 25 is on the \n",
      "  action on the ends of the curved portion   25           e curved portion 25, and the b\n",
      "     --\n",
      "  so provided with an upwardly pressed lug   26           rdly pressed lug 26 a short di\n",
      "  ly the free end of the lever 23, the lug   26           ever 23, the lug 26 will force\n",
      "  s number name date 1,538,995 lakatos may   26           ,995 lakatos may 26, 1925 1,70\n",
      "     --\n",
      "  ever. this bend also raises the free end   28           ses the free end 28 of the lev\n",
      "  #39; between this point and-the free end   28           and-the free end 28 on a plane\n",
      "     --\n",
      "   6) may be cut or roughened, as shown at   29           ned, as shown at 29. to form a\n",
      "     --\n",
      "  tally mounted at this end is a nail file   30           d is a nail file 30. this is a\n",
      "     --\n",
      "   at 31c, fig. 5. this brings the portion   31           ings the portion 31&#39; betwe\n",
      "  pressure is exerting a force on the part   31           orce on the part 31 rather tha\n",
      "     --\n",
      "  s and rounded or pointed at its free end   32            at its free end 32 to provide\n",
      "     --\n",
      "  upper jaw member h by means of an eyelet   33           ans of an eyelet 33 passing. t\n",
      "  s of this file member adjacent the pivot   33           jacent the pivot 33, it is pro\n",
      "     --\n",
      "  s opposite ends to form securing flanges   34           securing flanges 34. this eyel\n",
      "     --\n",
      "  d with a pair of upwardly extending lugs   35           y extending lugs 35 between wh\n",
      "     --\n",
      "  on for use. the frictional retaining lug   36           al retaining lug 36 on the nai\n",
      "  en carrying or not in use. a lug or bump   36           e. a lug or bump 36 on the und\n",
      "     --\n",
      "  earance under this free end, as shown at   38           end, as shown at 38, for inser\n",
      "     --\n",
      "  tional retaining lug 36 on the nail file   39           on the nail file 39 provides t\n",
      "     --\n",
      "      application july 5, 1950, serial no.   77      1950, serial no. 172,077    4 claim\n",
      "     --\n",
      "  name date 1,538,995 lakatos may 26, 1925  137      tos may 26, 1925 1,702,137 schnefel f\n",
      "     --\n",
      "      application july 5, 1950, serial no.  172      1950, serial no. 172,077    4 claim\n",
      "     --\n",
      "   over the clipper shown in my patent no.  477      in my patent no. 2,477,782, granted a\n",
      "  6, 1925 1,702,137 schnefel feb. 12, 1929  477      el feb. 12, 1929 2,477,782 bassett au\n",
      "     --\n",
      "  t united states patents number name date  538      number name date 1,538,995 lakatos ma\n",
      "     --\n",
      "                jan. 5, i954 w. e. bassett  624      54 w. e. bassett 2,664,624    nail cl\n",
      "     --\n",
      "                jan. 5, i954 w. e. bassett  664      54 w. e. bassett 2,664,624    nail cl\n",
      "     --\n",
      "  name date 1,538,995 lakatos may 26, 1925  702      tos may 26, 1925 1,702,137 schnefel f\n",
      "     --\n",
      "   over the clipper shown in my patent no.  782      in my patent no. 2,477,782, granted a\n",
      "  6, 1925 1,702,137 schnefel feb. 12, 1929  782      el feb. 12, 1929 2,477,782 bassett au\n",
      "     --\n",
      "  t united states patents number name date  995      number name date 1,538,995 lakatos ma\n"
     ]
    }
   ],
   "source": [
    "print_legend( legend )"
   ]
  },
  {
   "cell_type": "code",
   "execution_count": 258,
   "metadata": {},
   "outputs": [
    {
     "data": {
      "text/plain": [
       "[0, 1, 2, 3, 4]"
      ]
     },
     "execution_count": 258,
     "metadata": {},
     "output_type": "execute_result"
    }
   ],
   "source": [
    "a = list( range(5) )\n",
    "b = list( a )\n",
    "a[4] = 10\n",
    "b"
   ]
  },
  {
   "cell_type": "code",
   "execution_count": 259,
   "metadata": {
    "collapsed": true
   },
   "outputs": [],
   "source": [
    "def disqualify( legend, pattern, n=-1 ):\n",
    "    for i, row in enumerate( legend ):\n",
    "        if pattern.search( row['label'] ):\n",
    "            legend[ i ]['number'] = n\n",
    "\n",
    "KEYWORDS = ['january', 'february', 'march', 'april', 'may', 'june',\\\n",
    "            'july', 'august', 'september', 'october', 'november', 'december',\\\n",
    "            'fig', 'figure', 'figures', 'claim', 'claims', 'at', 'and',\\\n",
    "            'numeral', 'embodiment', 'invention', 'part']\n",
    "\n",
    "KEYWORDS.extend( ['the', 'a', 'an', 'these', 'their', 'when', 'with', 'by', 'this', \\\n",
    "                   'have', 'having', 'has', 'is', 'are', 'over', 'its', 'of said', 'and', 'as',\\\n",
    "                   'of', 'in', 'to', 'but', 'another', 'through', 'on'] )\n",
    "            \n",
    "def firstScreening( legend ):\n",
    "    \"\"\" Premier filtrage en regardant comment se termine le label,\n",
    "        Critères éliminants:\n",
    "        \n",
    "            - ne se termine pas par une lettre (Typiquement Fig. 5)\n",
    "            - se termine par un des mots clés ('claim') ou un mot commun\n",
    "            \n",
    "        change le numéro pour 998 ou 999..\n",
    "    \"\"\"\n",
    "    newlegend = copy.deepcopy(legend) # copy (pour ne pas ecrasser Legend)\n",
    "    \n",
    "    pattern = regex.compile( r'[^a-z]$', regex.I )\n",
    "    disqualify( newlegend, pattern )\n",
    "   \n",
    "\n",
    "    pattern = regex.compile( r'\\W(%s)$' % '|'.join(KEYWORDS), regex.I )\n",
    "    disqualify( newlegend, pattern )\n",
    "\n",
    "    return newlegend"
   ]
  },
  {
   "cell_type": "code",
   "execution_count": 260,
   "metadata": {},
   "outputs": [
    {
     "name": "stdout",
     "output_type": "stream",
     "text": [
      "  s l3, m are spaced apart. these jaws l3,   -1           . these jaws l3, 14 are normal\n",
      "  ogether for the clipping or trimming op-   -1             or trimming op- 1 eration. a\n",
      "  tos may 26, 1925 1,702,137 schnefel feb.   -1           37 schnefel feb. 12, 1929 2,47\n",
      "      rmal operating jaw-closing pressure.   -1            ng pressure.     2. the combi\n",
      "   invention.    in this drawing:     fig.   -1            rawing:     fig. 1 is a plan \n",
      "  tion on the line 3-3 of fig. 1;     fig.   -1            fig. 1;     fig. 4 is a view \n",
      "  of the clipper shown in fig. 1;     fig.   -1            fig. 1;     fig. 3 is a trans\n",
      "   the features of the invention;     fig.   -1            ention;     fig. 5 is a side \n",
      "  ne embodiment of the invention;     fig.   -1            ention;     fig. 2 is a side \n",
      "  and the nail file extended, and     fig.   -1            ed, and     fig. 6 is a parti\n",
      "  39; downward as &#39;sh own at 31c, fig.   -1            own at 31c, fig. 5. this brin\n",
      "  tter in the clipping operation, see fig.   -1            ration, see fig. 5. in moving\n",
      "  ansverse section on the line 3-3 of fig.   -1            line 3-3 of fig. 1;     fig. \n",
      "  its pivot bar 22 to the position of fig.   -1            position of fig. 4 and then i\n",
      "  ever to be swung to the position of fig.   -1            position of fig. 5 over the u\n",
      "  y be swung again to the position of fig.   -1            position of fig. 4, using the\n",
      "  both the open jaw position shown in fig.   -1            on shown in fig. 5 and the cl\n",
      "  e elevation of the clipper shown in fig.   -1            er shown in fig. 1;     fig. \n",
      "  he upper jaw member ii, as shown in fig.   -1            as shown in fig. 6, the bar 2\n",
      "  ed position-of the jaws as shown in fig.   -1            as shown in fig. 6, the dista\n",
      "  po-- sition shown in solid lines in fig.   -1            id lines in fig. 6. so that e\n",
      "  position, as shown in full lines in fig.   -1            ll lines in fig. 4, so that t\n",
      "   is bent downwardly, as shown at in fig.   -1            shown at in fig. 2, to&#39; r\n",
      "   1;     fig. 4 is a view similar to fig.   -1             similar to fig. 1 but showin\n",
      "  laterally, as shown in dotted lines fig.   -1            otted lines fig. 4, to a more\n",
      "  utting edges grip and cut the nail (fig.   -1            t the nail (fig. 6), so that \n",
      "  the ends of the pin, and the upper (fig.   -1             the upper (fig. 6) side, i. \n",
      "  fel feb. 12, 1929 2,477,782 bassett aug.   -1                 782 bassett aug. 2, 1949\n",
      "                                      jan.   -1                        jan. 5, i954 w. e\n",
      "  50 zhwemor m @m (ittornegs patented jan.   -1            gs patented jan. 5, 1954 unit\n",
      "      application july 5, 1950, serial no.   -1      1950, serial no. 172,077    4 claim\n",
      "      application july 5, 1950, serial no.   -1      1950, serial no. 172,077    4 claim\n",
      "   over the clipper shown in my patent no.   -1      in my patent no. 2,477,782, granted a\n",
      "   over the clipper shown in my patent no.   -1      in my patent no. 2,477,782, granted a\n",
      "   over the clipper shown in my patent no.   -1      in my patent no. 2,477,782, granted a\n",
      "  ber when in the folded position of fi s.   -1      osition of fi s. 1 and 2 to provide\n",
      "  ber when in the folded position of fi s.   -1      osition of fi s. 1 and 2 to provide\n",
      "      in under normal operating pressures.   -1            g pressures.     3. the combi\n",
      "  ver is raised from the position of figs.   -1      osition of figs. 1 and 2 about its \n",
      "  ver is raised from the position of figs.   -1      osition of figs. 1 and 2 about its \n",
      "  r turned over from the position of figs.   -1      osition of figs. 1 and 2, so that t\n",
      "  r turned over from the position of figs.   -1      osition of figs. 1 and 2, so that t\n",
      "  en the lever is in the position of figs.   -1      osition of figs. 5 and 6) may be cu\n",
      "  en the lever is in the position of figs.   -1      osition of figs. 5 and 6) may be cu\n",
      "   closed or inoperative position of figs.   -1      osition of figs. 1 and 2 and preven\n",
      "   closed or inoperative position of figs.   -1      osition of figs. 1 and 2 and preven\n",
      "  e top of the member h, as shown in figs.   -1      s shown in figs. 1 and 2, it lies u\n",
      "  e top of the member h, as shown in figs.   -1      s shown in figs. 1 and 2, it lies u\n",
      "  re normally held open, as shown in figs.   -1      s shown in figs. 2 and 5, and this \n",
      "  re normally held open, as shown in figs.   -1      s shown in figs. 2 and 5, and this \n",
      "  d each other somewhat, as shown in figs.   -1      s shown in figs. 2, 5 and 6, whereby t\n",
      "  d each other somewhat, as shown in figs.   -1      s shown in figs. 2, 5 and 6, whereby t\n",
      "  d each other somewhat, as shown in figs.   -1      s shown in figs. 2, 5 and 6, whereby t\n",
      "  p of the jaw member ii as shown in figs.   -1            s shown in figs. 1 and &#39;2\n",
      "  name date 1,538,995 lakatos may 26, 1925   -1      tos may 26, 1925 1,702,137 schnefel f\n",
      "  name date 1,538,995 lakatos may 26, 1925   -1      tos may 26, 1925 1,702,137 schnefel f\n",
      "  name date 1,538,995 lakatos may 26, 1925   -1      tos may 26, 1925 1,702,137 schnefel f\n",
      "     tion july 5, 1950, serial no. 172,077   -1            l no. 172,077    4 claims.   \n",
      "  6, 1925 1,702,137 schnefel feb. 12, 1929   -1      el feb. 12, 1929 2,477,782 bassett au\n",
      "  6, 1925 1,702,137 schnefel feb. 12, 1929   -1      el feb. 12, 1929 2,477,782 bassett au\n",
      "  6, 1925 1,702,137 schnefel feb. 12, 1929   -1      el feb. 12, 1929 2,477,782 bassett au\n",
      "      the nature of my invention, i claim:   -1            on, i claim:     1. the combi\n",
      "  ii, as shown in broken lines i la in fig   -1            ines i la in fig 6, away from\n",
      "   6) may be cut or roughened, as shown at   -1           ned, as shown at 29. to form a\n",
      "  earance under this free end, as shown at   -1           end, as shown at 38, for inser\n",
      "  pressure is exerting a force on the part   -1           orce on the part 31 rather tha\n",
      "   my patent no. 2,477,782, granted august   -1            , granted august 2, 1949.    \n",
      "  s number name date 1,538,995 lakatos may   -1           ,995 lakatos may 26, 1925 1,70\n",
      "  ett 2,664,624    nail clipper filed july   -1            ipper filed july 5, 1950 zhwe\n",
      "  t, woodbridge, conn.    application july   -1            application july 5, 1950, ser\n",
      "     --\n",
      "  ng. through the opening in the members i    0            in the members i 0 and i] and\n",
      "  s necessary to subject the jaw members i    0            he jaw members i 0 and ii to \n",
      "     --\n",
      "  t united states patents number name date    1      number name date 1,538,995 lakatos ma\n",
      "  hown, but may transverse undercut rec ss    1            undercut rec ss 01 n tc 20 p \n",
      "     --\n",
      "  050 inch thick, but the opening or space    2            opening or space 2| a from th\n",
      "  ransverse undercut rec ss 01 n tc 20 p n    2            s 01 n tc 20 p n 2 embody var\n",
      "  m the top of member i! to the end of lip    2            o the end of lip 2| when the \n",
      "  nough to permit withdrawal from the slot    2            al from the slot 2|] of the l\n",
      "                jan. 5, i954 w. e. bassett    2      54 w. e. bassett 2,664,624    nail cl\n",
      "     --\n",
      "  ably the upper surface, to form the file    3            to form the file 3|, and it m\n",
      "     --\n",
      "   opposite ends with cutter jaws l3 and i    4            er jaws l3 and i 4, the free \n",
      "     --\n",
      "  vided with curved cutting or knife edges   15           g or knife edges 15 and i6 opp\n",
      "     --\n",
      "  in i! extending through aligned openings   18           aligned openings 18 and [9 in \n",
      "     --\n",
      "  t may transverse undercut rec ss 01 n tc   20           t rec ss 01 n tc 20 p n 2 embo\n",
      "  e bar 22 seating in the end of the notch   20           end of the notch 20 in the piv\n",
      "   the end of the slot defined by the wall   20           ined by the wall 20&#39;. thes\n",
      "  the construction of the pin :2. the slot   20           pin :2. the slot 20 may be con\n",
      "   the lip 2i suniciently to open the slot   20           to open the slot 20 or increas\n",
      "  istance to reta n the bar 22 in the slot   20           r 22 in the slot 20 in both th\n",
      "  nsertion of the cross bar 22 in the slot   20           r 22 in the slot 20 in origina\n",
      "  i at the upper edge of the undercut slot   20           he undercut slot 20 in the lev\n",
      "     --\n",
      "  a short distance from the pin h, the end   21           e pin h, the end 21 of which w\n",
      "  der side of the lever, and its free ed e   21           nd its free ed e 21 rests on t\n",
      "     --\n",
      "  w member ii, as shown in fig. 6, the bar   22            fig. 6, the bar 22 of the lev\n",
      "  ds of the curved portion 25, and the bar   22            25, and the bar 22 seating in\n",
      "   the like. thus, for example, if the bar   22           mple, if the bar 22 on lever 2\n",
      "   i is less than the thickness of the bar   22           kness of the bar 22 of the ope\n",
      "   a suffic ent distance to reta n the bar   22           o reta n the bar 22 in the slo\n",
      "  tion in which is seated a transverse bar   22           a transverse bar 22 at the end\n",
      "   or to permit insertion of the cross bar   22           of the cross bar 22 in the slo\n",
      "  aws to such an extent that the cross bar   22           at the cross bar 22 cannot be \n",
      "  from the slot 2|] of the lever cross bar   22            lever cross bar 22, or to per\n",
      "  accidental disengagement of thecrqss bar   22            of thecrqss bar 22 from the s\n",
      "  ion of figs. 1 and 2 about its pivot bar   22           ut its pivot bar 22 to the pos\n",
      "     --\n",
      "  e lever re maining in the undercut notch   23           e undercut notch 23 of the piv\n",
      "  ming op- 1 eration. after use, the lever   23           r use, the lever 23 may be swu\n",
      "   tend to swing the free end of the lever   23           end of the lever 23 downwardly\n",
      "  ing downwardly the free end of the lever   23           end of the lever 23, the lug 2\n",
      "   which the free end portion of the lever   23           ion of the lever 23 may seat a\n",
      "  l be clear this will not allow the lever   23            allow the lever 23 to become \n",
      "  ess of the bar 22 of the operating lever   23            operating lever 23. therefore\n",
      "  o prevent removal of the operating lever   23            operating lever 23 from the a\n",
      "  dental separation of the operating lever   23            operating lever 23 from the p\n",
      "  er and is covered by the operating lever   23            operating lever 23, so that i\n",
      "   bar 22 at the end of an operating lever   23            operating lever 23. this bar \n",
      "  hus, for example, if the bar 22 on lever   23            bar 22 on lever 23 is approxi\n",
      "     --\n",
      "  is bar is provided by cutting an opening   24           tting an opening 24 in this le\n",
      "     --\n",
      "  sition of figs. 1 and 2, so that the lug   25            so that the lug 25 is on the \n",
      "  action on the ends of the curved portion   25           e curved portion 25, and the b\n",
      "     --\n",
      "  so provided with an upwardly pressed lug   26           rdly pressed lug 26 a short di\n",
      "  ly the free end of the lever 23, the lug   26           ever 23, the lug 26 will force\n",
      "     --\n",
      "  ever. this bend also raises the free end   28           ses the free end 28 of the lev\n",
      "  #39; between this point and-the free end   28           and-the free end 28 on a plane\n",
      "     --\n",
      "  tally mounted at this end is a nail file   30           d is a nail file 30. this is a\n",
      "     --\n",
      "   at 31c, fig. 5. this brings the portion   31           ings the portion 31&#39; betwe\n",
      "     --\n",
      "  s and rounded or pointed at its free end   32            at its free end 32 to provide\n",
      "     --\n",
      "  upper jaw member h by means of an eyelet   33           ans of an eyelet 33 passing. t\n",
      "  s of this file member adjacent the pivot   33           jacent the pivot 33, it is pro\n",
      "     --\n",
      "  s opposite ends to form securing flanges   34           securing flanges 34. this eyel\n",
      "     --\n",
      "  d with a pair of upwardly extending lugs   35           y extending lugs 35 between wh\n",
      "     --\n",
      "  on for use. the frictional retaining lug   36           al retaining lug 36 on the nai\n",
      "  en carrying or not in use. a lug or bump   36           e. a lug or bump 36 on the und\n",
      "     --\n",
      "  tional retaining lug 36 on the nail file   39           on the nail file 39 provides t\n",
      "     --\n",
      "  t united states patents number name date  538      number name date 1,538,995 lakatos ma\n",
      "     --\n",
      "                jan. 5, i954 w. e. bassett  624      54 w. e. bassett 2,664,624    nail cl\n",
      "     --\n",
      "                jan. 5, i954 w. e. bassett  664      54 w. e. bassett 2,664,624    nail cl\n",
      "     --\n",
      "  t united states patents number name date  995      number name date 1,538,995 lakatos ma\n"
     ]
    }
   ],
   "source": [
    "legend = firstScreening(legend) \n",
    "print_legend( legend )"
   ]
  },
  {
   "cell_type": "markdown",
   "metadata": {
    "collapsed": true
   },
   "source": [
    "## Coupe sur certain mot clé (the, a, an, ...)"
   ]
  },
  {
   "cell_type": "code",
   "execution_count": 261,
   "metadata": {
    "collapsed": true
   },
   "outputs": [],
   "source": [
    "def cut_legend_using_pattern( legend, pattern ):\n",
    "    for i, row in enumerate( legend ):\n",
    "        label = row['label']\n",
    "\n",
    "        match = pattern.search(label)\n",
    "\n",
    "        if match:\n",
    "            newlabel = match.group(2)\n",
    "            legend[i]['label'] = newlabel\n",
    "            \n",
    "SMALL_WORDS = ['the', 'a', 'an', 'these', 'their', 'when', 'with', 'by', 'this', 'that', \\\n",
    "               'have', 'having', 'has', 'is', 'are', 'should', 'over', 'its', 'of said', 'and', 'as',\\\n",
    "               'of', 'in', 'to', 'at',  'but', 'another', 'through', 'on', 'same', 'from',\\\n",
    "               'include', 'includes', 'beyond', 'between']"
   ]
  },
  {
   "cell_type": "code",
   "execution_count": 262,
   "metadata": {
    "collapsed": true
   },
   "outputs": [],
   "source": [
    "def cutLabels( legend ):\n",
    "    \"\"\" coupe les labels sur certain mots commun ('the', 'a'... etc)\n",
    "        et sur certains caractères spéciaux (. , ;)\n",
    "    \"\"\"\n",
    "    newlegend = copy.deepcopy(legend) # copy (pour ne pas ecrasser Legend)\n",
    "    \n",
    "    pattern_small_words = regex.compile( r'^.* (%s) (.+)$' % '|'.join(SMALL_WORDS), regex.I )\n",
    "    cut_legend_using_pattern( newlegend, pattern_small_words )\n",
    "    \n",
    "    pattern = regex.compile( '^.*([\\.,;] )(.+)$' )\n",
    "    cut_legend_using_pattern( newlegend, pattern )\n",
    "    \n",
    "    return newlegend"
   ]
  },
  {
   "cell_type": "code",
   "execution_count": 263,
   "metadata": {},
   "outputs": [
    {
     "name": "stdout",
     "output_type": "stream",
     "text": [
      "                                  jaws l3,   -1           . these jaws l3, 14 are normal\n",
      "                  clipping or trimming op-   -1             or trimming op- 1 eration. a\n",
      "              1925 1,702,137 schnefel feb.   -1           37 schnefel feb. 12, 1929 2,47\n",
      "      rmal operating jaw-closing pressure.   -1            ng pressure.     2. the combi\n",
      "                                      fig.   -1            er shown in fig. 1;     fig. \n",
      "                                      fig.   -1            line 3-3 of fig. 1;     fig. \n",
      "                                      fig.   -1             similar to fig. 1 but showin\n",
      "                                      fig.   -1            shown at in fig. 2, to&#39; r\n",
      "                                      fig.   -1            position of fig. 4 and then i\n",
      "                                      fig.   -1            position of fig. 5 over the u\n",
      "                                      fig.   -1            as shown in fig. 6, the bar 2\n",
      "                                      fig.   -1            position of fig. 4, using the\n",
      "                                      fig.   -1            own at 31c, fig. 5. this brin\n",
      "                                      fig.   -1            on shown in fig. 5 and the cl\n",
      "                                      fig.   -1            id lines in fig. 6. so that e\n",
      "                                      fig.   -1            as shown in fig. 6, the dista\n",
      "                                      fig.   -1            ll lines in fig. 4, so that t\n",
      "                                      fig.   -1            ention;     fig. 2 is a side \n",
      "                                      fig.   -1            fig. 1;     fig. 3 is a trans\n",
      "                                      fig.   -1            fig. 1;     fig. 4 is a view \n",
      "                                      fig.   -1            ention;     fig. 5 is a side \n",
      "                                      fig.   -1            ed, and     fig. 6 is a parti\n",
      "                         drawing:     fig.   -1            rawing:     fig. 1 is a plan \n",
      "                                  see fig.   -1            ration, see fig. 5. in moving\n",
      "                         dotted lines fig.   -1            otted lines fig. 4, to a more\n",
      "                                nail (fig.   -1            t the nail (fig. 6), so that \n",
      "                               upper (fig.   -1             the upper (fig. 6) side, i. \n",
      "               1929 2,477,782 bassett aug.   -1                 782 bassett aug. 2, 1949\n",
      "                                      jan.   -1                        jan. 5, i954 w. e\n",
      "  50 zhwemor m @m (ittornegs patented jan.   -1            gs patented jan. 5, 1954 unit\n",
      "                                serial no.   -1      1950, serial no. 172,077    4 claim\n",
      "                                serial no.   -1      1950, serial no. 172,077    4 claim\n",
      "                             my patent no.   -1      in my patent no. 2,477,782, granted a\n",
      "                             my patent no.   -1      in my patent no. 2,477,782, granted a\n",
      "                             my patent no.   -1      in my patent no. 2,477,782, granted a\n",
      "                                     fi s.   -1      osition of fi s. 1 and 2 to provide\n",
      "                                     fi s.   -1      osition of fi s. 1 and 2 to provide\n",
      "      in under normal operating pressures.   -1            g pressures.     3. the combi\n",
      "                                     figs.   -1      s shown in figs. 2, 5 and 6, whereby t\n",
      "                                     figs.   -1      s shown in figs. 2, 5 and 6, whereby t\n",
      "                                     figs.   -1      s shown in figs. 2, 5 and 6, whereby t\n",
      "                                     figs.   -1      s shown in figs. 2 and 5, and this \n",
      "                                     figs.   -1      s shown in figs. 2 and 5, and this \n",
      "                                     figs.   -1      osition of figs. 1 and 2 about its \n",
      "                                     figs.   -1      osition of figs. 1 and 2 about its \n",
      "                                     figs.   -1      osition of figs. 1 and 2, so that t\n",
      "                                     figs.   -1      osition of figs. 1 and 2, so that t\n",
      "                                     figs.   -1            s shown in figs. 1 and &#39;2\n",
      "                                     figs.   -1      osition of figs. 5 and 6) may be cu\n",
      "                                     figs.   -1      osition of figs. 5 and 6) may be cu\n",
      "                                     figs.   -1      s shown in figs. 1 and 2, it lies u\n",
      "                                     figs.   -1      s shown in figs. 1 and 2, it lies u\n",
      "                                     figs.   -1      osition of figs. 1 and 2 and preven\n",
      "                                     figs.   -1      osition of figs. 1 and 2 and preven\n",
      "                                      1925   -1      tos may 26, 1925 1,702,137 schnefel f\n",
      "                                      1925   -1      tos may 26, 1925 1,702,137 schnefel f\n",
      "                                      1925   -1      tos may 26, 1925 1,702,137 schnefel f\n",
      "                                   172,077   -1            l no. 172,077    4 claims.   \n",
      "                                      1929   -1      el feb. 12, 1929 2,477,782 bassett au\n",
      "                                      1929   -1      el feb. 12, 1929 2,477,782 bassett au\n",
      "                                      1929   -1      el feb. 12, 1929 2,477,782 bassett au\n",
      "                                  i claim:   -1            on, i claim:     1. the combi\n",
      "                                       fig   -1            ines i la in fig 6, away from\n",
      "                                  shown at   -1           ned, as shown at 29. to form a\n",
      "                                  shown at   -1           end, as shown at 38, for inser\n",
      "                                      part   -1           orce on the part 31 rather tha\n",
      "                            granted august   -1            , granted august 2, 1949.    \n",
      "  s number name date 1,538,995 lakatos may   -1           ,995 lakatos may 26, 1925 1,70\n",
      "  ett 2,664,624    nail clipper filed july   -1            ipper filed july 5, 1950 zhwe\n",
      "                          application july   -1            application july 5, 1950, ser\n",
      "     --\n",
      "                                 members i    0            in the members i 0 and i] and\n",
      "                             jaw members i    0            he jaw members i 0 and ii to \n",
      "     --\n",
      "  t united states patents number name date    1      number name date 1,538,995 lakatos ma\n",
      "            may transverse undercut rec ss    1            undercut rec ss 01 n tc 20 p \n",
      "     --\n",
      "                          opening or space    2            opening or space 2| a from th\n",
      "  ransverse undercut rec ss 01 n tc 20 p n    2            s 01 n tc 20 p n 2 embody var\n",
      "                                       lip    2            o the end of lip 2| when the \n",
      "                                      slot    2            al from the slot 2|] of the l\n",
      "                                   bassett    2      54 w. e. bassett 2,664,624    nail cl\n",
      "     --\n",
      "                                      file    3            to form the file 3|, and it m\n",
      "     --\n",
      "                                         i    4            er jaws l3 and i 4, the free \n",
      "     --\n",
      "             curved cutting or knife edges   15           g or knife edges 15 and i6 opp\n",
      "     --\n",
      "                          aligned openings   18           aligned openings 18 and [9 in \n",
      "     --\n",
      "  t may transverse undercut rec ss 01 n tc   20           t rec ss 01 n tc 20 p n 2 embo\n",
      "                                     notch   20           end of the notch 20 in the piv\n",
      "                                      wall   20           ined by the wall 20&#39;. thes\n",
      "                                      slot   20           r 22 in the slot 20 in both th\n",
      "                                      slot   20           to open the slot 20 or increas\n",
      "                                      slot   20           r 22 in the slot 20 in origina\n",
      "                                      slot   20           pin :2. the slot 20 may be con\n",
      "                             undercut slot   20           he undercut slot 20 in the lev\n",
      "     --\n",
      "                                       end   21           e pin h, the end 21 of which w\n",
      "                                 free ed e   21           nd its free ed e 21 rests on t\n",
      "     --\n",
      "                                       bar   22            25, and the bar 22 seating in\n",
      "                                       bar   22            fig. 6, the bar 22 of the lev\n",
      "                                       bar   22           o reta n the bar 22 in the slo\n",
      "                                       bar   22           kness of the bar 22 of the ope\n",
      "                                       bar   22           mple, if the bar 22 on lever 2\n",
      "                            transverse bar   22           a transverse bar 22 at the end\n",
      "                                 cross bar   22           of the cross bar 22 in the slo\n",
      "                                 cross bar   22           at the cross bar 22 cannot be \n",
      "                           lever cross bar   22            lever cross bar 22, or to per\n",
      "                              thecrqss bar   22            of thecrqss bar 22 from the s\n",
      "                                 pivot bar   22           ut its pivot bar 22 to the pos\n",
      "     --\n",
      "                            undercut notch   23           e undercut notch 23 of the piv\n",
      "                                     lever   23           end of the lever 23 downwardly\n",
      "                                     lever   23           end of the lever 23, the lug 2\n",
      "                                     lever   23           r use, the lever 23 may be swu\n",
      "                                     lever   23            bar 22 on lever 23 is approxi\n",
      "                                     lever   23            allow the lever 23 to become \n",
      "                                     lever   23           ion of the lever 23 may seat a\n",
      "                           operating lever   23            operating lever 23. this bar \n",
      "                           operating lever   23            operating lever 23 from the a\n",
      "                           operating lever   23            operating lever 23. therefore\n",
      "                           operating lever   23            operating lever 23 from the p\n",
      "                           operating lever   23            operating lever 23, so that i\n",
      "     --\n",
      "                                   opening   24           tting an opening 24 in this le\n",
      "     --\n",
      "                                       lug   25            so that the lug 25 is on the \n",
      "                            curved portion   25           e curved portion 25, and the b\n",
      "     --\n",
      "                                       lug   26           ever 23, the lug 26 will force\n",
      "                      upwardly pressed lug   26           rdly pressed lug 26 a short di\n",
      "     --\n",
      "                                  free end   28           ses the free end 28 of the lev\n",
      "                    point and-the free end   28           and-the free end 28 on a plane\n",
      "     --\n",
      "                                 nail file   30           d is a nail file 30. this is a\n",
      "     --\n",
      "                                   portion   31           ings the portion 31&#39; betwe\n",
      "     --\n",
      "                                  free end   32            at its free end 32 to provide\n",
      "     --\n",
      "                                    eyelet   33           ans of an eyelet 33 passing. t\n",
      "                                     pivot   33           jacent the pivot 33, it is pro\n",
      "     --\n",
      "                     form securing flanges   34           securing flanges 34. this eyel\n",
      "     --\n",
      "                   upwardly extending lugs   35           y extending lugs 35 between wh\n",
      "     --\n",
      "                  frictional retaining lug   36           al retaining lug 36 on the nai\n",
      "                               lug or bump   36           e. a lug or bump 36 on the und\n",
      "     --\n",
      "                                 nail file   39           on the nail file 39 provides t\n",
      "     --\n",
      "  t united states patents number name date  538      number name date 1,538,995 lakatos ma\n",
      "     --\n",
      "                                   bassett  624      54 w. e. bassett 2,664,624    nail cl\n",
      "     --\n",
      "                                   bassett  664      54 w. e. bassett 2,664,624    nail cl\n",
      "     --\n",
      "  t united states patents number name date  995      number name date 1,538,995 lakatos ma\n"
     ]
    }
   ],
   "source": [
    "# test\n",
    "legend = cutLabels(legend) \n",
    "print_legend( legend )"
   ]
  },
  {
   "cell_type": "markdown",
   "metadata": {},
   "source": [
    "### Merge : regroupe les candidats ayant un label identique\n",
    "\n",
    "Rq: utile pour le dev. mais pas pour l'identification"
   ]
  },
  {
   "cell_type": "code",
   "execution_count": 264,
   "metadata": {
    "collapsed": true
   },
   "outputs": [],
   "source": [
    "def get_positions( label, candidats ):\n",
    "    positions = []\n",
    "    for item in candidats:\n",
    "        if item['label']==label:\n",
    "            positions.extend( item['position'] )\n",
    "    return positions\n",
    "\n",
    "def get_context( label, candidats ):\n",
    "    items = [ item for item in candidats if item['label']==label ]\n",
    "    \n",
    "    return items[0]['context']\n",
    "\n",
    "def merge( legend ):\n",
    "    # merge identical label\n",
    "    \n",
    "    numbers_unique = { item['number'] for item in legend  } # set\n",
    "\n",
    "    new_legend = []\n",
    "    for n in numbers_unique:\n",
    "\n",
    "        candidats = [ line for line in legend if line['number']==n ]\n",
    "\n",
    "        labels_unique = { item['label'] for item in candidats  }\n",
    "\n",
    "        new_candidats = [ { 'number':n, 'label':label_u,\\\n",
    "                           'position':get_positions(label_u, candidats), 'context':get_context(label_u, candidats) }\n",
    "                          for label_u in labels_unique ]\n",
    "        \n",
    "        new_legend.extend( new_candidats )\n",
    "\n",
    "    return new_legend"
   ]
  },
  {
   "cell_type": "code",
   "execution_count": 265,
   "metadata": {
    "scrolled": false
   },
   "outputs": [
    {
     "name": "stdout",
     "output_type": "stream",
     "text": [
      "                                  jaws l3,   -1           . these jaws l3, 14 are normal\n",
      "                  clipping or trimming op-   -1             or trimming op- 1 eration. a\n",
      "              1925 1,702,137 schnefel feb.   -1           37 schnefel feb. 12, 1929 2,47\n",
      "      rmal operating jaw-closing pressure.   -1            ng pressure.     2. the combi\n",
      "                         drawing:     fig.   -1            rawing:     fig. 1 is a plan \n",
      "                                  see fig.   -1            ration, see fig. 5. in moving\n",
      "                         dotted lines fig.   -1            otted lines fig. 4, to a more\n",
      "                                nail (fig.   -1            t the nail (fig. 6), so that \n",
      "                               upper (fig.   -1             the upper (fig. 6) side, i. \n",
      "               1929 2,477,782 bassett aug.   -1                 782 bassett aug. 2, 1949\n",
      "                                      jan.   -1                        jan. 5, i954 w. e\n",
      "  50 zhwemor m @m (ittornegs patented jan.   -1            gs patented jan. 5, 1954 unit\n",
      "      in under normal operating pressures.   -1            g pressures.     3. the combi\n",
      "                                   172,077   -1            l no. 172,077    4 claims.   \n",
      "                                  i claim:   -1            on, i claim:     1. the combi\n",
      "                                       fig   -1            ines i la in fig 6, away from\n",
      "                                      part   -1           orce on the part 31 rather tha\n",
      "                            granted august   -1            , granted august 2, 1949.    \n",
      "  s number name date 1,538,995 lakatos may   -1           ,995 lakatos may 26, 1925 1,70\n",
      "  ett 2,664,624    nail clipper filed july   -1            ipper filed july 5, 1950 zhwe\n",
      "                          application july   -1            application july 5, 1950, ser\n",
      "                                serial no.   -1  (2)  1950, serial no. 172,077    4 claim\n",
      "                                     fi s.   -1  (2)  osition of fi s. 1 and 2 to provide\n",
      "                                  shown at   -1  (2)       ned, as shown at 29. to form a\n",
      "                             my patent no.   -1  (3)  in my patent no. 2,477,782, granted a\n",
      "                                      1925   -1  (3)  tos may 26, 1925 1,702,137 schnefel f\n",
      "                                      1929   -1  (3)  el feb. 12, 1929 2,477,782 bassett au\n",
      "                                      fig.   -1  (5)        ention;     fig. 2 is a side \n",
      "                                      fig.   -1  (13)        er shown in fig. 1;     fig. \n",
      "                                     figs.   -1  (16)  s shown in figs. 2, 5 and 6, whereby t\n",
      "     --\n",
      "                                 members i    0            in the members i 0 and i] and\n",
      "                             jaw members i    0            he jaw members i 0 and ii to \n",
      "     --\n",
      "  t united states patents number name date    1      number name date 1,538,995 lakatos ma\n",
      "            may transverse undercut rec ss    1            undercut rec ss 01 n tc 20 p \n",
      "     --\n",
      "                          opening or space    2            opening or space 2| a from th\n",
      "  ransverse undercut rec ss 01 n tc 20 p n    2            s 01 n tc 20 p n 2 embody var\n",
      "                                       lip    2            o the end of lip 2| when the \n",
      "                                      slot    2            al from the slot 2|] of the l\n",
      "                                   bassett    2      54 w. e. bassett 2,664,624    nail cl\n",
      "     --\n",
      "                                      file    3            to form the file 3|, and it m\n",
      "     --\n",
      "                                         i    4            er jaws l3 and i 4, the free \n",
      "     --\n",
      "             curved cutting or knife edges   15           g or knife edges 15 and i6 opp\n",
      "     --\n",
      "                          aligned openings   18           aligned openings 18 and [9 in \n",
      "     --\n",
      "  t may transverse undercut rec ss 01 n tc   20           t rec ss 01 n tc 20 p n 2 embo\n",
      "                                     notch   20           end of the notch 20 in the piv\n",
      "                                      wall   20           ined by the wall 20&#39;. thes\n",
      "                             undercut slot   20           he undercut slot 20 in the lev\n",
      "                                      slot   20  (4)       r 22 in the slot 20 in both th\n",
      "     --\n",
      "                                       end   21           e pin h, the end 21 of which w\n",
      "                                 free ed e   21           nd its free ed e 21 rests on t\n",
      "     --\n",
      "                            transverse bar   22           a transverse bar 22 at the end\n",
      "                           lever cross bar   22            lever cross bar 22, or to per\n",
      "                              thecrqss bar   22            of thecrqss bar 22 from the s\n",
      "                                 pivot bar   22           ut its pivot bar 22 to the pos\n",
      "                                 cross bar   22  (2)       of the cross bar 22 in the slo\n",
      "                                       bar   22  (5)        25, and the bar 22 seating in\n",
      "     --\n",
      "                            undercut notch   23           e undercut notch 23 of the piv\n",
      "                           operating lever   23  (5)        operating lever 23. this bar \n",
      "                                     lever   23  (6)       end of the lever 23 downwardly\n",
      "     --\n",
      "                                   opening   24           tting an opening 24 in this le\n",
      "     --\n",
      "                                       lug   25            so that the lug 25 is on the \n",
      "                            curved portion   25           e curved portion 25, and the b\n",
      "     --\n",
      "                                       lug   26           ever 23, the lug 26 will force\n",
      "                      upwardly pressed lug   26           rdly pressed lug 26 a short di\n",
      "     --\n",
      "                                  free end   28           ses the free end 28 of the lev\n",
      "                    point and-the free end   28           and-the free end 28 on a plane\n",
      "     --\n",
      "                                 nail file   30           d is a nail file 30. this is a\n",
      "     --\n",
      "                                   portion   31           ings the portion 31&#39; betwe\n",
      "     --\n",
      "                                  free end   32            at its free end 32 to provide\n",
      "     --\n",
      "                                    eyelet   33           ans of an eyelet 33 passing. t\n",
      "                                     pivot   33           jacent the pivot 33, it is pro\n",
      "     --\n",
      "                     form securing flanges   34           securing flanges 34. this eyel\n",
      "     --\n",
      "                   upwardly extending lugs   35           y extending lugs 35 between wh\n",
      "     --\n",
      "                  frictional retaining lug   36           al retaining lug 36 on the nai\n",
      "                               lug or bump   36           e. a lug or bump 36 on the und\n",
      "     --\n",
      "                                 nail file   39           on the nail file 39 provides t\n",
      "     --\n",
      "  t united states patents number name date  538      number name date 1,538,995 lakatos ma\n",
      "     --\n",
      "                                   bassett  624      54 w. e. bassett 2,664,624    nail cl\n",
      "     --\n",
      "                                   bassett  664      54 w. e. bassett 2,664,624    nail cl\n",
      "     --\n",
      "  t united states patents number name date  995      number name date 1,538,995 lakatos ma\n"
     ]
    }
   ],
   "source": [
    "print_legend( merge( legend ) )"
   ]
  },
  {
   "cell_type": "markdown",
   "metadata": {},
   "source": [
    "## Identification du meilleur candidats"
   ]
  },
  {
   "cell_type": "code",
   "execution_count": 266,
   "metadata": {
    "collapsed": true
   },
   "outputs": [],
   "source": [
    "def candidates_for_onenumber( legend, i ):\n",
    "    candidates = [ c for c in legend if c['number'] == i ]\n",
    "\n",
    "    for c in candidates:\n",
    "        c['reversed'] = c['label'].split(' ')[::-1]\n",
    "        c['weight'] = len( c['position'] )\n",
    "        \n",
    "    return candidates"
   ]
  },
  {
   "cell_type": "code",
   "execution_count": 267,
   "metadata": {},
   "outputs": [
    {
     "name": "stdout",
     "output_type": "stream",
     "text": [
      "[{'number': 34, 'position': [(12066, 12068)], 'weight': 1, 'context': 'securing flanges 34. this eyel', 'reversed': ['flanges', 'securing', 'form'], 'label': 'form securing flanges'}]\n"
     ]
    }
   ],
   "source": [
    "print( candidates_for_onenumber(legend, 34) )"
   ]
  },
  {
   "cell_type": "code",
   "execution_count": 268,
   "metadata": {
    "collapsed": true
   },
   "outputs": [],
   "source": [
    "def increment_dico( dico, key, value ):\n",
    "    if key in dico:\n",
    "        dico[key] += value\n",
    "    else:\n",
    "        dico[key] = value\n",
    "        \n",
    "def append_dico( dico, key, value ):\n",
    "    if key in dico:\n",
    "        dico[key].append( value )\n",
    "    else:\n",
    "        dico[key] = [value]\n",
    "\n",
    "def who_are_the_winners( scoreboard ):\n",
    "    scoreMax = max( scoreboard.values() )\n",
    "    winners = [ sb[0] for sb in scoreboard.items() if sb[1] == scoreMax ]\n",
    "    return winners"
   ]
  },
  {
   "cell_type": "code",
   "execution_count": 297,
   "metadata": {
    "collapsed": true
   },
   "outputs": [],
   "source": [
    "def choose_best_label( remainingcandidates ):\n",
    "    \"\"\" Choisi un candidat gagnant unique\n",
    "    \n",
    "        choisi le label mot par mot, en partant de la fin :\n",
    "            - si un mot apparait plus souvent que tout les autres, alors il est choisi\n",
    "            - si plusieurs mots apparaissent aussi souvent, alors le label est coupé ici\n",
    "    \"\"\"\n",
    "    N = len( remainingcandidates )\n",
    "    \n",
    "    if N == 1:\n",
    "        return remainingcandidates[0]['label']\n",
    "    \n",
    "    previouschoice=[]\n",
    "    for i in range(20):\n",
    "        current_indice = len(previouschoice)\n",
    "\n",
    "        scoreboard = {}\n",
    "        nextword2candidates ={}\n",
    "        for c in remainingcandidates:\n",
    "            if current_indice < len( c['reversed'] ):\n",
    "                next_word = c['reversed'][ current_indice ]\n",
    "            else:\n",
    "                next_word = ''\n",
    "\n",
    "            append_dico( nextword2candidates, next_word, c )\n",
    "            increment_dico( scoreboard, next_word, c['weight'] )\n",
    "\n",
    "            #print(next_word, c['weight'])\n",
    "\n",
    "        #print( 'scoreboard: ', scoreboard )\n",
    "        winners = who_are_the_winners( scoreboard )\n",
    "        #print( 'winners:', winners )\n",
    "        if len(winners) == 1 and winners[0]:\n",
    "            choice = winners[0]\n",
    "            remainingcandidates = nextword2candidates[choice]\n",
    "            previouschoice.append( choice )\n",
    "            #print(' ')\n",
    "\n",
    "        else: # exaequo ou fin -> stop\n",
    "            selectedlabel = ' '.join( previouschoice[::-1] )\n",
    "            #print( selectedlabel )\n",
    "            break\n",
    "\n",
    "    return selectedlabel"
   ]
  },
  {
   "cell_type": "code",
   "execution_count": 283,
   "metadata": {},
   "outputs": [
    {
     "data": {
      "text/plain": [
       "''"
      ]
     },
     "execution_count": 283,
     "metadata": {},
     "output_type": "execute_result"
    }
   ],
   "source": [
    "# test\n",
    "candidates = candidates_for_onenumber(legend, 33)\n",
    "choose_best_label( candidates )"
   ]
  },
  {
   "cell_type": "code",
   "execution_count": 284,
   "metadata": {},
   "outputs": [
    {
     "name": "stdout",
     "output_type": "stream",
     "text": [
      "[1, 2, 3, 4, 15, 18, 20, 21, 22, 23, 24, 25, 26, 28, 30, 31, 32, 33, 34, 35, 36, 39, 538, 624, 664, 995]\n"
     ]
    }
   ],
   "source": [
    "allnumbers = sorted( { c['number'] for c in legend if c['number']>0 } ) # unique et triés\n",
    "print( allnumbers )"
   ]
  },
  {
   "cell_type": "code",
   "execution_count": 287,
   "metadata": {},
   "outputs": [],
   "source": [
    "final_legend = []\n",
    "for numero in allnumbers:\n",
    "    candidates = candidates_for_onenumber(legend, numero)\n",
    "    thelabel = choose_best_label( candidates )\n",
    "\n",
    "    line = {'numero':numero , 'label':thelabel  }\n",
    "    final_legend.append( line )"
   ]
  },
  {
   "cell_type": "code",
   "execution_count": 298,
   "metadata": {},
   "outputs": [
    {
     "name": "stdout",
     "output_type": "stream",
     "text": [
      "    1  \n",
      "    2  \n",
      "    3  file\n",
      "    4  i\n",
      "   15  curved cutting or knife edges\n",
      "   18  aligned openings\n",
      "   20  slot\n",
      "   21  \n",
      "   22  bar\n",
      "   23  lever\n",
      "   24  opening\n",
      "   25  \n",
      "   26  lug\n",
      "   28  free end\n",
      "   30  nail file\n",
      "   31  portion\n",
      "   32  free end\n",
      "   33  \n",
      "   34  form securing flanges\n",
      "   35  upwardly extending lugs\n",
      "   36  \n",
      "   39  nail file\n",
      "  538  t united states patents number name date\n",
      "  624  bassett\n",
      "  664  bassett\n",
      "  995  t united states patents number name date\n"
     ]
    }
   ],
   "source": [
    "for line in final_legend:\n",
    "    print( '{numero:>5}  {label}'.format( **line ) )"
   ]
  },
  {
   "cell_type": "markdown",
   "metadata": {},
   "source": [
    "# Remarques\n",
    "### Comment selectionner le meilleurs candidats ?\n",
    "\n",
    " * si unique:  ok\n",
    "       et si unique et len()==40... ? c.a.d. pas coupé\n",
    " * si max unique: ok\n",
    " * sinon : selectionne les qualifiés, puis...\n",
    " * exaequo...  construit un arbre de comptage ?\n"
   ]
  },
  {
   "cell_type": "markdown",
   "metadata": {},
   "source": [
    "\n",
    "\n",
    "### To look\n",
    "* comment ne pas modifier le texte, pour pouvoir l'annoter ?\n",
    "* paranthese: between the elongated plates ( 1 , 2 ).\n",
    "* line 5 - 5\n",
    "*      march   15                 march 15,   \n",
    "en debut de la description ...\n",
    "* generally... adverbes ?\n",
    "* \" respectivement A et B \" ... respective\n",
    "* letter sur les vieux brevets\n",
    "* merge keywords and small_words ??\n",
    "* pluriel\n",
    "\n",
    "* sort of recursive... identifier un permet d'en déduire un autre...\n",
    "\n",
    "## other things\n",
    "* Find values like \"110 volts\"... "
   ]
  },
  {
   "cell_type": "code",
   "execution_count": null,
   "metadata": {
    "collapsed": true
   },
   "outputs": [],
   "source": []
  },
  {
   "cell_type": "code",
   "execution_count": 272,
   "metadata": {},
   "outputs": [
    {
     "name": "stdout",
     "output_type": "stream",
     "text": [
      "[]\n"
     ]
    }
   ],
   "source": [
    "# Find values\n",
    "units = ['inch', 'volt', 'm', 'mm']\n",
    "find_sci_values =  r\" (\\d{1,4}([\\.,]\\d{1,4})? (%s)\\W)\" % '|'.join(units)\n",
    "\n",
    "print( regex.findall(find_sci_values, description) )\n",
    "description = regex.sub(find_sci_values, '<value>', description  )"
   ]
  },
  {
   "cell_type": "code",
   "execution_count": 273,
   "metadata": {},
   "outputs": [
    {
     "name": "stdout",
     "output_type": "stream",
     "text": [
      "[]\n"
     ]
    }
   ],
   "source": [
    "# Find values\n",
    "units = ['inch', 'volt', 'm', 'mm']\n",
    "find_sci_values =  r\" (\\d{1,4}([\\.,]\\d{1,4})? (%s)\\W)\" % '|'.join(units)\n",
    "\n",
    "print( regex.findall(find_sci_values, description) )\n",
    "description = regex.sub(find_sci_values, '<value>', description  )"
   ]
  },
  {
   "cell_type": "code",
   "execution_count": 274,
   "metadata": {},
   "outputs": [
    {
     "name": "stdout",
     "output_type": "stream",
     "text": [
      "[('2,664,', ',664'), ('172,077 ', ',077'), ('2,477,', ',477'), ('1,538,', ',538'), ('1,702,', ',702'), ('2,477,', ',477')]\n"
     ]
    }
   ],
   "source": [
    "# Find floats\n",
    "find_sci_floats =  r\" (\\d{1,4}([\\.,]\\d{1,4})\\W)\" \n",
    "\n",
    "print( regex.findall(find_sci_floats, description) )\n",
    "description = regex.sub(find_sci_floats, '<value>', description  )"
   ]
  },
  {
   "cell_type": "code",
   "execution_count": 275,
   "metadata": {},
   "outputs": [
    {
     "name": "stdout",
     "output_type": "stream",
     "text": [
      "[]\n"
     ]
    }
   ],
   "source": [
    "# \" between 0.4 to 2.5 \" \n",
    "betweenpattern = r\"(between [\\d\\.,]{1,4} (to|and) [\\d\\.,]{1,4}\\W)\"\n",
    "\n",
    "print( regex.findall(betweenpattern, description) )\n",
    "description = regex.sub(betweenpattern, '<between>', description  )"
   ]
  }
 ],
 "metadata": {
  "kernelspec": {
   "display_name": "Python 3",
   "language": "python",
   "name": "python3"
  },
  "language_info": {
   "codemirror_mode": {
    "name": "ipython",
    "version": 3
   },
   "file_extension": ".py",
   "mimetype": "text/x-python",
   "name": "python",
   "nbconvert_exporter": "python",
   "pygments_lexer": "ipython3",
   "version": "3.5.2"
  }
 },
 "nbformat": 4,
 "nbformat_minor": 2
}
