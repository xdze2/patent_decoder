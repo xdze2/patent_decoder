{
 "cells": [
  {
   "cell_type": "markdown",
   "metadata": {},
   "source": [
    "        /* GETS ALL :  26Go proceceed */\n",
    "\n",
    "        #standardSQL\n",
    "\n",
    "        SELECT\n",
    "          root.publication_number,\n",
    "          publication_date,\n",
    "          root.title_localized,\n",
    "          root.cpc,\n",
    "          root.citation\n",
    "        FROM\n",
    "          `patents-public-data.patents.publications` root,\n",
    "          UNNEST( cpc ) AS cpc\n",
    "        WHERE \n",
    "         cpc.code like 'A45D29/02' and\n",
    "         country_code = 'US'\n",
    "        LIMIT\n",
    "          1000\n",
    "          \n",
    "          "
   ]
  },
  {
   "cell_type": "markdown",
   "metadata": {},
   "source": [
    "## Chargement des données "
   ]
  },
  {
   "cell_type": "code",
   "execution_count": 40,
   "metadata": {
    "collapsed": true
   },
   "outputs": [],
   "source": [
    "import json"
   ]
  },
  {
   "cell_type": "code",
   "execution_count": 41,
   "metadata": {
    "collapsed": true
   },
   "outputs": [],
   "source": [
    "# load the data\n",
    "file_path = './data/results-getsAll_20171119-115135.json'\n",
    "\n",
    "data_brut = []\n",
    "with open(file_path) as f:\n",
    "    for line in f:\n",
    "        entry = json.loads(line)\n",
    "        data_brut.append( entry )"
   ]
  },
  {
   "cell_type": "markdown",
   "metadata": {},
   "source": [
    "## Pre-process"
   ]
  },
  {
   "cell_type": "code",
   "execution_count": 42,
   "metadata": {
    "collapsed": true
   },
   "outputs": [],
   "source": [
    "# permet de filtrer sur les plus anciens brevets, pour le debug\n",
    "data_brut_sort = sorted( data_brut, key=lambda d: d['publication_date']  )\n",
    "N = 160"
   ]
  },
  {
   "cell_type": "code",
   "execution_count": 43,
   "metadata": {},
   "outputs": [
    {
     "data": {
      "text/plain": [
       "{'citation': [],\n",
       " 'cpc': [{'code': 'A45D29/02',\n",
       "   'first': 'true',\n",
       "   'inventive': 'true',\n",
       "   'tree': []}],\n",
       " 'publication_date': '18961020',\n",
       " 'publication_number': 'US-569903-A',\n",
       " 'title_localized': [{'language': 'en', 'text': 'winger'}]}"
      ]
     },
     "execution_count": 43,
     "metadata": {},
     "output_type": "execute_result"
    }
   ],
   "source": [
    "data_brut_sort[16]"
   ]
  },
  {
   "cell_type": "code",
   "execution_count": 52,
   "metadata": {},
   "outputs": [
    {
     "name": "stdout",
     "output_type": "stream",
     "text": [
      "160\n"
     ]
    }
   ],
   "source": [
    "data = {}\n",
    "\n",
    "for entry in data_brut_sort[:N]:\n",
    "    \n",
    "    pubnum = entry['publication_number']\n",
    "    if pubnum in data: # supprime les doublons\n",
    "        continue\n",
    "\n",
    "    new_entry = {}\n",
    "    new_entry['year'] = int(  entry['publication_date'][0:4] )\n",
    "    \n",
    "    new_entry['month'] = int( entry['publication_date'][4:6] )\n",
    "    new_entry['day'] = int(   entry['publication_date'][6:]  )\n",
    "    \n",
    "    new_entry['date_str'] = entry['publication_date']\n",
    "\n",
    "    new_entry['title'] = entry['title_localized'][0]['text']\n",
    "    \n",
    "    new_entry['citation'] = [ c['publication_number'] for c in entry['citation'] ]\n",
    "    new_entry['citation_cat'] = [ c['category'] for c in entry['citation'] ]\n",
    "\n",
    "    new_entry['cpc'] = entry['cpc']\n",
    "    \n",
    "    data[ pubnum ] = new_entry\n",
    "    \n",
    "print(len(data))"
   ]
  },
  {
   "cell_type": "code",
   "execution_count": 46,
   "metadata": {},
   "outputs": [
    {
     "data": {
      "text/plain": [
       "{'citation': [],\n",
       " 'citation_cat': [],\n",
       " 'cpc': [{'code': 'A45D29/02',\n",
       "   'first': 'true',\n",
       "   'inventive': 'true',\n",
       "   'tree': []}],\n",
       " 'date_str': '19161114',\n",
       " 'day': 14,\n",
       " 'month': 11,\n",
       " 'title': 'Toilet-scissors.',\n",
       " 'year': 1916}"
      ]
     },
     "execution_count": 46,
     "metadata": {},
     "output_type": "execute_result"
    }
   ],
   "source": [
    "list( data.values() )[0]"
   ]
  },
  {
   "cell_type": "markdown",
   "metadata": {},
   "source": [
    "# Construire le graph des citations\n",
    "\n",
    "En utilisant la librairie [graph-tool](https://graph-tool.skewed.de/)."
   ]
  },
  {
   "cell_type": "code",
   "execution_count": 20,
   "metadata": {
    "collapsed": true
   },
   "outputs": [],
   "source": [
    "import graph_tool.all as gt"
   ]
  },
  {
   "cell_type": "code",
   "execution_count": 21,
   "metadata": {
    "collapsed": true
   },
   "outputs": [],
   "source": [
    "# create graph\n",
    "g = gt.Graph()\n",
    "\n",
    "# add vertex property\n",
    "label_prop = g.new_vertex_property(\"string\")\n",
    "g.vp.label = label_prop \n",
    "\n",
    "label_prop = g.new_vertex_property(\"int\")\n",
    "g.vp.year = label_prop "
   ]
  },
  {
   "cell_type": "code",
   "execution_count": 22,
   "metadata": {},
   "outputs": [
    {
     "name": "stdout",
     "output_type": "stream",
     "text": [
      "160\n"
     ]
    }
   ],
   "source": [
    "# Ajoute les vertex\n",
    "for pub_number, entry in data.items():\n",
    "    \n",
    "    entry['vertex'] = g.add_vertex()\n",
    "    \n",
    "    g.vp.label[ entry['vertex'] ] = pub_number\n",
    "    g.vp.year[ entry['vertex'] ] = entry['year']\n",
    "    \n",
    "print( g.num_vertices()  )"
   ]
  },
  {
   "cell_type": "code",
   "execution_count": 23,
   "metadata": {},
   "outputs": [
    {
     "data": {
      "text/plain": [
       "'US-3316634-A'"
      ]
     },
     "execution_count": 23,
     "metadata": {},
     "output_type": "execute_result"
    }
   ],
   "source": [
    "# debug\n",
    "i = 5\n",
    "v  = list(data.values())[i]['vertex']\n",
    "g.vp.label[v]"
   ]
  },
  {
   "cell_type": "code",
   "execution_count": 24,
   "metadata": {},
   "outputs": [
    {
     "name": "stdout",
     "output_type": "stream",
     "text": [
      "112\n"
     ]
    }
   ],
   "source": [
    "# ajoute les arretes (citations)\n",
    "for pub_number, entry in data.items():\n",
    "    \n",
    "    # la fleche est dans le sens du temps...\n",
    "    target = entry['vertex']\n",
    "    \n",
    "    for citation_number in entry['citation']:\n",
    "        if citation_number in data:\n",
    "            source  = data[citation_number]['vertex']\n",
    "            \n",
    "            e = g.add_edge(source, target)\n",
    "            \n",
    "print( g.num_edges()  )"
   ]
  },
  {
   "cell_type": "code",
   "execution_count": 25,
   "metadata": {},
   "outputs": [
    {
     "name": "stdout",
     "output_type": "stream",
     "text": [
      "68\n",
      "103\n"
     ]
    }
   ],
   "source": [
    "# Garde seulement la composante principale:\n",
    "\n",
    "largest_comp = gt.label_largest_component(g, directed=False)\n",
    "\n",
    "del_list = [ v for v in g.vertices() if not largest_comp[v]  ]\n",
    "\n",
    "# 'del_list' is a list of vertex descriptors\n",
    "# Voir https://graph-tool.skewed.de/static/doc/graph_tool.html?highlight=remove#graph_tool.Graph.remove_vertex\n",
    "\n",
    "for v in reversed(sorted(del_list)):\n",
    "    g.remove_vertex(v)\n",
    "    \n",
    "print( g.num_vertices()  )\n",
    "print( g.num_edges()  )"
   ]
  },
  {
   "cell_type": "code",
   "execution_count": 26,
   "metadata": {
    "collapsed": true
   },
   "outputs": [],
   "source": [
    "g.save('citation_graph.graphml')"
   ]
  },
  {
   "cell_type": "code",
   "execution_count": 27,
   "metadata": {
    "collapsed": true
   },
   "outputs": [],
   "source": [
    "# draw\n",
    "# gt.graph_draw(g, #vertex_text=g.vertex_index, vertex_font_size=18,\n",
    "# ...            output_size=(1400, 1400), output=\"graph.png\")"
   ]
  },
  {
   "cell_type": "markdown",
   "metadata": {},
   "source": [
    "# Look categories"
   ]
  },
  {
   "cell_type": "code",
   "execution_count": 201,
   "metadata": {
    "collapsed": true
   },
   "outputs": [],
   "source": [
    "code_used = dict()\n",
    "code_used_subset = dict()\n",
    "\n",
    "for pub_number, entry in data.items():\n",
    "    \n",
    "    codes = [ cpc['code'] for cpc in entry['cpc'] ]\n",
    "    \n",
    "    codes_subset = [ c[:4] for c in codes ]\n",
    "    \n",
    "    #code_used = code_used.union(codes)\n",
    "    \n",
    "    # count\n",
    "    for c in codes:\n",
    "        if c in code_used:\n",
    "            code_used[c] += 1\n",
    "        else:\n",
    "            code_used[c] = 1"
   ]
  },
  {
   "cell_type": "code",
   "execution_count": 358,
   "metadata": {},
   "outputs": [
    {
     "name": "stdout",
     "output_type": "stream",
     "text": [
      "[('A45D29/02', 408), ('A01K13/00', 28), ('A45D29/18', 24), ('A45D29/04', 18), ('A45D2029/026', 17), ('A01K17/00', 15), ('A45D29/023', 14), ('B26B17/02', 13)]\n"
     ]
    }
   ],
   "source": [
    "print( sorted( code_used.items(), key=lambda x:x[1], reverse=True )[:8] )"
   ]
  },
  {
   "cell_type": "markdown",
   "metadata": {},
   "source": [
    "cpc code definition https://www.uspto.gov/web/patents/classification/cpc/html/defA45D.html#A45D29/18\n",
    "\n",
    "* ('A01K13/00', 28): Devices for grooming or caring of animals\n",
    "* Subclass A01K: ANIMAL HUSBANDRY; CARE OF BIRds..\n",
    "\n",
    "\n",
    "* ('A45D29/18', 24): Manicure or pedicure sets\n",
    "* ('A45D29/04', 18): Nail files, e.g. manually operated   (lime à ongle)\n",
    "* A45D 29/023: {with retainers for nail clippings}"
   ]
  },
  {
   "cell_type": "code",
   "execution_count": 204,
   "metadata": {},
   "outputs": [
    {
     "name": "stdout",
     "output_type": "stream",
     "text": [
      "Y10T29/53943\n",
      "https://www.uspto.gov/web/patents/classification/cpc/html/defY10T.html#Y10T29/53943\n"
     ]
    }
   ],
   "source": [
    "# lien automatique vers def.\n",
    "code = list( code_used )[3]\n",
    "print( code )\n",
    "\n",
    "lien = 'https://www.uspto.gov/web/patents/classification/cpc/html/def{0}.html#{1}'.format( code[:4], code )\n",
    "\n",
    "print( lien )"
   ]
  },
  {
   "cell_type": "markdown",
   "metadata": {},
   "source": [
    "# Brevets par année"
   ]
  },
  {
   "cell_type": "code",
   "execution_count": 496,
   "metadata": {
    "collapsed": true
   },
   "outputs": [],
   "source": [
    "import matplotlib.pyplot as plt\n",
    "%matplotlib inline"
   ]
  },
  {
   "cell_type": "code",
   "execution_count": 497,
   "metadata": {
    "collapsed": true
   },
   "outputs": [],
   "source": [
    "countbyyear = { x:0 for x in range(1870, 2018, 1) }\n",
    "\n",
    "for pub_number, entry in data.items():\n",
    "    y = entry['year']\n",
    "    \n",
    "    countbyyear[y] += 1"
   ]
  },
  {
   "cell_type": "code",
   "execution_count": 498,
   "metadata": {
    "collapsed": true
   },
   "outputs": [],
   "source": [
    "yearsX, countY =  list( zip( *countbyyear.items() ) )"
   ]
  },
  {
   "cell_type": "code",
   "execution_count": 500,
   "metadata": {},
   "outputs": [
    {
     "data": {
      "image/png": "[encoded data removed]",
      "text/plain": [
       "<matplotlib.figure.Figure at 0x7fdd9c066940>"
      ]
     },
     "metadata": {},
     "output_type": "display_data"
    }
   ],
   "source": [
    "plt.plot( yearsX, countY );  plt.xlabel('année'); plt.ylabel('nombre de brevets');"
   ]
  },
  {
   "cell_type": "code",
   "execution_count": 47,
   "metadata": {
    "collapsed": true
   },
   "outputs": [],
   "source": [
    "years = [ (n, p['year']) for n, p in data.items() ]"
   ]
  },
  {
   "cell_type": "code",
   "execution_count": 48,
   "metadata": {},
   "outputs": [
    {
     "data": {
      "text/plain": [
       "(('US-138061-A', 1873), ('US-2017042307-A1', 2017))"
      ]
     },
     "execution_count": 48,
     "metadata": {},
     "output_type": "execute_result"
    }
   ],
   "source": [
    "min(years, key=lambda x:x[1]), max(years, key=lambda x:x[1])"
   ]
  },
  {
   "cell_type": "code",
   "execution_count": 49,
   "metadata": {
    "collapsed": true
   },
   "outputs": [],
   "source": [
    "years = sorted( years, key=lambda x:x[1] )"
   ]
  },
  {
   "cell_type": "code",
   "execution_count": 50,
   "metadata": {
    "collapsed": true
   },
   "outputs": [],
   "source": [
    "import pickle"
   ]
  },
  {
   "cell_type": "code",
   "execution_count": 51,
   "metadata": {
    "collapsed": true
   },
   "outputs": [],
   "source": [
    "pickle.dump( years, open('YearsPatentNumber_ggle.pickle','wb') )"
   ]
  },
  {
   "cell_type": "markdown",
   "metadata": {},
   "source": [
    "# Ghost citation\n",
    "\n",
    "def: citations qui apparaissent souvent, mais qui ne sont pas dans le corpus"
   ]
  },
  {
   "cell_type": "code",
   "execution_count": 501,
   "metadata": {},
   "outputs": [
    {
     "name": "stdout",
     "output_type": "stream",
     "text": [
      "1092 255\n"
     ]
    }
   ],
   "source": [
    "ghost_citation = {}\n",
    "citation_count = {}\n",
    "\n",
    "for pub_number, entry in data.items():\n",
    "    \n",
    "    for citation_number in entry['citation']:\n",
    "        if citation_number not in data:\n",
    "            \n",
    "            if citation_number in ghost_citation:\n",
    "                ghost_citation[citation_number] += 1\n",
    "            else:\n",
    "                ghost_citation[citation_number] = 1\n",
    "                \n",
    "        else:\n",
    "            if citation_number in citation_count:\n",
    "                citation_count[citation_number] += 1\n",
    "            else:\n",
    "                citation_count[citation_number] = 1  \n",
    "            \n",
    "print(len(ghost_citation), len(citation_count))"
   ]
  },
  {
   "cell_type": "code",
   "execution_count": 502,
   "metadata": {},
   "outputs": [
    {
     "name": "stdout",
     "output_type": "stream",
     "text": [
      "[('', 22), ('US-6220251-B1', 17), ('US-5546658-A', 16), ('US-3744131-A', 16), ('US-3838507-A', 15), ('US-3903596-A', 14), ('US-5392518-A', 14), ('US-6523545-B2', 14), ('US-2955354-A', 13), ('US-4196514-A', 12), ('US-4856190-A', 12), ('US-5617633-A', 11), ('US-4341015-A', 11), ('US-5983498-A', 11), ('US-5640770-A', 11), ('US-4648415-A', 10), ('US-3180025-A', 10), ('US-4614031-A', 9), ('US-5522136-A', 9), ('US-4017923-A', 9)]\n"
     ]
    }
   ],
   "source": [
    "# Ghost citation\n",
    "print(sorted( ghost_citation.items(), key=lambda x:x[1], reverse=True )[:20] )"
   ]
  },
  {
   "cell_type": "code",
   "execution_count": 503,
   "metadata": {},
   "outputs": [
    {
     "name": "stdout",
     "output_type": "stream",
     "text": [
      "[('US-4176449-A', 19), ('US-6553592-B2', 16), ('US-5384960-A', 15), ('US-4847994-A', 15), ('US-4982747-A', 14), ('US-4228585-A', 13), ('US-3315354-A', 13), ('US-2616436-A', 13), ('US-3042047-A', 13), ('US-4819673-A', 13), ('US-3943948-A', 12), ('US-4644644-A', 12), ('US-2753626-A', 12), ('US-6557259-B1', 12), ('US-5063666-A', 12), ('US-3997966-A', 11), ('US-1394727-A', 11), ('US-5123430-A', 11), ('US-7020964-B2', 11), ('US-796389-A', 10)]\n"
     ]
    }
   ],
   "source": [
    "# Max citation\n",
    "print(sorted( citation_count.items(), key=lambda x:x[1], reverse=True )[:20] )"
   ]
  },
  {
   "cell_type": "markdown",
   "metadata": {},
   "source": [
    "# Graph topology"
   ]
  },
  {
   "cell_type": "code",
   "execution_count": 504,
   "metadata": {},
   "outputs": [
    {
     "data": {
      "text/plain": [
       "False"
      ]
     },
     "execution_count": 504,
     "metadata": {},
     "output_type": "execute_result"
    }
   ],
   "source": [
    "gt.is_DAG( g )"
   ]
  },
  {
   "cell_type": "markdown",
   "metadata": {},
   "source": [
    "## Retire les circuits"
   ]
  },
  {
   "cell_type": "code",
   "execution_count": 505,
   "metadata": {},
   "outputs": [
    {
     "name": "stdout",
     "output_type": "stream",
     "text": [
      ">  [53 64]\n",
      "US-2013212884-A1, US-2011154667-A1\n",
      "2013, 2011\n",
      "ordered [64, 53]\n",
      ">  [116 273]\n",
      "US-2008148572-A1, US-2009223055-A1\n",
      "2008, 2009\n",
      "ordered [116, 273]\n"
     ]
    },
    {
     "data": {
      "text/plain": [
       "True"
      ]
     },
     "execution_count": 505,
     "metadata": {},
     "output_type": "execute_result"
    }
   ],
   "source": [
    "# retire les circuits :\n",
    "for circuit in gt.all_circuits( g, unique=True ) :\n",
    "    print( \"> \", circuit  )\n",
    "    print(  ', '.join( [ g.vp.label[v] for v in circuit ]  ))\n",
    "    print(  ', '.join( [ str(g.vp.year[v]) for v in circuit ]  ))\n",
    "    \n",
    "    chronologique = sorted( [ v for v in circuit ], key=lambda v:g.vp.year[v] ) \n",
    "    print( 'ordered', chronologique )\n",
    "    edge = g.edge( *chronologique )\n",
    "    g.remove_edge( edge )\n",
    "    \n",
    "gt.is_DAG( g )"
   ]
  },
  {
   "cell_type": "markdown",
   "metadata": {},
   "source": [
    "## Vertex sans brevet citant / sans descendant"
   ]
  },
  {
   "cell_type": "code",
   "execution_count": 686,
   "metadata": {},
   "outputs": [
    {
     "name": "stdout",
     "output_type": "stream",
     "text": [
      "12\n"
     ]
    }
   ],
   "source": [
    "end_vertex = []\n",
    "\n",
    "for v in g.vertices():\n",
    "    \n",
    "    if v.out_degree() == 0:\n",
    "        end_vertex.append( v )\n",
    "        \n",
    "print( len( end_vertex ) )"
   ]
  },
  {
   "cell_type": "code",
   "execution_count": 687,
   "metadata": {
    "collapsed": true
   },
   "outputs": [],
   "source": [
    "# verif\n",
    "# data[ g.vp.label[ end_vertex[5] ] ], g.vp.label[ end_vertex[5] ]"
   ]
  },
  {
   "cell_type": "markdown",
   "metadata": {},
   "source": [
    "## Vertex sans citations:"
   ]
  },
  {
   "cell_type": "code",
   "execution_count": 688,
   "metadata": {},
   "outputs": [
    {
     "name": "stdout",
     "output_type": "stream",
     "text": [
      "20\n"
     ]
    }
   ],
   "source": [
    "start_vertex = []\n",
    "\n",
    "for v in g.vertices():\n",
    "    \n",
    "    if v.in_degree() == 0:\n",
    "        start_vertex.append( v )\n",
    "        \n",
    "print( len( start_vertex ) )"
   ]
  },
  {
   "cell_type": "markdown",
   "metadata": {},
   "source": [
    "# L'ensemble des ancêtres :"
   ]
  },
  {
   "cell_type": "code",
   "execution_count": 689,
   "metadata": {
    "collapsed": true
   },
   "outputs": [],
   "source": [
    "ancestors_stock = dict()\n",
    "\n",
    "def find_ancestors( v, ancestors = set() ):\n",
    "    if v in ancestors_stock:\n",
    "        ancestors = ancestors_stock[v]\n",
    "    else:\n",
    "        for u in v.in_neighbors():\n",
    "            ancestors.add(u)\n",
    "            A = find_ancestors( u, ancestors = ancestors )\n",
    "            ancestors = ancestors.union( A )\n",
    "        ancestors_stock[v] = ancestors\n",
    "        \n",
    "    return ancestors"
   ]
  },
  {
   "cell_type": "code",
   "execution_count": 690,
   "metadata": {},
   "outputs": [
    {
     "ename": "IndexError",
     "evalue": "list index out of range",
     "output_type": "error",
     "traceback": [
      "\u001b[0;31m---------------------------------------------------------------------------\u001b[0m",
      "\u001b[0;31mIndexError\u001b[0m                                Traceback (most recent call last)",
      "\u001b[0;32m<ipython-input-690-dcee2de74b08>\u001b[0m in \u001b[0;36m<module>\u001b[0;34m()\u001b[0m\n\u001b[1;32m      1\u001b[0m \u001b[0;31m# test\u001b[0m\u001b[0;34m\u001b[0m\u001b[0;34m\u001b[0m\u001b[0m\n\u001b[0;32m----> 2\u001b[0;31m \u001b[0mv\u001b[0m \u001b[0;34m=\u001b[0m \u001b[0mend_vertex\u001b[0m\u001b[0;34m[\u001b[0m\u001b[0;36m30\u001b[0m\u001b[0;34m]\u001b[0m\u001b[0;34m\u001b[0m\u001b[0m\n\u001b[0m\u001b[1;32m      3\u001b[0m \u001b[0;34m\u001b[0m\u001b[0m\n\u001b[1;32m      4\u001b[0m \u001b[0mancestors\u001b[0m \u001b[0;34m=\u001b[0m \u001b[0mfind_ancestors\u001b[0m\u001b[0;34m(\u001b[0m \u001b[0mv\u001b[0m \u001b[0;34m)\u001b[0m\u001b[0;34m\u001b[0m\u001b[0m\n\u001b[1;32m      5\u001b[0m \u001b[0mprint\u001b[0m\u001b[0;34m(\u001b[0m \u001b[0mlen\u001b[0m\u001b[0;34m(\u001b[0m \u001b[0mancestors\u001b[0m \u001b[0;34m)\u001b[0m \u001b[0;34m)\u001b[0m\u001b[0;34m\u001b[0m\u001b[0m\n",
      "\u001b[0;31mIndexError\u001b[0m: list index out of range"
     ]
    }
   ],
   "source": [
    "# test\n",
    "v = end_vertex[30]\n",
    "\n",
    "ancestors = find_ancestors( v )\n",
    "print( len( ancestors ) )"
   ]
  },
  {
   "cell_type": "code",
   "execution_count": 691,
   "metadata": {
    "collapsed": true
   },
   "outputs": [],
   "source": [
    "def find_descendants( v, descendants = set() ):\n",
    "    for u in v.out_neighbors():\n",
    "        descendants.add(u)\n",
    "        A = find_descendants( u, descendants = descendants )\n",
    "        descendants = descendants.union( A )\n",
    "    return descendants"
   ]
  },
  {
   "cell_type": "code",
   "execution_count": 692,
   "metadata": {},
   "outputs": [
    {
     "name": "stdout",
     "output_type": "stream",
     "text": [
      "2\n"
     ]
    }
   ],
   "source": [
    "# test\n",
    "v = start_vertex[11]\n",
    "\n",
    "descendants = find_descendants( v )\n",
    "print( len( descendants ) )"
   ]
  },
  {
   "cell_type": "markdown",
   "metadata": {},
   "source": [
    "## Plus proche commun ancêtre\n",
    "\n",
    "non unique"
   ]
  },
  {
   "cell_type": "code",
   "execution_count": 693,
   "metadata": {
    "collapsed": true
   },
   "outputs": [],
   "source": [
    "def find_common_ancestors( u, v ):\n",
    "    ancestors_u = find_ancestors( u )\n",
    "    ancestors_v = find_ancestors( v )\n",
    "\n",
    "    common_vertex = ancestors_u & ancestors_v\n",
    "\n",
    "    # cherche les vertex qui n'ont pas de descendance dans les vertex commun\n",
    "    PCA = []\n",
    "    for a in common_vertex:\n",
    "\n",
    "        out = set( a.out_neighbors() ) \n",
    "\n",
    "        if len( common_vertex.intersection( out ) ) == 0:\n",
    "            PCA.append( a )\n",
    "\n",
    "    return  PCA "
   ]
  },
  {
   "cell_type": "code",
   "execution_count": 694,
   "metadata": {},
   "outputs": [
    {
     "ename": "IndexError",
     "evalue": "list index out of range",
     "output_type": "error",
     "traceback": [
      "\u001b[0;31m---------------------------------------------------------------------------\u001b[0m",
      "\u001b[0;31mIndexError\u001b[0m                                Traceback (most recent call last)",
      "\u001b[0;32m<ipython-input-694-8df02dddc340>\u001b[0m in \u001b[0;36m<module>\u001b[0;34m()\u001b[0m\n\u001b[0;32m----> 1\u001b[0;31m \u001b[0mu\u001b[0m \u001b[0;34m=\u001b[0m \u001b[0mg\u001b[0m\u001b[0;34m.\u001b[0m\u001b[0mvertex\u001b[0m\u001b[0;34m(\u001b[0m \u001b[0mend_vertex\u001b[0m\u001b[0;34m[\u001b[0m\u001b[0;36m14\u001b[0m\u001b[0;34m]\u001b[0m \u001b[0;34m)\u001b[0m\u001b[0;34m\u001b[0m\u001b[0m\n\u001b[0m\u001b[1;32m      2\u001b[0m \u001b[0mv\u001b[0m \u001b[0;34m=\u001b[0m \u001b[0mg\u001b[0m\u001b[0;34m.\u001b[0m\u001b[0mvertex\u001b[0m\u001b[0;34m(\u001b[0m \u001b[0mend_vertex\u001b[0m\u001b[0;34m[\u001b[0m\u001b[0;36m40\u001b[0m\u001b[0;34m]\u001b[0m \u001b[0;34m)\u001b[0m\u001b[0;34m\u001b[0m\u001b[0m\n\u001b[1;32m      3\u001b[0m \u001b[0;34m\u001b[0m\u001b[0m\n\u001b[1;32m      4\u001b[0m \u001b[0mprint\u001b[0m\u001b[0;34m(\u001b[0m \u001b[0mfind_common_ancestors\u001b[0m\u001b[0;34m(\u001b[0m \u001b[0mu\u001b[0m\u001b[0;34m,\u001b[0m \u001b[0mv\u001b[0m \u001b[0;34m)\u001b[0m  \u001b[0;34m)\u001b[0m\u001b[0;34m\u001b[0m\u001b[0m\n",
      "\u001b[0;31mIndexError\u001b[0m: list index out of range"
     ]
    }
   ],
   "source": [
    "u = g.vertex( end_vertex[14] )\n",
    "v = g.vertex( end_vertex[40] )\n",
    "\n",
    "print( find_common_ancestors( u, v )  )"
   ]
  },
  {
   "cell_type": "markdown",
   "metadata": {},
   "source": [
    "# Quel brevet genère le plus le graph ?"
   ]
  },
  {
   "cell_type": "code",
   "execution_count": 695,
   "metadata": {
    "collapsed": true
   },
   "outputs": [],
   "source": [
    "n_descendance = []\n",
    "\n",
    "for index in start_vertex:\n",
    "    D = find_descendants( g.vertex(index) )\n",
    "    n_descendance.append( len(D) )"
   ]
  },
  {
   "cell_type": "code",
   "execution_count": 696,
   "metadata": {},
   "outputs": [
    {
     "data": {
      "text/plain": [
       "[<matplotlib.lines.Line2D at 0x7fdde808d0f0>]"
      ]
     },
     "execution_count": 696,
     "metadata": {},
     "output_type": "execute_result"
    },
    {
     "data": {
      "image/png": "[encoded data removed]",
      "text/plain": [
       "<matplotlib.figure.Figure at 0x7fdde80c1748>"
      ]
     },
     "metadata": {},
     "output_type": "display_data"
    }
   ],
   "source": [
    "plt.plot( sorted( n_descendance ) )"
   ]
  },
  {
   "cell_type": "code",
   "execution_count": 697,
   "metadata": {
    "collapsed": true
   },
   "outputs": [],
   "source": [
    "n_ancetres = []\n",
    "\n",
    "for index in end_vertex:\n",
    "    A = find_ancestors( g.vertex(index) )\n",
    "    n_ancetres.append( len(A) )"
   ]
  },
  {
   "cell_type": "code",
   "execution_count": 698,
   "metadata": {},
   "outputs": [
    {
     "data": {
      "text/plain": [
       "[<matplotlib.lines.Line2D at 0x7fdde816cba8>]"
      ]
     },
     "execution_count": 698,
     "metadata": {},
     "output_type": "execute_result"
    },
    {
     "data": {
      "image/png": "[encoded data removed]",
      "text/plain": [
       "<matplotlib.figure.Figure at 0x7fdd945e04a8>"
      ]
     },
     "metadata": {},
     "output_type": "display_data"
    }
   ],
   "source": [
    "plt.plot( sorted( n_ancetres ) )"
   ]
  },
  {
   "cell_type": "code",
   "execution_count": 28,
   "metadata": {},
   "outputs": [
    {
     "data": {
      "text/plain": [
       "<PropertyMap object with key type 'Vertex' and value type 'vector<double>', for Graph 0x7f5c88012390, at 0x7f5c892bd6a0>"
      ]
     },
     "execution_count": 28,
     "metadata": {},
     "output_type": "execute_result"
    }
   ],
   "source": [
    "gt.graphviz_draw(g,  size=(15, 15), layout='dot', output=\"graphviz-draw.svg\", vsize=1.0, \\\n",
    "             gprops={'rankdir':'LR'}, penwidth=10, vprops={'shape':'box'})"
   ]
  },
  {
   "cell_type": "markdown",
   "metadata": {},
   "source": [
    "## Get image ?"
   ]
  },
  {
   "cell_type": "code",
   "execution_count": 594,
   "metadata": {
    "collapsed": true
   },
   "outputs": [],
   "source": [
    "import urllib.request"
   ]
  },
  {
   "cell_type": "code",
   "execution_count": 615,
   "metadata": {},
   "outputs": [
    {
     "data": {
      "text/plain": [
       "\"for pat_pubnumber in list(data.keys())[50:70]:\\n    \\n    filename = 'images/%s-%s.png' % ( str(data[pat_pubnumber]['year']) , str(pat_pubnumber) )\\n    parts = pat_pubnumber.split('-')\\n    \\n    #   http://patentimages.storage.googleapis.com/pages/US5524344-1.png\\n    formated_number1 = ''.join(parts[0:2])\\n    url1 = 'http://patentimages.storage.googleapis.com/pages/%s-1.png' % formated_number1\\n\\n    try:\\n        local_filename, headers = urllib.request.urlretrieve(url1, filename)\\n        print( local_filename )\\n        \\n    except urllib.error.HTTPError as err:\\n        print('http error', err.code, pat_pubnumber)\\n        \\n\""
      ]
     },
     "execution_count": 615,
     "metadata": {},
     "output_type": "execute_result"
    }
   ],
   "source": [
    "'''for pat_pubnumber in list(data.keys())[50:70]:\n",
    "    \n",
    "    filename = 'images/%s-%s.png' % ( str(data[pat_pubnumber]['year']) , str(pat_pubnumber) )\n",
    "    parts = pat_pubnumber.split('-')\n",
    "    \n",
    "    #   http://patentimages.storage.googleapis.com/pages/US5524344-1.png\n",
    "    formated_number1 = ''.join(parts[0:2])\n",
    "    url1 = 'http://patentimages.storage.googleapis.com/pages/%s-1.png' % formated_number1\n",
    "\n",
    "    try:\n",
    "        local_filename, headers = urllib.request.urlretrieve(url1, filename)\n",
    "        print( local_filename )\n",
    "        \n",
    "    except urllib.error.HTTPError as err:\n",
    "        print('http error', err.code, pat_pubnumber)\n",
    "        \n",
    "'''"
   ]
  },
  {
   "cell_type": "markdown",
   "metadata": {},
   "source": [
    "#### pour les images individuels - ne marche pas :\n",
    "```python\n",
    "        # https://patentimages.storage.googleapis.com/US20140014042A1/US20140014042A1-20140116-D00001.png    \n",
    "        formated_number2 = ''.join(parts)\n",
    "        url2 = 'https://patentimages.storage.googleapis.com/{0}/{0}-{1}-D00000.png'.format(formated_number2, data[pat_pubnumber]['date_str'] )\n",
    "\n",
    "        try:\n",
    "            local_filename, headers = urllib.request.urlretrieve(url2, filename)\n",
    "            print( local_filename, \"*\" )\n",
    "            \n",
    "        except urllib.error.HTTPError as err:\n",
    "```"
   ]
  },
  {
   "cell_type": "code",
   "execution_count": null,
   "metadata": {
    "collapsed": true
   },
   "outputs": [],
   "source": []
  }
 ],
 "metadata": {
  "kernelspec": {
   "display_name": "Python 3",
   "language": "python",
   "name": "python3"
  },
  "language_info": {
   "codemirror_mode": {
    "name": "ipython",
    "version": 3
   },
   "file_extension": ".py",
   "mimetype": "text/x-python",
   "name": "python",
   "nbconvert_exporter": "python",
   "pygments_lexer": "ipython3",
   "version": "3.5.2"
  }
 },
 "nbformat": 4,
 "nbformat_minor": 2
}
