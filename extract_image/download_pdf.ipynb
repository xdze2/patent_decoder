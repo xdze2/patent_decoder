{
 "cells": [
  {
   "cell_type": "code",
   "execution_count": 2,
   "metadata": {},
   "outputs": [],
   "source": [
    "import requests\n",
    "import pickle\n",
    "import os\n",
    "import time\n",
    "from random import randint"
   ]
  },
  {
   "cell_type": "code",
   "execution_count": 3,
   "metadata": {},
   "outputs": [],
   "source": [
    "PDFSPATH = 'pdfs/'"
   ]
  },
  {
   "cell_type": "markdown",
   "metadata": {},
   "source": [
    "# Liste les pdfs"
   ]
  },
  {
   "cell_type": "code",
   "execution_count": 32,
   "metadata": {},
   "outputs": [
    {
     "name": "stdout",
     "output_type": "stream",
     "text": [
      "nombre de brevets: 379\n"
     ]
    }
   ],
   "source": [
    "data = pickle.load( open( \"../web/data/patent_infos.pickle\", \"rb\" ) )\n",
    "\n",
    "allpatents_list = list( data.keys() )\n",
    "\n",
    "print('nombre de brevets: %i' %len(allpatents_list))"
   ]
  },
  {
   "cell_type": "code",
   "execution_count": 33,
   "metadata": {},
   "outputs": [],
   "source": [
    "def ispdfpresent( patentnumber ):\n",
    "    pdffilename = '%s.pdf' % patentnumber\n",
    "    \n",
    "    if os.path.isfile( PDFSPATH + pdffilename ) :\n",
    "        exist = True\n",
    "    else:\n",
    "        exist = False\n",
    "    return exist"
   ]
  },
  {
   "cell_type": "code",
   "execution_count": 34,
   "metadata": {},
   "outputs": [
    {
     "name": "stdout",
     "output_type": "stream",
     "text": [
      "nombre de brevets encore sans pdf: 10\n"
     ]
    }
   ],
   "source": [
    "missing_patents = [ p for p in allpatents_list if not ispdfpresent( p )  ]\n",
    "print( 'nombre de brevets encore sans pdf: %i' % len(missing_patents) )"
   ]
  },
  {
   "cell_type": "code",
   "execution_count": 35,
   "metadata": {},
   "outputs": [
    {
     "name": "stdout",
     "output_type": "stream",
     "text": [
      "nombre de fichier ne correspondant pas à un brevet : 0\n"
     ]
    }
   ],
   "source": [
    "get_patentnum = lambda filename : filename.strip('.pdf')\n",
    "\n",
    "lost_pdf = [ filename for filename in os.listdir( PDFSPATH ) if get_patentnum(filename) not in data ]\n",
    "print( 'nombre de fichier ne correspondant pas à un brevet : %i' % len(lost_pdf) )"
   ]
  },
  {
   "cell_type": "markdown",
   "metadata": {},
   "source": [
    "# Téléchargement"
   ]
  },
  {
   "cell_type": "code",
   "execution_count": 36,
   "metadata": {},
   "outputs": [],
   "source": [
    "session = requests.Session()\n",
    "session.headers.update({'User-Agent': 'Mozilla/5.0 (X11; Linux x86_64; rv:57.0) Gecko/20100101 Firefox/57.0', \\\n",
    "                        'Accept':'text/html,application/xhtml+xml,application/xml;q=0.9,image/webp,*/*;q=0.8'})\n",
    "\n",
    "#session.headers.update({'User-Agent': 'Mozilla/5.0 (Windows NT 10.0; WOW64; rv:50.0) Gecko/20100101 Firefox/50.0', \\\n",
    "#                        'Accept':'text/html,application/xhtml+xml,application/xml;q=0.9,image/webp,*/*;q=0.8'})"
   ]
  },
  {
   "cell_type": "markdown",
   "metadata": {},
   "source": [
    "see\n",
    "http://edmundmartin.com/random-user-agent-requests-python/"
   ]
  },
  {
   "cell_type": "code",
   "execution_count": 37,
   "metadata": {},
   "outputs": [],
   "source": [
    "def query_google(patent_number):\n",
    "   \n",
    "    pdfname = '%s.pdf' % patent_number\n",
    "\n",
    "    # google\n",
    "    url = 'http://patentimages.storage.googleapis.com/pdfs/%s' % pdfname\n",
    "    print( url )\n",
    "\n",
    "    # query\n",
    "    r = session.get(url)\n",
    "\n",
    "    if r.status_code == 200:\n",
    "        with open(PATH+pdfname, \"wb\") as file:\n",
    "            file.write( r.content )\n",
    "            print( 'save %s' % pdfname )\n",
    "            sucess = True\n",
    "\n",
    "    else:\n",
    "        sucess = False\n",
    "        print('error: %i'%r.status_code)\n",
    "\n",
    "        \n",
    "    return sucess\n",
    "\n",
    "\n",
    "\n",
    "def query_pat2pdf(patent_number):\n",
    "    \n",
    "    patentsdigits = patent_number.strip('US').lower()\n",
    "\n",
    "    truepdfname = patent_number+'.pdf'\n",
    "    \n",
    "    # pat2pdf\n",
    "    url_search = 'http://www.pat2pdf.org/pat2pdf/foo.pl?number=%s' % patentsdigits\n",
    "    url_file = 'http://www.pat2pdf.org/patents/pat%s.pdf' % patentsdigits\n",
    "\n",
    "   \n",
    "    # query 1\n",
    "    r = session.get( url_search )\n",
    "    time.sleep( 4 )\n",
    "    \n",
    "    if r.status_code == 200:\n",
    "        \n",
    "        r = session.get( url_file )\n",
    "        if r.status_code == 200:\n",
    "            with open(PDFSPATH + truepdfname, \"wb\") as file:\n",
    "                file.write( r.content )\n",
    "            print( 'save %s' % truepdfname )\n",
    "            sucess = True     \n",
    "        else:\n",
    "            sucess = False\n",
    "            print('error: %i '%r.status_code)\n",
    "            print( url_file )\n",
    "    else:\n",
    "        sucess = False\n",
    "        print('error: %i '%r.status_code)\n",
    "        print( url_search )\n",
    "\n",
    "        \n",
    "    return sucess\n",
    "\n",
    "\n",
    "class stoploop(Exception):\n",
    "    pass"
   ]
  },
  {
   "cell_type": "code",
   "execution_count": null,
   "metadata": {},
   "outputs": [
    {
     "name": "stdout",
     "output_type": "stream",
     "text": [
      "il manque 10 brevets\n",
      "Combien ? 10\n",
      "save US20160279766.pdf\n",
      " wait 53 s...\n",
      "save US9751194.pdf\n",
      " wait 60 s...\n",
      "save US20150173484.pdf\n",
      " wait 35 s...\n",
      "save US8984754.pdf\n",
      " wait 47 s...\n",
      "save US20170013806.pdf\n",
      " wait 40 s...\n",
      "save US20160249587.pdf\n",
      " wait 55 s...\n",
      "save US9750324.pdf\n",
      " wait 58 s...\n",
      "save USD724916.pdf\n",
      " wait 26 s...\n",
      "save US20150101194.pdf\n",
      " wait 17 s...\n"
     ]
    }
   ],
   "source": [
    "# -- Loop --\n",
    "\n",
    "print( 'il manque %i brevets' % len( missing_patents ) )\n",
    "\n",
    "N_loop = input('Combien ? ')\n",
    "if not N_loop.isdigit( ) :\n",
    "    print(  N_loop )\n",
    "    raise stoploop( 'abort' )\n",
    "else:\n",
    "    N_loop = int( N_loop )\n",
    "    \n",
    "for patent_number in missing_patents[:N_loop]:\n",
    "\n",
    "    #  query\n",
    "    # remarque .. vieux brevet -> google,  nouveau -> pat2pdf...\n",
    "    # sep. 2000 ?  Renumbering each year   YYYYnnnnnn  vs nnnnnn  ??\n",
    "    \n",
    "    sucess = query_pat2pdf(patent_number)\n",
    "    #sucess = query_google(patent_number)\n",
    "    \n",
    "    # arret \n",
    "    if not sucess:\n",
    "        print('end loop :%s'%patent_number)\n",
    "        break\n",
    "    \n",
    "    # timer\n",
    "    timer = randint(10, 60)\n",
    "    print( ' wait %i s...'% timer )\n",
    "    time.sleep( timer )\n",
    "    \n",
    "else:\n",
    "    print( '- done - ' )"
   ]
  },
  {
   "cell_type": "markdown",
   "metadata": {},
   "source": [
    "### Liens\n",
    "\n",
    "http://www.pat2pdf.org/pat2pdf/foo.pl\n",
    "    \n",
    "https://patents.google.com/    "
   ]
  },
  {
   "cell_type": "code",
   "execution_count": null,
   "metadata": {},
   "outputs": [],
   "source": []
  }
 ],
 "metadata": {
  "kernelspec": {
   "display_name": "Python 3",
   "language": "python",
   "name": "python3"
  },
  "language_info": {
   "codemirror_mode": {
    "name": "ipython",
    "version": 3
   },
   "file_extension": ".py",
   "mimetype": "text/x-python",
   "name": "python",
   "nbconvert_exporter": "python",
   "pygments_lexer": "ipython3",
   "version": "3.5.2"
  }
 },
 "nbformat": 4,
 "nbformat_minor": 2
}
