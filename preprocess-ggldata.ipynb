{
 "cells": [
  {
   "cell_type": "markdown",
   "metadata": {},
   "source": [
    "# Pré-traitement des données 'Google'\n",
    "\n",
    "* requète sur `BigQuerry`:\n",
    "        /* 26Go proceceed */\n",
    "\n",
    "        #standardSQL\n",
    "\n",
    "        SELECT\n",
    "          root.publication_number,\n",
    "          publication_date,\n",
    "          root.title_localized,\n",
    "          root.cpc,\n",
    "          root.citation\n",
    "        FROM\n",
    "          `patents-public-data.patents.publications` root,\n",
    "          UNNEST( cpc ) AS cpc\n",
    "        WHERE \n",
    "         cpc.code like 'A45D29/02' and\n",
    "         country_code = 'US'\n",
    "        LIMIT\n",
    "          1000"
   ]
  },
  {
   "cell_type": "code",
   "execution_count": 1,
   "metadata": {
    "collapsed": true
   },
   "outputs": [],
   "source": [
    "import json"
   ]
  },
  {
   "cell_type": "code",
   "execution_count": 6,
   "metadata": {
    "collapsed": true
   },
   "outputs": [],
   "source": [
    "# load the data\n",
    "file_path = './data/results-getsAll_20171119-115135.json'\n",
    "\n",
    "data_brut = []\n",
    "with open(file_path) as f:\n",
    "    for line in f:\n",
    "        entry = json.loads(line)\n",
    "        data_brut.append( entry )"
   ]
  },
  {
   "cell_type": "code",
   "execution_count": 19,
   "metadata": {
    "collapsed": true
   },
   "outputs": [],
   "source": [
    "# le format du numéro de brevet (pour ggl):\n",
    "# 6 ou 7 digits\n",
    "# ou l'année + 7 digits\n",
    "# si on trouve année+6digits ce n'est pas bon\n",
    "\n",
    "# https://www.uspto.gov/patents-application-process/applying-online/patent-number\n",
    "# http://www.bpmlegal.com/howtopat1.html\n",
    "\n",
    "def format_publicationnumber( pubnumber ):\n",
    "    \n",
    "    number = pubnumber.split('-')[1]\n",
    "    \n",
    "    if len( number ) > 7:  # en vrai ==10\n",
    "        number = number[0:4] + number[4:].zfill(7)\n",
    "\n",
    "    number = 'US' + number\n",
    "    \n",
    "    return number"
   ]
  },
  {
   "cell_type": "code",
   "execution_count": 51,
   "metadata": {},
   "outputs": [
    {
     "name": "stdout",
     "output_type": "stream",
     "text": [
      "379\n"
     ]
    }
   ],
   "source": [
    "data = {}\n",
    "k = 0\n",
    "for entry in data_brut:\n",
    "   \n",
    "    \n",
    "    pubnum = entry['publication_number']\n",
    "    patent_number = format_publicationnumber( pubnum )\n",
    "    \n",
    "    if patent_number in data: # supprime les doublons\n",
    "        continue\n",
    "\n",
    "    new_entry = {}\n",
    "    \n",
    "    new_entry['publication_number_raw'] = pubnum\n",
    "    \n",
    "    # date\n",
    "    new_entry['year'] = int(  entry['publication_date'][0:4] )   \n",
    "    new_entry['month'] = int( entry['publication_date'][4:6] )\n",
    "    new_entry['day'] = int(   entry['publication_date'][6:]  )\n",
    "    \n",
    "    new_entry['date_str'] = entry['publication_date']\n",
    "\n",
    "    # info\n",
    "    new_entry['title'] = entry['title_localized'][0]['text']\n",
    "    new_entry['title'] = entry['title_localized'][0]['text']\n",
    "    \n",
    "    # citations :\n",
    "    citation = [] \n",
    "    for cit in entry['citation']:\n",
    "        if not cit['publication_number'] : continue\n",
    "        infos = {}\n",
    "        infos['publication_number_raw'] = cit['publication_number'] \n",
    "        infos['patent_number'] = format_publicationnumber( cit['publication_number']  )\n",
    "\n",
    "        infos['category'] =  cit['category'] \n",
    "\n",
    "        citation.append( infos )\n",
    "        \n",
    "    new_entry['citation'] = citation\n",
    "\n",
    "    # CPC\n",
    "    new_entry['cpc'] = entry['cpc']\n",
    "    \n",
    "    # save\n",
    "    data[ patent_number ] = new_entry\n",
    "    \n",
    "    k+=1  # debug\n",
    "print(len(data))"
   ]
  },
  {
   "cell_type": "code",
   "execution_count": 53,
   "metadata": {},
   "outputs": [
    {
     "data": {
      "text/plain": [
       "{'citation': [{'application_number': '',\n",
       "   'category': 'PRS',\n",
       "   'filing_date': '0',\n",
       "   'npl_text': '',\n",
       "   'publication_number': 'US-853832-A',\n",
       "   'type': ''},\n",
       "  {'application_number': '',\n",
       "   'category': 'PRS',\n",
       "   'filing_date': '0',\n",
       "   'npl_text': '',\n",
       "   'publication_number': 'US-4117854-A',\n",
       "   'type': ''},\n",
       "  {'application_number': '',\n",
       "   'category': 'PRS',\n",
       "   'filing_date': '0',\n",
       "   'npl_text': '',\n",
       "   'publication_number': 'US-4753253-A',\n",
       "   'type': ''},\n",
       "  {'application_number': '',\n",
       "   'category': 'PRS',\n",
       "   'filing_date': '0',\n",
       "   'npl_text': '',\n",
       "   'publication_number': 'US-5161552-A',\n",
       "   'type': ''},\n",
       "  {'application_number': '',\n",
       "   'category': 'PRS',\n",
       "   'filing_date': '0',\n",
       "   'npl_text': '',\n",
       "   'publication_number': 'US-2006260629-A1',\n",
       "   'type': ''},\n",
       "  {'application_number': '',\n",
       "   'category': 'PRS',\n",
       "   'filing_date': '0',\n",
       "   'npl_text': '',\n",
       "   'publication_number': 'US-7475687-B2',\n",
       "   'type': ''}],\n",
       " 'cpc': [{'code': 'A45D29/06',\n",
       "   'first': 'false',\n",
       "   'inventive': 'true',\n",
       "   'tree': []},\n",
       "  {'code': 'A45D29/02', 'first': 'true', 'inventive': 'true', 'tree': []},\n",
       "  {'code': 'A45D29/05', 'first': 'false', 'inventive': 'true', 'tree': []},\n",
       "  {'code': 'A45D29/02', 'first': 'true', 'inventive': 'true', 'tree': []}],\n",
       " 'publication_date': '20160204',\n",
       " 'publication_number': 'US-2016029768-A1',\n",
       " 'title_localized': [{'language': 'en',\n",
       "   'text': 'Automatic safety nail clipper'}]}"
      ]
     },
     "execution_count": 53,
     "metadata": {},
     "output_type": "execute_result"
    }
   ],
   "source": [
    "entry = data_brut[40]\n",
    "entry"
   ]
  },
  {
   "cell_type": "code",
   "execution_count": null,
   "metadata": {
    "collapsed": true
   },
   "outputs": [],
   "source": []
  }
 ],
 "metadata": {
  "kernelspec": {
   "display_name": "Python 3",
   "language": "python",
   "name": "python3"
  },
  "language_info": {
   "codemirror_mode": {
    "name": "ipython",
    "version": 3
   },
   "file_extension": ".py",
   "mimetype": "text/x-python",
   "name": "python",
   "nbconvert_exporter": "python",
   "pygments_lexer": "ipython3",
   "version": "3.5.2"
  }
 },
 "nbformat": 4,
 "nbformat_minor": 2
}
