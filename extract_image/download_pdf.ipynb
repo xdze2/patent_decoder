{
 "cells": [
  {
   "cell_type": "code",
   "execution_count": 2,
   "metadata": {},
   "outputs": [],
   "source": [
    "import requests\n",
    "import pickle\n",
    "import os\n",
    "import time\n",
    "from random import randint"
   ]
  },
  {
   "cell_type": "code",
   "execution_count": 43,
   "metadata": {},
   "outputs": [],
   "source": [
    "PDFSPATH = 'pdfs/'\n",
    "DATAPATH = \"../web/data/patent_infos.pickle\""
   ]
  },
  {
   "cell_type": "markdown",
   "metadata": {},
   "source": [
    "# Liste les pdfs"
   ]
  },
  {
   "cell_type": "code",
   "execution_count": 44,
   "metadata": {},
   "outputs": [
    {
     "name": "stdout",
     "output_type": "stream",
     "text": [
      "nombre de brevets: 379\n"
     ]
    }
   ],
   "source": [
    "data = pickle.load( open( DATAPATH, \"rb\" ) )\n",
    "\n",
    "allpatents_list = list( data.keys() )\n",
    "\n",
    "print('nombre de brevets: %i' %len(allpatents_list))"
   ]
  },
  {
   "cell_type": "code",
   "execution_count": 45,
   "metadata": {},
   "outputs": [],
   "source": [
    "def ispdfpresent( patentnumber ):\n",
    "    pdffilename = '%s.pdf' % patentnumber\n",
    "    \n",
    "    if os.path.isfile( PDFSPATH + pdffilename ) :\n",
    "        exist = True\n",
    "    else:\n",
    "        exist = False\n",
    "    return exist"
   ]
  },
  {
   "cell_type": "code",
   "execution_count": 46,
   "metadata": {},
   "outputs": [
    {
     "name": "stdout",
     "output_type": "stream",
     "text": [
      "nombre de brevets encore sans pdf: 0\n"
     ]
    }
   ],
   "source": [
    "missing_patents = [ p for p in allpatents_list if not ispdfpresent( p )  ]\n",
    "print( 'nombre de brevets encore sans pdf: %i' % len(missing_patents) )"
   ]
  },
  {
   "cell_type": "code",
   "execution_count": 47,
   "metadata": {},
   "outputs": [
    {
     "name": "stdout",
     "output_type": "stream",
     "text": [
      "nombre de fichier ne correspondant pas à un brevet : 0\n"
     ]
    }
   ],
   "source": [
    "get_patentnum = lambda filename : filename.strip('.pdf')\n",
    "\n",
    "lost_pdf = [ filename for filename in os.listdir( PDFSPATH ) if get_patentnum(filename) not in data ]\n",
    "print( 'nombre de fichier ne correspondant pas à un brevet : %i' % len(lost_pdf) )"
   ]
  },
  {
   "cell_type": "markdown",
   "metadata": {},
   "source": [
    "# Téléchargement"
   ]
  },
  {
   "cell_type": "code",
   "execution_count": 36,
   "metadata": {},
   "outputs": [],
   "source": [
    "session = requests.Session()\n",
    "session.headers.update({'User-Agent': 'Mozilla/5.0 (X11; Linux x86_64; rv:57.0) Gecko/20100101 Firefox/57.0', \\\n",
    "                        'Accept':'text/html,application/xhtml+xml,application/xml;q=0.9,image/webp,*/*;q=0.8'})\n",
    "\n",
    "#session.headers.update({'User-Agent': 'Mozilla/5.0 (Windows NT 10.0; WOW64; rv:50.0) Gecko/20100101 Firefox/50.0', \\\n",
    "#                        'Accept':'text/html,application/xhtml+xml,application/xml;q=0.9,image/webp,*/*;q=0.8'})"
   ]
  },
  {
   "cell_type": "markdown",
   "metadata": {},
   "source": [
    "see\n",
    "http://edmundmartin.com/random-user-agent-requests-python/"
   ]
  },
  {
   "cell_type": "code",
   "execution_count": null,
   "metadata": {},
   "outputs": [],
   "source": [
    "def query_google(patent_number):\n",
    "   \n",
    "    pdfname = '%s.pdf' % patent_number\n",
    "\n",
    "    # google\n",
    "    url = 'http://patentimages.storage.googleapis.com/pdfs/%s' % pdfname\n",
    "\n",
    "    # query\n",
    "    print( url, end='\\r' )\n",
    "    r = session.get(url)\n",
    "\n",
    "    if r.status_code == 200:\n",
    "        with open(PDFSPATH+pdfname, \"wb\") as file:\n",
    "            file.write( r.content )\n",
    "            print( 'save %s    ' % pdfname )\n",
    "            sucess = True\n",
    "\n",
    "    else:\n",
    "        sucess = False\n",
    "        print('\\n\\n\\n error: %i'%r.status_code)\n",
    "\n",
    "        \n",
    "    return sucess\n",
    "\n",
    "\n",
    "\n",
    "def query_pat2pdf(patent_number):\n",
    "    \n",
    "    patentsdigits = patent_number.strip('US').lower()\n",
    "\n",
    "    truepdfname = patent_number+'.pdf'\n",
    "    \n",
    "    # pat2pdf\n",
    "    url_search = 'http://www.pat2pdf.org/pat2pdf/foo.pl?number=%s' % patentsdigits\n",
    "    url_file = 'http://www.pat2pdf.org/patents/pat%s.pdf' % patentsdigits\n",
    "\n",
    "   \n",
    "    # query 1\n",
    "    print( url_search, end='\\r' )\n",
    "    r = session.get( url_search )\n",
    "    time.sleep( 4 )\n",
    "    \n",
    "    if r.status_code == 200:\n",
    "        # query 2\n",
    "        print( url_file, end='\\r' )\n",
    "        r = session.get( url_file )\n",
    "        \n",
    "        if r.status_code == 200:\n",
    "            with open(PDFSPATH + truepdfname, \"wb\") as file:\n",
    "                file.write( r.content )\n",
    "            print( 'save %s     ' % truepdfname )\n",
    "            sucess = True     \n",
    "        else:\n",
    "            sucess = False\n",
    "            print('\\n\\n\\n error: %i '%r.status_code)\n",
    "            print( url_file )\n",
    "    else:\n",
    "        sucess = False\n",
    "        print('\\n\\n\\n error: %i '%r.status_code)\n",
    "        print( url_search )\n",
    "\n",
    "        \n",
    "    return sucess\n",
    "\n",
    "\n",
    "class stoploop(Exception):\n",
    "    pass"
   ]
  },
  {
   "cell_type": "code",
   "execution_count": 52,
   "metadata": {},
   "outputs": [
    {
     "name": "stdout",
     "output_type": "stream",
     "text": [
      "\n",
      "il manque encore 0 brevets\n"
     ]
    },
    {
     "ename": "KeyboardInterrupt",
     "evalue": "",
     "output_type": "error",
     "traceback": [
      "\u001b[0;31m---------------------------------------------------------------------------\u001b[0m",
      "\u001b[0;31mKeyboardInterrupt\u001b[0m                         Traceback (most recent call last)",
      "\u001b[0;32m~/Projets/patentdecoder/py3/lib/python3.5/site-packages/ipykernel/kernelbase.py\u001b[0m in \u001b[0;36m_input_request\u001b[0;34m(self, prompt, ident, parent, password)\u001b[0m\n\u001b[1;32m    729\u001b[0m             \u001b[0;32mtry\u001b[0m\u001b[0;34m:\u001b[0m\u001b[0;34m\u001b[0m\u001b[0m\n\u001b[0;32m--> 730\u001b[0;31m                 \u001b[0mident\u001b[0m\u001b[0;34m,\u001b[0m \u001b[0mreply\u001b[0m \u001b[0;34m=\u001b[0m \u001b[0mself\u001b[0m\u001b[0;34m.\u001b[0m\u001b[0msession\u001b[0m\u001b[0;34m.\u001b[0m\u001b[0mrecv\u001b[0m\u001b[0;34m(\u001b[0m\u001b[0mself\u001b[0m\u001b[0;34m.\u001b[0m\u001b[0mstdin_socket\u001b[0m\u001b[0;34m,\u001b[0m \u001b[0;36m0\u001b[0m\u001b[0;34m)\u001b[0m\u001b[0;34m\u001b[0m\u001b[0m\n\u001b[0m\u001b[1;32m    731\u001b[0m             \u001b[0;32mexcept\u001b[0m \u001b[0mException\u001b[0m\u001b[0;34m:\u001b[0m\u001b[0;34m\u001b[0m\u001b[0m\n",
      "\u001b[0;32m~/Projets/patentdecoder/py3/lib/python3.5/site-packages/jupyter_client/session.py\u001b[0m in \u001b[0;36mrecv\u001b[0;34m(self, socket, mode, content, copy)\u001b[0m\n\u001b[1;32m    795\u001b[0m         \u001b[0;32mtry\u001b[0m\u001b[0;34m:\u001b[0m\u001b[0;34m\u001b[0m\u001b[0m\n\u001b[0;32m--> 796\u001b[0;31m             \u001b[0mmsg_list\u001b[0m \u001b[0;34m=\u001b[0m \u001b[0msocket\u001b[0m\u001b[0;34m.\u001b[0m\u001b[0mrecv_multipart\u001b[0m\u001b[0;34m(\u001b[0m\u001b[0mmode\u001b[0m\u001b[0;34m,\u001b[0m \u001b[0mcopy\u001b[0m\u001b[0;34m=\u001b[0m\u001b[0mcopy\u001b[0m\u001b[0;34m)\u001b[0m\u001b[0;34m\u001b[0m\u001b[0m\n\u001b[0m\u001b[1;32m    797\u001b[0m         \u001b[0;32mexcept\u001b[0m \u001b[0mzmq\u001b[0m\u001b[0;34m.\u001b[0m\u001b[0mZMQError\u001b[0m \u001b[0;32mas\u001b[0m \u001b[0me\u001b[0m\u001b[0;34m:\u001b[0m\u001b[0;34m\u001b[0m\u001b[0m\n",
      "\u001b[0;32m~/Projets/patentdecoder/py3/lib/python3.5/site-packages/zmq/sugar/socket.py\u001b[0m in \u001b[0;36mrecv_multipart\u001b[0;34m(self, flags, copy, track)\u001b[0m\n\u001b[1;32m    394\u001b[0m         \"\"\"\n\u001b[0;32m--> 395\u001b[0;31m         \u001b[0mparts\u001b[0m \u001b[0;34m=\u001b[0m \u001b[0;34m[\u001b[0m\u001b[0mself\u001b[0m\u001b[0;34m.\u001b[0m\u001b[0mrecv\u001b[0m\u001b[0;34m(\u001b[0m\u001b[0mflags\u001b[0m\u001b[0;34m,\u001b[0m \u001b[0mcopy\u001b[0m\u001b[0;34m=\u001b[0m\u001b[0mcopy\u001b[0m\u001b[0;34m,\u001b[0m \u001b[0mtrack\u001b[0m\u001b[0;34m=\u001b[0m\u001b[0mtrack\u001b[0m\u001b[0;34m)\u001b[0m\u001b[0;34m]\u001b[0m\u001b[0;34m\u001b[0m\u001b[0m\n\u001b[0m\u001b[1;32m    396\u001b[0m         \u001b[0;31m# have first part already, only loop while more to receive\u001b[0m\u001b[0;34m\u001b[0m\u001b[0;34m\u001b[0m\u001b[0m\n",
      "\u001b[0;32mzmq/backend/cython/socket.pyx\u001b[0m in \u001b[0;36mzmq.backend.cython.socket.Socket.recv\u001b[0;34m()\u001b[0m\n",
      "\u001b[0;32mzmq/backend/cython/socket.pyx\u001b[0m in \u001b[0;36mzmq.backend.cython.socket.Socket.recv\u001b[0;34m()\u001b[0m\n",
      "\u001b[0;32mzmq/backend/cython/socket.pyx\u001b[0m in \u001b[0;36mzmq.backend.cython.socket._recv_copy\u001b[0;34m()\u001b[0m\n",
      "\u001b[0;32m~/Projets/patentdecoder/py3/lib/python3.5/site-packages/zmq/backend/cython/checkrc.pxd\u001b[0m in \u001b[0;36mzmq.backend.cython.checkrc._check_rc\u001b[0;34m()\u001b[0m\n",
      "\u001b[0;31mKeyboardInterrupt\u001b[0m: ",
      "\nDuring handling of the above exception, another exception occurred:\n",
      "\u001b[0;31mKeyboardInterrupt\u001b[0m                         Traceback (most recent call last)",
      "\u001b[0;32m<ipython-input-52-8fe5402aad0d>\u001b[0m in \u001b[0;36m<module>\u001b[0;34m()\u001b[0m\n\u001b[1;32m      4\u001b[0m \u001b[0mprint\u001b[0m\u001b[0;34m(\u001b[0m \u001b[0;34m'il manque encore %i brevets'\u001b[0m \u001b[0;34m%\u001b[0m \u001b[0mlen\u001b[0m\u001b[0;34m(\u001b[0m \u001b[0mmissing_patents\u001b[0m \u001b[0;34m)\u001b[0m \u001b[0;34m)\u001b[0m\u001b[0;34m\u001b[0m\u001b[0m\n\u001b[1;32m      5\u001b[0m \u001b[0;34m\u001b[0m\u001b[0m\n\u001b[0;32m----> 6\u001b[0;31m \u001b[0mN_loop\u001b[0m \u001b[0;34m=\u001b[0m \u001b[0minput\u001b[0m\u001b[0;34m(\u001b[0m\u001b[0;34m'_ Combien ? '\u001b[0m\u001b[0;34m)\u001b[0m\u001b[0;34m\u001b[0m\u001b[0m\n\u001b[0m\u001b[1;32m      7\u001b[0m \u001b[0;32mif\u001b[0m \u001b[0;32mnot\u001b[0m \u001b[0mN_loop\u001b[0m\u001b[0;34m.\u001b[0m\u001b[0misdigit\u001b[0m\u001b[0;34m(\u001b[0m \u001b[0;34m)\u001b[0m \u001b[0;34m:\u001b[0m\u001b[0;34m\u001b[0m\u001b[0m\n\u001b[1;32m      8\u001b[0m     \u001b[0mprint\u001b[0m\u001b[0;34m(\u001b[0m  \u001b[0mN_loop\u001b[0m \u001b[0;34m)\u001b[0m\u001b[0;34m\u001b[0m\u001b[0m\n",
      "\u001b[0;32m~/Projets/patentdecoder/py3/lib/python3.5/site-packages/ipykernel/kernelbase.py\u001b[0m in \u001b[0;36mraw_input\u001b[0;34m(self, prompt)\u001b[0m\n\u001b[1;32m    703\u001b[0m             \u001b[0mself\u001b[0m\u001b[0;34m.\u001b[0m\u001b[0m_parent_ident\u001b[0m\u001b[0;34m,\u001b[0m\u001b[0;34m\u001b[0m\u001b[0m\n\u001b[1;32m    704\u001b[0m             \u001b[0mself\u001b[0m\u001b[0;34m.\u001b[0m\u001b[0m_parent_header\u001b[0m\u001b[0;34m,\u001b[0m\u001b[0;34m\u001b[0m\u001b[0m\n\u001b[0;32m--> 705\u001b[0;31m             \u001b[0mpassword\u001b[0m\u001b[0;34m=\u001b[0m\u001b[0;32mFalse\u001b[0m\u001b[0;34m,\u001b[0m\u001b[0;34m\u001b[0m\u001b[0m\n\u001b[0m\u001b[1;32m    706\u001b[0m         )\n\u001b[1;32m    707\u001b[0m \u001b[0;34m\u001b[0m\u001b[0m\n",
      "\u001b[0;32m~/Projets/patentdecoder/py3/lib/python3.5/site-packages/ipykernel/kernelbase.py\u001b[0m in \u001b[0;36m_input_request\u001b[0;34m(self, prompt, ident, parent, password)\u001b[0m\n\u001b[1;32m    733\u001b[0m             \u001b[0;32mexcept\u001b[0m \u001b[0mKeyboardInterrupt\u001b[0m\u001b[0;34m:\u001b[0m\u001b[0;34m\u001b[0m\u001b[0m\n\u001b[1;32m    734\u001b[0m                 \u001b[0;31m# re-raise KeyboardInterrupt, to truncate traceback\u001b[0m\u001b[0;34m\u001b[0m\u001b[0;34m\u001b[0m\u001b[0m\n\u001b[0;32m--> 735\u001b[0;31m                 \u001b[0;32mraise\u001b[0m \u001b[0mKeyboardInterrupt\u001b[0m\u001b[0;34m\u001b[0m\u001b[0m\n\u001b[0m\u001b[1;32m    736\u001b[0m             \u001b[0;32melse\u001b[0m\u001b[0;34m:\u001b[0m\u001b[0;34m\u001b[0m\u001b[0m\n\u001b[1;32m    737\u001b[0m                 \u001b[0;32mbreak\u001b[0m\u001b[0;34m\u001b[0m\u001b[0m\n",
      "\u001b[0;31mKeyboardInterrupt\u001b[0m: "
     ]
    }
   ],
   "source": [
    "# -- Loop --\n",
    "\n",
    "print('')\n",
    "print( 'il manque encore %i brevets' % len( missing_patents ) )\n",
    "\n",
    "N_loop = input('_ Combien ? ')\n",
    "if not N_loop.isdigit( ) :\n",
    "    print(  N_loop )\n",
    "    raise stoploop( 'abort' )\n",
    "else:\n",
    "    N_loop = int( N_loop )\n",
    "    \n",
    "\n",
    "source = input('_ depuis google[g] ou pat2pdf[p] ? ')\n",
    "if source == 'p' :\n",
    "    query = lambda patnum: query_pat2pdf(patnum)\n",
    "elif source == 'g':\n",
    "    query = lambda patnum: query_google(patnum)\n",
    "else:\n",
    "    raise stoploop( 'abort' )\n",
    "    \n",
    "    \n",
    "for patent_number in missing_patents[:N_loop]:\n",
    "\n",
    "    #  query\n",
    "    # remarque .. vieux brevet -> google,  nouveau -> pat2pdf...\n",
    "    # sep. 2000 ?  Renumbering each year   YYYYnnnnnn  vs nnnnnn  ??\n",
    "    \n",
    "    sucess = query(patent_number)\n",
    "    #sucess = query_google(patent_number)\n",
    "    \n",
    "    # arret si erreur\n",
    "    if not sucess:\n",
    "        print('end loop : %s'%patent_number)\n",
    "        break\n",
    "    \n",
    "    # timer\n",
    "    timer = randint(10, 60)\n",
    "    print( ' wait %i s... ' % timer, end='\\r' )\n",
    "    time.sleep( timer )\n",
    "    \n",
    "else:\n",
    "    print( ' - done - ' )"
   ]
  },
  {
   "cell_type": "markdown",
   "metadata": {},
   "source": [
    "### Liens\n",
    "\n",
    "http://www.pat2pdf.org/pat2pdf/foo.pl\n",
    "    \n",
    "https://patents.google.com/    "
   ]
  },
  {
   "cell_type": "code",
   "execution_count": null,
   "metadata": {},
   "outputs": [],
   "source": []
  }
 ],
 "metadata": {
  "kernelspec": {
   "display_name": "Python 3",
   "language": "python",
   "name": "python3"
  },
  "language_info": {
   "codemirror_mode": {
    "name": "ipython",
    "version": 3
   },
   "file_extension": ".py",
   "mimetype": "text/x-python",
   "name": "python",
   "nbconvert_exporter": "python",
   "pygments_lexer": "ipython3",
   "version": "3.5.2"
  }
 },
 "nbformat": 4,
 "nbformat_minor": 2
}
