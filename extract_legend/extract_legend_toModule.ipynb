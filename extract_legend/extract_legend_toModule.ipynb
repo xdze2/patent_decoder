{
 "cells": [
  {
   "cell_type": "markdown",
   "metadata": {},
   "source": [
    "# Extraire la legende depuis la description"
   ]
  },
  {
   "cell_type": "code",
   "execution_count": 1,
   "metadata": {
    "collapsed": true
   },
   "outputs": [],
   "source": [
    "import regex   # permet overlapping matching\n",
    "import copy"
   ]
  },
  {
   "cell_type": "code",
   "execution_count": 442,
   "metadata": {
    "collapsed": true
   },
   "outputs": [],
   "source": [
    "def print_legend( legend ):\n",
    "    sortfun = lambda x: ( x['number'] , len(x['position']), x['label'][::-1] )\n",
    "    legendsorted = sorted( legend, key=sortfun  )\n",
    "\n",
    "    current_number = legendsorted[0]['number']\n",
    "    for match in legendsorted:\n",
    "        if current_number != match['number']:\n",
    "            print('     --')\n",
    "            current_number = match['number']\n",
    "\n",
    "        n_merged = len(match['position'])\n",
    "        n_merged_str = '  ' if n_merged==1 else '(%i)'%n_merged\n",
    "        print( '{label:>42} {number:>4}  {n}  {context:>35}'.format( **match, n=n_merged_str) )"
   ]
  },
  {
   "cell_type": "code",
   "execution_count": 2,
   "metadata": {
    "collapsed": true
   },
   "outputs": [],
   "source": [
    "def fullTextTrimming( description ):\n",
    "    \"\"\" Travail sur le texte entier\n",
    "        en gardant le nombre de caractère constant\n",
    "    \"\"\"\n",
    "    description = description.replace('\\n', ' ')\n",
    "    description = description.lower() \n",
    "    \n",
    "    # description = regex.sub('\\s+',' ', description) # remove multiple space\n",
    "    description = description.lower()\n",
    "\n",
    "    # patent number XX\n",
    "    # patent_number_pattern = r'(\\d{1, 4}[,-])?\\d{3, 8}[,-]\\d{3, 8}'\n",
    "    # description = regex.sub(patent_number_pattern, '', description  )\n",
    "\n",
    "    # remove non-AASII caracters\n",
    "    description = regex.sub(r'[^\\x00-\\x7F]', ' ', description)\n",
    "    \n",
    "    return description"
   ]
  },
  {
   "cell_type": "code",
   "execution_count": 3,
   "metadata": {
    "collapsed": true
   },
   "outputs": [],
   "source": [
    "def findAllCandidates( description ):\n",
    "    \"\"\" Recherche  les chiffres isolés pouvant correspondre à un numéro de légende\n",
    "\n",
    "        par exemple   \" 4, 5 and 6 \", ou \" 6 and 7 \", \" 6, 7 \"\n",
    "\n",
    "        retourne une legend : liste avec les infos pour chaque 'match'\n",
    "    \"\"\" \n",
    "    \n",
    "    pattern =  r' (\\d{1,3}(( ?, ?| and | or )\\d{1,3})*)[^a-z0-9\\-]'\n",
    "\n",
    "    # Explication:\n",
    "    # la forme générale est E(SE) avec Element  Separator\n",
    "    # et le séparateur est une virgule ou and ou or \n",
    "   \n",
    "    allmatches = list( regex.finditer(pattern, description) )\n",
    "    splitpattern = regex.compile(r'[^\\d]+')\n",
    "    \n",
    "    legend = []\n",
    "    for m in allmatches:\n",
    "        capture = m.group(1)\n",
    "        numbers = splitpattern.split( capture )\n",
    "        start = m.start()\n",
    "\n",
    "        label = description[ max(0, m.start()-40 ): m.start() ]  # to prevent overlapping\n",
    "        label = label.strip(' ')  # cas avec plusieurs espace consécutifs\n",
    "        \n",
    "        context = description[ max(0, m.start()-16 ): min( len(description), m.end()+10 ) ]  # to debug\n",
    "\n",
    "        for n in numbers:\n",
    "            item = {'number':int(n), 'label':label, 'position':[m.span(1)], 'context':context}\n",
    "            legend.append( item )\n",
    "\n",
    "    return legend"
   ]
  },
  {
   "cell_type": "code",
   "execution_count": 4,
   "metadata": {
    "collapsed": true
   },
   "outputs": [],
   "source": [
    "def disqualify( legend, pattern, n=-1 ):\n",
    "    for i, row in enumerate( legend ):\n",
    "        if pattern.search( row['label'] ):\n",
    "            legend[ i ]['number'] = n\n",
    "\n",
    "KEYWORDS = ['january', 'february', 'march', 'april', 'may', 'june',\\\n",
    "            'july', 'august', 'september', 'october', 'november', 'december',\\\n",
    "            'fig', 'figure', 'figures', 'claim', 'claims', 'at', 'and',\\\n",
    "            'numeral', 'embodiment', 'invention', 'part']\n",
    "\n",
    "KEYWORDS.extend( ['the', 'a', 'an', 'these', 'their', 'when', 'with', 'by', 'this', \\\n",
    "                   'have', 'having', 'has', 'is', 'are', 'over', 'its', 'of said', 'and', 'as',\\\n",
    "                   'of', 'in', 'to', 'but', 'another', 'through', 'on'] )\n",
    "            \n",
    "def firstScreening( legend ):\n",
    "    \"\"\" Premier filtrage en regardant comment se termine le label,\n",
    "        Critères éliminants:\n",
    "        \n",
    "            - ne se termine pas par une lettre (Typiquement Fig. 5)\n",
    "            - se termine par un des mots clés ('claim') ou un mot commun\n",
    "            \n",
    "        change le numéro pour 998 ou 999..\n",
    "    \"\"\"\n",
    "    newlegend = copy.deepcopy(legend) # copy (pour ne pas ecrasser Legend)\n",
    "    \n",
    "    pattern = regex.compile( r'[^a-z]$', regex.I )\n",
    "    disqualify( newlegend, pattern )\n",
    "   \n",
    "\n",
    "    pattern = regex.compile( r'\\W(%s)$' % '|'.join(KEYWORDS), regex.I )\n",
    "    disqualify( newlegend, pattern )\n",
    "\n",
    "    return newlegend"
   ]
  },
  {
   "cell_type": "code",
   "execution_count": 5,
   "metadata": {
    "collapsed": true
   },
   "outputs": [],
   "source": [
    "def cut_legend_using_pattern( legend, pattern ):\n",
    "    for i, row in enumerate( legend ):\n",
    "        label = row['label']\n",
    "\n",
    "        match = pattern.search(label)\n",
    "\n",
    "        if match:\n",
    "            newlabel = match.group(2)\n",
    "            legend[i]['label'] = newlabel\n",
    "            \n",
    "SMALL_WORDS = ['the', 'a', 'an', 'these', 'their', 'when', 'with', 'by', 'this', 'that', \\\n",
    "               'have', 'having', 'has', 'is', 'are', 'should', 'over', 'its', 'of said', 'and', 'as',\\\n",
    "               'of', 'in', 'to', 'at',  'but', 'another', 'through', 'on', 'same', 'from',\\\n",
    "               'include', 'includes', 'beyond', 'between']"
   ]
  },
  {
   "cell_type": "code",
   "execution_count": 6,
   "metadata": {
    "collapsed": true
   },
   "outputs": [],
   "source": [
    "def cutLabels( legend ):\n",
    "    \"\"\" coupe les labels sur certain mots commun ('the', 'a'... etc)\n",
    "        et sur certains caractères spéciaux (. , ;)\n",
    "    \"\"\"\n",
    "    newlegend = copy.deepcopy(legend) # copy (pour ne pas ecrasser Legend)\n",
    "    \n",
    "    pattern_small_words = regex.compile( r'^.* (%s) (.+)$' % '|'.join(SMALL_WORDS), regex.I )\n",
    "    cut_legend_using_pattern( newlegend, pattern_small_words )\n",
    "    \n",
    "    pattern = regex.compile( '^.*([\\.,;] )(.+)$' )\n",
    "    cut_legend_using_pattern( newlegend, pattern )\n",
    "    \n",
    "    return newlegend"
   ]
  },
  {
   "cell_type": "markdown",
   "metadata": {},
   "source": [
    "### Merge : regroupe les candidats ayant un label identique\n",
    "\n",
    "Rq: utile pour le dev. mais pas pour l'identification"
   ]
  },
  {
   "cell_type": "code",
   "execution_count": 7,
   "metadata": {
    "collapsed": true
   },
   "outputs": [],
   "source": [
    "def get_positions( label, candidats ):\n",
    "    positions = []\n",
    "    for item in candidats:\n",
    "        if item['label']==label:\n",
    "            positions.extend( item['position'] )\n",
    "    return positions\n",
    "\n",
    "def get_context( label, candidats ):\n",
    "    items = [ item for item in candidats if item['label']==label ]\n",
    "    \n",
    "    return items[0]['context']\n",
    "\n",
    "def merge( legend ):\n",
    "    # merge identical label\n",
    "    \n",
    "    numbers_unique = { item['number'] for item in legend  } # set\n",
    "\n",
    "    new_legend = []\n",
    "    for n in numbers_unique:\n",
    "\n",
    "        candidats = [ line for line in legend if line['number']==n ]\n",
    "\n",
    "        labels_unique = { item['label'] for item in candidats  }\n",
    "\n",
    "        new_candidats = [ { 'number':n, 'label':label_u,\\\n",
    "                           'position':get_positions(label_u, candidats), 'context':get_context(label_u, candidats) }\n",
    "                          for label_u in labels_unique ]\n",
    "        \n",
    "        new_legend.extend( new_candidats )\n",
    "\n",
    "    return new_legend"
   ]
  },
  {
   "cell_type": "markdown",
   "metadata": {},
   "source": [
    "## Identification du meilleur candidats"
   ]
  },
  {
   "cell_type": "code",
   "execution_count": 8,
   "metadata": {
    "collapsed": true
   },
   "outputs": [],
   "source": [
    "def candidates_for_onenumber( legend, i ):\n",
    "    candidates = [ c for c in legend if c['number'] == i ]\n",
    "\n",
    "    for c in candidates:\n",
    "        c['reversed'] = c['label'].split(' ')[::-1]\n",
    "        c['weight'] = len( c['position'] )\n",
    "        \n",
    "    return candidates"
   ]
  },
  {
   "cell_type": "code",
   "execution_count": 9,
   "metadata": {
    "collapsed": true
   },
   "outputs": [],
   "source": [
    "def increment_dico( dico, key, value ):\n",
    "    if key in dico:\n",
    "        dico[key] += value\n",
    "    else:\n",
    "        dico[key] = value\n",
    "        \n",
    "def append_dico( dico, key, value ):\n",
    "    if key in dico:\n",
    "        dico[key].append( value )\n",
    "    else:\n",
    "        dico[key] = [value]\n",
    "\n",
    "def who_are_the_winners( scoreboard ):\n",
    "    scoreMax = max( scoreboard.values() )\n",
    "    winners = [ sb[0] for sb in scoreboard.items() if sb[1] == scoreMax ]\n",
    "    return winners"
   ]
  },
  {
   "cell_type": "code",
   "execution_count": 461,
   "metadata": {
    "collapsed": true
   },
   "outputs": [],
   "source": [
    "def choose_best_label( remainingcandidates ):\n",
    "    \"\"\" Choisi un candidat gagnant unique\n",
    "    \n",
    "        choisi le label mot par mot, en partant de la fin :\n",
    "            - si un mot apparait plus souvent que tout les autres, alors il est choisi\n",
    "            - si plusieurs mots apparaissent aussi souvent, alors le label est coupé ici\n",
    "    \"\"\"\n",
    "    N = len( remainingcandidates )\n",
    "    \n",
    "    if N == 1:\n",
    "        return remainingcandidates[0]['label']\n",
    "    \n",
    "    previouschoice=[]\n",
    "    for i in range(20):\n",
    "        current_indice = len(previouschoice)\n",
    "\n",
    "        scoreboard = {}\n",
    "        nextword2candidates ={}\n",
    "        for c in remainingcandidates:\n",
    "            if current_indice < len( c['reversed'] ):\n",
    "                next_word = c['reversed'][ current_indice ]\n",
    "            else:\n",
    "                next_word = ''\n",
    "\n",
    "            append_dico( nextword2candidates, next_word, c )\n",
    "            increment_dico( scoreboard, next_word, c['weight'] )\n",
    "\n",
    "            #print(next_word, c['weight'])\n",
    "\n",
    "        #print( 'scoreboard: ', scoreboard )\n",
    "        winners = who_are_the_winners( scoreboard )\n",
    "        #print( 'winners:', winners )\n",
    "        if len(winners) == 1 and winners[0]:\n",
    "            choice = winners[0]\n",
    "            remainingcandidates = nextword2candidates[choice]\n",
    "            previouschoice.append( choice )\n",
    "            #print(' ')\n",
    "\n",
    "        else: # exaequo ou fin -> stop\n",
    "            selectedlabel = ' '.join( previouschoice[::-1] )\n",
    "            #print( selectedlabel )\n",
    "            break\n",
    "\n",
    "    return selectedlabel"
   ]
  },
  {
   "cell_type": "code",
   "execution_count": 10,
   "metadata": {
    "collapsed": true
   },
   "outputs": [],
   "source": [
    "def getUniqueLabel(legend):\n",
    "    allnumbers = sorted( { c['number'] for c in legend if c['number']>0 } ) # unique et triés\n",
    "\n",
    "    final_legend = []\n",
    "    for numero in allnumbers:\n",
    "        candidates = candidates_for_onenumber(legend, numero)\n",
    "        thelabel = choose_best_label( candidates )\n",
    "\n",
    "        if not thelabel: continue\n",
    "        line = {'numero':numero , 'label':thelabel  }\n",
    "        final_legend.append( line )\n",
    "        \n",
    "    return final_legend"
   ]
  },
  {
   "cell_type": "code",
   "execution_count": 12,
   "metadata": {
    "collapsed": true
   },
   "outputs": [],
   "source": [
    "def findAndFilter( description ):\n",
    "    description = fullTextTrimming( description )\n",
    "    legend = findAllCandidates( description )\n",
    "    legend = firstScreening(legend) \n",
    "    legend = cutLabels(legend) \n",
    "\n",
    "    return legend\n",
    "\n",
    "def extract_finale_legend( description ):\n",
    "    legend = findAndFilter( description )\n",
    "    final_legend = getUniqueLabel(legend)\n",
    "    \n",
    "    return final_legend"
   ]
  },
  {
   "cell_type": "code",
   "execution_count": null,
   "metadata": {
    "collapsed": true
   },
   "outputs": [],
   "source": []
  }
 ],
 "metadata": {
  "kernelspec": {
   "display_name": "Python 3",
   "language": "python",
   "name": "python3"
  },
  "language_info": {
   "codemirror_mode": {
    "name": "ipython",
    "version": 3
   },
   "file_extension": ".py",
   "mimetype": "text/x-python",
   "name": "python",
   "nbconvert_exporter": "python",
   "pygments_lexer": "ipython3",
   "version": "3.5.2"
  }
 },
 "nbformat": 4,
 "nbformat_minor": 2
}
